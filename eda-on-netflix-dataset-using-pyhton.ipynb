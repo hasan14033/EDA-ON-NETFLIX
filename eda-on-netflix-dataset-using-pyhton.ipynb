{
 "cells": [
  {
   "cell_type": "markdown",
   "id": "14cee451",
   "metadata": {
    "papermill": {
     "duration": 0.042187,
     "end_time": "2023-04-27T11:30:23.999747",
     "exception": false,
     "start_time": "2023-04-27T11:30:23.957560",
     "status": "completed"
    },
    "tags": []
   },
   "source": [
    "## Exploratory Data Analytics on Netflix Data\n",
    "\n"
   ]
  },
  {
   "cell_type": "markdown",
   "id": "e2353bc0",
   "metadata": {
    "papermill": {
     "duration": 0.039412,
     "end_time": "2023-04-27T11:30:24.077127",
     "exception": false,
     "start_time": "2023-04-27T11:30:24.037715",
     "status": "completed"
    },
    "tags": []
   },
   "source": [
    "## Table of Contents\n",
    "\n",
    "1. [Data Decription](#section1)<br>\n",
    "    - 1.1 [Introduction](#section101)<br/>\n",
    "    - 1.2 [Data source and data set](#section102)<br/>\n",
    "2. [Load the Packages and Data](#section2)\n",
    "\n",
    "3. [EDA Questions](#section4)\n",
    "    - 4.1 [What different types of show or movie are uploaded on Netflix?](#section401)<br/>\n",
    "    - 4.2 [What is the Correlation between the features?](#section402)<br/>\n",
    "    - 4.3 [Most watched shows on the Netflix?](#section403)<br/>\n",
    "    - 4.4 [Distribution of Ratings?](#section404)<br/>\n",
    "    - 4.5 [Which has the highest rating Tv show or Movies?](#section405)<br/>\n",
    "    - 4.6 [Finding the best Month for releasing content?](#section406)<br/>\n",
    "    - 4.7 [Highest watched genres on Netflix?](#section407)<br/>\n",
    "    - 4.8 [Released movie over the years?](#section408)<br/>   \n",
    "    - 4.9 [movies made on year basis?](#section409)<br/>\n",
    "    - 4.10 [What is the show id and director for 'House of cards'?](#section410)<br/>\n",
    "    - 4.11 [4.11 Show all the movies that were released in year 2000.](#section411)<br/>\n",
    "    - 4.12 [Show only the title of all TV shows that were released in India only.](#section412)<br/>\n",
    "    - 4.13 [Show top 10 director, who gave the highest number of TV shows & Movies to Netflix?](#section413)<br/>\n",
    "    - 4.14 [In how many movies/ tv shows, 'tom Cruise' was cast?](#section414)<br/>\n",
    "    - 4.15 [How many movies got the \"TV-14\" rating in the caneda?](#section415)<br/>\n",
    "    \n",
    "4. [Conclusions](#section5)<br/>  \n"
   ]
  },
  {
   "cell_type": "markdown",
   "id": "3d3a6063",
   "metadata": {
    "papermill": {
     "duration": 0.037388,
     "end_time": "2023-04-27T11:30:24.152236",
     "exception": false,
     "start_time": "2023-04-27T11:30:24.114848",
     "status": "completed"
    },
    "tags": []
   },
   "source": [
    "### 1. Data Decription:\n",
    "<a id=section1></a>\n",
    "This Netflix Dataset has information about the TV shows and Movies available on Netflix from the year 2008 to 2021.\n",
    "Netflix is an application that keeps growing exponentially whole around the world and it is the most famous streaming platform.\n",
    "\n",
    "### This dataset  collected from Netflix of different TV shows and Movies from the year 2008 to  2021.\n",
    "\n",
    "- **show_id**: Gives the information about show id.\n",
    "- **type**: Gives information about 2 different unique values one is TV Show and another is Movie.\n",
    "- **title**: Gives information about the title of Movie or TV Show.\n",
    "- **director**: Gives information about the director who directed the Movie or TV Show.\n",
    "- **cast**: Gives information about the cast who plays role in Movie or TV Show.\n",
    "- **country**: Gives information about the Name of country.\n",
    "- **date_added**: Gives information about the tv shows or movie released.\n",
    "- **release_year**: Gives information about the year when Movie or TV Show was released.\n",
    "- **rating**: Gives information about the Movie or TV Show are in which category (eg like the movies are only for students, or adults, etc).\n",
    "- **duration**: Gives information about the duration of Movie or TV Show.\n",
    "- **listed_in**: Gives information about the genre of Movie or TV Show.\n",
    "- **description**: Gives information about the description of Movie or TV Show.\n",
    "\n",
    "### 1.1. Introduction<a id=section101></a> \n",
    "\n",
    "This Exploratory Data Analysis is to practice Python skills learned till now on a structured data set including loading, inspecting, wrangling, exploring, and drawing conclusions from data. The notebook has observations with each step in order to explain thoroughly how to approach the data set. Based on the observation some questions also are answered in the notebook for the reference though not all of them are explored in the analysis. \n",
    "\n",
    "\n",
    "### 1.2 Data source and data set <a id=section102></a> \n",
    "\n",
    "This Netflix Dataset has information about the TV shows and Movies available on Netflix from 2018 to 2021.\n",
    "This dataset collected from kaggle website for free.\n",
    "- Dataset link: https://www.kaggle.com/datasets/swatikhedekar/exploratory-data-analysis-on-netflix-data"
   ]
  },
  {
   "cell_type": "markdown",
   "id": "d32d9f35",
   "metadata": {
    "papermill": {
     "duration": 0.037377,
     "end_time": "2023-04-27T11:30:24.227206",
     "exception": false,
     "start_time": "2023-04-27T11:30:24.189829",
     "status": "completed"
    },
    "tags": []
   },
   "source": [
    "### 2. Load the Packages and Data <a id=section102></a>\n",
    "####  Import libraries or modules"
   ]
  },
  {
   "cell_type": "code",
   "execution_count": 1,
   "id": "35c3544d",
   "metadata": {
    "execution": {
     "iopub.execute_input": "2023-04-27T11:30:24.304814Z",
     "iopub.status.busy": "2023-04-27T11:30:24.304405Z",
     "iopub.status.idle": "2023-04-27T11:30:25.409160Z",
     "shell.execute_reply": "2023-04-27T11:30:25.407791Z"
    },
    "papermill": {
     "duration": 1.147043,
     "end_time": "2023-04-27T11:30:25.412103",
     "exception": false,
     "start_time": "2023-04-27T11:30:24.265060",
     "status": "completed"
    },
    "tags": []
   },
   "outputs": [
    {
     "name": "stdout",
     "output_type": "stream",
     "text": [
      "CPU times: user 559 ms, sys: 117 ms, total: 676 ms\n",
      "Wall time: 1.09 s\n"
     ]
    }
   ],
   "source": [
    "%%time\n",
    "import numpy as np                 # for numerical computing\n",
    "import pandas as pd                # for dataframe and manipulation\n",
    "import seaborn as sns              #for graphs and data visualization\n",
    "from matplotlib import pyplot as plt\n",
    "sns.set()\n",
    "%matplotlib inline"
   ]
  },
  {
   "cell_type": "markdown",
   "id": "559a3552",
   "metadata": {
    "papermill": {
     "duration": 0.036801,
     "end_time": "2023-04-27T11:30:25.486175",
     "exception": false,
     "start_time": "2023-04-27T11:30:25.449374",
     "status": "completed"
    },
    "tags": []
   },
   "source": [
    "#### Load the dataset"
   ]
  },
  {
   "cell_type": "code",
   "execution_count": 2,
   "id": "82847a6d",
   "metadata": {
    "execution": {
     "iopub.execute_input": "2023-04-27T11:30:25.562874Z",
     "iopub.status.busy": "2023-04-27T11:30:25.562470Z",
     "iopub.status.idle": "2023-04-27T11:30:25.690619Z",
     "shell.execute_reply": "2023-04-27T11:30:25.689666Z"
    },
    "papermill": {
     "duration": 0.170002,
     "end_time": "2023-04-27T11:30:25.693150",
     "exception": false,
     "start_time": "2023-04-27T11:30:25.523148",
     "status": "completed"
    },
    "tags": []
   },
   "outputs": [],
   "source": [
    "netflix = pd.read_csv(\"/kaggle/input/exploratory-data-analysis-on-netflix-data/netflix_titles_2021.csv\")"
   ]
  },
  {
   "cell_type": "markdown",
   "id": "3f45ff85",
   "metadata": {
    "papermill": {
     "duration": 0.037359,
     "end_time": "2023-04-27T11:30:25.767700",
     "exception": false,
     "start_time": "2023-04-27T11:30:25.730341",
     "status": "completed"
    },
    "tags": []
   },
   "source": [
    "## 3.Data Profiling (Data Exploration)\n",
    "<a id=section3></a>\n",
    "\n",
    "### 3.1 Understanding the Dataset(Basic information about dataset)\n",
    "<a id=section301></a>"
   ]
  },
  {
   "cell_type": "code",
   "execution_count": 3,
   "id": "08910535",
   "metadata": {
    "execution": {
     "iopub.execute_input": "2023-04-27T11:30:25.845607Z",
     "iopub.status.busy": "2023-04-27T11:30:25.844823Z",
     "iopub.status.idle": "2023-04-27T11:30:25.877818Z",
     "shell.execute_reply": "2023-04-27T11:30:25.876620Z"
    },
    "papermill": {
     "duration": 0.07539,
     "end_time": "2023-04-27T11:30:25.880290",
     "exception": false,
     "start_time": "2023-04-27T11:30:25.804900",
     "status": "completed"
    },
    "tags": []
   },
   "outputs": [
    {
     "data": {
      "text/html": [
       "<div>\n",
       "<style scoped>\n",
       "    .dataframe tbody tr th:only-of-type {\n",
       "        vertical-align: middle;\n",
       "    }\n",
       "\n",
       "    .dataframe tbody tr th {\n",
       "        vertical-align: top;\n",
       "    }\n",
       "\n",
       "    .dataframe thead th {\n",
       "        text-align: right;\n",
       "    }\n",
       "</style>\n",
       "<table border=\"1\" class=\"dataframe\">\n",
       "  <thead>\n",
       "    <tr style=\"text-align: right;\">\n",
       "      <th></th>\n",
       "      <th>show_id</th>\n",
       "      <th>type</th>\n",
       "      <th>title</th>\n",
       "      <th>director</th>\n",
       "      <th>cast</th>\n",
       "      <th>country</th>\n",
       "      <th>date_added</th>\n",
       "      <th>release_year</th>\n",
       "      <th>rating</th>\n",
       "      <th>duration</th>\n",
       "      <th>listed_in</th>\n",
       "      <th>description</th>\n",
       "    </tr>\n",
       "  </thead>\n",
       "  <tbody>\n",
       "    <tr>\n",
       "      <th>0</th>\n",
       "      <td>s1</td>\n",
       "      <td>Movie</td>\n",
       "      <td>Dick Johnson Is Dead</td>\n",
       "      <td>Kirsten Johnson</td>\n",
       "      <td>NaN</td>\n",
       "      <td>United States</td>\n",
       "      <td>September 25, 2021</td>\n",
       "      <td>2020</td>\n",
       "      <td>PG-13</td>\n",
       "      <td>90 min</td>\n",
       "      <td>Documentaries</td>\n",
       "      <td>As her father nears the end of his life, filmm...</td>\n",
       "    </tr>\n",
       "    <tr>\n",
       "      <th>1</th>\n",
       "      <td>s2</td>\n",
       "      <td>TV Show</td>\n",
       "      <td>Blood &amp; Water</td>\n",
       "      <td>NaN</td>\n",
       "      <td>Ama Qamata, Khosi Ngema, Gail Mabalane, Thaban...</td>\n",
       "      <td>South Africa</td>\n",
       "      <td>September 24, 2021</td>\n",
       "      <td>2021</td>\n",
       "      <td>TV-MA</td>\n",
       "      <td>2 Seasons</td>\n",
       "      <td>International TV Shows, TV Dramas, TV Mysteries</td>\n",
       "      <td>After crossing paths at a party, a Cape Town t...</td>\n",
       "    </tr>\n",
       "    <tr>\n",
       "      <th>2</th>\n",
       "      <td>s3</td>\n",
       "      <td>TV Show</td>\n",
       "      <td>Ganglands</td>\n",
       "      <td>Julien Leclercq</td>\n",
       "      <td>Sami Bouajila, Tracy Gotoas, Samuel Jouy, Nabi...</td>\n",
       "      <td>NaN</td>\n",
       "      <td>September 24, 2021</td>\n",
       "      <td>2021</td>\n",
       "      <td>TV-MA</td>\n",
       "      <td>1 Season</td>\n",
       "      <td>Crime TV Shows, International TV Shows, TV Act...</td>\n",
       "      <td>To protect his family from a powerful drug lor...</td>\n",
       "    </tr>\n",
       "    <tr>\n",
       "      <th>3</th>\n",
       "      <td>s4</td>\n",
       "      <td>TV Show</td>\n",
       "      <td>Jailbirds New Orleans</td>\n",
       "      <td>NaN</td>\n",
       "      <td>NaN</td>\n",
       "      <td>NaN</td>\n",
       "      <td>September 24, 2021</td>\n",
       "      <td>2021</td>\n",
       "      <td>TV-MA</td>\n",
       "      <td>1 Season</td>\n",
       "      <td>Docuseries, Reality TV</td>\n",
       "      <td>Feuds, flirtations and toilet talk go down amo...</td>\n",
       "    </tr>\n",
       "    <tr>\n",
       "      <th>4</th>\n",
       "      <td>s5</td>\n",
       "      <td>TV Show</td>\n",
       "      <td>Kota Factory</td>\n",
       "      <td>NaN</td>\n",
       "      <td>Mayur More, Jitendra Kumar, Ranjan Raj, Alam K...</td>\n",
       "      <td>India</td>\n",
       "      <td>September 24, 2021</td>\n",
       "      <td>2021</td>\n",
       "      <td>TV-MA</td>\n",
       "      <td>2 Seasons</td>\n",
       "      <td>International TV Shows, Romantic TV Shows, TV ...</td>\n",
       "      <td>In a city of coaching centers known to train I...</td>\n",
       "    </tr>\n",
       "  </tbody>\n",
       "</table>\n",
       "</div>"
      ],
      "text/plain": [
       "  show_id     type                  title         director  \\\n",
       "0      s1    Movie   Dick Johnson Is Dead  Kirsten Johnson   \n",
       "1      s2  TV Show          Blood & Water              NaN   \n",
       "2      s3  TV Show              Ganglands  Julien Leclercq   \n",
       "3      s4  TV Show  Jailbirds New Orleans              NaN   \n",
       "4      s5  TV Show           Kota Factory              NaN   \n",
       "\n",
       "                                                cast        country  \\\n",
       "0                                                NaN  United States   \n",
       "1  Ama Qamata, Khosi Ngema, Gail Mabalane, Thaban...   South Africa   \n",
       "2  Sami Bouajila, Tracy Gotoas, Samuel Jouy, Nabi...            NaN   \n",
       "3                                                NaN            NaN   \n",
       "4  Mayur More, Jitendra Kumar, Ranjan Raj, Alam K...          India   \n",
       "\n",
       "           date_added  release_year rating   duration  \\\n",
       "0  September 25, 2021          2020  PG-13     90 min   \n",
       "1  September 24, 2021          2021  TV-MA  2 Seasons   \n",
       "2  September 24, 2021          2021  TV-MA   1 Season   \n",
       "3  September 24, 2021          2021  TV-MA   1 Season   \n",
       "4  September 24, 2021          2021  TV-MA  2 Seasons   \n",
       "\n",
       "                                           listed_in  \\\n",
       "0                                      Documentaries   \n",
       "1    International TV Shows, TV Dramas, TV Mysteries   \n",
       "2  Crime TV Shows, International TV Shows, TV Act...   \n",
       "3                             Docuseries, Reality TV   \n",
       "4  International TV Shows, Romantic TV Shows, TV ...   \n",
       "\n",
       "                                         description  \n",
       "0  As her father nears the end of his life, filmm...  \n",
       "1  After crossing paths at a party, a Cape Town t...  \n",
       "2  To protect his family from a powerful drug lor...  \n",
       "3  Feuds, flirtations and toilet talk go down amo...  \n",
       "4  In a city of coaching centers known to train I...  "
      ]
     },
     "execution_count": 3,
     "metadata": {},
     "output_type": "execute_result"
    }
   ],
   "source": [
    "netflix.head() # for shows top 5 rows"
   ]
  },
  {
   "cell_type": "code",
   "execution_count": 4,
   "id": "3918ed06",
   "metadata": {
    "execution": {
     "iopub.execute_input": "2023-04-27T11:30:25.959923Z",
     "iopub.status.busy": "2023-04-27T11:30:25.959506Z",
     "iopub.status.idle": "2023-04-27T11:30:25.979048Z",
     "shell.execute_reply": "2023-04-27T11:30:25.977630Z"
    },
    "papermill": {
     "duration": 0.061288,
     "end_time": "2023-04-27T11:30:25.981390",
     "exception": false,
     "start_time": "2023-04-27T11:30:25.920102",
     "status": "completed"
    },
    "tags": []
   },
   "outputs": [
    {
     "data": {
      "text/html": [
       "<div>\n",
       "<style scoped>\n",
       "    .dataframe tbody tr th:only-of-type {\n",
       "        vertical-align: middle;\n",
       "    }\n",
       "\n",
       "    .dataframe tbody tr th {\n",
       "        vertical-align: top;\n",
       "    }\n",
       "\n",
       "    .dataframe thead th {\n",
       "        text-align: right;\n",
       "    }\n",
       "</style>\n",
       "<table border=\"1\" class=\"dataframe\">\n",
       "  <thead>\n",
       "    <tr style=\"text-align: right;\">\n",
       "      <th></th>\n",
       "      <th>show_id</th>\n",
       "      <th>type</th>\n",
       "      <th>title</th>\n",
       "      <th>director</th>\n",
       "      <th>cast</th>\n",
       "      <th>country</th>\n",
       "      <th>date_added</th>\n",
       "      <th>release_year</th>\n",
       "      <th>rating</th>\n",
       "      <th>duration</th>\n",
       "      <th>listed_in</th>\n",
       "      <th>description</th>\n",
       "    </tr>\n",
       "  </thead>\n",
       "  <tbody>\n",
       "    <tr>\n",
       "      <th>8802</th>\n",
       "      <td>s8803</td>\n",
       "      <td>Movie</td>\n",
       "      <td>Zodiac</td>\n",
       "      <td>David Fincher</td>\n",
       "      <td>Mark Ruffalo, Jake Gyllenhaal, Robert Downey J...</td>\n",
       "      <td>United States</td>\n",
       "      <td>November 20, 2019</td>\n",
       "      <td>2007</td>\n",
       "      <td>R</td>\n",
       "      <td>158 min</td>\n",
       "      <td>Cult Movies, Dramas, Thrillers</td>\n",
       "      <td>A political cartoonist, a crime reporter and a...</td>\n",
       "    </tr>\n",
       "    <tr>\n",
       "      <th>8803</th>\n",
       "      <td>s8804</td>\n",
       "      <td>TV Show</td>\n",
       "      <td>Zombie Dumb</td>\n",
       "      <td>NaN</td>\n",
       "      <td>NaN</td>\n",
       "      <td>NaN</td>\n",
       "      <td>July 1, 2019</td>\n",
       "      <td>2018</td>\n",
       "      <td>TV-Y7</td>\n",
       "      <td>2 Seasons</td>\n",
       "      <td>Kids' TV, Korean TV Shows, TV Comedies</td>\n",
       "      <td>While living alone in a spooky town, a young g...</td>\n",
       "    </tr>\n",
       "    <tr>\n",
       "      <th>8804</th>\n",
       "      <td>s8805</td>\n",
       "      <td>Movie</td>\n",
       "      <td>Zombieland</td>\n",
       "      <td>Ruben Fleischer</td>\n",
       "      <td>Jesse Eisenberg, Woody Harrelson, Emma Stone, ...</td>\n",
       "      <td>United States</td>\n",
       "      <td>November 1, 2019</td>\n",
       "      <td>2009</td>\n",
       "      <td>R</td>\n",
       "      <td>88 min</td>\n",
       "      <td>Comedies, Horror Movies</td>\n",
       "      <td>Looking to survive in a world taken over by zo...</td>\n",
       "    </tr>\n",
       "    <tr>\n",
       "      <th>8805</th>\n",
       "      <td>s8806</td>\n",
       "      <td>Movie</td>\n",
       "      <td>Zoom</td>\n",
       "      <td>Peter Hewitt</td>\n",
       "      <td>Tim Allen, Courteney Cox, Chevy Chase, Kate Ma...</td>\n",
       "      <td>United States</td>\n",
       "      <td>January 11, 2020</td>\n",
       "      <td>2006</td>\n",
       "      <td>PG</td>\n",
       "      <td>88 min</td>\n",
       "      <td>Children &amp; Family Movies, Comedies</td>\n",
       "      <td>Dragged from civilian life, a former superhero...</td>\n",
       "    </tr>\n",
       "    <tr>\n",
       "      <th>8806</th>\n",
       "      <td>s8807</td>\n",
       "      <td>Movie</td>\n",
       "      <td>Zubaan</td>\n",
       "      <td>Mozez Singh</td>\n",
       "      <td>Vicky Kaushal, Sarah-Jane Dias, Raaghav Chanan...</td>\n",
       "      <td>India</td>\n",
       "      <td>March 2, 2019</td>\n",
       "      <td>2015</td>\n",
       "      <td>TV-14</td>\n",
       "      <td>111 min</td>\n",
       "      <td>Dramas, International Movies, Music &amp; Musicals</td>\n",
       "      <td>A scrappy but poor boy worms his way into a ty...</td>\n",
       "    </tr>\n",
       "  </tbody>\n",
       "</table>\n",
       "</div>"
      ],
      "text/plain": [
       "     show_id     type        title         director  \\\n",
       "8802   s8803    Movie       Zodiac    David Fincher   \n",
       "8803   s8804  TV Show  Zombie Dumb              NaN   \n",
       "8804   s8805    Movie   Zombieland  Ruben Fleischer   \n",
       "8805   s8806    Movie         Zoom     Peter Hewitt   \n",
       "8806   s8807    Movie       Zubaan      Mozez Singh   \n",
       "\n",
       "                                                   cast        country  \\\n",
       "8802  Mark Ruffalo, Jake Gyllenhaal, Robert Downey J...  United States   \n",
       "8803                                                NaN            NaN   \n",
       "8804  Jesse Eisenberg, Woody Harrelson, Emma Stone, ...  United States   \n",
       "8805  Tim Allen, Courteney Cox, Chevy Chase, Kate Ma...  United States   \n",
       "8806  Vicky Kaushal, Sarah-Jane Dias, Raaghav Chanan...          India   \n",
       "\n",
       "             date_added  release_year rating   duration  \\\n",
       "8802  November 20, 2019          2007      R    158 min   \n",
       "8803       July 1, 2019          2018  TV-Y7  2 Seasons   \n",
       "8804   November 1, 2019          2009      R     88 min   \n",
       "8805   January 11, 2020          2006     PG     88 min   \n",
       "8806      March 2, 2019          2015  TV-14    111 min   \n",
       "\n",
       "                                           listed_in  \\\n",
       "8802                  Cult Movies, Dramas, Thrillers   \n",
       "8803          Kids' TV, Korean TV Shows, TV Comedies   \n",
       "8804                         Comedies, Horror Movies   \n",
       "8805              Children & Family Movies, Comedies   \n",
       "8806  Dramas, International Movies, Music & Musicals   \n",
       "\n",
       "                                            description  \n",
       "8802  A political cartoonist, a crime reporter and a...  \n",
       "8803  While living alone in a spooky town, a young g...  \n",
       "8804  Looking to survive in a world taken over by zo...  \n",
       "8805  Dragged from civilian life, a former superhero...  \n",
       "8806  A scrappy but poor boy worms his way into a ty...  "
      ]
     },
     "execution_count": 4,
     "metadata": {},
     "output_type": "execute_result"
    }
   ],
   "source": [
    "netflix.tail() # For bottom 5 rows"
   ]
  },
  {
   "cell_type": "code",
   "execution_count": 5,
   "id": "0fb0e877",
   "metadata": {
    "execution": {
     "iopub.execute_input": "2023-04-27T11:30:26.060822Z",
     "iopub.status.busy": "2023-04-27T11:30:26.059801Z",
     "iopub.status.idle": "2023-04-27T11:30:26.067782Z",
     "shell.execute_reply": "2023-04-27T11:30:26.066603Z"
    },
    "papermill": {
     "duration": 0.050387,
     "end_time": "2023-04-27T11:30:26.069997",
     "exception": false,
     "start_time": "2023-04-27T11:30:26.019610",
     "status": "completed"
    },
    "tags": []
   },
   "outputs": [
    {
     "data": {
      "text/plain": [
       "(8807, 12)"
      ]
     },
     "execution_count": 5,
     "metadata": {},
     "output_type": "execute_result"
    }
   ],
   "source": [
    "netflix.shape         # to show the total no. of columns and rows"
   ]
  },
  {
   "cell_type": "markdown",
   "id": "e8d6982e",
   "metadata": {
    "papermill": {
     "duration": 0.0387,
     "end_time": "2023-04-27T11:30:26.146883",
     "exception": false,
     "start_time": "2023-04-27T11:30:26.108183",
     "status": "completed"
    },
    "tags": []
   },
   "source": [
    "- This dataset contains 8807 rows and 12 columns."
   ]
  },
  {
   "cell_type": "code",
   "execution_count": 6,
   "id": "0830dc82",
   "metadata": {
    "execution": {
     "iopub.execute_input": "2023-04-27T11:30:26.226037Z",
     "iopub.status.busy": "2023-04-27T11:30:26.225044Z",
     "iopub.status.idle": "2023-04-27T11:30:26.231203Z",
     "shell.execute_reply": "2023-04-27T11:30:26.230416Z"
    },
    "papermill": {
     "duration": 0.048219,
     "end_time": "2023-04-27T11:30:26.233239",
     "exception": false,
     "start_time": "2023-04-27T11:30:26.185020",
     "status": "completed"
    },
    "tags": []
   },
   "outputs": [
    {
     "data": {
      "text/plain": [
       "105684"
      ]
     },
     "execution_count": 6,
     "metadata": {},
     "output_type": "execute_result"
    }
   ],
   "source": [
    "netflix.size       # to show the total no. of volume(elements)"
   ]
  },
  {
   "cell_type": "code",
   "execution_count": 7,
   "id": "f3a3112c",
   "metadata": {
    "execution": {
     "iopub.execute_input": "2023-04-27T11:30:26.311973Z",
     "iopub.status.busy": "2023-04-27T11:30:26.311579Z",
     "iopub.status.idle": "2023-04-27T11:30:26.317595Z",
     "shell.execute_reply": "2023-04-27T11:30:26.316796Z"
    },
    "papermill": {
     "duration": 0.048004,
     "end_time": "2023-04-27T11:30:26.319561",
     "exception": false,
     "start_time": "2023-04-27T11:30:26.271557",
     "status": "completed"
    },
    "tags": []
   },
   "outputs": [
    {
     "data": {
      "text/plain": [
       "Index(['show_id', 'type', 'title', 'director', 'cast', 'country', 'date_added',\n",
       "       'release_year', 'rating', 'duration', 'listed_in', 'description'],\n",
       "      dtype='object')"
      ]
     },
     "execution_count": 7,
     "metadata": {},
     "output_type": "execute_result"
    }
   ],
   "source": [
    "netflix.columns       # to shows each column name"
   ]
  },
  {
   "cell_type": "code",
   "execution_count": 8,
   "id": "f906d6f5",
   "metadata": {
    "execution": {
     "iopub.execute_input": "2023-04-27T11:30:26.399374Z",
     "iopub.status.busy": "2023-04-27T11:30:26.398362Z",
     "iopub.status.idle": "2023-04-27T11:30:26.406043Z",
     "shell.execute_reply": "2023-04-27T11:30:26.405271Z"
    },
    "papermill": {
     "duration": 0.050363,
     "end_time": "2023-04-27T11:30:26.408092",
     "exception": false,
     "start_time": "2023-04-27T11:30:26.357729",
     "status": "completed"
    },
    "tags": []
   },
   "outputs": [
    {
     "data": {
      "text/plain": [
       "show_id         object\n",
       "type            object\n",
       "title           object\n",
       "director        object\n",
       "cast            object\n",
       "country         object\n",
       "date_added      object\n",
       "release_year     int64\n",
       "rating          object\n",
       "duration        object\n",
       "listed_in       object\n",
       "description     object\n",
       "dtype: object"
      ]
     },
     "execution_count": 8,
     "metadata": {},
     "output_type": "execute_result"
    }
   ],
   "source": [
    "netflix.dtypes      # to shows data types each column name"
   ]
  },
  {
   "cell_type": "code",
   "execution_count": 9,
   "id": "faa3055f",
   "metadata": {
    "execution": {
     "iopub.execute_input": "2023-04-27T11:30:26.488025Z",
     "iopub.status.busy": "2023-04-27T11:30:26.486975Z",
     "iopub.status.idle": "2023-04-27T11:30:26.515471Z",
     "shell.execute_reply": "2023-04-27T11:30:26.513964Z"
    },
    "papermill": {
     "duration": 0.071421,
     "end_time": "2023-04-27T11:30:26.517810",
     "exception": false,
     "start_time": "2023-04-27T11:30:26.446389",
     "status": "completed"
    },
    "tags": []
   },
   "outputs": [
    {
     "name": "stdout",
     "output_type": "stream",
     "text": [
      "<class 'pandas.core.frame.DataFrame'>\n",
      "RangeIndex: 8807 entries, 0 to 8806\n",
      "Data columns (total 12 columns):\n",
      " #   Column        Non-Null Count  Dtype \n",
      "---  ------        --------------  ----- \n",
      " 0   show_id       8807 non-null   object\n",
      " 1   type          8807 non-null   object\n",
      " 2   title         8807 non-null   object\n",
      " 3   director      6173 non-null   object\n",
      " 4   cast          7982 non-null   object\n",
      " 5   country       7976 non-null   object\n",
      " 6   date_added    8797 non-null   object\n",
      " 7   release_year  8807 non-null   int64 \n",
      " 8   rating        8803 non-null   object\n",
      " 9   duration      8804 non-null   object\n",
      " 10  listed_in     8807 non-null   object\n",
      " 11  description   8807 non-null   object\n",
      "dtypes: int64(1), object(11)\n",
      "memory usage: 825.8+ KB\n"
     ]
    }
   ],
   "source": [
    "netflix.info()        # to shows indexes,data types each column name"
   ]
  },
  {
   "cell_type": "code",
   "execution_count": 10,
   "id": "35486db4",
   "metadata": {
    "execution": {
     "iopub.execute_input": "2023-04-27T11:30:26.598322Z",
     "iopub.status.busy": "2023-04-27T11:30:26.597333Z",
     "iopub.status.idle": "2023-04-27T11:30:26.614684Z",
     "shell.execute_reply": "2023-04-27T11:30:26.613816Z"
    },
    "papermill": {
     "duration": 0.059654,
     "end_time": "2023-04-27T11:30:26.616759",
     "exception": false,
     "start_time": "2023-04-27T11:30:26.557105",
     "status": "completed"
    },
    "tags": []
   },
   "outputs": [
    {
     "data": {
      "text/html": [
       "<div>\n",
       "<style scoped>\n",
       "    .dataframe tbody tr th:only-of-type {\n",
       "        vertical-align: middle;\n",
       "    }\n",
       "\n",
       "    .dataframe tbody tr th {\n",
       "        vertical-align: top;\n",
       "    }\n",
       "\n",
       "    .dataframe thead th {\n",
       "        text-align: right;\n",
       "    }\n",
       "</style>\n",
       "<table border=\"1\" class=\"dataframe\">\n",
       "  <thead>\n",
       "    <tr style=\"text-align: right;\">\n",
       "      <th></th>\n",
       "      <th>release_year</th>\n",
       "    </tr>\n",
       "  </thead>\n",
       "  <tbody>\n",
       "    <tr>\n",
       "      <th>count</th>\n",
       "      <td>8807.000000</td>\n",
       "    </tr>\n",
       "    <tr>\n",
       "      <th>mean</th>\n",
       "      <td>2014.180198</td>\n",
       "    </tr>\n",
       "    <tr>\n",
       "      <th>std</th>\n",
       "      <td>8.819312</td>\n",
       "    </tr>\n",
       "    <tr>\n",
       "      <th>min</th>\n",
       "      <td>1925.000000</td>\n",
       "    </tr>\n",
       "    <tr>\n",
       "      <th>25%</th>\n",
       "      <td>2013.000000</td>\n",
       "    </tr>\n",
       "    <tr>\n",
       "      <th>50%</th>\n",
       "      <td>2017.000000</td>\n",
       "    </tr>\n",
       "    <tr>\n",
       "      <th>75%</th>\n",
       "      <td>2019.000000</td>\n",
       "    </tr>\n",
       "    <tr>\n",
       "      <th>max</th>\n",
       "      <td>2021.000000</td>\n",
       "    </tr>\n",
       "  </tbody>\n",
       "</table>\n",
       "</div>"
      ],
      "text/plain": [
       "       release_year\n",
       "count   8807.000000\n",
       "mean    2014.180198\n",
       "std        8.819312\n",
       "min     1925.000000\n",
       "25%     2013.000000\n",
       "50%     2017.000000\n",
       "75%     2019.000000\n",
       "max     2021.000000"
      ]
     },
     "execution_count": 10,
     "metadata": {},
     "output_type": "execute_result"
    }
   ],
   "source": [
    "netflix.describe() # for shows statistical information"
   ]
  },
  {
   "cell_type": "code",
   "execution_count": 11,
   "id": "52d1d1d9",
   "metadata": {
    "execution": {
     "iopub.execute_input": "2023-04-27T11:30:26.697379Z",
     "iopub.status.busy": "2023-04-27T11:30:26.696578Z",
     "iopub.status.idle": "2023-04-27T11:30:26.759973Z",
     "shell.execute_reply": "2023-04-27T11:30:26.758848Z"
    },
    "papermill": {
     "duration": 0.106885,
     "end_time": "2023-04-27T11:30:26.762470",
     "exception": false,
     "start_time": "2023-04-27T11:30:26.655585",
     "status": "completed"
    },
    "tags": []
   },
   "outputs": [
    {
     "data": {
      "text/html": [
       "<div>\n",
       "<style scoped>\n",
       "    .dataframe tbody tr th:only-of-type {\n",
       "        vertical-align: middle;\n",
       "    }\n",
       "\n",
       "    .dataframe tbody tr th {\n",
       "        vertical-align: top;\n",
       "    }\n",
       "\n",
       "    .dataframe thead th {\n",
       "        text-align: right;\n",
       "    }\n",
       "</style>\n",
       "<table border=\"1\" class=\"dataframe\">\n",
       "  <thead>\n",
       "    <tr style=\"text-align: right;\">\n",
       "      <th></th>\n",
       "      <th>show_id</th>\n",
       "      <th>type</th>\n",
       "      <th>title</th>\n",
       "      <th>director</th>\n",
       "      <th>cast</th>\n",
       "      <th>country</th>\n",
       "      <th>date_added</th>\n",
       "      <th>release_year</th>\n",
       "      <th>rating</th>\n",
       "      <th>duration</th>\n",
       "      <th>listed_in</th>\n",
       "      <th>description</th>\n",
       "    </tr>\n",
       "  </thead>\n",
       "  <tbody>\n",
       "    <tr>\n",
       "      <th>count</th>\n",
       "      <td>8807</td>\n",
       "      <td>8807</td>\n",
       "      <td>8807</td>\n",
       "      <td>6173</td>\n",
       "      <td>7982</td>\n",
       "      <td>7976</td>\n",
       "      <td>8797</td>\n",
       "      <td>8807.000000</td>\n",
       "      <td>8803</td>\n",
       "      <td>8804</td>\n",
       "      <td>8807</td>\n",
       "      <td>8807</td>\n",
       "    </tr>\n",
       "    <tr>\n",
       "      <th>unique</th>\n",
       "      <td>8807</td>\n",
       "      <td>2</td>\n",
       "      <td>8807</td>\n",
       "      <td>4528</td>\n",
       "      <td>7692</td>\n",
       "      <td>748</td>\n",
       "      <td>1767</td>\n",
       "      <td>NaN</td>\n",
       "      <td>17</td>\n",
       "      <td>220</td>\n",
       "      <td>514</td>\n",
       "      <td>8775</td>\n",
       "    </tr>\n",
       "    <tr>\n",
       "      <th>top</th>\n",
       "      <td>s1</td>\n",
       "      <td>Movie</td>\n",
       "      <td>Dick Johnson Is Dead</td>\n",
       "      <td>Rajiv Chilaka</td>\n",
       "      <td>David Attenborough</td>\n",
       "      <td>United States</td>\n",
       "      <td>January 1, 2020</td>\n",
       "      <td>NaN</td>\n",
       "      <td>TV-MA</td>\n",
       "      <td>1 Season</td>\n",
       "      <td>Dramas, International Movies</td>\n",
       "      <td>Paranormal activity at a lush, abandoned prope...</td>\n",
       "    </tr>\n",
       "    <tr>\n",
       "      <th>freq</th>\n",
       "      <td>1</td>\n",
       "      <td>6131</td>\n",
       "      <td>1</td>\n",
       "      <td>19</td>\n",
       "      <td>19</td>\n",
       "      <td>2818</td>\n",
       "      <td>109</td>\n",
       "      <td>NaN</td>\n",
       "      <td>3207</td>\n",
       "      <td>1793</td>\n",
       "      <td>362</td>\n",
       "      <td>4</td>\n",
       "    </tr>\n",
       "    <tr>\n",
       "      <th>mean</th>\n",
       "      <td>NaN</td>\n",
       "      <td>NaN</td>\n",
       "      <td>NaN</td>\n",
       "      <td>NaN</td>\n",
       "      <td>NaN</td>\n",
       "      <td>NaN</td>\n",
       "      <td>NaN</td>\n",
       "      <td>2014.180198</td>\n",
       "      <td>NaN</td>\n",
       "      <td>NaN</td>\n",
       "      <td>NaN</td>\n",
       "      <td>NaN</td>\n",
       "    </tr>\n",
       "    <tr>\n",
       "      <th>std</th>\n",
       "      <td>NaN</td>\n",
       "      <td>NaN</td>\n",
       "      <td>NaN</td>\n",
       "      <td>NaN</td>\n",
       "      <td>NaN</td>\n",
       "      <td>NaN</td>\n",
       "      <td>NaN</td>\n",
       "      <td>8.819312</td>\n",
       "      <td>NaN</td>\n",
       "      <td>NaN</td>\n",
       "      <td>NaN</td>\n",
       "      <td>NaN</td>\n",
       "    </tr>\n",
       "    <tr>\n",
       "      <th>min</th>\n",
       "      <td>NaN</td>\n",
       "      <td>NaN</td>\n",
       "      <td>NaN</td>\n",
       "      <td>NaN</td>\n",
       "      <td>NaN</td>\n",
       "      <td>NaN</td>\n",
       "      <td>NaN</td>\n",
       "      <td>1925.000000</td>\n",
       "      <td>NaN</td>\n",
       "      <td>NaN</td>\n",
       "      <td>NaN</td>\n",
       "      <td>NaN</td>\n",
       "    </tr>\n",
       "    <tr>\n",
       "      <th>25%</th>\n",
       "      <td>NaN</td>\n",
       "      <td>NaN</td>\n",
       "      <td>NaN</td>\n",
       "      <td>NaN</td>\n",
       "      <td>NaN</td>\n",
       "      <td>NaN</td>\n",
       "      <td>NaN</td>\n",
       "      <td>2013.000000</td>\n",
       "      <td>NaN</td>\n",
       "      <td>NaN</td>\n",
       "      <td>NaN</td>\n",
       "      <td>NaN</td>\n",
       "    </tr>\n",
       "    <tr>\n",
       "      <th>50%</th>\n",
       "      <td>NaN</td>\n",
       "      <td>NaN</td>\n",
       "      <td>NaN</td>\n",
       "      <td>NaN</td>\n",
       "      <td>NaN</td>\n",
       "      <td>NaN</td>\n",
       "      <td>NaN</td>\n",
       "      <td>2017.000000</td>\n",
       "      <td>NaN</td>\n",
       "      <td>NaN</td>\n",
       "      <td>NaN</td>\n",
       "      <td>NaN</td>\n",
       "    </tr>\n",
       "    <tr>\n",
       "      <th>75%</th>\n",
       "      <td>NaN</td>\n",
       "      <td>NaN</td>\n",
       "      <td>NaN</td>\n",
       "      <td>NaN</td>\n",
       "      <td>NaN</td>\n",
       "      <td>NaN</td>\n",
       "      <td>NaN</td>\n",
       "      <td>2019.000000</td>\n",
       "      <td>NaN</td>\n",
       "      <td>NaN</td>\n",
       "      <td>NaN</td>\n",
       "      <td>NaN</td>\n",
       "    </tr>\n",
       "    <tr>\n",
       "      <th>max</th>\n",
       "      <td>NaN</td>\n",
       "      <td>NaN</td>\n",
       "      <td>NaN</td>\n",
       "      <td>NaN</td>\n",
       "      <td>NaN</td>\n",
       "      <td>NaN</td>\n",
       "      <td>NaN</td>\n",
       "      <td>2021.000000</td>\n",
       "      <td>NaN</td>\n",
       "      <td>NaN</td>\n",
       "      <td>NaN</td>\n",
       "      <td>NaN</td>\n",
       "    </tr>\n",
       "  </tbody>\n",
       "</table>\n",
       "</div>"
      ],
      "text/plain": [
       "       show_id   type                 title       director  \\\n",
       "count     8807   8807                  8807           6173   \n",
       "unique    8807      2                  8807           4528   \n",
       "top         s1  Movie  Dick Johnson Is Dead  Rajiv Chilaka   \n",
       "freq         1   6131                     1             19   \n",
       "mean       NaN    NaN                   NaN            NaN   \n",
       "std        NaN    NaN                   NaN            NaN   \n",
       "min        NaN    NaN                   NaN            NaN   \n",
       "25%        NaN    NaN                   NaN            NaN   \n",
       "50%        NaN    NaN                   NaN            NaN   \n",
       "75%        NaN    NaN                   NaN            NaN   \n",
       "max        NaN    NaN                   NaN            NaN   \n",
       "\n",
       "                      cast        country       date_added  release_year  \\\n",
       "count                 7982           7976             8797   8807.000000   \n",
       "unique                7692            748             1767           NaN   \n",
       "top     David Attenborough  United States  January 1, 2020           NaN   \n",
       "freq                    19           2818              109           NaN   \n",
       "mean                   NaN            NaN              NaN   2014.180198   \n",
       "std                    NaN            NaN              NaN      8.819312   \n",
       "min                    NaN            NaN              NaN   1925.000000   \n",
       "25%                    NaN            NaN              NaN   2013.000000   \n",
       "50%                    NaN            NaN              NaN   2017.000000   \n",
       "75%                    NaN            NaN              NaN   2019.000000   \n",
       "max                    NaN            NaN              NaN   2021.000000   \n",
       "\n",
       "       rating  duration                     listed_in  \\\n",
       "count    8803      8804                          8807   \n",
       "unique     17       220                           514   \n",
       "top     TV-MA  1 Season  Dramas, International Movies   \n",
       "freq     3207      1793                           362   \n",
       "mean      NaN       NaN                           NaN   \n",
       "std       NaN       NaN                           NaN   \n",
       "min       NaN       NaN                           NaN   \n",
       "25%       NaN       NaN                           NaN   \n",
       "50%       NaN       NaN                           NaN   \n",
       "75%       NaN       NaN                           NaN   \n",
       "max       NaN       NaN                           NaN   \n",
       "\n",
       "                                              description  \n",
       "count                                                8807  \n",
       "unique                                               8775  \n",
       "top     Paranormal activity at a lush, abandoned prope...  \n",
       "freq                                                    4  \n",
       "mean                                                  NaN  \n",
       "std                                                   NaN  \n",
       "min                                                   NaN  \n",
       "25%                                                   NaN  \n",
       "50%                                                   NaN  \n",
       "75%                                                   NaN  \n",
       "max                                                   NaN  "
      ]
     },
     "execution_count": 11,
     "metadata": {},
     "output_type": "execute_result"
    }
   ],
   "source": [
    "netflix.describe(include='all')"
   ]
  },
  {
   "cell_type": "code",
   "execution_count": 12,
   "id": "2d339727",
   "metadata": {
    "execution": {
     "iopub.execute_input": "2023-04-27T11:30:26.844499Z",
     "iopub.status.busy": "2023-04-27T11:30:26.843676Z",
     "iopub.status.idle": "2023-04-27T11:30:26.873401Z",
     "shell.execute_reply": "2023-04-27T11:30:26.872475Z"
    },
    "papermill": {
     "duration": 0.07344,
     "end_time": "2023-04-27T11:30:26.875621",
     "exception": false,
     "start_time": "2023-04-27T11:30:26.802181",
     "status": "completed"
    },
    "tags": []
   },
   "outputs": [
    {
     "data": {
      "text/plain": [
       "show_id         8807\n",
       "type               2\n",
       "title           8807\n",
       "director        4528\n",
       "cast            7692\n",
       "country          748\n",
       "date_added      1767\n",
       "release_year      74\n",
       "rating            17\n",
       "duration         220\n",
       "listed_in        514\n",
       "description     8775\n",
       "dtype: int64"
      ]
     },
     "execution_count": 12,
     "metadata": {},
     "output_type": "execute_result"
    }
   ],
   "source": [
    "#Finding how many unique values are in the dataset\n",
    "netflix.nunique()"
   ]
  },
  {
   "cell_type": "markdown",
   "id": "49fd5525",
   "metadata": {
    "papermill": {
     "duration": 0.039443,
     "end_time": "2023-04-27T11:30:26.954979",
     "exception": false,
     "start_time": "2023-04-27T11:30:26.915536",
     "status": "completed"
    },
    "tags": []
   },
   "source": [
    "### Data Preperation(Data Cleaning)\n",
    "- Check missing values\n",
    "- Fill null values"
   ]
  },
  {
   "cell_type": "code",
   "execution_count": 13,
   "id": "aad0c9f9",
   "metadata": {
    "execution": {
     "iopub.execute_input": "2023-04-27T11:30:27.038044Z",
     "iopub.status.busy": "2023-04-27T11:30:27.037334Z",
     "iopub.status.idle": "2023-04-27T11:30:27.062911Z",
     "shell.execute_reply": "2023-04-27T11:30:27.061782Z"
    },
    "papermill": {
     "duration": 0.070083,
     "end_time": "2023-04-27T11:30:27.065205",
     "exception": false,
     "start_time": "2023-04-27T11:30:26.995122",
     "status": "completed"
    },
    "tags": []
   },
   "outputs": [
    {
     "data": {
      "text/html": [
       "<div>\n",
       "<style scoped>\n",
       "    .dataframe tbody tr th:only-of-type {\n",
       "        vertical-align: middle;\n",
       "    }\n",
       "\n",
       "    .dataframe tbody tr th {\n",
       "        vertical-align: top;\n",
       "    }\n",
       "\n",
       "    .dataframe thead th {\n",
       "        text-align: right;\n",
       "    }\n",
       "</style>\n",
       "<table border=\"1\" class=\"dataframe\">\n",
       "  <thead>\n",
       "    <tr style=\"text-align: right;\">\n",
       "      <th></th>\n",
       "      <th>show_id</th>\n",
       "      <th>type</th>\n",
       "      <th>title</th>\n",
       "      <th>director</th>\n",
       "      <th>cast</th>\n",
       "      <th>country</th>\n",
       "      <th>date_added</th>\n",
       "      <th>release_year</th>\n",
       "      <th>rating</th>\n",
       "      <th>duration</th>\n",
       "      <th>listed_in</th>\n",
       "      <th>description</th>\n",
       "    </tr>\n",
       "  </thead>\n",
       "  <tbody>\n",
       "    <tr>\n",
       "      <th>0</th>\n",
       "      <td>False</td>\n",
       "      <td>False</td>\n",
       "      <td>False</td>\n",
       "      <td>False</td>\n",
       "      <td>True</td>\n",
       "      <td>False</td>\n",
       "      <td>False</td>\n",
       "      <td>False</td>\n",
       "      <td>False</td>\n",
       "      <td>False</td>\n",
       "      <td>False</td>\n",
       "      <td>False</td>\n",
       "    </tr>\n",
       "    <tr>\n",
       "      <th>1</th>\n",
       "      <td>False</td>\n",
       "      <td>False</td>\n",
       "      <td>False</td>\n",
       "      <td>True</td>\n",
       "      <td>False</td>\n",
       "      <td>False</td>\n",
       "      <td>False</td>\n",
       "      <td>False</td>\n",
       "      <td>False</td>\n",
       "      <td>False</td>\n",
       "      <td>False</td>\n",
       "      <td>False</td>\n",
       "    </tr>\n",
       "    <tr>\n",
       "      <th>2</th>\n",
       "      <td>False</td>\n",
       "      <td>False</td>\n",
       "      <td>False</td>\n",
       "      <td>False</td>\n",
       "      <td>False</td>\n",
       "      <td>True</td>\n",
       "      <td>False</td>\n",
       "      <td>False</td>\n",
       "      <td>False</td>\n",
       "      <td>False</td>\n",
       "      <td>False</td>\n",
       "      <td>False</td>\n",
       "    </tr>\n",
       "    <tr>\n",
       "      <th>3</th>\n",
       "      <td>False</td>\n",
       "      <td>False</td>\n",
       "      <td>False</td>\n",
       "      <td>True</td>\n",
       "      <td>True</td>\n",
       "      <td>True</td>\n",
       "      <td>False</td>\n",
       "      <td>False</td>\n",
       "      <td>False</td>\n",
       "      <td>False</td>\n",
       "      <td>False</td>\n",
       "      <td>False</td>\n",
       "    </tr>\n",
       "    <tr>\n",
       "      <th>4</th>\n",
       "      <td>False</td>\n",
       "      <td>False</td>\n",
       "      <td>False</td>\n",
       "      <td>True</td>\n",
       "      <td>False</td>\n",
       "      <td>False</td>\n",
       "      <td>False</td>\n",
       "      <td>False</td>\n",
       "      <td>False</td>\n",
       "      <td>False</td>\n",
       "      <td>False</td>\n",
       "      <td>False</td>\n",
       "    </tr>\n",
       "    <tr>\n",
       "      <th>...</th>\n",
       "      <td>...</td>\n",
       "      <td>...</td>\n",
       "      <td>...</td>\n",
       "      <td>...</td>\n",
       "      <td>...</td>\n",
       "      <td>...</td>\n",
       "      <td>...</td>\n",
       "      <td>...</td>\n",
       "      <td>...</td>\n",
       "      <td>...</td>\n",
       "      <td>...</td>\n",
       "      <td>...</td>\n",
       "    </tr>\n",
       "    <tr>\n",
       "      <th>8802</th>\n",
       "      <td>False</td>\n",
       "      <td>False</td>\n",
       "      <td>False</td>\n",
       "      <td>False</td>\n",
       "      <td>False</td>\n",
       "      <td>False</td>\n",
       "      <td>False</td>\n",
       "      <td>False</td>\n",
       "      <td>False</td>\n",
       "      <td>False</td>\n",
       "      <td>False</td>\n",
       "      <td>False</td>\n",
       "    </tr>\n",
       "    <tr>\n",
       "      <th>8803</th>\n",
       "      <td>False</td>\n",
       "      <td>False</td>\n",
       "      <td>False</td>\n",
       "      <td>True</td>\n",
       "      <td>True</td>\n",
       "      <td>True</td>\n",
       "      <td>False</td>\n",
       "      <td>False</td>\n",
       "      <td>False</td>\n",
       "      <td>False</td>\n",
       "      <td>False</td>\n",
       "      <td>False</td>\n",
       "    </tr>\n",
       "    <tr>\n",
       "      <th>8804</th>\n",
       "      <td>False</td>\n",
       "      <td>False</td>\n",
       "      <td>False</td>\n",
       "      <td>False</td>\n",
       "      <td>False</td>\n",
       "      <td>False</td>\n",
       "      <td>False</td>\n",
       "      <td>False</td>\n",
       "      <td>False</td>\n",
       "      <td>False</td>\n",
       "      <td>False</td>\n",
       "      <td>False</td>\n",
       "    </tr>\n",
       "    <tr>\n",
       "      <th>8805</th>\n",
       "      <td>False</td>\n",
       "      <td>False</td>\n",
       "      <td>False</td>\n",
       "      <td>False</td>\n",
       "      <td>False</td>\n",
       "      <td>False</td>\n",
       "      <td>False</td>\n",
       "      <td>False</td>\n",
       "      <td>False</td>\n",
       "      <td>False</td>\n",
       "      <td>False</td>\n",
       "      <td>False</td>\n",
       "    </tr>\n",
       "    <tr>\n",
       "      <th>8806</th>\n",
       "      <td>False</td>\n",
       "      <td>False</td>\n",
       "      <td>False</td>\n",
       "      <td>False</td>\n",
       "      <td>False</td>\n",
       "      <td>False</td>\n",
       "      <td>False</td>\n",
       "      <td>False</td>\n",
       "      <td>False</td>\n",
       "      <td>False</td>\n",
       "      <td>False</td>\n",
       "      <td>False</td>\n",
       "    </tr>\n",
       "  </tbody>\n",
       "</table>\n",
       "<p>8807 rows × 12 columns</p>\n",
       "</div>"
      ],
      "text/plain": [
       "      show_id   type  title  director   cast  country  date_added  \\\n",
       "0       False  False  False     False   True    False       False   \n",
       "1       False  False  False      True  False    False       False   \n",
       "2       False  False  False     False  False     True       False   \n",
       "3       False  False  False      True   True     True       False   \n",
       "4       False  False  False      True  False    False       False   \n",
       "...       ...    ...    ...       ...    ...      ...         ...   \n",
       "8802    False  False  False     False  False    False       False   \n",
       "8803    False  False  False      True   True     True       False   \n",
       "8804    False  False  False     False  False    False       False   \n",
       "8805    False  False  False     False  False    False       False   \n",
       "8806    False  False  False     False  False    False       False   \n",
       "\n",
       "      release_year  rating  duration  listed_in  description  \n",
       "0            False   False     False      False        False  \n",
       "1            False   False     False      False        False  \n",
       "2            False   False     False      False        False  \n",
       "3            False   False     False      False        False  \n",
       "4            False   False     False      False        False  \n",
       "...            ...     ...       ...        ...          ...  \n",
       "8802         False   False     False      False        False  \n",
       "8803         False   False     False      False        False  \n",
       "8804         False   False     False      False        False  \n",
       "8805         False   False     False      False        False  \n",
       "8806         False   False     False      False        False  \n",
       "\n",
       "[8807 rows x 12 columns]"
      ]
     },
     "execution_count": 13,
     "metadata": {},
     "output_type": "execute_result"
    }
   ],
   "source": [
    "netflix.isnull()           # to shows where the null values is present"
   ]
  },
  {
   "cell_type": "code",
   "execution_count": 14,
   "id": "4a4b0854",
   "metadata": {
    "execution": {
     "iopub.execute_input": "2023-04-27T11:30:27.150910Z",
     "iopub.status.busy": "2023-04-27T11:30:27.149903Z",
     "iopub.status.idle": "2023-04-27T11:30:27.164006Z",
     "shell.execute_reply": "2023-04-27T11:30:27.162971Z"
    },
    "papermill": {
     "duration": 0.059788,
     "end_time": "2023-04-27T11:30:27.166205",
     "exception": false,
     "start_time": "2023-04-27T11:30:27.106417",
     "status": "completed"
    },
    "tags": []
   },
   "outputs": [
    {
     "data": {
      "text/plain": [
       "show_id            0\n",
       "type               0\n",
       "title              0\n",
       "director        2634\n",
       "cast             825\n",
       "country          831\n",
       "date_added        10\n",
       "release_year       0\n",
       "rating             4\n",
       "duration           3\n",
       "listed_in          0\n",
       "description        0\n",
       "dtype: int64"
      ]
     },
     "execution_count": 14,
     "metadata": {},
     "output_type": "execute_result"
    }
   ],
   "source": [
    "miss=netflix.isnull().sum()            # to shows the count of null values\n",
    "miss "
   ]
  },
  {
   "cell_type": "code",
   "execution_count": 15,
   "id": "ecd481da",
   "metadata": {
    "execution": {
     "iopub.execute_input": "2023-04-27T11:30:27.250697Z",
     "iopub.status.busy": "2023-04-27T11:30:27.249974Z",
     "iopub.status.idle": "2023-04-27T11:30:27.264216Z",
     "shell.execute_reply": "2023-04-27T11:30:27.263199Z"
    },
    "papermill": {
     "duration": 0.059445,
     "end_time": "2023-04-27T11:30:27.266556",
     "exception": false,
     "start_time": "2023-04-27T11:30:27.207111",
     "status": "completed"
    },
    "tags": []
   },
   "outputs": [
    {
     "data": {
      "text/plain": [
       "show_id          0.000000\n",
       "type             0.000000\n",
       "title            0.000000\n",
       "director        29.908028\n",
       "cast             9.367549\n",
       "country          9.435676\n",
       "date_added       0.113546\n",
       "release_year     0.000000\n",
       "rating           0.045418\n",
       "duration         0.034064\n",
       "listed_in        0.000000\n",
       "description      0.000000\n",
       "dtype: float64"
      ]
     },
     "execution_count": 15,
     "metadata": {},
     "output_type": "execute_result"
    }
   ],
   "source": [
    "miss1 = (netflix.isnull().sum()/len(netflix))* 100\n",
    "miss1"
   ]
  },
  {
   "cell_type": "code",
   "execution_count": 16,
   "id": "b91f571a",
   "metadata": {
    "execution": {
     "iopub.execute_input": "2023-04-27T11:30:27.350820Z",
     "iopub.status.busy": "2023-04-27T11:30:27.350129Z",
     "iopub.status.idle": "2023-04-27T11:30:27.360881Z",
     "shell.execute_reply": "2023-04-27T11:30:27.360080Z"
    },
    "papermill": {
     "duration": 0.055548,
     "end_time": "2023-04-27T11:30:27.363051",
     "exception": false,
     "start_time": "2023-04-27T11:30:27.307503",
     "status": "completed"
    },
    "tags": []
   },
   "outputs": [
    {
     "data": {
      "text/html": [
       "<div>\n",
       "<style scoped>\n",
       "    .dataframe tbody tr th:only-of-type {\n",
       "        vertical-align: middle;\n",
       "    }\n",
       "\n",
       "    .dataframe tbody tr th {\n",
       "        vertical-align: top;\n",
       "    }\n",
       "\n",
       "    .dataframe thead th {\n",
       "        text-align: right;\n",
       "    }\n",
       "</style>\n",
       "<table border=\"1\" class=\"dataframe\">\n",
       "  <thead>\n",
       "    <tr style=\"text-align: right;\">\n",
       "      <th></th>\n",
       "      <th>Total</th>\n",
       "      <th>Missing%</th>\n",
       "    </tr>\n",
       "  </thead>\n",
       "  <tbody>\n",
       "    <tr>\n",
       "      <th>show_id</th>\n",
       "      <td>0</td>\n",
       "      <td>0.000000</td>\n",
       "    </tr>\n",
       "    <tr>\n",
       "      <th>type</th>\n",
       "      <td>0</td>\n",
       "      <td>0.000000</td>\n",
       "    </tr>\n",
       "    <tr>\n",
       "      <th>title</th>\n",
       "      <td>0</td>\n",
       "      <td>0.000000</td>\n",
       "    </tr>\n",
       "    <tr>\n",
       "      <th>director</th>\n",
       "      <td>2634</td>\n",
       "      <td>29.908028</td>\n",
       "    </tr>\n",
       "    <tr>\n",
       "      <th>cast</th>\n",
       "      <td>825</td>\n",
       "      <td>9.367549</td>\n",
       "    </tr>\n",
       "    <tr>\n",
       "      <th>country</th>\n",
       "      <td>831</td>\n",
       "      <td>9.435676</td>\n",
       "    </tr>\n",
       "    <tr>\n",
       "      <th>date_added</th>\n",
       "      <td>10</td>\n",
       "      <td>0.113546</td>\n",
       "    </tr>\n",
       "    <tr>\n",
       "      <th>release_year</th>\n",
       "      <td>0</td>\n",
       "      <td>0.000000</td>\n",
       "    </tr>\n",
       "    <tr>\n",
       "      <th>rating</th>\n",
       "      <td>4</td>\n",
       "      <td>0.045418</td>\n",
       "    </tr>\n",
       "    <tr>\n",
       "      <th>duration</th>\n",
       "      <td>3</td>\n",
       "      <td>0.034064</td>\n",
       "    </tr>\n",
       "    <tr>\n",
       "      <th>listed_in</th>\n",
       "      <td>0</td>\n",
       "      <td>0.000000</td>\n",
       "    </tr>\n",
       "    <tr>\n",
       "      <th>description</th>\n",
       "      <td>0</td>\n",
       "      <td>0.000000</td>\n",
       "    </tr>\n",
       "  </tbody>\n",
       "</table>\n",
       "</div>"
      ],
      "text/plain": [
       "              Total   Missing%\n",
       "show_id           0   0.000000\n",
       "type              0   0.000000\n",
       "title             0   0.000000\n",
       "director       2634  29.908028\n",
       "cast            825   9.367549\n",
       "country         831   9.435676\n",
       "date_added       10   0.113546\n",
       "release_year      0   0.000000\n",
       "rating            4   0.045418\n",
       "duration          3   0.034064\n",
       "listed_in         0   0.000000\n",
       "description       0   0.000000"
      ]
     },
     "execution_count": 16,
     "metadata": {},
     "output_type": "execute_result"
    }
   ],
   "source": [
    "#missing values with %\n",
    "m = pd.concat([miss,miss1],axis=1,keys=['Total','Missing%'])\n",
    "m"
   ]
  },
  {
   "cell_type": "code",
   "execution_count": 17,
   "id": "296b7d7d",
   "metadata": {
    "execution": {
     "iopub.execute_input": "2023-04-27T11:30:27.449527Z",
     "iopub.status.busy": "2023-04-27T11:30:27.448819Z",
     "iopub.status.idle": "2023-04-27T11:30:28.115153Z",
     "shell.execute_reply": "2023-04-27T11:30:28.113913Z"
    },
    "papermill": {
     "duration": 0.713799,
     "end_time": "2023-04-27T11:30:28.118087",
     "exception": false,
     "start_time": "2023-04-27T11:30:27.404288",
     "status": "completed"
    },
    "tags": []
   },
   "outputs": [
    {
     "data": {
      "text/plain": [
       "<AxesSubplot:>"
      ]
     },
     "execution_count": 17,
     "metadata": {},
     "output_type": "execute_result"
    },
    {
     "data": {
      "image/png": "[encoded data removed]",
      "text/plain": [
       "<Figure size 640x480 with 2 Axes>"
      ]
     },
     "metadata": {},
     "output_type": "display_data"
    }
   ],
   "source": [
    "sns.heatmap(netflix.isnull())         # using heatmap to shows the null value count"
   ]
  },
  {
   "cell_type": "markdown",
   "id": "a6822a47",
   "metadata": {
    "papermill": {
     "duration": 0.042783,
     "end_time": "2023-04-27T11:30:28.203034",
     "exception": false,
     "start_time": "2023-04-27T11:30:28.160251",
     "status": "completed"
    },
    "tags": []
   },
   "source": [
    "- From the above output we can see that __director__ , __cast__ ,**country** columns contains __maximum null values__. We will see how to deal with them.\n",
    "\n",
    "- So, We Delete director and cast columns because they are not going to use those features right now."
   ]
  },
  {
   "cell_type": "code",
   "execution_count": 18,
   "id": "f3e4a1bd",
   "metadata": {
    "execution": {
     "iopub.execute_input": "2023-04-27T11:30:28.291784Z",
     "iopub.status.busy": "2023-04-27T11:30:28.290585Z",
     "iopub.status.idle": "2023-04-27T11:30:28.308565Z",
     "shell.execute_reply": "2023-04-27T11:30:28.307533Z"
    },
    "papermill": {
     "duration": 0.065326,
     "end_time": "2023-04-27T11:30:28.310958",
     "exception": false,
     "start_time": "2023-04-27T11:30:28.245632",
     "status": "completed"
    },
    "tags": []
   },
   "outputs": [
    {
     "data": {
      "text/html": [
       "<div>\n",
       "<style scoped>\n",
       "    .dataframe tbody tr th:only-of-type {\n",
       "        vertical-align: middle;\n",
       "    }\n",
       "\n",
       "    .dataframe tbody tr th {\n",
       "        vertical-align: top;\n",
       "    }\n",
       "\n",
       "    .dataframe thead th {\n",
       "        text-align: right;\n",
       "    }\n",
       "</style>\n",
       "<table border=\"1\" class=\"dataframe\">\n",
       "  <thead>\n",
       "    <tr style=\"text-align: right;\">\n",
       "      <th></th>\n",
       "      <th>show_id</th>\n",
       "      <th>type</th>\n",
       "      <th>title</th>\n",
       "      <th>director</th>\n",
       "      <th>cast</th>\n",
       "      <th>country</th>\n",
       "      <th>date_added</th>\n",
       "      <th>release_year</th>\n",
       "      <th>rating</th>\n",
       "      <th>duration</th>\n",
       "      <th>listed_in</th>\n",
       "      <th>description</th>\n",
       "    </tr>\n",
       "  </thead>\n",
       "  <tbody>\n",
       "    <tr>\n",
       "      <th>0</th>\n",
       "      <td>s1</td>\n",
       "      <td>Movie</td>\n",
       "      <td>Dick Johnson Is Dead</td>\n",
       "      <td>Kirsten Johnson</td>\n",
       "      <td>NaN</td>\n",
       "      <td>United States</td>\n",
       "      <td>September 25, 2021</td>\n",
       "      <td>2020</td>\n",
       "      <td>PG-13</td>\n",
       "      <td>90 min</td>\n",
       "      <td>Documentaries</td>\n",
       "      <td>As her father nears the end of his life, filmm...</td>\n",
       "    </tr>\n",
       "    <tr>\n",
       "      <th>1</th>\n",
       "      <td>s2</td>\n",
       "      <td>TV Show</td>\n",
       "      <td>Blood &amp; Water</td>\n",
       "      <td>NaN</td>\n",
       "      <td>Ama Qamata, Khosi Ngema, Gail Mabalane, Thaban...</td>\n",
       "      <td>South Africa</td>\n",
       "      <td>September 24, 2021</td>\n",
       "      <td>2021</td>\n",
       "      <td>TV-MA</td>\n",
       "      <td>2 Seasons</td>\n",
       "      <td>International TV Shows, TV Dramas, TV Mysteries</td>\n",
       "      <td>After crossing paths at a party, a Cape Town t...</td>\n",
       "    </tr>\n",
       "    <tr>\n",
       "      <th>2</th>\n",
       "      <td>s3</td>\n",
       "      <td>TV Show</td>\n",
       "      <td>Ganglands</td>\n",
       "      <td>Julien Leclercq</td>\n",
       "      <td>Sami Bouajila, Tracy Gotoas, Samuel Jouy, Nabi...</td>\n",
       "      <td>NaN</td>\n",
       "      <td>September 24, 2021</td>\n",
       "      <td>2021</td>\n",
       "      <td>TV-MA</td>\n",
       "      <td>1 Season</td>\n",
       "      <td>Crime TV Shows, International TV Shows, TV Act...</td>\n",
       "      <td>To protect his family from a powerful drug lor...</td>\n",
       "    </tr>\n",
       "    <tr>\n",
       "      <th>3</th>\n",
       "      <td>s4</td>\n",
       "      <td>TV Show</td>\n",
       "      <td>Jailbirds New Orleans</td>\n",
       "      <td>NaN</td>\n",
       "      <td>NaN</td>\n",
       "      <td>NaN</td>\n",
       "      <td>September 24, 2021</td>\n",
       "      <td>2021</td>\n",
       "      <td>TV-MA</td>\n",
       "      <td>1 Season</td>\n",
       "      <td>Docuseries, Reality TV</td>\n",
       "      <td>Feuds, flirtations and toilet talk go down amo...</td>\n",
       "    </tr>\n",
       "    <tr>\n",
       "      <th>4</th>\n",
       "      <td>s5</td>\n",
       "      <td>TV Show</td>\n",
       "      <td>Kota Factory</td>\n",
       "      <td>NaN</td>\n",
       "      <td>Mayur More, Jitendra Kumar, Ranjan Raj, Alam K...</td>\n",
       "      <td>India</td>\n",
       "      <td>September 24, 2021</td>\n",
       "      <td>2021</td>\n",
       "      <td>TV-MA</td>\n",
       "      <td>2 Seasons</td>\n",
       "      <td>International TV Shows, Romantic TV Shows, TV ...</td>\n",
       "      <td>In a city of coaching centers known to train I...</td>\n",
       "    </tr>\n",
       "  </tbody>\n",
       "</table>\n",
       "</div>"
      ],
      "text/plain": [
       "  show_id     type                  title         director  \\\n",
       "0      s1    Movie   Dick Johnson Is Dead  Kirsten Johnson   \n",
       "1      s2  TV Show          Blood & Water              NaN   \n",
       "2      s3  TV Show              Ganglands  Julien Leclercq   \n",
       "3      s4  TV Show  Jailbirds New Orleans              NaN   \n",
       "4      s5  TV Show           Kota Factory              NaN   \n",
       "\n",
       "                                                cast        country  \\\n",
       "0                                                NaN  United States   \n",
       "1  Ama Qamata, Khosi Ngema, Gail Mabalane, Thaban...   South Africa   \n",
       "2  Sami Bouajila, Tracy Gotoas, Samuel Jouy, Nabi...            NaN   \n",
       "3                                                NaN            NaN   \n",
       "4  Mayur More, Jitendra Kumar, Ranjan Raj, Alam K...          India   \n",
       "\n",
       "           date_added  release_year rating   duration  \\\n",
       "0  September 25, 2021          2020  PG-13     90 min   \n",
       "1  September 24, 2021          2021  TV-MA  2 Seasons   \n",
       "2  September 24, 2021          2021  TV-MA   1 Season   \n",
       "3  September 24, 2021          2021  TV-MA   1 Season   \n",
       "4  September 24, 2021          2021  TV-MA  2 Seasons   \n",
       "\n",
       "                                           listed_in  \\\n",
       "0                                      Documentaries   \n",
       "1    International TV Shows, TV Dramas, TV Mysteries   \n",
       "2  Crime TV Shows, International TV Shows, TV Act...   \n",
       "3                             Docuseries, Reality TV   \n",
       "4  International TV Shows, Romantic TV Shows, TV ...   \n",
       "\n",
       "                                         description  \n",
       "0  As her father nears the end of his life, filmm...  \n",
       "1  After crossing paths at a party, a Cape Town t...  \n",
       "2  To protect his family from a powerful drug lor...  \n",
       "3  Feuds, flirtations and toilet talk go down amo...  \n",
       "4  In a city of coaching centers known to train I...  "
      ]
     },
     "execution_count": 18,
     "metadata": {},
     "output_type": "execute_result"
    }
   ],
   "source": [
    "# making copy of dataset for changes\n",
    "netflix_copy = netflix.copy()\n",
    "netflix_copy.head()"
   ]
  },
  {
   "cell_type": "code",
   "execution_count": 19,
   "id": "a23fe5c4",
   "metadata": {
    "execution": {
     "iopub.execute_input": "2023-04-27T11:30:28.399032Z",
     "iopub.status.busy": "2023-04-27T11:30:28.398480Z",
     "iopub.status.idle": "2023-04-27T11:30:28.420774Z",
     "shell.execute_reply": "2023-04-27T11:30:28.419545Z"
    },
    "papermill": {
     "duration": 0.069537,
     "end_time": "2023-04-27T11:30:28.423202",
     "exception": false,
     "start_time": "2023-04-27T11:30:28.353665",
     "status": "completed"
    },
    "tags": []
   },
   "outputs": [
    {
     "data": {
      "text/html": [
       "<div>\n",
       "<style scoped>\n",
       "    .dataframe tbody tr th:only-of-type {\n",
       "        vertical-align: middle;\n",
       "    }\n",
       "\n",
       "    .dataframe tbody tr th {\n",
       "        vertical-align: top;\n",
       "    }\n",
       "\n",
       "    .dataframe thead th {\n",
       "        text-align: right;\n",
       "    }\n",
       "</style>\n",
       "<table border=\"1\" class=\"dataframe\">\n",
       "  <thead>\n",
       "    <tr style=\"text-align: right;\">\n",
       "      <th></th>\n",
       "      <th>show_id</th>\n",
       "      <th>type</th>\n",
       "      <th>title</th>\n",
       "      <th>director</th>\n",
       "      <th>cast</th>\n",
       "      <th>country</th>\n",
       "      <th>date_added</th>\n",
       "      <th>release_year</th>\n",
       "      <th>rating</th>\n",
       "      <th>duration</th>\n",
       "      <th>listed_in</th>\n",
       "      <th>description</th>\n",
       "    </tr>\n",
       "  </thead>\n",
       "  <tbody>\n",
       "    <tr>\n",
       "      <th>2</th>\n",
       "      <td>s3</td>\n",
       "      <td>TV Show</td>\n",
       "      <td>Ganglands</td>\n",
       "      <td>Julien Leclercq</td>\n",
       "      <td>Sami Bouajila, Tracy Gotoas, Samuel Jouy, Nabi...</td>\n",
       "      <td>NaN</td>\n",
       "      <td>September 24, 2021</td>\n",
       "      <td>2021</td>\n",
       "      <td>TV-MA</td>\n",
       "      <td>1 Season</td>\n",
       "      <td>Crime TV Shows, International TV Shows, TV Act...</td>\n",
       "      <td>To protect his family from a powerful drug lor...</td>\n",
       "    </tr>\n",
       "    <tr>\n",
       "      <th>5</th>\n",
       "      <td>s6</td>\n",
       "      <td>TV Show</td>\n",
       "      <td>Midnight Mass</td>\n",
       "      <td>Mike Flanagan</td>\n",
       "      <td>Kate Siegel, Zach Gilford, Hamish Linklater, H...</td>\n",
       "      <td>NaN</td>\n",
       "      <td>September 24, 2021</td>\n",
       "      <td>2021</td>\n",
       "      <td>TV-MA</td>\n",
       "      <td>1 Season</td>\n",
       "      <td>TV Dramas, TV Horror, TV Mysteries</td>\n",
       "      <td>The arrival of a charismatic young priest brin...</td>\n",
       "    </tr>\n",
       "  </tbody>\n",
       "</table>\n",
       "</div>"
      ],
      "text/plain": [
       "  show_id     type          title         director  \\\n",
       "2      s3  TV Show      Ganglands  Julien Leclercq   \n",
       "5      s6  TV Show  Midnight Mass    Mike Flanagan   \n",
       "\n",
       "                                                cast country  \\\n",
       "2  Sami Bouajila, Tracy Gotoas, Samuel Jouy, Nabi...     NaN   \n",
       "5  Kate Siegel, Zach Gilford, Hamish Linklater, H...     NaN   \n",
       "\n",
       "           date_added  release_year rating  duration  \\\n",
       "2  September 24, 2021          2021  TV-MA  1 Season   \n",
       "5  September 24, 2021          2021  TV-MA  1 Season   \n",
       "\n",
       "                                           listed_in  \\\n",
       "2  Crime TV Shows, International TV Shows, TV Act...   \n",
       "5                 TV Dramas, TV Horror, TV Mysteries   \n",
       "\n",
       "                                         description  \n",
       "2  To protect his family from a powerful drug lor...  \n",
       "5  The arrival of a charismatic young priest brin...  "
      ]
     },
     "execution_count": 19,
     "metadata": {},
     "output_type": "execute_result"
    }
   ],
   "source": [
    "netflix_copy =netflix_copy.dropna(how='any',subset=['director','cast'])\n",
    "netflix_copy.head(2)"
   ]
  },
  {
   "cell_type": "code",
   "execution_count": 20,
   "id": "d750378d",
   "metadata": {
    "execution": {
     "iopub.execute_input": "2023-04-27T11:30:28.513090Z",
     "iopub.status.busy": "2023-04-27T11:30:28.511951Z",
     "iopub.status.idle": "2023-04-27T11:30:28.519561Z",
     "shell.execute_reply": "2023-04-27T11:30:28.518692Z"
    },
    "papermill": {
     "duration": 0.055287,
     "end_time": "2023-04-27T11:30:28.522101",
     "exception": false,
     "start_time": "2023-04-27T11:30:28.466814",
     "status": "completed"
    },
    "tags": []
   },
   "outputs": [],
   "source": [
    "netflix_copy.fillna({'country':'missing','rating':'missing','duration':'missing'},inplace=True) "
   ]
  },
  {
   "cell_type": "code",
   "execution_count": 21,
   "id": "a2b3fcbf",
   "metadata": {
    "execution": {
     "iopub.execute_input": "2023-04-27T11:30:28.610487Z",
     "iopub.status.busy": "2023-04-27T11:30:28.609400Z",
     "iopub.status.idle": "2023-04-27T11:30:28.622164Z",
     "shell.execute_reply": "2023-04-27T11:30:28.621072Z"
    },
    "papermill": {
     "duration": 0.059079,
     "end_time": "2023-04-27T11:30:28.624404",
     "exception": false,
     "start_time": "2023-04-27T11:30:28.565325",
     "status": "completed"
    },
    "tags": []
   },
   "outputs": [
    {
     "data": {
      "text/plain": [
       "show_id         0\n",
       "type            0\n",
       "title           0\n",
       "director        0\n",
       "cast            0\n",
       "country         0\n",
       "date_added      0\n",
       "release_year    0\n",
       "rating          0\n",
       "duration        0\n",
       "listed_in       0\n",
       "description     0\n",
       "dtype: int64"
      ]
     },
     "execution_count": 21,
     "metadata": {},
     "output_type": "execute_result"
    }
   ],
   "source": [
    "netflix_copy.isnull().sum()"
   ]
  },
  {
   "cell_type": "markdown",
   "id": "1f2bc172",
   "metadata": {
    "papermill": {
     "duration": 0.069258,
     "end_time": "2023-04-27T11:30:56.702161",
     "exception": false,
     "start_time": "2023-04-27T11:30:56.632903",
     "status": "completed"
    },
    "tags": []
   },
   "source": [
    "### 3.3 Preprocessing\n",
    "\n",
    "- Dealing with duplicate rows<br/>\n",
    "    - Find number of duplicate rows in the dataset.\n",
    "    - Print the duplicate entries and analyze.\n",
    "    - Drop the duplicate entries from the dataset.\n",
    "<a id=section303></a>"
   ]
  },
  {
   "cell_type": "code",
   "execution_count": 26,
   "id": "f407fef4",
   "metadata": {
    "execution": {
     "iopub.execute_input": "2023-04-27T11:30:56.846128Z",
     "iopub.status.busy": "2023-04-27T11:30:56.845706Z",
     "iopub.status.idle": "2023-04-27T11:30:56.875835Z",
     "shell.execute_reply": "2023-04-27T11:30:56.874511Z"
    },
    "papermill": {
     "duration": 0.106526,
     "end_time": "2023-04-27T11:30:56.878255",
     "exception": false,
     "start_time": "2023-04-27T11:30:56.771729",
     "status": "completed"
    },
    "tags": []
   },
   "outputs": [
    {
     "data": {
      "text/html": [
       "<div>\n",
       "<style scoped>\n",
       "    .dataframe tbody tr th:only-of-type {\n",
       "        vertical-align: middle;\n",
       "    }\n",
       "\n",
       "    .dataframe tbody tr th {\n",
       "        vertical-align: top;\n",
       "    }\n",
       "\n",
       "    .dataframe thead th {\n",
       "        text-align: right;\n",
       "    }\n",
       "</style>\n",
       "<table border=\"1\" class=\"dataframe\">\n",
       "  <thead>\n",
       "    <tr style=\"text-align: right;\">\n",
       "      <th></th>\n",
       "      <th>show_id</th>\n",
       "      <th>type</th>\n",
       "      <th>title</th>\n",
       "      <th>director</th>\n",
       "      <th>cast</th>\n",
       "      <th>country</th>\n",
       "      <th>date_added</th>\n",
       "      <th>release_year</th>\n",
       "      <th>rating</th>\n",
       "      <th>duration</th>\n",
       "      <th>listed_in</th>\n",
       "      <th>description</th>\n",
       "    </tr>\n",
       "  </thead>\n",
       "  <tbody>\n",
       "  </tbody>\n",
       "</table>\n",
       "</div>"
      ],
      "text/plain": [
       "Empty DataFrame\n",
       "Columns: [show_id, type, title, director, cast, country, date_added, release_year, rating, duration, listed_in, description]\n",
       "Index: []"
      ]
     },
     "execution_count": 26,
     "metadata": {},
     "output_type": "execute_result"
    }
   ],
   "source": [
    "netflix[netflix.duplicated()]   # to shows the dupbicate rows"
   ]
  },
  {
   "cell_type": "code",
   "execution_count": 27,
   "id": "721c5983",
   "metadata": {
    "execution": {
     "iopub.execute_input": "2023-04-27T11:30:57.034659Z",
     "iopub.status.busy": "2023-04-27T11:30:57.034283Z",
     "iopub.status.idle": "2023-04-27T11:30:57.058353Z",
     "shell.execute_reply": "2023-04-27T11:30:57.057499Z"
    },
    "papermill": {
     "duration": 0.100043,
     "end_time": "2023-04-27T11:30:57.060723",
     "exception": false,
     "start_time": "2023-04-27T11:30:56.960680",
     "status": "completed"
    },
    "tags": []
   },
   "outputs": [
    {
     "data": {
      "text/plain": [
       "0"
      ]
     },
     "execution_count": 27,
     "metadata": {},
     "output_type": "execute_result"
    }
   ],
   "source": [
    "netflix.duplicated().sum()       # to shows the count of dupbicate rows"
   ]
  },
  {
   "cell_type": "markdown",
   "id": "fd5ba498",
   "metadata": {
    "papermill": {
     "duration": 0.07023,
     "end_time": "2023-04-27T11:30:57.201167",
     "exception": false,
     "start_time": "2023-04-27T11:30:57.130937",
     "status": "completed"
    },
    "tags": []
   },
   "source": [
    "* No duplicate rows are present in this dataset."
   ]
  },
  {
   "cell_type": "code",
   "execution_count": 28,
   "id": "458c3b3a",
   "metadata": {
    "execution": {
     "iopub.execute_input": "2023-04-27T11:30:57.346916Z",
     "iopub.status.busy": "2023-04-27T11:30:57.346505Z",
     "iopub.status.idle": "2023-04-27T11:30:57.352936Z",
     "shell.execute_reply": "2023-04-27T11:30:57.351804Z"
    },
    "papermill": {
     "duration": 0.081879,
     "end_time": "2023-04-27T11:30:57.355327",
     "exception": false,
     "start_time": "2023-04-27T11:30:57.273448",
     "status": "completed"
    },
    "tags": []
   },
   "outputs": [
    {
     "data": {
      "text/plain": [
       "(5700, 12)"
      ]
     },
     "execution_count": 28,
     "metadata": {},
     "output_type": "execute_result"
    }
   ],
   "source": [
    "#check size after cleaning\n",
    "netflix_copy.shape"
   ]
  },
  {
   "cell_type": "code",
   "execution_count": 29,
   "id": "7000a154",
   "metadata": {
    "execution": {
     "iopub.execute_input": "2023-04-27T11:30:57.499806Z",
     "iopub.status.busy": "2023-04-27T11:30:57.499395Z",
     "iopub.status.idle": "2023-04-27T11:30:57.571918Z",
     "shell.execute_reply": "2023-04-27T11:30:57.570714Z"
    },
    "papermill": {
     "duration": 0.150222,
     "end_time": "2023-04-27T11:30:57.575421",
     "exception": false,
     "start_time": "2023-04-27T11:30:57.425199",
     "status": "completed"
    },
    "tags": []
   },
   "outputs": [],
   "source": [
    "# save netflix_copy into csv\n",
    "netflix_copy.to_csv('netflix_clean.csv')"
   ]
  },
  {
   "cell_type": "markdown",
   "id": "5fa21de4",
   "metadata": {
    "papermill": {
     "duration": 0.069504,
     "end_time": "2023-04-27T11:30:57.715713",
     "exception": false,
     "start_time": "2023-04-27T11:30:57.646209",
     "status": "completed"
    },
    "tags": []
   },
   "source": [
    "## 4.EDA Questions\n",
    "<a id=section4></a>\n",
    "\n",
    "### 4.1. What different types of show or movie are uploaded on Netflix?  or\n",
    "###  How many TV shows & Movies are in the dataset? Show with Bar Gragh?\n",
    "\n",
    "<a id=section401></a>"
   ]
  },
  {
   "cell_type": "code",
   "execution_count": 30,
   "id": "6c80556c",
   "metadata": {
    "execution": {
     "iopub.execute_input": "2023-04-27T11:30:57.862638Z",
     "iopub.status.busy": "2023-04-27T11:30:57.862236Z",
     "iopub.status.idle": "2023-04-27T11:30:57.882622Z",
     "shell.execute_reply": "2023-04-27T11:30:57.880527Z"
    },
    "papermill": {
     "duration": 0.10036,
     "end_time": "2023-04-27T11:30:57.885596",
     "exception": false,
     "start_time": "2023-04-27T11:30:57.785236",
     "status": "completed"
    },
    "tags": []
   },
   "outputs": [
    {
     "data": {
      "text/html": [
       "<div>\n",
       "<style scoped>\n",
       "    .dataframe tbody tr th:only-of-type {\n",
       "        vertical-align: middle;\n",
       "    }\n",
       "\n",
       "    .dataframe tbody tr th {\n",
       "        vertical-align: top;\n",
       "    }\n",
       "\n",
       "    .dataframe thead th {\n",
       "        text-align: right;\n",
       "    }\n",
       "</style>\n",
       "<table border=\"1\" class=\"dataframe\">\n",
       "  <thead>\n",
       "    <tr style=\"text-align: right;\">\n",
       "      <th></th>\n",
       "      <th>show_id</th>\n",
       "      <th>type</th>\n",
       "      <th>title</th>\n",
       "      <th>director</th>\n",
       "      <th>cast</th>\n",
       "      <th>country</th>\n",
       "      <th>date_added</th>\n",
       "      <th>release_year</th>\n",
       "      <th>rating</th>\n",
       "      <th>duration</th>\n",
       "      <th>listed_in</th>\n",
       "      <th>description</th>\n",
       "    </tr>\n",
       "  </thead>\n",
       "  <tbody>\n",
       "    <tr>\n",
       "      <th>2</th>\n",
       "      <td>s3</td>\n",
       "      <td>TV Show</td>\n",
       "      <td>Ganglands</td>\n",
       "      <td>Julien Leclercq</td>\n",
       "      <td>Sami Bouajila, Tracy Gotoas, Samuel Jouy, Nabi...</td>\n",
       "      <td>missing</td>\n",
       "      <td>September 24, 2021</td>\n",
       "      <td>2021</td>\n",
       "      <td>TV-MA</td>\n",
       "      <td>1 Season</td>\n",
       "      <td>Crime TV Shows, International TV Shows, TV Act...</td>\n",
       "      <td>To protect his family from a powerful drug lor...</td>\n",
       "    </tr>\n",
       "    <tr>\n",
       "      <th>5</th>\n",
       "      <td>s6</td>\n",
       "      <td>TV Show</td>\n",
       "      <td>Midnight Mass</td>\n",
       "      <td>Mike Flanagan</td>\n",
       "      <td>Kate Siegel, Zach Gilford, Hamish Linklater, H...</td>\n",
       "      <td>missing</td>\n",
       "      <td>September 24, 2021</td>\n",
       "      <td>2021</td>\n",
       "      <td>TV-MA</td>\n",
       "      <td>1 Season</td>\n",
       "      <td>TV Dramas, TV Horror, TV Mysteries</td>\n",
       "      <td>The arrival of a charismatic young priest brin...</td>\n",
       "    </tr>\n",
       "  </tbody>\n",
       "</table>\n",
       "</div>"
      ],
      "text/plain": [
       "  show_id     type          title         director  \\\n",
       "2      s3  TV Show      Ganglands  Julien Leclercq   \n",
       "5      s6  TV Show  Midnight Mass    Mike Flanagan   \n",
       "\n",
       "                                                cast  country  \\\n",
       "2  Sami Bouajila, Tracy Gotoas, Samuel Jouy, Nabi...  missing   \n",
       "5  Kate Siegel, Zach Gilford, Hamish Linklater, H...  missing   \n",
       "\n",
       "           date_added  release_year rating  duration  \\\n",
       "2  September 24, 2021          2021  TV-MA  1 Season   \n",
       "5  September 24, 2021          2021  TV-MA  1 Season   \n",
       "\n",
       "                                           listed_in  \\\n",
       "2  Crime TV Shows, International TV Shows, TV Act...   \n",
       "5                 TV Dramas, TV Horror, TV Mysteries   \n",
       "\n",
       "                                         description  \n",
       "2  To protect his family from a powerful drug lor...  \n",
       "5  The arrival of a charismatic young priest brin...  "
      ]
     },
     "execution_count": 30,
     "metadata": {},
     "output_type": "execute_result"
    }
   ],
   "source": [
    "netflix_copy.head(2)"
   ]
  },
  {
   "cell_type": "code",
   "execution_count": 31,
   "id": "828ee3c9",
   "metadata": {
    "execution": {
     "iopub.execute_input": "2023-04-27T11:30:58.037648Z",
     "iopub.status.busy": "2023-04-27T11:30:58.036913Z",
     "iopub.status.idle": "2023-04-27T11:30:58.047876Z",
     "shell.execute_reply": "2023-04-27T11:30:58.046822Z"
    },
    "papermill": {
     "duration": 0.084852,
     "end_time": "2023-04-27T11:30:58.050092",
     "exception": false,
     "start_time": "2023-04-27T11:30:57.965240",
     "status": "completed"
    },
    "tags": []
   },
   "outputs": [
    {
     "data": {
      "text/plain": [
       "type\n",
       "Movie      5522\n",
       "TV Show     178\n",
       "Name: title, dtype: int64"
      ]
     },
     "execution_count": 31,
     "metadata": {},
     "output_type": "execute_result"
    }
   ],
   "source": [
    "# method-1:\n",
    "netflix_copy.groupby('type')['title'].count().sort_values(ascending = False)"
   ]
  },
  {
   "cell_type": "code",
   "execution_count": 32,
   "id": "2702add9",
   "metadata": {
    "execution": {
     "iopub.execute_input": "2023-04-27T11:30:58.191667Z",
     "iopub.status.busy": "2023-04-27T11:30:58.191297Z",
     "iopub.status.idle": "2023-04-27T11:30:58.201236Z",
     "shell.execute_reply": "2023-04-27T11:30:58.199910Z"
    },
    "papermill": {
     "duration": 0.08386,
     "end_time": "2023-04-27T11:30:58.203726",
     "exception": false,
     "start_time": "2023-04-27T11:30:58.119866",
     "status": "completed"
    },
    "tags": []
   },
   "outputs": [
    {
     "data": {
      "text/html": [
       "<div>\n",
       "<style scoped>\n",
       "    .dataframe tbody tr th:only-of-type {\n",
       "        vertical-align: middle;\n",
       "    }\n",
       "\n",
       "    .dataframe tbody tr th {\n",
       "        vertical-align: top;\n",
       "    }\n",
       "\n",
       "    .dataframe thead th {\n",
       "        text-align: right;\n",
       "    }\n",
       "</style>\n",
       "<table border=\"1\" class=\"dataframe\">\n",
       "  <thead>\n",
       "    <tr style=\"text-align: right;\">\n",
       "      <th></th>\n",
       "      <th>Value_count</th>\n",
       "    </tr>\n",
       "  </thead>\n",
       "  <tbody>\n",
       "    <tr>\n",
       "      <th>Movie</th>\n",
       "      <td>5522</td>\n",
       "    </tr>\n",
       "    <tr>\n",
       "      <th>TV Show</th>\n",
       "      <td>178</td>\n",
       "    </tr>\n",
       "  </tbody>\n",
       "</table>\n",
       "</div>"
      ],
      "text/plain": [
       "         Value_count\n",
       "Movie           5522\n",
       "TV Show          178"
      ]
     },
     "execution_count": 32,
     "metadata": {},
     "output_type": "execute_result"
    }
   ],
   "source": [
    "# method-2:\n",
    "netflix_copy.type.value_counts().to_frame('Value_count')"
   ]
  },
  {
   "cell_type": "code",
   "execution_count": 33,
   "id": "2b4a2911",
   "metadata": {
    "execution": {
     "iopub.execute_input": "2023-04-27T11:30:58.345566Z",
     "iopub.status.busy": "2023-04-27T11:30:58.345180Z",
     "iopub.status.idle": "2023-04-27T11:30:58.349898Z",
     "shell.execute_reply": "2023-04-27T11:30:58.348749Z"
    },
    "papermill": {
     "duration": 0.078396,
     "end_time": "2023-04-27T11:30:58.352027",
     "exception": false,
     "start_time": "2023-04-27T11:30:58.273631",
     "status": "completed"
    },
    "tags": []
   },
   "outputs": [],
   "source": [
    "#sns.countplot(netflix_copy['type'])# to show the count of all uniqu item of a any column in the form of bargragp"
   ]
  },
  {
   "cell_type": "markdown",
   "id": "d7abb3ac",
   "metadata": {
    "papermill": {
     "duration": 0.06954,
     "end_time": "2023-04-27T11:30:58.491535",
     "exception": false,
     "start_time": "2023-04-27T11:30:58.421995",
     "status": "completed"
    },
    "tags": []
   },
   "source": [
    "**Obeservation**: There are **5522-types** of movies and  **178-types** of tv shows are uploaded on Netflix."
   ]
  },
  {
   "cell_type": "markdown",
   "id": "a19a974c",
   "metadata": {
    "papermill": {
     "duration": 0.070499,
     "end_time": "2023-04-27T11:30:58.631926",
     "exception": false,
     "start_time": "2023-04-27T11:30:58.561427",
     "status": "completed"
    },
    "tags": []
   },
   "source": [
    "### 4.2 What is the Correlation between the features?\n",
    "<a id=section402></a>"
   ]
  },
  {
   "cell_type": "code",
   "execution_count": 34,
   "id": "e083da4e",
   "metadata": {
    "execution": {
     "iopub.execute_input": "2023-04-27T11:30:58.775251Z",
     "iopub.status.busy": "2023-04-27T11:30:58.774870Z",
     "iopub.status.idle": "2023-04-27T11:30:58.782012Z",
     "shell.execute_reply": "2023-04-27T11:30:58.781150Z"
    },
    "papermill": {
     "duration": 0.081258,
     "end_time": "2023-04-27T11:30:58.784214",
     "exception": false,
     "start_time": "2023-04-27T11:30:58.702956",
     "status": "completed"
    },
    "tags": []
   },
   "outputs": [
    {
     "data": {
      "text/plain": [
       "show_id         object\n",
       "type            object\n",
       "title           object\n",
       "director        object\n",
       "cast            object\n",
       "country         object\n",
       "date_added      object\n",
       "release_year     int64\n",
       "rating          object\n",
       "duration        object\n",
       "listed_in       object\n",
       "description     object\n",
       "dtype: object"
      ]
     },
     "execution_count": 34,
     "metadata": {},
     "output_type": "execute_result"
    }
   ],
   "source": [
    "netflix_copy.dtypes"
   ]
  },
  {
   "cell_type": "markdown",
   "id": "b368197d",
   "metadata": {
    "papermill": {
     "duration": 0.070868,
     "end_time": "2023-04-27T11:30:58.925906",
     "exception": false,
     "start_time": "2023-04-27T11:30:58.855038",
     "status": "completed"
    },
    "tags": []
   },
   "source": [
    "- Converting object into datetime formate of \"date_added\"\n"
   ]
  },
  {
   "cell_type": "code",
   "execution_count": 35,
   "id": "3fd69968",
   "metadata": {
    "execution": {
     "iopub.execute_input": "2023-04-27T11:30:59.137190Z",
     "iopub.status.busy": "2023-04-27T11:30:59.136037Z",
     "iopub.status.idle": "2023-04-27T11:30:59.320260Z",
     "shell.execute_reply": "2023-04-27T11:30:59.319097Z"
    },
    "papermill": {
     "duration": 0.259197,
     "end_time": "2023-04-27T11:30:59.322870",
     "exception": false,
     "start_time": "2023-04-27T11:30:59.063673",
     "status": "completed"
    },
    "tags": []
   },
   "outputs": [
    {
     "data": {
      "text/html": [
       "<div>\n",
       "<style scoped>\n",
       "    .dataframe tbody tr th:only-of-type {\n",
       "        vertical-align: middle;\n",
       "    }\n",
       "\n",
       "    .dataframe tbody tr th {\n",
       "        vertical-align: top;\n",
       "    }\n",
       "\n",
       "    .dataframe thead th {\n",
       "        text-align: right;\n",
       "    }\n",
       "</style>\n",
       "<table border=\"1\" class=\"dataframe\">\n",
       "  <thead>\n",
       "    <tr style=\"text-align: right;\">\n",
       "      <th></th>\n",
       "      <th>show_id</th>\n",
       "      <th>type</th>\n",
       "      <th>title</th>\n",
       "      <th>director</th>\n",
       "      <th>cast</th>\n",
       "      <th>country</th>\n",
       "      <th>date_added</th>\n",
       "      <th>release_year</th>\n",
       "      <th>rating</th>\n",
       "      <th>duration</th>\n",
       "      <th>listed_in</th>\n",
       "      <th>description</th>\n",
       "    </tr>\n",
       "  </thead>\n",
       "  <tbody>\n",
       "    <tr>\n",
       "      <th>2</th>\n",
       "      <td>s3</td>\n",
       "      <td>TV Show</td>\n",
       "      <td>Ganglands</td>\n",
       "      <td>Julien Leclercq</td>\n",
       "      <td>Sami Bouajila, Tracy Gotoas, Samuel Jouy, Nabi...</td>\n",
       "      <td>missing</td>\n",
       "      <td>2021-09-24</td>\n",
       "      <td>2021</td>\n",
       "      <td>TV-MA</td>\n",
       "      <td>1 Season</td>\n",
       "      <td>Crime TV Shows, International TV Shows, TV Act...</td>\n",
       "      <td>To protect his family from a powerful drug lor...</td>\n",
       "    </tr>\n",
       "    <tr>\n",
       "      <th>5</th>\n",
       "      <td>s6</td>\n",
       "      <td>TV Show</td>\n",
       "      <td>Midnight Mass</td>\n",
       "      <td>Mike Flanagan</td>\n",
       "      <td>Kate Siegel, Zach Gilford, Hamish Linklater, H...</td>\n",
       "      <td>missing</td>\n",
       "      <td>2021-09-24</td>\n",
       "      <td>2021</td>\n",
       "      <td>TV-MA</td>\n",
       "      <td>1 Season</td>\n",
       "      <td>TV Dramas, TV Horror, TV Mysteries</td>\n",
       "      <td>The arrival of a charismatic young priest brin...</td>\n",
       "    </tr>\n",
       "  </tbody>\n",
       "</table>\n",
       "</div>"
      ],
      "text/plain": [
       "  show_id     type          title         director  \\\n",
       "2      s3  TV Show      Ganglands  Julien Leclercq   \n",
       "5      s6  TV Show  Midnight Mass    Mike Flanagan   \n",
       "\n",
       "                                                cast  country date_added  \\\n",
       "2  Sami Bouajila, Tracy Gotoas, Samuel Jouy, Nabi...  missing 2021-09-24   \n",
       "5  Kate Siegel, Zach Gilford, Hamish Linklater, H...  missing 2021-09-24   \n",
       "\n",
       "   release_year rating  duration  \\\n",
       "2          2021  TV-MA  1 Season   \n",
       "5          2021  TV-MA  1 Season   \n",
       "\n",
       "                                           listed_in  \\\n",
       "2  Crime TV Shows, International TV Shows, TV Act...   \n",
       "5                 TV Dramas, TV Horror, TV Mysteries   \n",
       "\n",
       "                                         description  \n",
       "2  To protect his family from a powerful drug lor...  \n",
       "5  The arrival of a charismatic young priest brin...  "
      ]
     },
     "execution_count": 35,
     "metadata": {},
     "output_type": "execute_result"
    }
   ],
   "source": [
    "netflix_copy[\"date_added\"]=pd.to_datetime(netflix_copy['date_added'])\n",
    "netflix_copy.head(2)"
   ]
  },
  {
   "cell_type": "markdown",
   "id": "c0d36127",
   "metadata": {
    "papermill": {
     "duration": 0.070641,
     "end_time": "2023-04-27T11:30:59.464790",
     "exception": false,
     "start_time": "2023-04-27T11:30:59.394149",
     "status": "completed"
    },
    "tags": []
   },
   "source": [
    "- Now ,we create two features year_added and month_added from date_added column."
   ]
  },
  {
   "cell_type": "code",
   "execution_count": 36,
   "id": "7eeff4f3",
   "metadata": {
    "execution": {
     "iopub.execute_input": "2023-04-27T11:30:59.608651Z",
     "iopub.status.busy": "2023-04-27T11:30:59.608265Z",
     "iopub.status.idle": "2023-04-27T11:30:59.626862Z",
     "shell.execute_reply": "2023-04-27T11:30:59.626022Z"
    },
    "papermill": {
     "duration": 0.093398,
     "end_time": "2023-04-27T11:30:59.628893",
     "exception": false,
     "start_time": "2023-04-27T11:30:59.535495",
     "status": "completed"
    },
    "tags": []
   },
   "outputs": [
    {
     "data": {
      "text/html": [
       "<div>\n",
       "<style scoped>\n",
       "    .dataframe tbody tr th:only-of-type {\n",
       "        vertical-align: middle;\n",
       "    }\n",
       "\n",
       "    .dataframe tbody tr th {\n",
       "        vertical-align: top;\n",
       "    }\n",
       "\n",
       "    .dataframe thead th {\n",
       "        text-align: right;\n",
       "    }\n",
       "</style>\n",
       "<table border=\"1\" class=\"dataframe\">\n",
       "  <thead>\n",
       "    <tr style=\"text-align: right;\">\n",
       "      <th></th>\n",
       "      <th>show_id</th>\n",
       "      <th>type</th>\n",
       "      <th>title</th>\n",
       "      <th>director</th>\n",
       "      <th>cast</th>\n",
       "      <th>country</th>\n",
       "      <th>date_added</th>\n",
       "      <th>release_year</th>\n",
       "      <th>rating</th>\n",
       "      <th>duration</th>\n",
       "      <th>listed_in</th>\n",
       "      <th>description</th>\n",
       "      <th>year_added</th>\n",
       "      <th>month_added</th>\n",
       "    </tr>\n",
       "  </thead>\n",
       "  <tbody>\n",
       "    <tr>\n",
       "      <th>2</th>\n",
       "      <td>s3</td>\n",
       "      <td>TV Show</td>\n",
       "      <td>Ganglands</td>\n",
       "      <td>Julien Leclercq</td>\n",
       "      <td>Sami Bouajila, Tracy Gotoas, Samuel Jouy, Nabi...</td>\n",
       "      <td>missing</td>\n",
       "      <td>2021-09-24</td>\n",
       "      <td>2021</td>\n",
       "      <td>TV-MA</td>\n",
       "      <td>1 Season</td>\n",
       "      <td>Crime TV Shows, International TV Shows, TV Act...</td>\n",
       "      <td>To protect his family from a powerful drug lor...</td>\n",
       "      <td>2021</td>\n",
       "      <td>9</td>\n",
       "    </tr>\n",
       "    <tr>\n",
       "      <th>5</th>\n",
       "      <td>s6</td>\n",
       "      <td>TV Show</td>\n",
       "      <td>Midnight Mass</td>\n",
       "      <td>Mike Flanagan</td>\n",
       "      <td>Kate Siegel, Zach Gilford, Hamish Linklater, H...</td>\n",
       "      <td>missing</td>\n",
       "      <td>2021-09-24</td>\n",
       "      <td>2021</td>\n",
       "      <td>TV-MA</td>\n",
       "      <td>1 Season</td>\n",
       "      <td>TV Dramas, TV Horror, TV Mysteries</td>\n",
       "      <td>The arrival of a charismatic young priest brin...</td>\n",
       "      <td>2021</td>\n",
       "      <td>9</td>\n",
       "    </tr>\n",
       "  </tbody>\n",
       "</table>\n",
       "</div>"
      ],
      "text/plain": [
       "  show_id     type          title         director  \\\n",
       "2      s3  TV Show      Ganglands  Julien Leclercq   \n",
       "5      s6  TV Show  Midnight Mass    Mike Flanagan   \n",
       "\n",
       "                                                cast  country date_added  \\\n",
       "2  Sami Bouajila, Tracy Gotoas, Samuel Jouy, Nabi...  missing 2021-09-24   \n",
       "5  Kate Siegel, Zach Gilford, Hamish Linklater, H...  missing 2021-09-24   \n",
       "\n",
       "   release_year rating  duration  \\\n",
       "2          2021  TV-MA  1 Season   \n",
       "5          2021  TV-MA  1 Season   \n",
       "\n",
       "                                           listed_in  \\\n",
       "2  Crime TV Shows, International TV Shows, TV Act...   \n",
       "5                 TV Dramas, TV Horror, TV Mysteries   \n",
       "\n",
       "                                         description  year_added  month_added  \n",
       "2  To protect his family from a powerful drug lor...        2021            9  \n",
       "5  The arrival of a charismatic young priest brin...        2021            9  "
      ]
     },
     "execution_count": 36,
     "metadata": {},
     "output_type": "execute_result"
    }
   ],
   "source": [
    "netflix_copy['year_added'] = netflix_copy[\"date_added\"].dt.year\n",
    "netflix_copy['month_added'] = netflix_copy[\"date_added\"].dt.month\n",
    "netflix_copy.head(2)"
   ]
  },
  {
   "cell_type": "code",
   "execution_count": 37,
   "id": "ed6250ce",
   "metadata": {
    "execution": {
     "iopub.execute_input": "2023-04-27T11:30:59.775092Z",
     "iopub.status.busy": "2023-04-27T11:30:59.774378Z",
     "iopub.status.idle": "2023-04-27T11:30:59.781544Z",
     "shell.execute_reply": "2023-04-27T11:30:59.780812Z"
    },
    "papermill": {
     "duration": 0.083331,
     "end_time": "2023-04-27T11:30:59.783691",
     "exception": false,
     "start_time": "2023-04-27T11:30:59.700360",
     "status": "completed"
    },
    "tags": []
   },
   "outputs": [
    {
     "data": {
      "text/plain": [
       "show_id                 object\n",
       "type                    object\n",
       "title                   object\n",
       "director                object\n",
       "cast                    object\n",
       "country                 object\n",
       "date_added      datetime64[ns]\n",
       "release_year             int64\n",
       "rating                  object\n",
       "duration                object\n",
       "listed_in               object\n",
       "description             object\n",
       "year_added               int64\n",
       "month_added              int64\n",
       "dtype: object"
      ]
     },
     "execution_count": 37,
     "metadata": {},
     "output_type": "execute_result"
    }
   ],
   "source": [
    "netflix_copy.dtypes"
   ]
  },
  {
   "cell_type": "code",
   "execution_count": 38,
   "id": "51ee543d",
   "metadata": {
    "execution": {
     "iopub.execute_input": "2023-04-27T11:30:59.929082Z",
     "iopub.status.busy": "2023-04-27T11:30:59.928301Z",
     "iopub.status.idle": "2023-04-27T11:30:59.939794Z",
     "shell.execute_reply": "2023-04-27T11:30:59.938902Z"
    },
    "papermill": {
     "duration": 0.087253,
     "end_time": "2023-04-27T11:30:59.941885",
     "exception": false,
     "start_time": "2023-04-27T11:30:59.854632",
     "status": "completed"
    },
    "tags": []
   },
   "outputs": [
    {
     "data": {
      "text/html": [
       "<div>\n",
       "<style scoped>\n",
       "    .dataframe tbody tr th:only-of-type {\n",
       "        vertical-align: middle;\n",
       "    }\n",
       "\n",
       "    .dataframe tbody tr th {\n",
       "        vertical-align: top;\n",
       "    }\n",
       "\n",
       "    .dataframe thead th {\n",
       "        text-align: right;\n",
       "    }\n",
       "</style>\n",
       "<table border=\"1\" class=\"dataframe\">\n",
       "  <thead>\n",
       "    <tr style=\"text-align: right;\">\n",
       "      <th></th>\n",
       "      <th>release_year</th>\n",
       "      <th>year_added</th>\n",
       "      <th>month_added</th>\n",
       "    </tr>\n",
       "  </thead>\n",
       "  <tbody>\n",
       "    <tr>\n",
       "      <th>release_year</th>\n",
       "      <td>1.000000</td>\n",
       "      <td>0.032265</td>\n",
       "      <td>-0.062903</td>\n",
       "    </tr>\n",
       "    <tr>\n",
       "      <th>year_added</th>\n",
       "      <td>0.032265</td>\n",
       "      <td>1.000000</td>\n",
       "      <td>-0.170078</td>\n",
       "    </tr>\n",
       "    <tr>\n",
       "      <th>month_added</th>\n",
       "      <td>-0.062903</td>\n",
       "      <td>-0.170078</td>\n",
       "      <td>1.000000</td>\n",
       "    </tr>\n",
       "  </tbody>\n",
       "</table>\n",
       "</div>"
      ],
      "text/plain": [
       "              release_year  year_added  month_added\n",
       "release_year      1.000000    0.032265    -0.062903\n",
       "year_added        0.032265    1.000000    -0.170078\n",
       "month_added      -0.062903   -0.170078     1.000000"
      ]
     },
     "execution_count": 38,
     "metadata": {},
     "output_type": "execute_result"
    }
   ],
   "source": [
    "netflix_copy.corr()"
   ]
  },
  {
   "cell_type": "code",
   "execution_count": 39,
   "id": "8f209e9d",
   "metadata": {
    "execution": {
     "iopub.execute_input": "2023-04-27T11:31:00.088606Z",
     "iopub.status.busy": "2023-04-27T11:31:00.087873Z",
     "iopub.status.idle": "2023-04-27T11:31:00.360911Z",
     "shell.execute_reply": "2023-04-27T11:31:00.359670Z"
    },
    "papermill": {
     "duration": 0.349523,
     "end_time": "2023-04-27T11:31:00.363505",
     "exception": false,
     "start_time": "2023-04-27T11:31:00.013982",
     "status": "completed"
    },
    "tags": []
   },
   "outputs": [
    {
     "data": {
      "image/png": "[encoded data removed]",
      "text/plain": [
       "<Figure size 500x500 with 2 Axes>"
      ]
     },
     "metadata": {},
     "output_type": "display_data"
    }
   ],
   "source": [
    "plt.subplots(figsize=(5,5))\n",
    "sns.heatmap(netflix_copy.corr(),annot=True)\n",
    "plt.show()"
   ]
  },
  {
   "cell_type": "markdown",
   "id": "0257f816",
   "metadata": {
    "papermill": {
     "duration": 0.074742,
     "end_time": "2023-04-27T11:31:00.509841",
     "exception": false,
     "start_time": "2023-04-27T11:31:00.435099",
     "status": "completed"
    },
    "tags": []
   },
   "source": [
    "**Obeservation** : Above Heatmap shows correlation between release_year,year_added  & month_added."
   ]
  },
  {
   "cell_type": "markdown",
   "id": "9177cdf6",
   "metadata": {
    "papermill": {
     "duration": 0.072585,
     "end_time": "2023-04-27T11:31:00.654200",
     "exception": false,
     "start_time": "2023-04-27T11:31:00.581615",
     "status": "completed"
    },
    "tags": []
   },
   "source": [
    "### 4.3 Most watched shows on the Netflix?\n",
    "<a id=section403></a>"
   ]
  },
  {
   "cell_type": "code",
   "execution_count": 40,
   "id": "bf4e3e62",
   "metadata": {
    "execution": {
     "iopub.execute_input": "2023-04-27T11:31:00.809147Z",
     "iopub.status.busy": "2023-04-27T11:31:00.808381Z",
     "iopub.status.idle": "2023-04-27T11:31:00.819022Z",
     "shell.execute_reply": "2023-04-27T11:31:00.818079Z"
    },
    "papermill": {
     "duration": 0.091349,
     "end_time": "2023-04-27T11:31:00.821230",
     "exception": false,
     "start_time": "2023-04-27T11:31:00.729881",
     "status": "completed"
    },
    "tags": []
   },
   "outputs": [
    {
     "data": {
      "text/html": [
       "<div>\n",
       "<style scoped>\n",
       "    .dataframe tbody tr th:only-of-type {\n",
       "        vertical-align: middle;\n",
       "    }\n",
       "\n",
       "    .dataframe tbody tr th {\n",
       "        vertical-align: top;\n",
       "    }\n",
       "\n",
       "    .dataframe thead th {\n",
       "        text-align: right;\n",
       "    }\n",
       "</style>\n",
       "<table border=\"1\" class=\"dataframe\">\n",
       "  <thead>\n",
       "    <tr style=\"text-align: right;\">\n",
       "      <th></th>\n",
       "      <th>Value_count</th>\n",
       "    </tr>\n",
       "  </thead>\n",
       "  <tbody>\n",
       "    <tr>\n",
       "      <th>Movie</th>\n",
       "      <td>5522</td>\n",
       "    </tr>\n",
       "    <tr>\n",
       "      <th>TV Show</th>\n",
       "      <td>178</td>\n",
       "    </tr>\n",
       "  </tbody>\n",
       "</table>\n",
       "</div>"
      ],
      "text/plain": [
       "         Value_count\n",
       "Movie           5522\n",
       "TV Show          178"
      ]
     },
     "execution_count": 40,
     "metadata": {},
     "output_type": "execute_result"
    }
   ],
   "source": [
    "netflix_copy.type.value_counts().to_frame('Value_count')"
   ]
  },
  {
   "cell_type": "code",
   "execution_count": 41,
   "id": "dcbccc88",
   "metadata": {
    "execution": {
     "iopub.execute_input": "2023-04-27T11:31:00.977841Z",
     "iopub.status.busy": "2023-04-27T11:31:00.976976Z",
     "iopub.status.idle": "2023-04-27T11:31:01.193079Z",
     "shell.execute_reply": "2023-04-27T11:31:01.191936Z"
    },
    "papermill": {
     "duration": 0.296861,
     "end_time": "2023-04-27T11:31:01.195466",
     "exception": false,
     "start_time": "2023-04-27T11:31:00.898605",
     "status": "completed"
    },
    "tags": []
   },
   "outputs": [
    {
     "data": {
      "text/plain": [
       "(array([0, 1]), [Text(0, 0, 'TV Show'), Text(1, 0, 'Movie')])"
      ]
     },
     "execution_count": 41,
     "metadata": {},
     "output_type": "execute_result"
    },
    {
     "data": {
      "image/png": "[encoded data removed]",
      "text/plain": [
       "<Figure size 640x480 with 1 Axes>"
      ]
     },
     "metadata": {},
     "output_type": "display_data"
    }
   ],
   "source": [
    "sns.countplot(x=netflix_copy['type'],orient='v')\n",
    "plt.xticks(rotation=90)"
   ]
  },
  {
   "cell_type": "code",
   "execution_count": 42,
   "id": "6046c0e6",
   "metadata": {
    "execution": {
     "iopub.execute_input": "2023-04-27T11:31:01.343258Z",
     "iopub.status.busy": "2023-04-27T11:31:01.342500Z",
     "iopub.status.idle": "2023-04-27T11:31:01.826100Z",
     "shell.execute_reply": "2023-04-27T11:31:01.824345Z"
    },
    "papermill": {
     "duration": 0.562649,
     "end_time": "2023-04-27T11:31:01.830499",
     "exception": false,
     "start_time": "2023-04-27T11:31:01.267850",
     "status": "completed"
    },
    "tags": []
   },
   "outputs": [
    {
     "data": {
      "text/plain": [
       "<matplotlib.legend.Legend at 0x79e939635690>"
      ]
     },
     "execution_count": 42,
     "metadata": {},
     "output_type": "execute_result"
    },
    {
     "data": {
      "image/png": "[encoded data removed]",
      "text/plain": [
       "<Figure size 640x480 with 1 Axes>"
      ]
     },
     "metadata": {},
     "output_type": "display_data"
    }
   ],
   "source": [
    "# by using Pie chart\n",
    "type_show = ['Movie','TV Show']\n",
    "Value_count = [5522,178]\n",
    "plt.pie(Value_count,labels=type_show,autopct=\"%2.2f%%\")\n",
    "plt.legend(title='Most watched shows on the Netflix')"
   ]
  },
  {
   "cell_type": "markdown",
   "id": "6cea057b",
   "metadata": {
    "papermill": {
     "duration": 0.077754,
     "end_time": "2023-04-27T11:31:01.990643",
     "exception": false,
     "start_time": "2023-04-27T11:31:01.912889",
     "status": "completed"
    },
    "tags": []
   },
   "source": [
    "**Obeservation**: Audience likes to watched mostly **movies(96.88% )** over **TV shows(3.12%)**."
   ]
  },
  {
   "cell_type": "markdown",
   "id": "62739d2c",
   "metadata": {
    "papermill": {
     "duration": 0.073569,
     "end_time": "2023-04-27T11:31:02.139078",
     "exception": false,
     "start_time": "2023-04-27T11:31:02.065509",
     "status": "completed"
    },
    "tags": []
   },
   "source": [
    "### 4.4 Distribution of Ratings? &\n",
    "### What are the different rating defined by Netflix?\n",
    "<a id=section404></a>"
   ]
  },
  {
   "cell_type": "code",
   "execution_count": 43,
   "id": "23dbee9a",
   "metadata": {
    "execution": {
     "iopub.execute_input": "2023-04-27T11:31:02.292380Z",
     "iopub.status.busy": "2023-04-27T11:31:02.290720Z",
     "iopub.status.idle": "2023-04-27T11:31:02.308966Z",
     "shell.execute_reply": "2023-04-27T11:31:02.307708Z"
    },
    "papermill": {
     "duration": 0.097813,
     "end_time": "2023-04-27T11:31:02.311431",
     "exception": false,
     "start_time": "2023-04-27T11:31:02.213618",
     "status": "completed"
    },
    "tags": []
   },
   "outputs": [
    {
     "data": {
      "text/html": [
       "<div>\n",
       "<style scoped>\n",
       "    .dataframe tbody tr th:only-of-type {\n",
       "        vertical-align: middle;\n",
       "    }\n",
       "\n",
       "    .dataframe tbody tr th {\n",
       "        vertical-align: top;\n",
       "    }\n",
       "\n",
       "    .dataframe thead th {\n",
       "        text-align: right;\n",
       "    }\n",
       "</style>\n",
       "<table border=\"1\" class=\"dataframe\">\n",
       "  <thead>\n",
       "    <tr style=\"text-align: right;\">\n",
       "      <th></th>\n",
       "      <th>show_id</th>\n",
       "      <th>type</th>\n",
       "      <th>title</th>\n",
       "      <th>director</th>\n",
       "      <th>cast</th>\n",
       "      <th>country</th>\n",
       "      <th>date_added</th>\n",
       "      <th>release_year</th>\n",
       "      <th>rating</th>\n",
       "      <th>duration</th>\n",
       "      <th>listed_in</th>\n",
       "      <th>description</th>\n",
       "      <th>year_added</th>\n",
       "      <th>month_added</th>\n",
       "    </tr>\n",
       "  </thead>\n",
       "  <tbody>\n",
       "    <tr>\n",
       "      <th>2</th>\n",
       "      <td>s3</td>\n",
       "      <td>TV Show</td>\n",
       "      <td>Ganglands</td>\n",
       "      <td>Julien Leclercq</td>\n",
       "      <td>Sami Bouajila, Tracy Gotoas, Samuel Jouy, Nabi...</td>\n",
       "      <td>missing</td>\n",
       "      <td>2021-09-24</td>\n",
       "      <td>2021</td>\n",
       "      <td>TV-MA</td>\n",
       "      <td>1 Season</td>\n",
       "      <td>Crime TV Shows, International TV Shows, TV Act...</td>\n",
       "      <td>To protect his family from a powerful drug lor...</td>\n",
       "      <td>2021</td>\n",
       "      <td>9</td>\n",
       "    </tr>\n",
       "    <tr>\n",
       "      <th>5</th>\n",
       "      <td>s6</td>\n",
       "      <td>TV Show</td>\n",
       "      <td>Midnight Mass</td>\n",
       "      <td>Mike Flanagan</td>\n",
       "      <td>Kate Siegel, Zach Gilford, Hamish Linklater, H...</td>\n",
       "      <td>missing</td>\n",
       "      <td>2021-09-24</td>\n",
       "      <td>2021</td>\n",
       "      <td>TV-MA</td>\n",
       "      <td>1 Season</td>\n",
       "      <td>TV Dramas, TV Horror, TV Mysteries</td>\n",
       "      <td>The arrival of a charismatic young priest brin...</td>\n",
       "      <td>2021</td>\n",
       "      <td>9</td>\n",
       "    </tr>\n",
       "  </tbody>\n",
       "</table>\n",
       "</div>"
      ],
      "text/plain": [
       "  show_id     type          title         director  \\\n",
       "2      s3  TV Show      Ganglands  Julien Leclercq   \n",
       "5      s6  TV Show  Midnight Mass    Mike Flanagan   \n",
       "\n",
       "                                                cast  country date_added  \\\n",
       "2  Sami Bouajila, Tracy Gotoas, Samuel Jouy, Nabi...  missing 2021-09-24   \n",
       "5  Kate Siegel, Zach Gilford, Hamish Linklater, H...  missing 2021-09-24   \n",
       "\n",
       "   release_year rating  duration  \\\n",
       "2          2021  TV-MA  1 Season   \n",
       "5          2021  TV-MA  1 Season   \n",
       "\n",
       "                                           listed_in  \\\n",
       "2  Crime TV Shows, International TV Shows, TV Act...   \n",
       "5                 TV Dramas, TV Horror, TV Mysteries   \n",
       "\n",
       "                                         description  year_added  month_added  \n",
       "2  To protect his family from a powerful drug lor...        2021            9  \n",
       "5  The arrival of a charismatic young priest brin...        2021            9  "
      ]
     },
     "execution_count": 43,
     "metadata": {},
     "output_type": "execute_result"
    }
   ],
   "source": [
    "netflix_copy.head(2)"
   ]
  },
  {
   "cell_type": "code",
   "execution_count": 44,
   "id": "5145ae18",
   "metadata": {
    "execution": {
     "iopub.execute_input": "2023-04-27T11:31:02.461067Z",
     "iopub.status.busy": "2023-04-27T11:31:02.460523Z",
     "iopub.status.idle": "2023-04-27T11:31:02.856767Z",
     "shell.execute_reply": "2023-04-27T11:31:02.855845Z"
    },
    "papermill": {
     "duration": 0.474734,
     "end_time": "2023-04-27T11:31:02.859220",
     "exception": false,
     "start_time": "2023-04-27T11:31:02.384486",
     "status": "completed"
    },
    "tags": []
   },
   "outputs": [
    {
     "data": {
      "text/plain": [
       "(array([ 0,  1,  2,  3,  4,  5,  6,  7,  8,  9, 10, 11, 12, 13, 14, 15, 16,\n",
       "        17]),\n",
       " [Text(0, 0, 'TV-MA'),\n",
       "  Text(1, 0, 'PG'),\n",
       "  Text(2, 0, 'TV-14'),\n",
       "  Text(3, 0, 'PG-13'),\n",
       "  Text(4, 0, 'TV-PG'),\n",
       "  Text(5, 0, 'TV-Y'),\n",
       "  Text(6, 0, 'R'),\n",
       "  Text(7, 0, 'TV-G'),\n",
       "  Text(8, 0, 'TV-Y7'),\n",
       "  Text(9, 0, 'G'),\n",
       "  Text(10, 0, 'NC-17'),\n",
       "  Text(11, 0, '74 min'),\n",
       "  Text(12, 0, '84 min'),\n",
       "  Text(13, 0, '66 min'),\n",
       "  Text(14, 0, 'NR'),\n",
       "  Text(15, 0, 'TV-Y7-FV'),\n",
       "  Text(16, 0, 'UR'),\n",
       "  Text(17, 0, 'missing')])"
      ]
     },
     "execution_count": 44,
     "metadata": {},
     "output_type": "execute_result"
    },
    {
     "data": {
      "image/png": "[encoded data removed]",
      "text/plain": [
       "<Figure size 640x480 with 1 Axes>"
      ]
     },
     "metadata": {},
     "output_type": "display_data"
    }
   ],
   "source": [
    "#countplot for distrubution\n",
    "\n",
    "sns.countplot(x=netflix_copy['rating'],orient='v')\n",
    "plt.xticks(rotation=90)"
   ]
  },
  {
   "cell_type": "code",
   "execution_count": 45,
   "id": "24450f3a",
   "metadata": {
    "execution": {
     "iopub.execute_input": "2023-04-27T11:31:03.013963Z",
     "iopub.status.busy": "2023-04-27T11:31:03.013163Z",
     "iopub.status.idle": "2023-04-27T11:31:03.020769Z",
     "shell.execute_reply": "2023-04-27T11:31:03.019629Z"
    },
    "papermill": {
     "duration": 0.088161,
     "end_time": "2023-04-27T11:31:03.023132",
     "exception": false,
     "start_time": "2023-04-27T11:31:02.934971",
     "status": "completed"
    },
    "tags": []
   },
   "outputs": [
    {
     "data": {
      "text/plain": [
       "17"
      ]
     },
     "execution_count": 45,
     "metadata": {},
     "output_type": "execute_result"
    }
   ],
   "source": [
    "netflix['rating'].nunique()"
   ]
  },
  {
   "cell_type": "markdown",
   "id": "556566e2",
   "metadata": {
    "papermill": {
     "duration": 0.075609,
     "end_time": "2023-04-27T11:31:03.173575",
     "exception": false,
     "start_time": "2023-04-27T11:31:03.097966",
     "status": "completed"
    },
    "tags": []
   },
   "source": [
    "**Obeservation** : \n",
    "- Audience prefers mostly TV-MA & TV-14  and less prefers NC-17 as rating. \n",
    "- There are 17 types of ratings in the netflix."
   ]
  },
  {
   "cell_type": "markdown",
   "id": "ae16d1ce",
   "metadata": {
    "papermill": {
     "duration": 0.079633,
     "end_time": "2023-04-27T11:31:03.329017",
     "exception": false,
     "start_time": "2023-04-27T11:31:03.249384",
     "status": "completed"
    },
    "tags": []
   },
   "source": [
    "### 4.5 Which has the highest rating Tv show or Movies?\n",
    "<a id=section405></a>"
   ]
  },
  {
   "cell_type": "code",
   "execution_count": 46,
   "id": "666d6cbb",
   "metadata": {
    "execution": {
     "iopub.execute_input": "2023-04-27T11:31:03.486438Z",
     "iopub.status.busy": "2023-04-27T11:31:03.485667Z",
     "iopub.status.idle": "2023-04-27T11:31:03.508822Z",
     "shell.execute_reply": "2023-04-27T11:31:03.507723Z"
    },
    "papermill": {
     "duration": 0.108693,
     "end_time": "2023-04-27T11:31:03.512950",
     "exception": false,
     "start_time": "2023-04-27T11:31:03.404257",
     "status": "completed"
    },
    "tags": []
   },
   "outputs": [
    {
     "data": {
      "text/html": [
       "<div>\n",
       "<style scoped>\n",
       "    .dataframe tbody tr th:only-of-type {\n",
       "        vertical-align: middle;\n",
       "    }\n",
       "\n",
       "    .dataframe tbody tr th {\n",
       "        vertical-align: top;\n",
       "    }\n",
       "\n",
       "    .dataframe thead th {\n",
       "        text-align: right;\n",
       "    }\n",
       "</style>\n",
       "<table border=\"1\" class=\"dataframe\">\n",
       "  <thead>\n",
       "    <tr style=\"text-align: right;\">\n",
       "      <th></th>\n",
       "      <th>show_id</th>\n",
       "      <th>type</th>\n",
       "      <th>title</th>\n",
       "      <th>director</th>\n",
       "      <th>cast</th>\n",
       "      <th>country</th>\n",
       "      <th>date_added</th>\n",
       "      <th>release_year</th>\n",
       "      <th>rating</th>\n",
       "      <th>duration</th>\n",
       "      <th>listed_in</th>\n",
       "      <th>description</th>\n",
       "      <th>year_added</th>\n",
       "      <th>month_added</th>\n",
       "    </tr>\n",
       "  </thead>\n",
       "  <tbody>\n",
       "    <tr>\n",
       "      <th>2</th>\n",
       "      <td>s3</td>\n",
       "      <td>TV Show</td>\n",
       "      <td>Ganglands</td>\n",
       "      <td>Julien Leclercq</td>\n",
       "      <td>Sami Bouajila, Tracy Gotoas, Samuel Jouy, Nabi...</td>\n",
       "      <td>missing</td>\n",
       "      <td>2021-09-24</td>\n",
       "      <td>2021</td>\n",
       "      <td>TV-MA</td>\n",
       "      <td>1 Season</td>\n",
       "      <td>Crime TV Shows, International TV Shows, TV Act...</td>\n",
       "      <td>To protect his family from a powerful drug lor...</td>\n",
       "      <td>2021</td>\n",
       "      <td>9</td>\n",
       "    </tr>\n",
       "    <tr>\n",
       "      <th>5</th>\n",
       "      <td>s6</td>\n",
       "      <td>TV Show</td>\n",
       "      <td>Midnight Mass</td>\n",
       "      <td>Mike Flanagan</td>\n",
       "      <td>Kate Siegel, Zach Gilford, Hamish Linklater, H...</td>\n",
       "      <td>missing</td>\n",
       "      <td>2021-09-24</td>\n",
       "      <td>2021</td>\n",
       "      <td>TV-MA</td>\n",
       "      <td>1 Season</td>\n",
       "      <td>TV Dramas, TV Horror, TV Mysteries</td>\n",
       "      <td>The arrival of a charismatic young priest brin...</td>\n",
       "      <td>2021</td>\n",
       "      <td>9</td>\n",
       "    </tr>\n",
       "  </tbody>\n",
       "</table>\n",
       "</div>"
      ],
      "text/plain": [
       "  show_id     type          title         director  \\\n",
       "2      s3  TV Show      Ganglands  Julien Leclercq   \n",
       "5      s6  TV Show  Midnight Mass    Mike Flanagan   \n",
       "\n",
       "                                                cast  country date_added  \\\n",
       "2  Sami Bouajila, Tracy Gotoas, Samuel Jouy, Nabi...  missing 2021-09-24   \n",
       "5  Kate Siegel, Zach Gilford, Hamish Linklater, H...  missing 2021-09-24   \n",
       "\n",
       "   release_year rating  duration  \\\n",
       "2          2021  TV-MA  1 Season   \n",
       "5          2021  TV-MA  1 Season   \n",
       "\n",
       "                                           listed_in  \\\n",
       "2  Crime TV Shows, International TV Shows, TV Act...   \n",
       "5                 TV Dramas, TV Horror, TV Mysteries   \n",
       "\n",
       "                                         description  year_added  month_added  \n",
       "2  To protect his family from a powerful drug lor...        2021            9  \n",
       "5  The arrival of a charismatic young priest brin...        2021            9  "
      ]
     },
     "execution_count": 46,
     "metadata": {},
     "output_type": "execute_result"
    }
   ],
   "source": [
    "netflix_copy.head(2)"
   ]
  },
  {
   "cell_type": "code",
   "execution_count": 47,
   "id": "ce287f16",
   "metadata": {
    "execution": {
     "iopub.execute_input": "2023-04-27T11:31:03.674263Z",
     "iopub.status.busy": "2023-04-27T11:31:03.673504Z",
     "iopub.status.idle": "2023-04-27T11:31:03.684586Z",
     "shell.execute_reply": "2023-04-27T11:31:03.683800Z"
    },
    "papermill": {
     "duration": 0.09582,
     "end_time": "2023-04-27T11:31:03.687393",
     "exception": false,
     "start_time": "2023-04-27T11:31:03.591573",
     "status": "completed"
    },
    "tags": []
   },
   "outputs": [
    {
     "data": {
      "text/plain": [
       "type\n",
       "Movie      TV-MA\n",
       "TV Show    TV-MA\n",
       "Name: rating, dtype: object"
      ]
     },
     "execution_count": 47,
     "metadata": {},
     "output_type": "execute_result"
    }
   ],
   "source": [
    "netflix.groupby(\"type\")[\"rating\"].agg(pd.Series.mode)"
   ]
  },
  {
   "cell_type": "markdown",
   "id": "fedb242d",
   "metadata": {
    "papermill": {
     "duration": 0.083125,
     "end_time": "2023-04-27T11:31:03.861434",
     "exception": false,
     "start_time": "2023-04-27T11:31:03.778309",
     "status": "completed"
    },
    "tags": []
   },
   "source": [
    "#### Adding new feature\n",
    "new_genre (Genre 1,Genre 2,Genre 3)"
   ]
  },
  {
   "cell_type": "code",
   "execution_count": 48,
   "id": "3178b7f6",
   "metadata": {
    "execution": {
     "iopub.execute_input": "2023-04-27T11:31:04.025526Z",
     "iopub.status.busy": "2023-04-27T11:31:04.024534Z",
     "iopub.status.idle": "2023-04-27T11:31:04.042186Z",
     "shell.execute_reply": "2023-04-27T11:31:04.040891Z"
    },
    "papermill": {
     "duration": 0.098392,
     "end_time": "2023-04-27T11:31:04.044802",
     "exception": false,
     "start_time": "2023-04-27T11:31:03.946410",
     "status": "completed"
    },
    "tags": []
   },
   "outputs": [
    {
     "data": {
      "text/plain": [
       "2       [Crime TV Shows,  International TV Shows,  TV ...\n",
       "5                  [TV Dramas,  TV Horror,  TV Mysteries]\n",
       "6                              [Children & Family Movies]\n",
       "7       [Dramas,  Independent Movies,  International M...\n",
       "8                         [British TV Shows,  Reality TV]\n",
       "                              ...                        \n",
       "8801          [Dramas,  International Movies,  Thrillers]\n",
       "8802                   [Cult Movies,  Dramas,  Thrillers]\n",
       "8804                           [Comedies,  Horror Movies]\n",
       "8805                [Children & Family Movies,  Comedies]\n",
       "8806    [Dramas,  International Movies,  Music & Music...\n",
       "Name: listed_in, Length: 5700, dtype: object"
      ]
     },
     "execution_count": 48,
     "metadata": {},
     "output_type": "execute_result"
    }
   ],
   "source": [
    "new_genre = netflix_copy['listed_in'].str.split(\",\",2)\n",
    "new_genre"
   ]
  },
  {
   "cell_type": "code",
   "execution_count": 49,
   "id": "684132ef",
   "metadata": {
    "execution": {
     "iopub.execute_input": "2023-04-27T11:31:04.198898Z",
     "iopub.status.busy": "2023-04-27T11:31:04.197572Z",
     "iopub.status.idle": "2023-04-27T11:31:04.232250Z",
     "shell.execute_reply": "2023-04-27T11:31:04.230994Z"
    },
    "papermill": {
     "duration": 0.114787,
     "end_time": "2023-04-27T11:31:04.234715",
     "exception": false,
     "start_time": "2023-04-27T11:31:04.119928",
     "status": "completed"
    },
    "tags": []
   },
   "outputs": [
    {
     "data": {
      "text/html": [
       "<div>\n",
       "<style scoped>\n",
       "    .dataframe tbody tr th:only-of-type {\n",
       "        vertical-align: middle;\n",
       "    }\n",
       "\n",
       "    .dataframe tbody tr th {\n",
       "        vertical-align: top;\n",
       "    }\n",
       "\n",
       "    .dataframe thead th {\n",
       "        text-align: right;\n",
       "    }\n",
       "</style>\n",
       "<table border=\"1\" class=\"dataframe\">\n",
       "  <thead>\n",
       "    <tr style=\"text-align: right;\">\n",
       "      <th></th>\n",
       "      <th>show_id</th>\n",
       "      <th>type</th>\n",
       "      <th>title</th>\n",
       "      <th>director</th>\n",
       "      <th>cast</th>\n",
       "      <th>country</th>\n",
       "      <th>date_added</th>\n",
       "      <th>release_year</th>\n",
       "      <th>rating</th>\n",
       "      <th>duration</th>\n",
       "      <th>listed_in</th>\n",
       "      <th>description</th>\n",
       "      <th>year_added</th>\n",
       "      <th>month_added</th>\n",
       "      <th>Genre 1</th>\n",
       "      <th>Genre 2</th>\n",
       "      <th>Genre 3</th>\n",
       "    </tr>\n",
       "  </thead>\n",
       "  <tbody>\n",
       "    <tr>\n",
       "      <th>2</th>\n",
       "      <td>s3</td>\n",
       "      <td>TV Show</td>\n",
       "      <td>Ganglands</td>\n",
       "      <td>Julien Leclercq</td>\n",
       "      <td>Sami Bouajila, Tracy Gotoas, Samuel Jouy, Nabi...</td>\n",
       "      <td>missing</td>\n",
       "      <td>2021-09-24</td>\n",
       "      <td>2021</td>\n",
       "      <td>TV-MA</td>\n",
       "      <td>1 Season</td>\n",
       "      <td>Crime TV Shows, International TV Shows, TV Act...</td>\n",
       "      <td>To protect his family from a powerful drug lor...</td>\n",
       "      <td>2021</td>\n",
       "      <td>9</td>\n",
       "      <td>Crime TV Shows</td>\n",
       "      <td>International TV Shows</td>\n",
       "      <td>TV Action &amp; Adventure</td>\n",
       "    </tr>\n",
       "    <tr>\n",
       "      <th>5</th>\n",
       "      <td>s6</td>\n",
       "      <td>TV Show</td>\n",
       "      <td>Midnight Mass</td>\n",
       "      <td>Mike Flanagan</td>\n",
       "      <td>Kate Siegel, Zach Gilford, Hamish Linklater, H...</td>\n",
       "      <td>missing</td>\n",
       "      <td>2021-09-24</td>\n",
       "      <td>2021</td>\n",
       "      <td>TV-MA</td>\n",
       "      <td>1 Season</td>\n",
       "      <td>TV Dramas, TV Horror, TV Mysteries</td>\n",
       "      <td>The arrival of a charismatic young priest brin...</td>\n",
       "      <td>2021</td>\n",
       "      <td>9</td>\n",
       "      <td>TV Dramas</td>\n",
       "      <td>TV Horror</td>\n",
       "      <td>TV Mysteries</td>\n",
       "    </tr>\n",
       "  </tbody>\n",
       "</table>\n",
       "</div>"
      ],
      "text/plain": [
       "  show_id     type          title         director  \\\n",
       "2      s3  TV Show      Ganglands  Julien Leclercq   \n",
       "5      s6  TV Show  Midnight Mass    Mike Flanagan   \n",
       "\n",
       "                                                cast  country date_added  \\\n",
       "2  Sami Bouajila, Tracy Gotoas, Samuel Jouy, Nabi...  missing 2021-09-24   \n",
       "5  Kate Siegel, Zach Gilford, Hamish Linklater, H...  missing 2021-09-24   \n",
       "\n",
       "   release_year rating  duration  \\\n",
       "2          2021  TV-MA  1 Season   \n",
       "5          2021  TV-MA  1 Season   \n",
       "\n",
       "                                           listed_in  \\\n",
       "2  Crime TV Shows, International TV Shows, TV Act...   \n",
       "5                 TV Dramas, TV Horror, TV Mysteries   \n",
       "\n",
       "                                         description  year_added  month_added  \\\n",
       "2  To protect his family from a powerful drug lor...        2021            9   \n",
       "5  The arrival of a charismatic young priest brin...        2021            9   \n",
       "\n",
       "          Genre 1                  Genre 2                 Genre 3  \n",
       "2  Crime TV Shows   International TV Shows   TV Action & Adventure  \n",
       "5       TV Dramas                TV Horror            TV Mysteries  "
      ]
     },
     "execution_count": 49,
     "metadata": {},
     "output_type": "execute_result"
    }
   ],
   "source": [
    "netflix_copy['Genre 1'] = new_genre.str.get(0)\n",
    "netflix_copy['Genre 2'] = new_genre.str.get(1)\n",
    "netflix_copy['Genre 3'] = new_genre.str.get(2)\n",
    "netflix_copy.head(2)"
   ]
  },
  {
   "cell_type": "code",
   "execution_count": 50,
   "id": "58dbb482",
   "metadata": {
    "execution": {
     "iopub.execute_input": "2023-04-27T11:31:04.388783Z",
     "iopub.status.busy": "2023-04-27T11:31:04.387943Z",
     "iopub.status.idle": "2023-04-27T11:31:04.399196Z",
     "shell.execute_reply": "2023-04-27T11:31:04.398228Z"
    },
    "papermill": {
     "duration": 0.091366,
     "end_time": "2023-04-27T11:31:04.401834",
     "exception": false,
     "start_time": "2023-04-27T11:31:04.310468",
     "status": "completed"
    },
    "tags": []
   },
   "outputs": [
    {
     "data": {
      "text/plain": [
       "count       5700\n",
       "unique        33\n",
       "top       Dramas\n",
       "freq        1586\n",
       "Name: Genre 1, dtype: object"
      ]
     },
     "execution_count": 50,
     "metadata": {},
     "output_type": "execute_result"
    }
   ],
   "source": [
    "netflix_copy['Genre 1'].describe(include=all)"
   ]
  },
  {
   "cell_type": "code",
   "execution_count": 51,
   "id": "9d73bbc6",
   "metadata": {
    "execution": {
     "iopub.execute_input": "2023-04-27T11:31:04.560801Z",
     "iopub.status.busy": "2023-04-27T11:31:04.560356Z",
     "iopub.status.idle": "2023-04-27T11:31:04.571687Z",
     "shell.execute_reply": "2023-04-27T11:31:04.570780Z"
    },
    "papermill": {
     "duration": 0.093876,
     "end_time": "2023-04-27T11:31:04.573859",
     "exception": false,
     "start_time": "2023-04-27T11:31:04.479983",
     "status": "completed"
    },
    "tags": []
   },
   "outputs": [
    {
     "data": {
      "text/plain": [
       "count                      4485\n",
       "unique                       35\n",
       "top        International Movies\n",
       "freq                       1545\n",
       "Name: Genre 2, dtype: object"
      ]
     },
     "execution_count": 51,
     "metadata": {},
     "output_type": "execute_result"
    }
   ],
   "source": [
    "netflix_copy['Genre 2'].describe(include=all)"
   ]
  },
  {
   "cell_type": "code",
   "execution_count": 52,
   "id": "b6b7019b",
   "metadata": {
    "execution": {
     "iopub.execute_input": "2023-04-27T11:31:04.731024Z",
     "iopub.status.busy": "2023-04-27T11:31:04.729005Z",
     "iopub.status.idle": "2023-04-27T11:31:04.740607Z",
     "shell.execute_reply": "2023-04-27T11:31:04.739512Z"
    },
    "papermill": {
     "duration": 0.093092,
     "end_time": "2023-04-27T11:31:04.742969",
     "exception": false,
     "start_time": "2023-04-27T11:31:04.649877",
     "status": "completed"
    },
    "tags": []
   },
   "outputs": [
    {
     "data": {
      "text/plain": [
       "count                      2434\n",
       "unique                       29\n",
       "top        International Movies\n",
       "freq                        881\n",
       "Name: Genre 3, dtype: object"
      ]
     },
     "execution_count": 52,
     "metadata": {},
     "output_type": "execute_result"
    }
   ],
   "source": [
    "netflix_copy['Genre 3'].describe(include=all)"
   ]
  },
  {
   "cell_type": "markdown",
   "id": "fb2c95fd",
   "metadata": {
    "papermill": {
     "duration": 0.076913,
     "end_time": "2023-04-27T11:31:04.896576",
     "exception": false,
     "start_time": "2023-04-27T11:31:04.819663",
     "status": "completed"
    },
    "tags": []
   },
   "source": [
    "- drop listed_in column because not need"
   ]
  },
  {
   "cell_type": "code",
   "execution_count": 53,
   "id": "e509f848",
   "metadata": {
    "execution": {
     "iopub.execute_input": "2023-04-27T11:31:05.053527Z",
     "iopub.status.busy": "2023-04-27T11:31:05.052259Z",
     "iopub.status.idle": "2023-04-27T11:31:05.075681Z",
     "shell.execute_reply": "2023-04-27T11:31:05.074463Z"
    },
    "papermill": {
     "duration": 0.104363,
     "end_time": "2023-04-27T11:31:05.078071",
     "exception": false,
     "start_time": "2023-04-27T11:31:04.973708",
     "status": "completed"
    },
    "tags": []
   },
   "outputs": [
    {
     "data": {
      "text/html": [
       "<div>\n",
       "<style scoped>\n",
       "    .dataframe tbody tr th:only-of-type {\n",
       "        vertical-align: middle;\n",
       "    }\n",
       "\n",
       "    .dataframe tbody tr th {\n",
       "        vertical-align: top;\n",
       "    }\n",
       "\n",
       "    .dataframe thead th {\n",
       "        text-align: right;\n",
       "    }\n",
       "</style>\n",
       "<table border=\"1\" class=\"dataframe\">\n",
       "  <thead>\n",
       "    <tr style=\"text-align: right;\">\n",
       "      <th></th>\n",
       "      <th>show_id</th>\n",
       "      <th>type</th>\n",
       "      <th>title</th>\n",
       "      <th>director</th>\n",
       "      <th>cast</th>\n",
       "      <th>country</th>\n",
       "      <th>date_added</th>\n",
       "      <th>release_year</th>\n",
       "      <th>rating</th>\n",
       "      <th>duration</th>\n",
       "      <th>description</th>\n",
       "      <th>year_added</th>\n",
       "      <th>month_added</th>\n",
       "      <th>Genre 1</th>\n",
       "      <th>Genre 2</th>\n",
       "      <th>Genre 3</th>\n",
       "    </tr>\n",
       "  </thead>\n",
       "  <tbody>\n",
       "    <tr>\n",
       "      <th>2</th>\n",
       "      <td>s3</td>\n",
       "      <td>TV Show</td>\n",
       "      <td>Ganglands</td>\n",
       "      <td>Julien Leclercq</td>\n",
       "      <td>Sami Bouajila, Tracy Gotoas, Samuel Jouy, Nabi...</td>\n",
       "      <td>missing</td>\n",
       "      <td>2021-09-24</td>\n",
       "      <td>2021</td>\n",
       "      <td>TV-MA</td>\n",
       "      <td>1 Season</td>\n",
       "      <td>To protect his family from a powerful drug lor...</td>\n",
       "      <td>2021</td>\n",
       "      <td>9</td>\n",
       "      <td>Crime TV Shows</td>\n",
       "      <td>International TV Shows</td>\n",
       "      <td>TV Action &amp; Adventure</td>\n",
       "    </tr>\n",
       "    <tr>\n",
       "      <th>5</th>\n",
       "      <td>s6</td>\n",
       "      <td>TV Show</td>\n",
       "      <td>Midnight Mass</td>\n",
       "      <td>Mike Flanagan</td>\n",
       "      <td>Kate Siegel, Zach Gilford, Hamish Linklater, H...</td>\n",
       "      <td>missing</td>\n",
       "      <td>2021-09-24</td>\n",
       "      <td>2021</td>\n",
       "      <td>TV-MA</td>\n",
       "      <td>1 Season</td>\n",
       "      <td>The arrival of a charismatic young priest brin...</td>\n",
       "      <td>2021</td>\n",
       "      <td>9</td>\n",
       "      <td>TV Dramas</td>\n",
       "      <td>TV Horror</td>\n",
       "      <td>TV Mysteries</td>\n",
       "    </tr>\n",
       "  </tbody>\n",
       "</table>\n",
       "</div>"
      ],
      "text/plain": [
       "  show_id     type          title         director  \\\n",
       "2      s3  TV Show      Ganglands  Julien Leclercq   \n",
       "5      s6  TV Show  Midnight Mass    Mike Flanagan   \n",
       "\n",
       "                                                cast  country date_added  \\\n",
       "2  Sami Bouajila, Tracy Gotoas, Samuel Jouy, Nabi...  missing 2021-09-24   \n",
       "5  Kate Siegel, Zach Gilford, Hamish Linklater, H...  missing 2021-09-24   \n",
       "\n",
       "   release_year rating  duration  \\\n",
       "2          2021  TV-MA  1 Season   \n",
       "5          2021  TV-MA  1 Season   \n",
       "\n",
       "                                         description  year_added  month_added  \\\n",
       "2  To protect his family from a powerful drug lor...        2021            9   \n",
       "5  The arrival of a charismatic young priest brin...        2021            9   \n",
       "\n",
       "          Genre 1                  Genre 2                 Genre 3  \n",
       "2  Crime TV Shows   International TV Shows   TV Action & Adventure  \n",
       "5       TV Dramas                TV Horror            TV Mysteries  "
      ]
     },
     "execution_count": 53,
     "metadata": {},
     "output_type": "execute_result"
    }
   ],
   "source": [
    "netflix_copy.drop('listed_in',axis = 1,inplace = True)\n",
    "netflix_copy.head(2)"
   ]
  },
  {
   "cell_type": "code",
   "execution_count": 54,
   "id": "b7378232",
   "metadata": {
    "execution": {
     "iopub.execute_input": "2023-04-27T11:31:05.234310Z",
     "iopub.status.busy": "2023-04-27T11:31:05.233123Z",
     "iopub.status.idle": "2023-04-27T11:31:05.258953Z",
     "shell.execute_reply": "2023-04-27T11:31:05.257734Z"
    },
    "papermill": {
     "duration": 0.107879,
     "end_time": "2023-04-27T11:31:05.261495",
     "exception": false,
     "start_time": "2023-04-27T11:31:05.153616",
     "status": "completed"
    },
    "tags": []
   },
   "outputs": [
    {
     "data": {
      "text/plain": [
       "0"
      ]
     },
     "execution_count": 54,
     "metadata": {},
     "output_type": "execute_result"
    }
   ],
   "source": [
    "netflix_copy.duplicated().sum()"
   ]
  },
  {
   "cell_type": "code",
   "execution_count": 55,
   "id": "24797119",
   "metadata": {
    "execution": {
     "iopub.execute_input": "2023-04-27T11:31:05.419784Z",
     "iopub.status.busy": "2023-04-27T11:31:05.419049Z",
     "iopub.status.idle": "2023-04-27T11:31:05.429194Z",
     "shell.execute_reply": "2023-04-27T11:31:05.428146Z"
    },
    "papermill": {
     "duration": 0.092406,
     "end_time": "2023-04-27T11:31:05.431476",
     "exception": false,
     "start_time": "2023-04-27T11:31:05.339070",
     "status": "completed"
    },
    "tags": []
   },
   "outputs": [
    {
     "data": {
      "text/plain": [
       "Genre 1\n",
       "Dramas                          1586\n",
       "Comedies                        1184\n",
       "Action & Adventure               848\n",
       "Children & Family Movies         548\n",
       "Documentaries                    397\n",
       "Stand-Up Comedy                  309\n",
       "Horror Movies                    274\n",
       "International Movies             122\n",
       "Classic Movies                    73\n",
       "Thrillers                         65\n",
       "International TV Shows            59\n",
       "Crime TV Shows                    37\n",
       "Movies                            30\n",
       "British TV Shows                  21\n",
       "Independent Movies                20\n",
       "Anime Features                    19\n",
       "Music & Musicals                  18\n",
       "Sci-Fi & Fantasy                  13\n",
       "Cult Movies                       12\n",
       "Kids' TV                          11\n",
       "Anime Series                      11\n",
       "Docuseries                        10\n",
       "TV Shows                           9\n",
       "Stand-Up Comedy & Talk Shows       8\n",
       "Romantic Movies                    3\n",
       "TV Comedies                        3\n",
       "Classic & Cult TV                  2\n",
       "TV Action & Adventure              2\n",
       "TV Dramas                          2\n",
       "LGBTQ Movies                       1\n",
       "Romantic TV Shows                  1\n",
       "TV Horror                          1\n",
       "Reality TV                         1\n",
       "Name: release_year, dtype: int64"
      ]
     },
     "execution_count": 55,
     "metadata": {},
     "output_type": "execute_result"
    }
   ],
   "source": [
    "netflix_copy.groupby(['Genre 1'])['release_year'].count().sort_values(ascending = False)"
   ]
  },
  {
   "cell_type": "code",
   "execution_count": 56,
   "id": "b1d818d1",
   "metadata": {
    "execution": {
     "iopub.execute_input": "2023-04-27T11:31:05.588960Z",
     "iopub.status.busy": "2023-04-27T11:31:05.588505Z",
     "iopub.status.idle": "2023-04-27T11:31:05.600335Z",
     "shell.execute_reply": "2023-04-27T11:31:05.599322Z"
    },
    "papermill": {
     "duration": 0.094395,
     "end_time": "2023-04-27T11:31:05.602472",
     "exception": false,
     "start_time": "2023-04-27T11:31:05.508077",
     "status": "completed"
    },
    "tags": []
   },
   "outputs": [
    {
     "data": {
      "text/plain": [
       "Genre 2\n",
       " International Movies            1545\n",
       " Dramas                           744\n",
       " Independent Movies               572\n",
       " Comedies                         440\n",
       " Thrillers                        232\n",
       " Romantic Movies                  170\n",
       " Music & Musicals                 119\n",
       " Sci-Fi & Fantasy                 109\n",
       " Horror Movies                     71\n",
       " Sports Movies                     68\n",
       " Anime Features                    49\n",
       " Faith & Spirituality              49\n",
       " Cult Movies                       44\n",
       " International TV Shows            41\n",
       " Children & Family Movies          31\n",
       " Classic Movies                    30\n",
       " LGBTQ Movies                      30\n",
       " TV Dramas                         23\n",
       " Romantic TV Shows                 22\n",
       " Documentaries                     21\n",
       " TV Comedies                       20\n",
       " Korean TV Shows                    9\n",
       " Stand-Up Comedy                    9\n",
       " Crime TV Shows                     8\n",
       " Docuseries                         7\n",
       " TV Action & Adventure              7\n",
       " TV Horror                          3\n",
       " Classic & Cult TV                  2\n",
       " Kids' TV                           2\n",
       " Reality TV                         2\n",
       " TV Sci-Fi & Fantasy                2\n",
       " Spanish-Language TV Shows          1\n",
       " Stand-Up Comedy & Talk Shows       1\n",
       " TV Mysteries                       1\n",
       " Science & Nature TV                1\n",
       "Name: release_year, dtype: int64"
      ]
     },
     "execution_count": 56,
     "metadata": {},
     "output_type": "execute_result"
    }
   ],
   "source": [
    "netflix_copy.groupby(['Genre 2'])['release_year'].count().sort_values(ascending = False)"
   ]
  },
  {
   "cell_type": "code",
   "execution_count": 57,
   "id": "1f3368b3",
   "metadata": {
    "execution": {
     "iopub.execute_input": "2023-04-27T11:31:05.760552Z",
     "iopub.status.busy": "2023-04-27T11:31:05.759613Z",
     "iopub.status.idle": "2023-04-27T11:31:05.770501Z",
     "shell.execute_reply": "2023-04-27T11:31:05.769323Z"
    },
    "papermill": {
     "duration": 0.093107,
     "end_time": "2023-04-27T11:31:05.772790",
     "exception": false,
     "start_time": "2023-04-27T11:31:05.679683",
     "status": "completed"
    },
    "tags": []
   },
   "outputs": [
    {
     "data": {
      "text/plain": [
       "Genre 3\n",
       " International Movies            881\n",
       " Romantic Movies                 431\n",
       " Thrillers                       278\n",
       " Music & Musicals                191\n",
       " Independent Movies              159\n",
       " Sci-Fi & Fantasy                115\n",
       " Sports Movies                    95\n",
       " Dramas                           68\n",
       " LGBTQ Movies                     52\n",
       " TV Dramas                        36\n",
       " TV Comedies                      16\n",
       " Cult Movies                      14\n",
       " Comedies                         12\n",
       " Faith & Spirituality             11\n",
       " Spanish-Language TV Shows        10\n",
       " TV Mysteries                     10\n",
       " TV Action & Adventure             7\n",
       " International TV Shows            7\n",
       " Horror Movies                     7\n",
       " Classic Movies                    6\n",
       " Romantic TV Shows                 5\n",
       " TV Horror                         5\n",
       " Children & Family Movies          4\n",
       " Stand-Up Comedy & Talk Shows      3\n",
       " TV Sci-Fi & Fantasy               3\n",
       " TV Thrillers                      3\n",
       " Teen TV Shows                     3\n",
       " Kids' TV                          1\n",
       " Korean TV Shows                   1\n",
       "Name: release_year, dtype: int64"
      ]
     },
     "execution_count": 57,
     "metadata": {},
     "output_type": "execute_result"
    }
   ],
   "source": [
    "netflix_copy.groupby(['Genre 3'])['release_year'].count().sort_values(ascending = False)"
   ]
  },
  {
   "cell_type": "markdown",
   "id": "b8c3fe77",
   "metadata": {
    "papermill": {
     "duration": 0.083932,
     "end_time": "2023-04-27T11:31:05.935303",
     "exception": false,
     "start_time": "2023-04-27T11:31:05.851371",
     "status": "completed"
    },
    "tags": []
   },
   "source": [
    "###  4.6 Finding the best Month for releasing content?\n",
    "<a id=section406></a>"
   ]
  },
  {
   "cell_type": "code",
   "execution_count": 58,
   "id": "ea409e52",
   "metadata": {
    "execution": {
     "iopub.execute_input": "2023-04-27T11:31:06.094888Z",
     "iopub.status.busy": "2023-04-27T11:31:06.093655Z",
     "iopub.status.idle": "2023-04-27T11:31:06.112706Z",
     "shell.execute_reply": "2023-04-27T11:31:06.111551Z"
    },
    "papermill": {
     "duration": 0.101711,
     "end_time": "2023-04-27T11:31:06.115182",
     "exception": false,
     "start_time": "2023-04-27T11:31:06.013471",
     "status": "completed"
    },
    "tags": []
   },
   "outputs": [
    {
     "data": {
      "text/html": [
       "<div>\n",
       "<style scoped>\n",
       "    .dataframe tbody tr th:only-of-type {\n",
       "        vertical-align: middle;\n",
       "    }\n",
       "\n",
       "    .dataframe tbody tr th {\n",
       "        vertical-align: top;\n",
       "    }\n",
       "\n",
       "    .dataframe thead th {\n",
       "        text-align: right;\n",
       "    }\n",
       "</style>\n",
       "<table border=\"1\" class=\"dataframe\">\n",
       "  <thead>\n",
       "    <tr style=\"text-align: right;\">\n",
       "      <th></th>\n",
       "      <th>show_id</th>\n",
       "      <th>type</th>\n",
       "      <th>title</th>\n",
       "      <th>director</th>\n",
       "      <th>cast</th>\n",
       "      <th>country</th>\n",
       "      <th>date_added</th>\n",
       "      <th>release_year</th>\n",
       "      <th>rating</th>\n",
       "      <th>duration</th>\n",
       "      <th>description</th>\n",
       "      <th>year_added</th>\n",
       "      <th>month_added</th>\n",
       "      <th>Genre 1</th>\n",
       "      <th>Genre 2</th>\n",
       "      <th>Genre 3</th>\n",
       "    </tr>\n",
       "  </thead>\n",
       "  <tbody>\n",
       "    <tr>\n",
       "      <th>2</th>\n",
       "      <td>s3</td>\n",
       "      <td>TV Show</td>\n",
       "      <td>Ganglands</td>\n",
       "      <td>Julien Leclercq</td>\n",
       "      <td>Sami Bouajila, Tracy Gotoas, Samuel Jouy, Nabi...</td>\n",
       "      <td>missing</td>\n",
       "      <td>2021-09-24</td>\n",
       "      <td>2021</td>\n",
       "      <td>TV-MA</td>\n",
       "      <td>1 Season</td>\n",
       "      <td>To protect his family from a powerful drug lor...</td>\n",
       "      <td>2021</td>\n",
       "      <td>9</td>\n",
       "      <td>Crime TV Shows</td>\n",
       "      <td>International TV Shows</td>\n",
       "      <td>TV Action &amp; Adventure</td>\n",
       "    </tr>\n",
       "    <tr>\n",
       "      <th>5</th>\n",
       "      <td>s6</td>\n",
       "      <td>TV Show</td>\n",
       "      <td>Midnight Mass</td>\n",
       "      <td>Mike Flanagan</td>\n",
       "      <td>Kate Siegel, Zach Gilford, Hamish Linklater, H...</td>\n",
       "      <td>missing</td>\n",
       "      <td>2021-09-24</td>\n",
       "      <td>2021</td>\n",
       "      <td>TV-MA</td>\n",
       "      <td>1 Season</td>\n",
       "      <td>The arrival of a charismatic young priest brin...</td>\n",
       "      <td>2021</td>\n",
       "      <td>9</td>\n",
       "      <td>TV Dramas</td>\n",
       "      <td>TV Horror</td>\n",
       "      <td>TV Mysteries</td>\n",
       "    </tr>\n",
       "  </tbody>\n",
       "</table>\n",
       "</div>"
      ],
      "text/plain": [
       "  show_id     type          title         director  \\\n",
       "2      s3  TV Show      Ganglands  Julien Leclercq   \n",
       "5      s6  TV Show  Midnight Mass    Mike Flanagan   \n",
       "\n",
       "                                                cast  country date_added  \\\n",
       "2  Sami Bouajila, Tracy Gotoas, Samuel Jouy, Nabi...  missing 2021-09-24   \n",
       "5  Kate Siegel, Zach Gilford, Hamish Linklater, H...  missing 2021-09-24   \n",
       "\n",
       "   release_year rating  duration  \\\n",
       "2          2021  TV-MA  1 Season   \n",
       "5          2021  TV-MA  1 Season   \n",
       "\n",
       "                                         description  year_added  month_added  \\\n",
       "2  To protect his family from a powerful drug lor...        2021            9   \n",
       "5  The arrival of a charismatic young priest brin...        2021            9   \n",
       "\n",
       "          Genre 1                  Genre 2                 Genre 3  \n",
       "2  Crime TV Shows   International TV Shows   TV Action & Adventure  \n",
       "5       TV Dramas                TV Horror            TV Mysteries  "
      ]
     },
     "execution_count": 58,
     "metadata": {},
     "output_type": "execute_result"
    }
   ],
   "source": [
    "netflix_copy.head(2)"
   ]
  },
  {
   "cell_type": "code",
   "execution_count": 59,
   "id": "2c979052",
   "metadata": {
    "execution": {
     "iopub.execute_input": "2023-04-27T11:31:06.275490Z",
     "iopub.status.busy": "2023-04-27T11:31:06.275053Z",
     "iopub.status.idle": "2023-04-27T11:31:06.300956Z",
     "shell.execute_reply": "2023-04-27T11:31:06.299721Z"
    },
    "papermill": {
     "duration": 0.107996,
     "end_time": "2023-04-27T11:31:06.303298",
     "exception": false,
     "start_time": "2023-04-27T11:31:06.195302",
     "status": "completed"
    },
    "tags": []
   },
   "outputs": [
    {
     "data": {
      "text/html": [
       "<div>\n",
       "<style scoped>\n",
       "    .dataframe tbody tr th:only-of-type {\n",
       "        vertical-align: middle;\n",
       "    }\n",
       "\n",
       "    .dataframe tbody tr th {\n",
       "        vertical-align: top;\n",
       "    }\n",
       "\n",
       "    .dataframe thead th {\n",
       "        text-align: right;\n",
       "    }\n",
       "</style>\n",
       "<table border=\"1\" class=\"dataframe\">\n",
       "  <thead>\n",
       "    <tr style=\"text-align: right;\">\n",
       "      <th></th>\n",
       "      <th>show_id</th>\n",
       "      <th>type</th>\n",
       "      <th>title</th>\n",
       "      <th>director</th>\n",
       "      <th>cast</th>\n",
       "      <th>country</th>\n",
       "      <th>date_added</th>\n",
       "      <th>release_year</th>\n",
       "      <th>rating</th>\n",
       "      <th>duration</th>\n",
       "      <th>description</th>\n",
       "      <th>year_added</th>\n",
       "      <th>month_added</th>\n",
       "      <th>Genre 1</th>\n",
       "      <th>Genre 2</th>\n",
       "      <th>Genre 3</th>\n",
       "      <th>month_final</th>\n",
       "    </tr>\n",
       "  </thead>\n",
       "  <tbody>\n",
       "    <tr>\n",
       "      <th>2</th>\n",
       "      <td>s3</td>\n",
       "      <td>TV Show</td>\n",
       "      <td>Ganglands</td>\n",
       "      <td>Julien Leclercq</td>\n",
       "      <td>Sami Bouajila, Tracy Gotoas, Samuel Jouy, Nabi...</td>\n",
       "      <td>missing</td>\n",
       "      <td>2021-09-24</td>\n",
       "      <td>2021</td>\n",
       "      <td>TV-MA</td>\n",
       "      <td>1 Season</td>\n",
       "      <td>To protect his family from a powerful drug lor...</td>\n",
       "      <td>2021</td>\n",
       "      <td>9</td>\n",
       "      <td>Crime TV Shows</td>\n",
       "      <td>International TV Shows</td>\n",
       "      <td>TV Action &amp; Adventure</td>\n",
       "      <td>Sep</td>\n",
       "    </tr>\n",
       "    <tr>\n",
       "      <th>5</th>\n",
       "      <td>s6</td>\n",
       "      <td>TV Show</td>\n",
       "      <td>Midnight Mass</td>\n",
       "      <td>Mike Flanagan</td>\n",
       "      <td>Kate Siegel, Zach Gilford, Hamish Linklater, H...</td>\n",
       "      <td>missing</td>\n",
       "      <td>2021-09-24</td>\n",
       "      <td>2021</td>\n",
       "      <td>TV-MA</td>\n",
       "      <td>1 Season</td>\n",
       "      <td>The arrival of a charismatic young priest brin...</td>\n",
       "      <td>2021</td>\n",
       "      <td>9</td>\n",
       "      <td>TV Dramas</td>\n",
       "      <td>TV Horror</td>\n",
       "      <td>TV Mysteries</td>\n",
       "      <td>Sep</td>\n",
       "    </tr>\n",
       "  </tbody>\n",
       "</table>\n",
       "</div>"
      ],
      "text/plain": [
       "  show_id     type          title         director  \\\n",
       "2      s3  TV Show      Ganglands  Julien Leclercq   \n",
       "5      s6  TV Show  Midnight Mass    Mike Flanagan   \n",
       "\n",
       "                                                cast  country date_added  \\\n",
       "2  Sami Bouajila, Tracy Gotoas, Samuel Jouy, Nabi...  missing 2021-09-24   \n",
       "5  Kate Siegel, Zach Gilford, Hamish Linklater, H...  missing 2021-09-24   \n",
       "\n",
       "   release_year rating  duration  \\\n",
       "2          2021  TV-MA  1 Season   \n",
       "5          2021  TV-MA  1 Season   \n",
       "\n",
       "                                         description  year_added  month_added  \\\n",
       "2  To protect his family from a powerful drug lor...        2021            9   \n",
       "5  The arrival of a charismatic young priest brin...        2021            9   \n",
       "\n",
       "          Genre 1                  Genre 2                 Genre 3 month_final  \n",
       "2  Crime TV Shows   International TV Shows   TV Action & Adventure         Sep  \n",
       "5       TV Dramas                TV Horror            TV Mysteries         Sep  "
      ]
     },
     "execution_count": 59,
     "metadata": {},
     "output_type": "execute_result"
    }
   ],
   "source": [
    "# converting month number to month name\n",
    "netflix_copy['month_final'] = netflix_copy['month_added'].replace({1:'Jan', 2:'Feb', 3:'Mar', 4:'Apr', 5:'May', 6:'June', 7:'July', 8:'Aug', 9:'Sep', 10:'Oct', 11:'Nov', 12:'Dec'})\n",
    "netflix_copy.head(2)"
   ]
  },
  {
   "cell_type": "code",
   "execution_count": 60,
   "id": "67b3c515",
   "metadata": {
    "execution": {
     "iopub.execute_input": "2023-04-27T11:31:06.473526Z",
     "iopub.status.busy": "2023-04-27T11:31:06.473026Z",
     "iopub.status.idle": "2023-04-27T11:31:06.483649Z",
     "shell.execute_reply": "2023-04-27T11:31:06.482785Z"
    },
    "papermill": {
     "duration": 0.097294,
     "end_time": "2023-04-27T11:31:06.485799",
     "exception": false,
     "start_time": "2023-04-27T11:31:06.388505",
     "status": "completed"
    },
    "tags": []
   },
   "outputs": [
    {
     "data": {
      "text/html": [
       "<div>\n",
       "<style scoped>\n",
       "    .dataframe tbody tr th:only-of-type {\n",
       "        vertical-align: middle;\n",
       "    }\n",
       "\n",
       "    .dataframe tbody tr th {\n",
       "        vertical-align: top;\n",
       "    }\n",
       "\n",
       "    .dataframe thead th {\n",
       "        text-align: right;\n",
       "    }\n",
       "</style>\n",
       "<table border=\"1\" class=\"dataframe\">\n",
       "  <thead>\n",
       "    <tr style=\"text-align: right;\">\n",
       "      <th></th>\n",
       "      <th>Value_count</th>\n",
       "    </tr>\n",
       "  </thead>\n",
       "  <tbody>\n",
       "    <tr>\n",
       "      <th>July</th>\n",
       "      <td>535</td>\n",
       "    </tr>\n",
       "    <tr>\n",
       "      <th>Dec</th>\n",
       "      <td>511</td>\n",
       "    </tr>\n",
       "    <tr>\n",
       "      <th>Oct</th>\n",
       "      <td>507</td>\n",
       "    </tr>\n",
       "    <tr>\n",
       "      <th>Jan</th>\n",
       "      <td>503</td>\n",
       "    </tr>\n",
       "    <tr>\n",
       "      <th>Apr</th>\n",
       "      <td>501</td>\n",
       "    </tr>\n",
       "    <tr>\n",
       "      <th>Mar</th>\n",
       "      <td>497</td>\n",
       "    </tr>\n",
       "    <tr>\n",
       "      <th>Aug</th>\n",
       "      <td>492</td>\n",
       "    </tr>\n",
       "    <tr>\n",
       "      <th>Sep</th>\n",
       "      <td>475</td>\n",
       "    </tr>\n",
       "    <tr>\n",
       "      <th>Nov</th>\n",
       "      <td>468</td>\n",
       "    </tr>\n",
       "    <tr>\n",
       "      <th>June</th>\n",
       "      <td>457</td>\n",
       "    </tr>\n",
       "    <tr>\n",
       "      <th>May</th>\n",
       "      <td>405</td>\n",
       "    </tr>\n",
       "    <tr>\n",
       "      <th>Feb</th>\n",
       "      <td>349</td>\n",
       "    </tr>\n",
       "  </tbody>\n",
       "</table>\n",
       "</div>"
      ],
      "text/plain": [
       "      Value_count\n",
       "July          535\n",
       "Dec           511\n",
       "Oct           507\n",
       "Jan           503\n",
       "Apr           501\n",
       "Mar           497\n",
       "Aug           492\n",
       "Sep           475\n",
       "Nov           468\n",
       "June          457\n",
       "May           405\n",
       "Feb           349"
      ]
     },
     "execution_count": 60,
     "metadata": {},
     "output_type": "execute_result"
    }
   ],
   "source": [
    "netflix_copy.month_final.value_counts().to_frame('Value_count')"
   ]
  },
  {
   "cell_type": "code",
   "execution_count": 61,
   "id": "6152e988",
   "metadata": {
    "execution": {
     "iopub.execute_input": "2023-04-27T11:31:06.656495Z",
     "iopub.status.busy": "2023-04-27T11:31:06.656072Z",
     "iopub.status.idle": "2023-04-27T11:31:06.979308Z",
     "shell.execute_reply": "2023-04-27T11:31:06.977926Z"
    },
    "papermill": {
     "duration": 0.412758,
     "end_time": "2023-04-27T11:31:06.982085",
     "exception": false,
     "start_time": "2023-04-27T11:31:06.569327",
     "status": "completed"
    },
    "tags": []
   },
   "outputs": [
    {
     "data": {
      "text/plain": [
       "(array([ 0,  1,  2,  3,  4,  5,  6,  7,  8,  9, 10, 11]),\n",
       " [Text(0, 0, 'Sep'),\n",
       "  Text(1, 0, 'Aug'),\n",
       "  Text(2, 0, 'July'),\n",
       "  Text(3, 0, 'June'),\n",
       "  Text(4, 0, 'May'),\n",
       "  Text(5, 0, 'Apr'),\n",
       "  Text(6, 0, 'Mar'),\n",
       "  Text(7, 0, 'Feb'),\n",
       "  Text(8, 0, 'Jan'),\n",
       "  Text(9, 0, 'Dec'),\n",
       "  Text(10, 0, 'Nov'),\n",
       "  Text(11, 0, 'Oct')])"
      ]
     },
     "execution_count": 61,
     "metadata": {},
     "output_type": "execute_result"
    },
    {
     "data": {
      "image/png": "[encoded data removed]",
      "text/plain": [
       "<Figure size 640x480 with 1 Axes>"
      ]
     },
     "metadata": {},
     "output_type": "display_data"
    }
   ],
   "source": [
    "sns.countplot(x=netflix_copy['month_final'],orient='v')\n",
    "plt.xticks(rotation=90)"
   ]
  },
  {
   "cell_type": "markdown",
   "id": "5462de12",
   "metadata": {
    "papermill": {
     "duration": 0.081144,
     "end_time": "2023-04-27T11:31:07.142233",
     "exception": false,
     "start_time": "2023-04-27T11:31:07.061089",
     "status": "completed"
    },
    "tags": []
   },
   "source": [
    "**Obeservation:** Its clearly shows that **july** month has maximum number of movies released.july is the best Month for releasing content."
   ]
  },
  {
   "cell_type": "markdown",
   "id": "52e87172",
   "metadata": {
    "papermill": {
     "duration": 0.077572,
     "end_time": "2023-04-27T11:31:07.297655",
     "exception": false,
     "start_time": "2023-04-27T11:31:07.220083",
     "status": "completed"
    },
    "tags": []
   },
   "source": [
    "###  4.7 Highest watched genres on Netflix?\n",
    "<a id=section407></a>"
   ]
  },
  {
   "cell_type": "code",
   "execution_count": 62,
   "id": "fa4a14e5",
   "metadata": {
    "execution": {
     "iopub.execute_input": "2023-04-27T11:31:07.456452Z",
     "iopub.status.busy": "2023-04-27T11:31:07.455220Z",
     "iopub.status.idle": "2023-04-27T11:31:07.475995Z",
     "shell.execute_reply": "2023-04-27T11:31:07.474445Z"
    },
    "papermill": {
     "duration": 0.102997,
     "end_time": "2023-04-27T11:31:07.478453",
     "exception": false,
     "start_time": "2023-04-27T11:31:07.375456",
     "status": "completed"
    },
    "tags": []
   },
   "outputs": [
    {
     "data": {
      "text/html": [
       "<div>\n",
       "<style scoped>\n",
       "    .dataframe tbody tr th:only-of-type {\n",
       "        vertical-align: middle;\n",
       "    }\n",
       "\n",
       "    .dataframe tbody tr th {\n",
       "        vertical-align: top;\n",
       "    }\n",
       "\n",
       "    .dataframe thead th {\n",
       "        text-align: right;\n",
       "    }\n",
       "</style>\n",
       "<table border=\"1\" class=\"dataframe\">\n",
       "  <thead>\n",
       "    <tr style=\"text-align: right;\">\n",
       "      <th></th>\n",
       "      <th>show_id</th>\n",
       "      <th>type</th>\n",
       "      <th>title</th>\n",
       "      <th>director</th>\n",
       "      <th>cast</th>\n",
       "      <th>country</th>\n",
       "      <th>date_added</th>\n",
       "      <th>release_year</th>\n",
       "      <th>rating</th>\n",
       "      <th>duration</th>\n",
       "      <th>description</th>\n",
       "      <th>year_added</th>\n",
       "      <th>month_added</th>\n",
       "      <th>Genre 1</th>\n",
       "      <th>Genre 2</th>\n",
       "      <th>Genre 3</th>\n",
       "      <th>month_final</th>\n",
       "    </tr>\n",
       "  </thead>\n",
       "  <tbody>\n",
       "    <tr>\n",
       "      <th>2</th>\n",
       "      <td>s3</td>\n",
       "      <td>TV Show</td>\n",
       "      <td>Ganglands</td>\n",
       "      <td>Julien Leclercq</td>\n",
       "      <td>Sami Bouajila, Tracy Gotoas, Samuel Jouy, Nabi...</td>\n",
       "      <td>missing</td>\n",
       "      <td>2021-09-24</td>\n",
       "      <td>2021</td>\n",
       "      <td>TV-MA</td>\n",
       "      <td>1 Season</td>\n",
       "      <td>To protect his family from a powerful drug lor...</td>\n",
       "      <td>2021</td>\n",
       "      <td>9</td>\n",
       "      <td>Crime TV Shows</td>\n",
       "      <td>International TV Shows</td>\n",
       "      <td>TV Action &amp; Adventure</td>\n",
       "      <td>Sep</td>\n",
       "    </tr>\n",
       "    <tr>\n",
       "      <th>5</th>\n",
       "      <td>s6</td>\n",
       "      <td>TV Show</td>\n",
       "      <td>Midnight Mass</td>\n",
       "      <td>Mike Flanagan</td>\n",
       "      <td>Kate Siegel, Zach Gilford, Hamish Linklater, H...</td>\n",
       "      <td>missing</td>\n",
       "      <td>2021-09-24</td>\n",
       "      <td>2021</td>\n",
       "      <td>TV-MA</td>\n",
       "      <td>1 Season</td>\n",
       "      <td>The arrival of a charismatic young priest brin...</td>\n",
       "      <td>2021</td>\n",
       "      <td>9</td>\n",
       "      <td>TV Dramas</td>\n",
       "      <td>TV Horror</td>\n",
       "      <td>TV Mysteries</td>\n",
       "      <td>Sep</td>\n",
       "    </tr>\n",
       "  </tbody>\n",
       "</table>\n",
       "</div>"
      ],
      "text/plain": [
       "  show_id     type          title         director  \\\n",
       "2      s3  TV Show      Ganglands  Julien Leclercq   \n",
       "5      s6  TV Show  Midnight Mass    Mike Flanagan   \n",
       "\n",
       "                                                cast  country date_added  \\\n",
       "2  Sami Bouajila, Tracy Gotoas, Samuel Jouy, Nabi...  missing 2021-09-24   \n",
       "5  Kate Siegel, Zach Gilford, Hamish Linklater, H...  missing 2021-09-24   \n",
       "\n",
       "   release_year rating  duration  \\\n",
       "2          2021  TV-MA  1 Season   \n",
       "5          2021  TV-MA  1 Season   \n",
       "\n",
       "                                         description  year_added  month_added  \\\n",
       "2  To protect his family from a powerful drug lor...        2021            9   \n",
       "5  The arrival of a charismatic young priest brin...        2021            9   \n",
       "\n",
       "          Genre 1                  Genre 2                 Genre 3 month_final  \n",
       "2  Crime TV Shows   International TV Shows   TV Action & Adventure         Sep  \n",
       "5       TV Dramas                TV Horror            TV Mysteries         Sep  "
      ]
     },
     "execution_count": 62,
     "metadata": {},
     "output_type": "execute_result"
    }
   ],
   "source": [
    "netflix_copy.head(2)"
   ]
  },
  {
   "cell_type": "code",
   "execution_count": 63,
   "id": "2d567df1",
   "metadata": {
    "execution": {
     "iopub.execute_input": "2023-04-27T11:31:07.637085Z",
     "iopub.status.busy": "2023-04-27T11:31:07.636326Z",
     "iopub.status.idle": "2023-04-27T11:31:07.646148Z",
     "shell.execute_reply": "2023-04-27T11:31:07.645307Z"
    },
    "papermill": {
     "duration": 0.091805,
     "end_time": "2023-04-27T11:31:07.648226",
     "exception": false,
     "start_time": "2023-04-27T11:31:07.556421",
     "status": "completed"
    },
    "tags": []
   },
   "outputs": [
    {
     "data": {
      "text/plain": [
       "count       5700\n",
       "unique        33\n",
       "top       Dramas\n",
       "freq        1586\n",
       "Name: Genre 1, dtype: object"
      ]
     },
     "execution_count": 63,
     "metadata": {},
     "output_type": "execute_result"
    }
   ],
   "source": [
    "netflix_copy['Genre 1'].describe(include=all)"
   ]
  },
  {
   "cell_type": "code",
   "execution_count": 64,
   "id": "998cb34b",
   "metadata": {
    "execution": {
     "iopub.execute_input": "2023-04-27T11:31:07.808831Z",
     "iopub.status.busy": "2023-04-27T11:31:07.808024Z",
     "iopub.status.idle": "2023-04-27T11:31:07.817963Z",
     "shell.execute_reply": "2023-04-27T11:31:07.817034Z"
    },
    "papermill": {
     "duration": 0.091741,
     "end_time": "2023-04-27T11:31:07.820060",
     "exception": false,
     "start_time": "2023-04-27T11:31:07.728319",
     "status": "completed"
    },
    "tags": []
   },
   "outputs": [
    {
     "data": {
      "text/plain": [
       "count                      4485\n",
       "unique                       35\n",
       "top        International Movies\n",
       "freq                       1545\n",
       "Name: Genre 2, dtype: object"
      ]
     },
     "execution_count": 64,
     "metadata": {},
     "output_type": "execute_result"
    }
   ],
   "source": [
    "netflix_copy['Genre 2'].describe(include=all)"
   ]
  },
  {
   "cell_type": "code",
   "execution_count": 65,
   "id": "1ea16fc7",
   "metadata": {
    "execution": {
     "iopub.execute_input": "2023-04-27T11:31:07.984109Z",
     "iopub.status.busy": "2023-04-27T11:31:07.983331Z",
     "iopub.status.idle": "2023-04-27T11:31:07.993459Z",
     "shell.execute_reply": "2023-04-27T11:31:07.992474Z"
    },
    "papermill": {
     "duration": 0.094109,
     "end_time": "2023-04-27T11:31:07.995696",
     "exception": false,
     "start_time": "2023-04-27T11:31:07.901587",
     "status": "completed"
    },
    "tags": []
   },
   "outputs": [
    {
     "data": {
      "text/plain": [
       "count                      2434\n",
       "unique                       29\n",
       "top        International Movies\n",
       "freq                        881\n",
       "Name: Genre 3, dtype: object"
      ]
     },
     "execution_count": 65,
     "metadata": {},
     "output_type": "execute_result"
    }
   ],
   "source": [
    "netflix_copy['Genre 3'].describe(include=all)"
   ]
  },
  {
   "cell_type": "code",
   "execution_count": 66,
   "id": "b78f1b2d",
   "metadata": {
    "execution": {
     "iopub.execute_input": "2023-04-27T11:31:08.155614Z",
     "iopub.status.busy": "2023-04-27T11:31:08.154841Z",
     "iopub.status.idle": "2023-04-27T11:31:08.356420Z",
     "shell.execute_reply": "2023-04-27T11:31:08.354767Z"
    },
    "papermill": {
     "duration": 0.285909,
     "end_time": "2023-04-27T11:31:08.360851",
     "exception": false,
     "start_time": "2023-04-27T11:31:08.074942",
     "status": "completed"
    },
    "tags": []
   },
   "outputs": [
    {
     "data": {
      "image/png": "[encoded data removed]",
      "text/plain": [
       "<Figure size 640x480 with 1 Axes>"
      ]
     },
     "metadata": {},
     "output_type": "display_data"
    }
   ],
   "source": [
    "# by using Pie chart\n",
    "genre_types = ['genre 1','genre 2','genre 3']\n",
    "\n",
    "Value_count = [5700,4485,2434]\n",
    "plt.pie(Value_count, labels = genre_types, autopct=\"%2.2f%%\")\n",
    "plt.legend(title='Most watchedgenre on the Netflix')\n",
    "plt.show()"
   ]
  },
  {
   "cell_type": "markdown",
   "id": "d044c363",
   "metadata": {
    "papermill": {
     "duration": 0.078496,
     "end_time": "2023-04-27T11:31:08.524284",
     "exception": false,
     "start_time": "2023-04-27T11:31:08.445788",
     "status": "completed"
    },
    "tags": []
   },
   "source": [
    "**Obeservation:** Above Pi-chart  Shows that Genre1 has watched maximum times."
   ]
  },
  {
   "cell_type": "markdown",
   "id": "e81abee3",
   "metadata": {
    "papermill": {
     "duration": 0.080394,
     "end_time": "2023-04-27T11:31:08.684561",
     "exception": false,
     "start_time": "2023-04-27T11:31:08.604167",
     "status": "completed"
    },
    "tags": []
   },
   "source": [
    "### 4.8 Released movie over the years?\n",
    "<a id=section408></a>"
   ]
  },
  {
   "cell_type": "code",
   "execution_count": 67,
   "id": "ff997ee1",
   "metadata": {
    "execution": {
     "iopub.execute_input": "2023-04-27T11:31:08.853315Z",
     "iopub.status.busy": "2023-04-27T11:31:08.852885Z",
     "iopub.status.idle": "2023-04-27T11:31:08.878154Z",
     "shell.execute_reply": "2023-04-27T11:31:08.876885Z"
    },
    "papermill": {
     "duration": 0.117179,
     "end_time": "2023-04-27T11:31:08.880892",
     "exception": false,
     "start_time": "2023-04-27T11:31:08.763713",
     "status": "completed"
    },
    "tags": []
   },
   "outputs": [
    {
     "data": {
      "text/html": [
       "<div>\n",
       "<style scoped>\n",
       "    .dataframe tbody tr th:only-of-type {\n",
       "        vertical-align: middle;\n",
       "    }\n",
       "\n",
       "    .dataframe tbody tr th {\n",
       "        vertical-align: top;\n",
       "    }\n",
       "\n",
       "    .dataframe thead th {\n",
       "        text-align: right;\n",
       "    }\n",
       "</style>\n",
       "<table border=\"1\" class=\"dataframe\">\n",
       "  <thead>\n",
       "    <tr style=\"text-align: right;\">\n",
       "      <th></th>\n",
       "      <th>show_id</th>\n",
       "      <th>type</th>\n",
       "      <th>title</th>\n",
       "      <th>director</th>\n",
       "      <th>cast</th>\n",
       "      <th>country</th>\n",
       "      <th>date_added</th>\n",
       "      <th>release_year</th>\n",
       "      <th>rating</th>\n",
       "      <th>duration</th>\n",
       "      <th>description</th>\n",
       "      <th>year_added</th>\n",
       "      <th>month_added</th>\n",
       "      <th>Genre 1</th>\n",
       "      <th>Genre 2</th>\n",
       "      <th>Genre 3</th>\n",
       "      <th>month_final</th>\n",
       "    </tr>\n",
       "  </thead>\n",
       "  <tbody>\n",
       "    <tr>\n",
       "      <th>2</th>\n",
       "      <td>s3</td>\n",
       "      <td>TV Show</td>\n",
       "      <td>Ganglands</td>\n",
       "      <td>Julien Leclercq</td>\n",
       "      <td>Sami Bouajila, Tracy Gotoas, Samuel Jouy, Nabi...</td>\n",
       "      <td>missing</td>\n",
       "      <td>2021-09-24</td>\n",
       "      <td>2021</td>\n",
       "      <td>TV-MA</td>\n",
       "      <td>1 Season</td>\n",
       "      <td>To protect his family from a powerful drug lor...</td>\n",
       "      <td>2021</td>\n",
       "      <td>9</td>\n",
       "      <td>Crime TV Shows</td>\n",
       "      <td>International TV Shows</td>\n",
       "      <td>TV Action &amp; Adventure</td>\n",
       "      <td>Sep</td>\n",
       "    </tr>\n",
       "    <tr>\n",
       "      <th>5</th>\n",
       "      <td>s6</td>\n",
       "      <td>TV Show</td>\n",
       "      <td>Midnight Mass</td>\n",
       "      <td>Mike Flanagan</td>\n",
       "      <td>Kate Siegel, Zach Gilford, Hamish Linklater, H...</td>\n",
       "      <td>missing</td>\n",
       "      <td>2021-09-24</td>\n",
       "      <td>2021</td>\n",
       "      <td>TV-MA</td>\n",
       "      <td>1 Season</td>\n",
       "      <td>The arrival of a charismatic young priest brin...</td>\n",
       "      <td>2021</td>\n",
       "      <td>9</td>\n",
       "      <td>TV Dramas</td>\n",
       "      <td>TV Horror</td>\n",
       "      <td>TV Mysteries</td>\n",
       "      <td>Sep</td>\n",
       "    </tr>\n",
       "  </tbody>\n",
       "</table>\n",
       "</div>"
      ],
      "text/plain": [
       "  show_id     type          title         director  \\\n",
       "2      s3  TV Show      Ganglands  Julien Leclercq   \n",
       "5      s6  TV Show  Midnight Mass    Mike Flanagan   \n",
       "\n",
       "                                                cast  country date_added  \\\n",
       "2  Sami Bouajila, Tracy Gotoas, Samuel Jouy, Nabi...  missing 2021-09-24   \n",
       "5  Kate Siegel, Zach Gilford, Hamish Linklater, H...  missing 2021-09-24   \n",
       "\n",
       "   release_year rating  duration  \\\n",
       "2          2021  TV-MA  1 Season   \n",
       "5          2021  TV-MA  1 Season   \n",
       "\n",
       "                                         description  year_added  month_added  \\\n",
       "2  To protect his family from a powerful drug lor...        2021            9   \n",
       "5  The arrival of a charismatic young priest brin...        2021            9   \n",
       "\n",
       "          Genre 1                  Genre 2                 Genre 3 month_final  \n",
       "2  Crime TV Shows   International TV Shows   TV Action & Adventure         Sep  \n",
       "5       TV Dramas                TV Horror            TV Mysteries         Sep  "
      ]
     },
     "execution_count": 67,
     "metadata": {},
     "output_type": "execute_result"
    }
   ],
   "source": [
    "netflix_copy.head(2)"
   ]
  },
  {
   "cell_type": "code",
   "execution_count": 68,
   "id": "ca48023d",
   "metadata": {
    "execution": {
     "iopub.execute_input": "2023-04-27T11:31:09.055517Z",
     "iopub.status.busy": "2023-04-27T11:31:09.054816Z",
     "iopub.status.idle": "2023-04-27T11:31:09.066065Z",
     "shell.execute_reply": "2023-04-27T11:31:09.064777Z"
    },
    "papermill": {
     "duration": 0.102662,
     "end_time": "2023-04-27T11:31:09.069145",
     "exception": false,
     "start_time": "2023-04-27T11:31:08.966483",
     "status": "completed"
    },
    "tags": []
   },
   "outputs": [
    {
     "data": {
      "text/plain": [
       "release_year\n",
       "2018    691\n",
       "2017    684\n",
       "2016    584\n",
       "2019    570\n",
       "2020    499\n",
       "       ... \n",
       "1944      1\n",
       "1947      1\n",
       "1946      1\n",
       "1945      1\n",
       "1942      1\n",
       "Name: release_year, Length: 72, dtype: int64"
      ]
     },
     "execution_count": 68,
     "metadata": {},
     "output_type": "execute_result"
    }
   ],
   "source": [
    "# no. of movies released by every year\n",
    "\n",
    "netflix_copy.groupby(['release_year'])['release_year'].count().sort_values(ascending = False)"
   ]
  },
  {
   "cell_type": "code",
   "execution_count": 69,
   "id": "0dd2e845",
   "metadata": {
    "execution": {
     "iopub.execute_input": "2023-04-27T11:31:09.234995Z",
     "iopub.status.busy": "2023-04-27T11:31:09.234579Z",
     "iopub.status.idle": "2023-04-27T11:31:09.247139Z",
     "shell.execute_reply": "2023-04-27T11:31:09.245901Z"
    },
    "papermill": {
     "duration": 0.09938,
     "end_time": "2023-04-27T11:31:09.249470",
     "exception": false,
     "start_time": "2023-04-27T11:31:09.150090",
     "status": "completed"
    },
    "tags": []
   },
   "outputs": [
    {
     "data": {
      "text/html": [
       "<div>\n",
       "<style scoped>\n",
       "    .dataframe tbody tr th:only-of-type {\n",
       "        vertical-align: middle;\n",
       "    }\n",
       "\n",
       "    .dataframe tbody tr th {\n",
       "        vertical-align: top;\n",
       "    }\n",
       "\n",
       "    .dataframe thead th {\n",
       "        text-align: right;\n",
       "    }\n",
       "</style>\n",
       "<table border=\"1\" class=\"dataframe\">\n",
       "  <thead>\n",
       "    <tr style=\"text-align: right;\">\n",
       "      <th></th>\n",
       "      <th>Value_count</th>\n",
       "    </tr>\n",
       "  </thead>\n",
       "  <tbody>\n",
       "    <tr>\n",
       "      <th>2018</th>\n",
       "      <td>691</td>\n",
       "    </tr>\n",
       "    <tr>\n",
       "      <th>2017</th>\n",
       "      <td>684</td>\n",
       "    </tr>\n",
       "    <tr>\n",
       "      <th>2016</th>\n",
       "      <td>584</td>\n",
       "    </tr>\n",
       "    <tr>\n",
       "      <th>2019</th>\n",
       "      <td>570</td>\n",
       "    </tr>\n",
       "    <tr>\n",
       "      <th>2020</th>\n",
       "      <td>499</td>\n",
       "    </tr>\n",
       "    <tr>\n",
       "      <th>...</th>\n",
       "      <td>...</td>\n",
       "    </tr>\n",
       "    <tr>\n",
       "      <th>1946</th>\n",
       "      <td>1</td>\n",
       "    </tr>\n",
       "    <tr>\n",
       "      <th>1959</th>\n",
       "      <td>1</td>\n",
       "    </tr>\n",
       "    <tr>\n",
       "      <th>1942</th>\n",
       "      <td>1</td>\n",
       "    </tr>\n",
       "    <tr>\n",
       "      <th>1947</th>\n",
       "      <td>1</td>\n",
       "    </tr>\n",
       "    <tr>\n",
       "      <th>1944</th>\n",
       "      <td>1</td>\n",
       "    </tr>\n",
       "  </tbody>\n",
       "</table>\n",
       "<p>72 rows × 1 columns</p>\n",
       "</div>"
      ],
      "text/plain": [
       "      Value_count\n",
       "2018          691\n",
       "2017          684\n",
       "2016          584\n",
       "2019          570\n",
       "2020          499\n",
       "...           ...\n",
       "1946            1\n",
       "1959            1\n",
       "1942            1\n",
       "1947            1\n",
       "1944            1\n",
       "\n",
       "[72 rows x 1 columns]"
      ]
     },
     "execution_count": 69,
     "metadata": {},
     "output_type": "execute_result"
    }
   ],
   "source": [
    "netflix_copy.release_year.value_counts().to_frame('Value_count')"
   ]
  },
  {
   "cell_type": "code",
   "execution_count": 70,
   "id": "2f8f45ff",
   "metadata": {
    "execution": {
     "iopub.execute_input": "2023-04-27T11:31:09.413980Z",
     "iopub.status.busy": "2023-04-27T11:31:09.413527Z",
     "iopub.status.idle": "2023-04-27T11:31:11.163571Z",
     "shell.execute_reply": "2023-04-27T11:31:11.161975Z"
    },
    "papermill": {
     "duration": 1.833805,
     "end_time": "2023-04-27T11:31:11.166692",
     "exception": false,
     "start_time": "2023-04-27T11:31:09.332887",
     "status": "completed"
    },
    "tags": []
   },
   "outputs": [
    {
     "data": {
      "image/png": "[encoded data removed]",
      "text/plain": [
       "<Figure size 640x480 with 1 Axes>"
      ]
     },
     "metadata": {},
     "output_type": "display_data"
    }
   ],
   "source": [
    "sns.countplot(x='release_year', data=netflix).set_title('Count plot for Movies with passing Years.')\n",
    "sns.set(rc={'figure.figsize':(20,20)})\n",
    "plt.show()"
   ]
  },
  {
   "cell_type": "markdown",
   "id": "f55400ac",
   "metadata": {
    "papermill": {
     "duration": 0.081819,
     "end_time": "2023-04-27T11:31:11.330456",
     "exception": false,
     "start_time": "2023-04-27T11:31:11.248637",
     "status": "completed"
    },
    "tags": []
   },
   "source": [
    "**Observation:**\n",
    "\n",
    "From the above we can see that with passing years more movies are being made year by year\n",
    "\n",
    "The above data shows that there is a sudden increase in the creation of movies in year 2016 as compared to year 2015"
   ]
  },
  {
   "cell_type": "markdown",
   "id": "064a3ea8",
   "metadata": {
    "papermill": {
     "duration": 0.08154,
     "end_time": "2023-04-27T11:31:11.496660",
     "exception": false,
     "start_time": "2023-04-27T11:31:11.415120",
     "status": "completed"
    },
    "tags": []
   },
   "source": [
    "### 4.9 movies made on year basis? or \n",
    "### In which year highest number of the TV shows & Movies were released? show with Bar Graph.\n",
    "<a id=section409></a>"
   ]
  },
  {
   "cell_type": "code",
   "execution_count": 71,
   "id": "ce0b06db",
   "metadata": {
    "execution": {
     "iopub.execute_input": "2023-04-27T11:31:11.662108Z",
     "iopub.status.busy": "2023-04-27T11:31:11.661700Z",
     "iopub.status.idle": "2023-04-27T11:31:11.682164Z",
     "shell.execute_reply": "2023-04-27T11:31:11.680788Z"
    },
    "papermill": {
     "duration": 0.10523,
     "end_time": "2023-04-27T11:31:11.684590",
     "exception": false,
     "start_time": "2023-04-27T11:31:11.579360",
     "status": "completed"
    },
    "tags": []
   },
   "outputs": [
    {
     "data": {
      "text/html": [
       "<div>\n",
       "<style scoped>\n",
       "    .dataframe tbody tr th:only-of-type {\n",
       "        vertical-align: middle;\n",
       "    }\n",
       "\n",
       "    .dataframe tbody tr th {\n",
       "        vertical-align: top;\n",
       "    }\n",
       "\n",
       "    .dataframe thead th {\n",
       "        text-align: right;\n",
       "    }\n",
       "</style>\n",
       "<table border=\"1\" class=\"dataframe\">\n",
       "  <thead>\n",
       "    <tr style=\"text-align: right;\">\n",
       "      <th></th>\n",
       "      <th>show_id</th>\n",
       "      <th>type</th>\n",
       "      <th>title</th>\n",
       "      <th>director</th>\n",
       "      <th>cast</th>\n",
       "      <th>country</th>\n",
       "      <th>date_added</th>\n",
       "      <th>release_year</th>\n",
       "      <th>rating</th>\n",
       "      <th>duration</th>\n",
       "      <th>description</th>\n",
       "      <th>year_added</th>\n",
       "      <th>month_added</th>\n",
       "      <th>Genre 1</th>\n",
       "      <th>Genre 2</th>\n",
       "      <th>Genre 3</th>\n",
       "      <th>month_final</th>\n",
       "    </tr>\n",
       "  </thead>\n",
       "  <tbody>\n",
       "    <tr>\n",
       "      <th>2</th>\n",
       "      <td>s3</td>\n",
       "      <td>TV Show</td>\n",
       "      <td>Ganglands</td>\n",
       "      <td>Julien Leclercq</td>\n",
       "      <td>Sami Bouajila, Tracy Gotoas, Samuel Jouy, Nabi...</td>\n",
       "      <td>missing</td>\n",
       "      <td>2021-09-24</td>\n",
       "      <td>2021</td>\n",
       "      <td>TV-MA</td>\n",
       "      <td>1 Season</td>\n",
       "      <td>To protect his family from a powerful drug lor...</td>\n",
       "      <td>2021</td>\n",
       "      <td>9</td>\n",
       "      <td>Crime TV Shows</td>\n",
       "      <td>International TV Shows</td>\n",
       "      <td>TV Action &amp; Adventure</td>\n",
       "      <td>Sep</td>\n",
       "    </tr>\n",
       "    <tr>\n",
       "      <th>5</th>\n",
       "      <td>s6</td>\n",
       "      <td>TV Show</td>\n",
       "      <td>Midnight Mass</td>\n",
       "      <td>Mike Flanagan</td>\n",
       "      <td>Kate Siegel, Zach Gilford, Hamish Linklater, H...</td>\n",
       "      <td>missing</td>\n",
       "      <td>2021-09-24</td>\n",
       "      <td>2021</td>\n",
       "      <td>TV-MA</td>\n",
       "      <td>1 Season</td>\n",
       "      <td>The arrival of a charismatic young priest brin...</td>\n",
       "      <td>2021</td>\n",
       "      <td>9</td>\n",
       "      <td>TV Dramas</td>\n",
       "      <td>TV Horror</td>\n",
       "      <td>TV Mysteries</td>\n",
       "      <td>Sep</td>\n",
       "    </tr>\n",
       "  </tbody>\n",
       "</table>\n",
       "</div>"
      ],
      "text/plain": [
       "  show_id     type          title         director  \\\n",
       "2      s3  TV Show      Ganglands  Julien Leclercq   \n",
       "5      s6  TV Show  Midnight Mass    Mike Flanagan   \n",
       "\n",
       "                                                cast  country date_added  \\\n",
       "2  Sami Bouajila, Tracy Gotoas, Samuel Jouy, Nabi...  missing 2021-09-24   \n",
       "5  Kate Siegel, Zach Gilford, Hamish Linklater, H...  missing 2021-09-24   \n",
       "\n",
       "   release_year rating  duration  \\\n",
       "2          2021  TV-MA  1 Season   \n",
       "5          2021  TV-MA  1 Season   \n",
       "\n",
       "                                         description  year_added  month_added  \\\n",
       "2  To protect his family from a powerful drug lor...        2021            9   \n",
       "5  The arrival of a charismatic young priest brin...        2021            9   \n",
       "\n",
       "          Genre 1                  Genre 2                 Genre 3 month_final  \n",
       "2  Crime TV Shows   International TV Shows   TV Action & Adventure         Sep  \n",
       "5       TV Dramas                TV Horror            TV Mysteries         Sep  "
      ]
     },
     "execution_count": 71,
     "metadata": {},
     "output_type": "execute_result"
    }
   ],
   "source": [
    "netflix_copy.head(2)"
   ]
  },
  {
   "cell_type": "code",
   "execution_count": 72,
   "id": "07dfadb5",
   "metadata": {
    "execution": {
     "iopub.execute_input": "2023-04-27T11:31:11.850141Z",
     "iopub.status.busy": "2023-04-27T11:31:11.849481Z",
     "iopub.status.idle": "2023-04-27T11:31:11.860257Z",
     "shell.execute_reply": "2023-04-27T11:31:11.859415Z"
    },
    "papermill": {
     "duration": 0.096335,
     "end_time": "2023-04-27T11:31:11.862438",
     "exception": false,
     "start_time": "2023-04-27T11:31:11.766103",
     "status": "completed"
    },
    "tags": []
   },
   "outputs": [
    {
     "data": {
      "text/html": [
       "<div>\n",
       "<style scoped>\n",
       "    .dataframe tbody tr th:only-of-type {\n",
       "        vertical-align: middle;\n",
       "    }\n",
       "\n",
       "    .dataframe tbody tr th {\n",
       "        vertical-align: top;\n",
       "    }\n",
       "\n",
       "    .dataframe thead th {\n",
       "        text-align: right;\n",
       "    }\n",
       "</style>\n",
       "<table border=\"1\" class=\"dataframe\">\n",
       "  <thead>\n",
       "    <tr style=\"text-align: right;\">\n",
       "      <th></th>\n",
       "      <th>Value_count</th>\n",
       "    </tr>\n",
       "  </thead>\n",
       "  <tbody>\n",
       "    <tr>\n",
       "      <th>2019</th>\n",
       "      <td>1323</td>\n",
       "    </tr>\n",
       "    <tr>\n",
       "      <th>2020</th>\n",
       "      <td>1248</td>\n",
       "    </tr>\n",
       "    <tr>\n",
       "      <th>2018</th>\n",
       "      <td>1125</td>\n",
       "    </tr>\n",
       "    <tr>\n",
       "      <th>2021</th>\n",
       "      <td>962</td>\n",
       "    </tr>\n",
       "    <tr>\n",
       "      <th>2017</th>\n",
       "      <td>744</td>\n",
       "    </tr>\n",
       "    <tr>\n",
       "      <th>2016</th>\n",
       "      <td>206</td>\n",
       "    </tr>\n",
       "    <tr>\n",
       "      <th>2015</th>\n",
       "      <td>51</td>\n",
       "    </tr>\n",
       "    <tr>\n",
       "      <th>2014</th>\n",
       "      <td>14</td>\n",
       "    </tr>\n",
       "    <tr>\n",
       "      <th>2011</th>\n",
       "      <td>13</td>\n",
       "    </tr>\n",
       "    <tr>\n",
       "      <th>2013</th>\n",
       "      <td>7</td>\n",
       "    </tr>\n",
       "    <tr>\n",
       "      <th>2012</th>\n",
       "      <td>3</td>\n",
       "    </tr>\n",
       "    <tr>\n",
       "      <th>2009</th>\n",
       "      <td>2</td>\n",
       "    </tr>\n",
       "    <tr>\n",
       "      <th>2008</th>\n",
       "      <td>1</td>\n",
       "    </tr>\n",
       "    <tr>\n",
       "      <th>2010</th>\n",
       "      <td>1</td>\n",
       "    </tr>\n",
       "  </tbody>\n",
       "</table>\n",
       "</div>"
      ],
      "text/plain": [
       "      Value_count\n",
       "2019         1323\n",
       "2020         1248\n",
       "2018         1125\n",
       "2021          962\n",
       "2017          744\n",
       "2016          206\n",
       "2015           51\n",
       "2014           14\n",
       "2011           13\n",
       "2013            7\n",
       "2012            3\n",
       "2009            2\n",
       "2008            1\n",
       "2010            1"
      ]
     },
     "execution_count": 72,
     "metadata": {},
     "output_type": "execute_result"
    }
   ],
   "source": [
    "netflix_copy.year_added.value_counts().to_frame('Value_count')"
   ]
  },
  {
   "cell_type": "code",
   "execution_count": 73,
   "id": "90cdaad3",
   "metadata": {
    "execution": {
     "iopub.execute_input": "2023-04-27T11:31:12.029535Z",
     "iopub.status.busy": "2023-04-27T11:31:12.028418Z",
     "iopub.status.idle": "2023-04-27T11:31:12.037566Z",
     "shell.execute_reply": "2023-04-27T11:31:12.036424Z"
    },
    "papermill": {
     "duration": 0.096074,
     "end_time": "2023-04-27T11:31:12.039975",
     "exception": false,
     "start_time": "2023-04-27T11:31:11.943901",
     "status": "completed"
    },
    "tags": []
   },
   "outputs": [
    {
     "data": {
      "text/plain": [
       "show_id                 object\n",
       "type                    object\n",
       "title                   object\n",
       "director                object\n",
       "cast                    object\n",
       "country                 object\n",
       "date_added      datetime64[ns]\n",
       "release_year             int64\n",
       "rating                  object\n",
       "duration                object\n",
       "description             object\n",
       "year_added               int64\n",
       "month_added              int64\n",
       "Genre 1                 object\n",
       "Genre 2                 object\n",
       "Genre 3                 object\n",
       "month_final             object\n",
       "dtype: object"
      ]
     },
     "execution_count": 73,
     "metadata": {},
     "output_type": "execute_result"
    }
   ],
   "source": [
    "netflix_copy.dtypes"
   ]
  },
  {
   "cell_type": "code",
   "execution_count": 74,
   "id": "4a25fdb6",
   "metadata": {
    "execution": {
     "iopub.execute_input": "2023-04-27T11:31:12.207119Z",
     "iopub.status.busy": "2023-04-27T11:31:12.206307Z",
     "iopub.status.idle": "2023-04-27T11:31:12.216202Z",
     "shell.execute_reply": "2023-04-27T11:31:12.215050Z"
    },
    "papermill": {
     "duration": 0.095248,
     "end_time": "2023-04-27T11:31:12.218541",
     "exception": false,
     "start_time": "2023-04-27T11:31:12.123293",
     "status": "completed"
    },
    "tags": []
   },
   "outputs": [
    {
     "data": {
      "text/plain": [
       "2019    1323\n",
       "2020    1248\n",
       "2018    1125\n",
       "2021     962\n",
       "2017     744\n",
       "2016     206\n",
       "2015      51\n",
       "2014      14\n",
       "2011      13\n",
       "2013       7\n",
       "2012       3\n",
       "2009       2\n",
       "2008       1\n",
       "2010       1\n",
       "Name: date_added, dtype: int64"
      ]
     },
     "execution_count": 74,
     "metadata": {},
     "output_type": "execute_result"
    }
   ],
   "source": [
    "netflix_copy[\"date_added\"].dt.year.value_counts()"
   ]
  },
  {
   "cell_type": "code",
   "execution_count": 75,
   "id": "11f7d4ff",
   "metadata": {
    "execution": {
     "iopub.execute_input": "2023-04-27T11:31:12.385047Z",
     "iopub.status.busy": "2023-04-27T11:31:12.384160Z",
     "iopub.status.idle": "2023-04-27T11:31:12.860906Z",
     "shell.execute_reply": "2023-04-27T11:31:12.859929Z"
    },
    "papermill": {
     "duration": 0.562685,
     "end_time": "2023-04-27T11:31:12.863369",
     "exception": false,
     "start_time": "2023-04-27T11:31:12.300684",
     "status": "completed"
    },
    "tags": []
   },
   "outputs": [
    {
     "data": {
      "text/plain": [
       "<AxesSubplot:>"
      ]
     },
     "execution_count": 75,
     "metadata": {},
     "output_type": "execute_result"
    },
    {
     "data": {
      "image/png": "[encoded data removed]",
      "text/plain": [
       "<Figure size 2000x2000 with 1 Axes>"
      ]
     },
     "metadata": {},
     "output_type": "display_data"
    }
   ],
   "source": [
    "netflix_copy[\"date_added\"].dt.year.value_counts().plot(kind='bar')"
   ]
  },
  {
   "cell_type": "markdown",
   "id": "bd5b567d",
   "metadata": {
    "papermill": {
     "duration": 0.083734,
     "end_time": "2023-04-27T11:31:13.028855",
     "exception": false,
     "start_time": "2023-04-27T11:31:12.945121",
     "status": "completed"
    },
    "tags": []
   },
   "source": [
    "**Obeservation**:\n",
    "    Its clearly shows that maximum movie made on yr 2019."
   ]
  },
  {
   "cell_type": "markdown",
   "id": "ef2d682f",
   "metadata": {
    "papermill": {
     "duration": 0.081624,
     "end_time": "2023-04-27T11:31:13.194629",
     "exception": false,
     "start_time": "2023-04-27T11:31:13.113005",
     "status": "completed"
    },
    "tags": []
   },
   "source": [
    "### 4.10 What is the show id and director for 'House of cards'?\n",
    "<a id=section410></a>"
   ]
  },
  {
   "cell_type": "code",
   "execution_count": 76,
   "id": "309c9ea4",
   "metadata": {
    "execution": {
     "iopub.execute_input": "2023-04-27T11:31:13.362973Z",
     "iopub.status.busy": "2023-04-27T11:31:13.362534Z",
     "iopub.status.idle": "2023-04-27T11:31:13.381569Z",
     "shell.execute_reply": "2023-04-27T11:31:13.380532Z"
    },
    "papermill": {
     "duration": 0.105655,
     "end_time": "2023-04-27T11:31:13.383871",
     "exception": false,
     "start_time": "2023-04-27T11:31:13.278216",
     "status": "completed"
    },
    "tags": []
   },
   "outputs": [
    {
     "data": {
      "text/html": [
       "<div>\n",
       "<style scoped>\n",
       "    .dataframe tbody tr th:only-of-type {\n",
       "        vertical-align: middle;\n",
       "    }\n",
       "\n",
       "    .dataframe tbody tr th {\n",
       "        vertical-align: top;\n",
       "    }\n",
       "\n",
       "    .dataframe thead th {\n",
       "        text-align: right;\n",
       "    }\n",
       "</style>\n",
       "<table border=\"1\" class=\"dataframe\">\n",
       "  <thead>\n",
       "    <tr style=\"text-align: right;\">\n",
       "      <th></th>\n",
       "      <th>show_id</th>\n",
       "      <th>type</th>\n",
       "      <th>title</th>\n",
       "      <th>director</th>\n",
       "      <th>cast</th>\n",
       "      <th>country</th>\n",
       "      <th>date_added</th>\n",
       "      <th>release_year</th>\n",
       "      <th>rating</th>\n",
       "      <th>duration</th>\n",
       "      <th>listed_in</th>\n",
       "      <th>description</th>\n",
       "    </tr>\n",
       "  </thead>\n",
       "  <tbody>\n",
       "    <tr>\n",
       "      <th>0</th>\n",
       "      <td>s1</td>\n",
       "      <td>Movie</td>\n",
       "      <td>Dick Johnson Is Dead</td>\n",
       "      <td>Kirsten Johnson</td>\n",
       "      <td>NaN</td>\n",
       "      <td>United States</td>\n",
       "      <td>September 25, 2021</td>\n",
       "      <td>2020</td>\n",
       "      <td>PG-13</td>\n",
       "      <td>90 min</td>\n",
       "      <td>Documentaries</td>\n",
       "      <td>As her father nears the end of his life, filmm...</td>\n",
       "    </tr>\n",
       "    <tr>\n",
       "      <th>1</th>\n",
       "      <td>s2</td>\n",
       "      <td>TV Show</td>\n",
       "      <td>Blood &amp; Water</td>\n",
       "      <td>NaN</td>\n",
       "      <td>Ama Qamata, Khosi Ngema, Gail Mabalane, Thaban...</td>\n",
       "      <td>South Africa</td>\n",
       "      <td>September 24, 2021</td>\n",
       "      <td>2021</td>\n",
       "      <td>TV-MA</td>\n",
       "      <td>2 Seasons</td>\n",
       "      <td>International TV Shows, TV Dramas, TV Mysteries</td>\n",
       "      <td>After crossing paths at a party, a Cape Town t...</td>\n",
       "    </tr>\n",
       "  </tbody>\n",
       "</table>\n",
       "</div>"
      ],
      "text/plain": [
       "  show_id     type                 title         director  \\\n",
       "0      s1    Movie  Dick Johnson Is Dead  Kirsten Johnson   \n",
       "1      s2  TV Show         Blood & Water              NaN   \n",
       "\n",
       "                                                cast        country  \\\n",
       "0                                                NaN  United States   \n",
       "1  Ama Qamata, Khosi Ngema, Gail Mabalane, Thaban...   South Africa   \n",
       "\n",
       "           date_added  release_year rating   duration  \\\n",
       "0  September 25, 2021          2020  PG-13     90 min   \n",
       "1  September 24, 2021          2021  TV-MA  2 Seasons   \n",
       "\n",
       "                                         listed_in  \\\n",
       "0                                    Documentaries   \n",
       "1  International TV Shows, TV Dramas, TV Mysteries   \n",
       "\n",
       "                                         description  \n",
       "0  As her father nears the end of his life, filmm...  \n",
       "1  After crossing paths at a party, a Cape Town t...  "
      ]
     },
     "execution_count": 76,
     "metadata": {},
     "output_type": "execute_result"
    }
   ],
   "source": [
    "netflix.head(2)"
   ]
  },
  {
   "cell_type": "code",
   "execution_count": 77,
   "id": "eac0d1f3",
   "metadata": {
    "execution": {
     "iopub.execute_input": "2023-04-27T11:31:13.555025Z",
     "iopub.status.busy": "2023-04-27T11:31:13.554169Z",
     "iopub.status.idle": "2023-04-27T11:31:13.570989Z",
     "shell.execute_reply": "2023-04-27T11:31:13.569833Z"
    },
    "papermill": {
     "duration": 0.103054,
     "end_time": "2023-04-27T11:31:13.573358",
     "exception": false,
     "start_time": "2023-04-27T11:31:13.470304",
     "status": "completed"
    },
    "tags": []
   },
   "outputs": [
    {
     "data": {
      "text/html": [
       "<div>\n",
       "<style scoped>\n",
       "    .dataframe tbody tr th:only-of-type {\n",
       "        vertical-align: middle;\n",
       "    }\n",
       "\n",
       "    .dataframe tbody tr th {\n",
       "        vertical-align: top;\n",
       "    }\n",
       "\n",
       "    .dataframe thead th {\n",
       "        text-align: right;\n",
       "    }\n",
       "</style>\n",
       "<table border=\"1\" class=\"dataframe\">\n",
       "  <thead>\n",
       "    <tr style=\"text-align: right;\">\n",
       "      <th></th>\n",
       "      <th>show_id</th>\n",
       "      <th>type</th>\n",
       "      <th>title</th>\n",
       "      <th>director</th>\n",
       "      <th>cast</th>\n",
       "      <th>country</th>\n",
       "      <th>date_added</th>\n",
       "      <th>release_year</th>\n",
       "      <th>rating</th>\n",
       "      <th>duration</th>\n",
       "      <th>listed_in</th>\n",
       "      <th>description</th>\n",
       "    </tr>\n",
       "  </thead>\n",
       "  <tbody>\n",
       "    <tr>\n",
       "      <th>1059</th>\n",
       "      <td>s1060</td>\n",
       "      <td>TV Show</td>\n",
       "      <td>House of Cards</td>\n",
       "      <td>NaN</td>\n",
       "      <td>Kevin Spacey, Robin Wright, Kate Mara, Corey S...</td>\n",
       "      <td>United States</td>\n",
       "      <td>April 14, 2021</td>\n",
       "      <td>2018</td>\n",
       "      <td>TV-MA</td>\n",
       "      <td>6 Seasons</td>\n",
       "      <td>TV Dramas, TV Thrillers</td>\n",
       "      <td>A ruthless politician will stop at nothing to ...</td>\n",
       "    </tr>\n",
       "  </tbody>\n",
       "</table>\n",
       "</div>"
      ],
      "text/plain": [
       "     show_id     type           title director  \\\n",
       "1059   s1060  TV Show  House of Cards      NaN   \n",
       "\n",
       "                                                   cast        country  \\\n",
       "1059  Kevin Spacey, Robin Wright, Kate Mara, Corey S...  United States   \n",
       "\n",
       "          date_added  release_year rating   duration                listed_in  \\\n",
       "1059  April 14, 2021          2018  TV-MA  6 Seasons  TV Dramas, TV Thrillers   \n",
       "\n",
       "                                            description  \n",
       "1059  A ruthless politician will stop at nothing to ...  "
      ]
     },
     "execution_count": 77,
     "metadata": {},
     "output_type": "execute_result"
    }
   ],
   "source": [
    "# method 1:\n",
    "netflix[netflix['title'].isin([\"House of Cards\"])]  # to shows all records of a particular item in any column"
   ]
  },
  {
   "cell_type": "code",
   "execution_count": 78,
   "id": "ea3e3568",
   "metadata": {
    "execution": {
     "iopub.execute_input": "2023-04-27T11:31:13.741803Z",
     "iopub.status.busy": "2023-04-27T11:31:13.740941Z",
     "iopub.status.idle": "2023-04-27T11:31:13.762323Z",
     "shell.execute_reply": "2023-04-27T11:31:13.761051Z"
    },
    "papermill": {
     "duration": 0.109164,
     "end_time": "2023-04-27T11:31:13.764908",
     "exception": false,
     "start_time": "2023-04-27T11:31:13.655744",
     "status": "completed"
    },
    "tags": []
   },
   "outputs": [
    {
     "data": {
      "text/html": [
       "<div>\n",
       "<style scoped>\n",
       "    .dataframe tbody tr th:only-of-type {\n",
       "        vertical-align: middle;\n",
       "    }\n",
       "\n",
       "    .dataframe tbody tr th {\n",
       "        vertical-align: top;\n",
       "    }\n",
       "\n",
       "    .dataframe thead th {\n",
       "        text-align: right;\n",
       "    }\n",
       "</style>\n",
       "<table border=\"1\" class=\"dataframe\">\n",
       "  <thead>\n",
       "    <tr style=\"text-align: right;\">\n",
       "      <th></th>\n",
       "      <th>show_id</th>\n",
       "      <th>type</th>\n",
       "      <th>title</th>\n",
       "      <th>director</th>\n",
       "      <th>cast</th>\n",
       "      <th>country</th>\n",
       "      <th>date_added</th>\n",
       "      <th>release_year</th>\n",
       "      <th>rating</th>\n",
       "      <th>duration</th>\n",
       "      <th>listed_in</th>\n",
       "      <th>description</th>\n",
       "    </tr>\n",
       "  </thead>\n",
       "  <tbody>\n",
       "    <tr>\n",
       "      <th>1059</th>\n",
       "      <td>s1060</td>\n",
       "      <td>TV Show</td>\n",
       "      <td>House of Cards</td>\n",
       "      <td>NaN</td>\n",
       "      <td>Kevin Spacey, Robin Wright, Kate Mara, Corey S...</td>\n",
       "      <td>United States</td>\n",
       "      <td>April 14, 2021</td>\n",
       "      <td>2018</td>\n",
       "      <td>TV-MA</td>\n",
       "      <td>6 Seasons</td>\n",
       "      <td>TV Dramas, TV Thrillers</td>\n",
       "      <td>A ruthless politician will stop at nothing to ...</td>\n",
       "    </tr>\n",
       "  </tbody>\n",
       "</table>\n",
       "</div>"
      ],
      "text/plain": [
       "     show_id     type           title director  \\\n",
       "1059   s1060  TV Show  House of Cards      NaN   \n",
       "\n",
       "                                                   cast        country  \\\n",
       "1059  Kevin Spacey, Robin Wright, Kate Mara, Corey S...  United States   \n",
       "\n",
       "          date_added  release_year rating   duration                listed_in  \\\n",
       "1059  April 14, 2021          2018  TV-MA  6 Seasons  TV Dramas, TV Thrillers   \n",
       "\n",
       "                                            description  \n",
       "1059  A ruthless politician will stop at nothing to ...  "
      ]
     },
     "execution_count": 78,
     "metadata": {},
     "output_type": "execute_result"
    }
   ],
   "source": [
    "# method 2:\n",
    "\n",
    "netflix[netflix['title'].str.contains(\"House of Cards\")] "
   ]
  },
  {
   "cell_type": "markdown",
   "id": "3da9fd47",
   "metadata": {
    "papermill": {
     "duration": 0.082704,
     "end_time": "2023-04-27T11:31:13.931315",
     "exception": false,
     "start_time": "2023-04-27T11:31:13.848611",
     "status": "completed"
    },
    "tags": []
   },
   "source": [
    "**Obeservation**: For **\"House of cards\"** the show id is **s1059** and No director."
   ]
  },
  {
   "cell_type": "markdown",
   "id": "17834993",
   "metadata": {
    "papermill": {
     "duration": 0.084874,
     "end_time": "2023-04-27T11:31:14.099233",
     "exception": false,
     "start_time": "2023-04-27T11:31:14.014359",
     "status": "completed"
    },
    "tags": []
   },
   "source": [
    "### 4.11 Show all the movies that were released in year 2000.\n",
    "<a id=section411></a>"
   ]
  },
  {
   "cell_type": "code",
   "execution_count": 79,
   "id": "eb6b00cf",
   "metadata": {
    "execution": {
     "iopub.execute_input": "2023-04-27T11:31:14.269888Z",
     "iopub.status.busy": "2023-04-27T11:31:14.268550Z",
     "iopub.status.idle": "2023-04-27T11:31:14.285666Z",
     "shell.execute_reply": "2023-04-27T11:31:14.284511Z"
    },
    "papermill": {
     "duration": 0.104323,
     "end_time": "2023-04-27T11:31:14.288126",
     "exception": false,
     "start_time": "2023-04-27T11:31:14.183803",
     "status": "completed"
    },
    "tags": []
   },
   "outputs": [
    {
     "data": {
      "text/html": [
       "<div>\n",
       "<style scoped>\n",
       "    .dataframe tbody tr th:only-of-type {\n",
       "        vertical-align: middle;\n",
       "    }\n",
       "\n",
       "    .dataframe tbody tr th {\n",
       "        vertical-align: top;\n",
       "    }\n",
       "\n",
       "    .dataframe thead th {\n",
       "        text-align: right;\n",
       "    }\n",
       "</style>\n",
       "<table border=\"1\" class=\"dataframe\">\n",
       "  <thead>\n",
       "    <tr style=\"text-align: right;\">\n",
       "      <th></th>\n",
       "      <th>show_id</th>\n",
       "      <th>type</th>\n",
       "      <th>title</th>\n",
       "      <th>director</th>\n",
       "      <th>cast</th>\n",
       "      <th>country</th>\n",
       "      <th>date_added</th>\n",
       "      <th>release_year</th>\n",
       "      <th>rating</th>\n",
       "      <th>duration</th>\n",
       "      <th>listed_in</th>\n",
       "      <th>description</th>\n",
       "    </tr>\n",
       "  </thead>\n",
       "  <tbody>\n",
       "    <tr>\n",
       "      <th>0</th>\n",
       "      <td>s1</td>\n",
       "      <td>Movie</td>\n",
       "      <td>Dick Johnson Is Dead</td>\n",
       "      <td>Kirsten Johnson</td>\n",
       "      <td>NaN</td>\n",
       "      <td>United States</td>\n",
       "      <td>September 25, 2021</td>\n",
       "      <td>2020</td>\n",
       "      <td>PG-13</td>\n",
       "      <td>90 min</td>\n",
       "      <td>Documentaries</td>\n",
       "      <td>As her father nears the end of his life, filmm...</td>\n",
       "    </tr>\n",
       "    <tr>\n",
       "      <th>1</th>\n",
       "      <td>s2</td>\n",
       "      <td>TV Show</td>\n",
       "      <td>Blood &amp; Water</td>\n",
       "      <td>NaN</td>\n",
       "      <td>Ama Qamata, Khosi Ngema, Gail Mabalane, Thaban...</td>\n",
       "      <td>South Africa</td>\n",
       "      <td>September 24, 2021</td>\n",
       "      <td>2021</td>\n",
       "      <td>TV-MA</td>\n",
       "      <td>2 Seasons</td>\n",
       "      <td>International TV Shows, TV Dramas, TV Mysteries</td>\n",
       "      <td>After crossing paths at a party, a Cape Town t...</td>\n",
       "    </tr>\n",
       "  </tbody>\n",
       "</table>\n",
       "</div>"
      ],
      "text/plain": [
       "  show_id     type                 title         director  \\\n",
       "0      s1    Movie  Dick Johnson Is Dead  Kirsten Johnson   \n",
       "1      s2  TV Show         Blood & Water              NaN   \n",
       "\n",
       "                                                cast        country  \\\n",
       "0                                                NaN  United States   \n",
       "1  Ama Qamata, Khosi Ngema, Gail Mabalane, Thaban...   South Africa   \n",
       "\n",
       "           date_added  release_year rating   duration  \\\n",
       "0  September 25, 2021          2020  PG-13     90 min   \n",
       "1  September 24, 2021          2021  TV-MA  2 Seasons   \n",
       "\n",
       "                                         listed_in  \\\n",
       "0                                    Documentaries   \n",
       "1  International TV Shows, TV Dramas, TV Mysteries   \n",
       "\n",
       "                                         description  \n",
       "0  As her father nears the end of his life, filmm...  \n",
       "1  After crossing paths at a party, a Cape Town t...  "
      ]
     },
     "execution_count": 79,
     "metadata": {},
     "output_type": "execute_result"
    }
   ],
   "source": [
    "netflix.head(2)"
   ]
  },
  {
   "cell_type": "code",
   "execution_count": 80,
   "id": "50c6ce30",
   "metadata": {
    "execution": {
     "iopub.execute_input": "2023-04-27T11:31:14.456841Z",
     "iopub.status.busy": "2023-04-27T11:31:14.455988Z",
     "iopub.status.idle": "2023-04-27T11:31:14.484439Z",
     "shell.execute_reply": "2023-04-27T11:31:14.483250Z"
    },
    "papermill": {
     "duration": 0.116088,
     "end_time": "2023-04-27T11:31:14.487227",
     "exception": false,
     "start_time": "2023-04-27T11:31:14.371139",
     "status": "completed"
    },
    "tags": []
   },
   "outputs": [
    {
     "data": {
      "text/html": [
       "<div>\n",
       "<style scoped>\n",
       "    .dataframe tbody tr th:only-of-type {\n",
       "        vertical-align: middle;\n",
       "    }\n",
       "\n",
       "    .dataframe tbody tr th {\n",
       "        vertical-align: top;\n",
       "    }\n",
       "\n",
       "    .dataframe thead th {\n",
       "        text-align: right;\n",
       "    }\n",
       "</style>\n",
       "<table border=\"1\" class=\"dataframe\">\n",
       "  <thead>\n",
       "    <tr style=\"text-align: right;\">\n",
       "      <th></th>\n",
       "      <th>show_id</th>\n",
       "      <th>type</th>\n",
       "      <th>title</th>\n",
       "      <th>director</th>\n",
       "      <th>cast</th>\n",
       "      <th>country</th>\n",
       "      <th>date_added</th>\n",
       "      <th>release_year</th>\n",
       "      <th>rating</th>\n",
       "      <th>duration</th>\n",
       "      <th>listed_in</th>\n",
       "      <th>description</th>\n",
       "    </tr>\n",
       "  </thead>\n",
       "  <tbody>\n",
       "    <tr>\n",
       "      <th>180</th>\n",
       "      <td>s181</td>\n",
       "      <td>Movie</td>\n",
       "      <td>The Nutty Professor II: The Klumps</td>\n",
       "      <td>Peter Segal</td>\n",
       "      <td>Eddie Murphy, Janet Jackson, Larry Miller, Joh...</td>\n",
       "      <td>NaN</td>\n",
       "      <td>September 1, 2021</td>\n",
       "      <td>2000</td>\n",
       "      <td>PG-13</td>\n",
       "      <td>107 min</td>\n",
       "      <td>Comedies, Romantic Movies</td>\n",
       "      <td>After getting engaged, Sherman Klump prepares ...</td>\n",
       "    </tr>\n",
       "    <tr>\n",
       "      <th>350</th>\n",
       "      <td>s351</td>\n",
       "      <td>Movie</td>\n",
       "      <td>Space Cowboys</td>\n",
       "      <td>Clint Eastwood</td>\n",
       "      <td>Clint Eastwood, Tommy Lee Jones, Donald Suther...</td>\n",
       "      <td>United States</td>\n",
       "      <td>August 1, 2021</td>\n",
       "      <td>2000</td>\n",
       "      <td>PG-13</td>\n",
       "      <td>130 min</td>\n",
       "      <td>Action &amp; Adventure, Dramas, Sci-Fi &amp; Fantasy</td>\n",
       "      <td>A retired engineer agrees to help NASA prevent...</td>\n",
       "    </tr>\n",
       "    <tr>\n",
       "      <th>359</th>\n",
       "      <td>s360</td>\n",
       "      <td>Movie</td>\n",
       "      <td>The Original Kings of Comedy</td>\n",
       "      <td>Spike Lee</td>\n",
       "      <td>Steve Harvey, D.L. Hughley, Cedric the Enterta...</td>\n",
       "      <td>United States</td>\n",
       "      <td>August 1, 2021</td>\n",
       "      <td>2000</td>\n",
       "      <td>R</td>\n",
       "      <td>111 min</td>\n",
       "      <td>Stand-Up Comedy</td>\n",
       "      <td>Comedians Steve Harvey, Cedric the Entertainer...</td>\n",
       "    </tr>\n",
       "    <tr>\n",
       "      <th>566</th>\n",
       "      <td>s567</td>\n",
       "      <td>Movie</td>\n",
       "      <td>Charlie's Angels</td>\n",
       "      <td>McG</td>\n",
       "      <td>Cameron Diaz, Drew Barrymore, Lucy Liu, Bill M...</td>\n",
       "      <td>United States, Germany</td>\n",
       "      <td>July 1, 2021</td>\n",
       "      <td>2000</td>\n",
       "      <td>PG-13</td>\n",
       "      <td>98 min</td>\n",
       "      <td>Action &amp; Adventure, Comedies</td>\n",
       "      <td>A tight-knit trio of specially trained agents ...</td>\n",
       "    </tr>\n",
       "    <tr>\n",
       "      <th>593</th>\n",
       "      <td>s594</td>\n",
       "      <td>Movie</td>\n",
       "      <td>Snow Day</td>\n",
       "      <td>Chris Koch</td>\n",
       "      <td>Chris Elliott, Mark Webber, Jean Smart, Schuyl...</td>\n",
       "      <td>United States</td>\n",
       "      <td>July 1, 2021</td>\n",
       "      <td>2000</td>\n",
       "      <td>PG</td>\n",
       "      <td>89 min</td>\n",
       "      <td>Children &amp; Family Movies, Comedies</td>\n",
       "      <td>When a snow day shuts down the whole town, the...</td>\n",
       "    </tr>\n",
       "    <tr>\n",
       "      <th>779</th>\n",
       "      <td>s780</td>\n",
       "      <td>Movie</td>\n",
       "      <td>Battlefield Earth</td>\n",
       "      <td>Roger Christian</td>\n",
       "      <td>John Travolta, Barry Pepper, Forest Whitaker, ...</td>\n",
       "      <td>United States</td>\n",
       "      <td>June 2, 2021</td>\n",
       "      <td>2000</td>\n",
       "      <td>PG-13</td>\n",
       "      <td>118 min</td>\n",
       "      <td>Action &amp; Adventure, Cult Movies, Sci-Fi &amp; Fantasy</td>\n",
       "      <td>In the year 3000, an alien race known as the P...</td>\n",
       "    </tr>\n",
       "    <tr>\n",
       "      <th>952</th>\n",
       "      <td>s953</td>\n",
       "      <td>Movie</td>\n",
       "      <td>The Whole Nine Yards</td>\n",
       "      <td>Jonathan Lynn</td>\n",
       "      <td>Bruce Willis, Matthew Perry, Rosanna Arquette,...</td>\n",
       "      <td>United States</td>\n",
       "      <td>May 1, 2021</td>\n",
       "      <td>2000</td>\n",
       "      <td>R</td>\n",
       "      <td>99 min</td>\n",
       "      <td>Action &amp; Adventure, Comedies</td>\n",
       "      <td>An unhappily married dentist becomes mixed up ...</td>\n",
       "    </tr>\n",
       "    <tr>\n",
       "      <th>3472</th>\n",
       "      <td>s3473</td>\n",
       "      <td>Movie</td>\n",
       "      <td>Rugrats in Paris: The Movie</td>\n",
       "      <td>Stig Bergqvist, Paul Demeyer</td>\n",
       "      <td>Elizabeth Daily, Tara Strong, Cheryl Chase, Ch...</td>\n",
       "      <td>Germany, United States</td>\n",
       "      <td>October 1, 2019</td>\n",
       "      <td>2000</td>\n",
       "      <td>G</td>\n",
       "      <td>79 min</td>\n",
       "      <td>Children &amp; Family Movies, Comedies</td>\n",
       "      <td>The Rugrats take to the big screen and visit P...</td>\n",
       "    </tr>\n",
       "    <tr>\n",
       "      <th>4545</th>\n",
       "      <td>s4546</td>\n",
       "      <td>Movie</td>\n",
       "      <td>Monty Python: Before the Flying Circus</td>\n",
       "      <td>Will Yapp</td>\n",
       "      <td>Graham Chapman, Eric Idle, Terry Jones, Michae...</td>\n",
       "      <td>United Kingdom</td>\n",
       "      <td>October 2, 2018</td>\n",
       "      <td>2000</td>\n",
       "      <td>TV-MA</td>\n",
       "      <td>56 min</td>\n",
       "      <td>Comedies, Documentaries</td>\n",
       "      <td>Discover how six seemingly ordinary but suprem...</td>\n",
       "    </tr>\n",
       "    <tr>\n",
       "      <th>4723</th>\n",
       "      <td>s4724</td>\n",
       "      <td>Movie</td>\n",
       "      <td>Fiza</td>\n",
       "      <td>Khalid Mohamed</td>\n",
       "      <td>Karisma Kapoor, Jaya Bhaduri, Hrithik Roshan, ...</td>\n",
       "      <td>India</td>\n",
       "      <td>August 2, 2018</td>\n",
       "      <td>2000</td>\n",
       "      <td>TV-14</td>\n",
       "      <td>163 min</td>\n",
       "      <td>Dramas, International Movies, Music &amp; Musicals</td>\n",
       "      <td>Fiza's brother disappears during Mumbai's horr...</td>\n",
       "    </tr>\n",
       "    <tr>\n",
       "      <th>4956</th>\n",
       "      <td>s4957</td>\n",
       "      <td>Movie</td>\n",
       "      <td>Phir Bhi Dil Hai Hindustani</td>\n",
       "      <td>Aziz Mirza</td>\n",
       "      <td>Shah Rukh Khan, Juhi Chawla, Paresh Rawal, Sat...</td>\n",
       "      <td>India</td>\n",
       "      <td>April 1, 2018</td>\n",
       "      <td>2000</td>\n",
       "      <td>TV-14</td>\n",
       "      <td>159 min</td>\n",
       "      <td>Comedies, Dramas, International Movies</td>\n",
       "      <td>In this Bollywood entertainment, two journalis...</td>\n",
       "    </tr>\n",
       "    <tr>\n",
       "      <th>5953</th>\n",
       "      <td>s5954</td>\n",
       "      <td>Movie</td>\n",
       "      <td>Joseph: King of Dreams</td>\n",
       "      <td>Rob LaDuca, Robert C. Ramirez</td>\n",
       "      <td>Ben Affleck, Mark Hamill, Richard Herd, Mauree...</td>\n",
       "      <td>United States, France, United Kingdom</td>\n",
       "      <td>September 27, 2011</td>\n",
       "      <td>2000</td>\n",
       "      <td>TV-PG</td>\n",
       "      <td>75 min</td>\n",
       "      <td>Children &amp; Family Movies, Dramas, Faith &amp; Spir...</td>\n",
       "      <td>With his gift of dream interpretation and his ...</td>\n",
       "    </tr>\n",
       "    <tr>\n",
       "      <th>6006</th>\n",
       "      <td>s6007</td>\n",
       "      <td>Movie</td>\n",
       "      <td>28 Days</td>\n",
       "      <td>Betty Thomas</td>\n",
       "      <td>Sandra Bullock, Viggo Mortensen, Dominic West,...</td>\n",
       "      <td>United States</td>\n",
       "      <td>September 30, 2020</td>\n",
       "      <td>2000</td>\n",
       "      <td>PG-13</td>\n",
       "      <td>104 min</td>\n",
       "      <td>Comedies, Dramas</td>\n",
       "      <td>After her drunken antics result in property da...</td>\n",
       "    </tr>\n",
       "    <tr>\n",
       "      <th>6147</th>\n",
       "      <td>s6148</td>\n",
       "      <td>Movie</td>\n",
       "      <td>American Psycho</td>\n",
       "      <td>Mary Harron</td>\n",
       "      <td>Christian Bale, Willem Dafoe, Jared Leto, Rees...</td>\n",
       "      <td>United States, Canada</td>\n",
       "      <td>September 1, 2019</td>\n",
       "      <td>2000</td>\n",
       "      <td>R</td>\n",
       "      <td>102 min</td>\n",
       "      <td>Comedies, Cult Movies, Dramas</td>\n",
       "      <td>With chiseled good looks that belie his insani...</td>\n",
       "    </tr>\n",
       "    <tr>\n",
       "      <th>6154</th>\n",
       "      <td>s6155</td>\n",
       "      <td>Movie</td>\n",
       "      <td>An American Tail: The Treasures of Manhattan I...</td>\n",
       "      <td>Larry Latham</td>\n",
       "      <td>Thomas Dekker, Dom DeLuise, Pat Musick, Nehemi...</td>\n",
       "      <td>United States</td>\n",
       "      <td>April 1, 2018</td>\n",
       "      <td>2000</td>\n",
       "      <td>G</td>\n",
       "      <td>79 min</td>\n",
       "      <td>Children &amp; Family Movies</td>\n",
       "      <td>When Fievel and friends go hunting for buried ...</td>\n",
       "    </tr>\n",
       "    <tr>\n",
       "      <th>6311</th>\n",
       "      <td>s6312</td>\n",
       "      <td>Movie</td>\n",
       "      <td>Billy Elliot</td>\n",
       "      <td>Stephen Daldry</td>\n",
       "      <td>Jamie Bell, Gary Lewis, Stuart Wells, Billy Fa...</td>\n",
       "      <td>United Kingdom, France</td>\n",
       "      <td>February 1, 2019</td>\n",
       "      <td>2000</td>\n",
       "      <td>R</td>\n",
       "      <td>110 min</td>\n",
       "      <td>Dramas, Independent Movies, International Movies</td>\n",
       "      <td>When a boy trades boxing school for ballet les...</td>\n",
       "    </tr>\n",
       "    <tr>\n",
       "      <th>6437</th>\n",
       "      <td>s6438</td>\n",
       "      <td>Movie</td>\n",
       "      <td>Center Stage</td>\n",
       "      <td>Nicholas Hytner</td>\n",
       "      <td>Amanda Schull, Zoe Saldana, Susan May Pratt, P...</td>\n",
       "      <td>United States</td>\n",
       "      <td>January 1, 2020</td>\n",
       "      <td>2000</td>\n",
       "      <td>PG-13</td>\n",
       "      <td>116 min</td>\n",
       "      <td>Dramas</td>\n",
       "      <td>Vying for a spot in the American Ballet Compan...</td>\n",
       "    </tr>\n",
       "    <tr>\n",
       "      <th>6440</th>\n",
       "      <td>s6441</td>\n",
       "      <td>Movie</td>\n",
       "      <td>Chal Mere Bhai</td>\n",
       "      <td>David Dhawan</td>\n",
       "      <td>Sanjay Dutt, Salman Khan, Karisma Kapoor, Dali...</td>\n",
       "      <td>India</td>\n",
       "      <td>December 31, 2019</td>\n",
       "      <td>2000</td>\n",
       "      <td>TV-14</td>\n",
       "      <td>132 min</td>\n",
       "      <td>Comedies, International Movies, Romantic Movies</td>\n",
       "      <td>When a secretary saves her tycoon boss's life,...</td>\n",
       "    </tr>\n",
       "    <tr>\n",
       "      <th>6543</th>\n",
       "      <td>s6544</td>\n",
       "      <td>Movie</td>\n",
       "      <td>Crouching Tiger, Hidden Dragon</td>\n",
       "      <td>Ang Lee</td>\n",
       "      <td>Chow Yun Fat, Michelle Yeoh, Zhang Ziyi, Chang...</td>\n",
       "      <td>Taiwan, Hong Kong, United States, China</td>\n",
       "      <td>March 1, 2019</td>\n",
       "      <td>2000</td>\n",
       "      <td>PG-13</td>\n",
       "      <td>120 min</td>\n",
       "      <td>Action &amp; Adventure, International Movies, Roma...</td>\n",
       "      <td>A young woman in ancient China longs for an ad...</td>\n",
       "    </tr>\n",
       "    <tr>\n",
       "      <th>6643</th>\n",
       "      <td>s6644</td>\n",
       "      <td>Movie</td>\n",
       "      <td>Dragonheart: A New Beginning</td>\n",
       "      <td>Doug Lefler</td>\n",
       "      <td>Christopher Masterson, Harry Van Gorkum, Rona ...</td>\n",
       "      <td>United States</td>\n",
       "      <td>January 1, 2020</td>\n",
       "      <td>2000</td>\n",
       "      <td>PG</td>\n",
       "      <td>84 min</td>\n",
       "      <td>Action &amp; Adventure, Sci-Fi &amp; Fantasy</td>\n",
       "      <td>This sequel introduces Draco the dragon's offs...</td>\n",
       "    </tr>\n",
       "    <tr>\n",
       "      <th>6753</th>\n",
       "      <td>s6754</td>\n",
       "      <td>Movie</td>\n",
       "      <td>Final Destination</td>\n",
       "      <td>James Wong</td>\n",
       "      <td>Devon Sawa, Ali Larter, Kerr Smith, Kristen Cl...</td>\n",
       "      <td>United States</td>\n",
       "      <td>January 1, 2020</td>\n",
       "      <td>2000</td>\n",
       "      <td>R</td>\n",
       "      <td>98 min</td>\n",
       "      <td>Cult Movies, Horror Movies, Thrillers</td>\n",
       "      <td>After narrowly avoiding a fatal plane explosio...</td>\n",
       "    </tr>\n",
       "    <tr>\n",
       "      <th>6912</th>\n",
       "      <td>s6913</td>\n",
       "      <td>Movie</td>\n",
       "      <td>Hamara Dil Aapke Paas Hai</td>\n",
       "      <td>Satish Kaushik</td>\n",
       "      <td>Anil Kapoor, Aishwarya Rai Bachchan, Sonali Be...</td>\n",
       "      <td>India</td>\n",
       "      <td>March 1, 2018</td>\n",
       "      <td>2000</td>\n",
       "      <td>TV-14</td>\n",
       "      <td>158 min</td>\n",
       "      <td>Dramas, International Movies, Music &amp; Musicals</td>\n",
       "      <td>Love blooms when kind-hearted Avinash takes in...</td>\n",
       "    </tr>\n",
       "    <tr>\n",
       "      <th>7013</th>\n",
       "      <td>s7014</td>\n",
       "      <td>Movie</td>\n",
       "      <td>How the Grinch Stole Christmas</td>\n",
       "      <td>Ron Howard</td>\n",
       "      <td>Jim Carrey, Taylor Momsen, Jeffrey Tambor, Chr...</td>\n",
       "      <td>United States</td>\n",
       "      <td>June 1, 2017</td>\n",
       "      <td>2000</td>\n",
       "      <td>PG</td>\n",
       "      <td>105 min</td>\n",
       "      <td>Children &amp; Family Movies, Comedies</td>\n",
       "      <td>The Grinch decides to rob Whoville of Christma...</td>\n",
       "    </tr>\n",
       "    <tr>\n",
       "      <th>7247</th>\n",
       "      <td>s7248</td>\n",
       "      <td>Movie</td>\n",
       "      <td>Kya Kehna</td>\n",
       "      <td>Kundan Shah</td>\n",
       "      <td>Preity Zinta, Saif Ali Khan, Anupam Kher, Fari...</td>\n",
       "      <td>India</td>\n",
       "      <td>April 1, 2018</td>\n",
       "      <td>2000</td>\n",
       "      <td>TV-PG</td>\n",
       "      <td>149 min</td>\n",
       "      <td>Dramas, International Movies, Romantic Movies</td>\n",
       "      <td>A young university student's world is shaken a...</td>\n",
       "    </tr>\n",
       "    <tr>\n",
       "      <th>7316</th>\n",
       "      <td>s7317</td>\n",
       "      <td>Movie</td>\n",
       "      <td>Little Nicky</td>\n",
       "      <td>Steve Brill</td>\n",
       "      <td>Adam Sandler, Patricia Arquette, Harvey Keitel...</td>\n",
       "      <td>United States</td>\n",
       "      <td>December 1, 2020</td>\n",
       "      <td>2000</td>\n",
       "      <td>PG-13</td>\n",
       "      <td>90 min</td>\n",
       "      <td>Comedies</td>\n",
       "      <td>The devil sends his sweet son Nicky to Earth t...</td>\n",
       "    </tr>\n",
       "    <tr>\n",
       "      <th>7702</th>\n",
       "      <td>s7703</td>\n",
       "      <td>Movie</td>\n",
       "      <td>Papa the Great</td>\n",
       "      <td>Bhagyaraj</td>\n",
       "      <td>Krishan Kumar, Nagma, Satya Prakash, Master Bo...</td>\n",
       "      <td>India</td>\n",
       "      <td>December 8, 2017</td>\n",
       "      <td>2000</td>\n",
       "      <td>TV-PG</td>\n",
       "      <td>137 min</td>\n",
       "      <td>Comedies, Dramas, International Movies</td>\n",
       "      <td>After witnessing a murder, a meek family man m...</td>\n",
       "    </tr>\n",
       "    <tr>\n",
       "      <th>7801</th>\n",
       "      <td>s7802</td>\n",
       "      <td>Movie</td>\n",
       "      <td>Pukar</td>\n",
       "      <td>Rajkumar Santoshi</td>\n",
       "      <td>Anil Kapoor, Madhuri Dixit, Namrata Shirodkar,...</td>\n",
       "      <td>India</td>\n",
       "      <td>March 1, 2018</td>\n",
       "      <td>2000</td>\n",
       "      <td>TV-14</td>\n",
       "      <td>165 min</td>\n",
       "      <td>Action &amp; Adventure, Dramas, International Movies</td>\n",
       "      <td>A notorious terrorist manipulates an Indian ar...</td>\n",
       "    </tr>\n",
       "    <tr>\n",
       "      <th>7955</th>\n",
       "      <td>s7956</td>\n",
       "      <td>Movie</td>\n",
       "      <td>Scary Movie</td>\n",
       "      <td>Keenen Ivory Wayans</td>\n",
       "      <td>Anna Faris, Jon Abrahams, Shannon Elizabeth, S...</td>\n",
       "      <td>United States</td>\n",
       "      <td>January 1, 2020</td>\n",
       "      <td>2000</td>\n",
       "      <td>R</td>\n",
       "      <td>88 min</td>\n",
       "      <td>Comedies, Horror Movies</td>\n",
       "      <td>The Wayans brothers spoof some of Hollywood's ...</td>\n",
       "    </tr>\n",
       "    <tr>\n",
       "      <th>7962</th>\n",
       "      <td>s7963</td>\n",
       "      <td>Movie</td>\n",
       "      <td>Scream 3</td>\n",
       "      <td>Wes Craven</td>\n",
       "      <td>David Arquette, Neve Campbell, Courteney Cox, ...</td>\n",
       "      <td>United States</td>\n",
       "      <td>July 1, 2019</td>\n",
       "      <td>2000</td>\n",
       "      <td>R</td>\n",
       "      <td>117 min</td>\n",
       "      <td>Horror Movies</td>\n",
       "      <td>This installment of the tongue-in-cheek horror...</td>\n",
       "    </tr>\n",
       "    <tr>\n",
       "      <th>8196</th>\n",
       "      <td>s8197</td>\n",
       "      <td>Movie</td>\n",
       "      <td>The Art of War</td>\n",
       "      <td>Christian Duguay</td>\n",
       "      <td>Wesley Snipes, Anne Archer, Maury Chaykin, Mar...</td>\n",
       "      <td>United States, Canada</td>\n",
       "      <td>July 1, 2020</td>\n",
       "      <td>2000</td>\n",
       "      <td>R</td>\n",
       "      <td>117 min</td>\n",
       "      <td>Action &amp; Adventure</td>\n",
       "      <td>Framed for the murder of an ambassador, a form...</td>\n",
       "    </tr>\n",
       "    <tr>\n",
       "      <th>8305</th>\n",
       "      <td>s8306</td>\n",
       "      <td>Movie</td>\n",
       "      <td>The Flintstones in Viva Rock Vegas</td>\n",
       "      <td>Brian Levant</td>\n",
       "      <td>Mark Addy, Stephen Baldwin, Kristen Johnston, ...</td>\n",
       "      <td>United States</td>\n",
       "      <td>October 1, 2019</td>\n",
       "      <td>2000</td>\n",
       "      <td>PG</td>\n",
       "      <td>91 min</td>\n",
       "      <td>Children &amp; Family Movies, Comedies, Romantic M...</td>\n",
       "      <td>Yabba-dabba-doo! Digital dinosaurs rule the da...</td>\n",
       "    </tr>\n",
       "    <tr>\n",
       "      <th>8722</th>\n",
       "      <td>s8723</td>\n",
       "      <td>Movie</td>\n",
       "      <td>What Lies Beneath</td>\n",
       "      <td>Robert Zemeckis</td>\n",
       "      <td>Harrison Ford, Michelle Pfeiffer, Diana Scarwi...</td>\n",
       "      <td>United States</td>\n",
       "      <td>January 1, 2020</td>\n",
       "      <td>2000</td>\n",
       "      <td>PG-13</td>\n",
       "      <td>130 min</td>\n",
       "      <td>Horror Movies, Thrillers</td>\n",
       "      <td>When Claire Spencer starts hearing ghostly voi...</td>\n",
       "    </tr>\n",
       "    <tr>\n",
       "      <th>8729</th>\n",
       "      <td>s8730</td>\n",
       "      <td>Movie</td>\n",
       "      <td>Where the Money Is</td>\n",
       "      <td>Marek Kanievska</td>\n",
       "      <td>Paul Newman, Linda Fiorentino, Dermot Mulroney...</td>\n",
       "      <td>Germany, United States, United Kingdom, Canada</td>\n",
       "      <td>January 15, 2020</td>\n",
       "      <td>2000</td>\n",
       "      <td>PG-13</td>\n",
       "      <td>89 min</td>\n",
       "      <td>Action &amp; Adventure, Comedies, Dramas</td>\n",
       "      <td>Paul Newman proves he's still got prodigious a...</td>\n",
       "    </tr>\n",
       "  </tbody>\n",
       "</table>\n",
       "</div>"
      ],
      "text/plain": [
       "     show_id   type                                              title  \\\n",
       "180     s181  Movie                 The Nutty Professor II: The Klumps   \n",
       "350     s351  Movie                                      Space Cowboys   \n",
       "359     s360  Movie                       The Original Kings of Comedy   \n",
       "566     s567  Movie                                   Charlie's Angels   \n",
       "593     s594  Movie                                           Snow Day   \n",
       "779     s780  Movie                                  Battlefield Earth   \n",
       "952     s953  Movie                               The Whole Nine Yards   \n",
       "3472   s3473  Movie                        Rugrats in Paris: The Movie   \n",
       "4545   s4546  Movie             Monty Python: Before the Flying Circus   \n",
       "4723   s4724  Movie                                               Fiza   \n",
       "4956   s4957  Movie                        Phir Bhi Dil Hai Hindustani   \n",
       "5953   s5954  Movie                             Joseph: King of Dreams   \n",
       "6006   s6007  Movie                                            28 Days   \n",
       "6147   s6148  Movie                                    American Psycho   \n",
       "6154   s6155  Movie  An American Tail: The Treasures of Manhattan I...   \n",
       "6311   s6312  Movie                                       Billy Elliot   \n",
       "6437   s6438  Movie                                       Center Stage   \n",
       "6440   s6441  Movie                                     Chal Mere Bhai   \n",
       "6543   s6544  Movie                     Crouching Tiger, Hidden Dragon   \n",
       "6643   s6644  Movie                       Dragonheart: A New Beginning   \n",
       "6753   s6754  Movie                                  Final Destination   \n",
       "6912   s6913  Movie                          Hamara Dil Aapke Paas Hai   \n",
       "7013   s7014  Movie                     How the Grinch Stole Christmas   \n",
       "7247   s7248  Movie                                          Kya Kehna   \n",
       "7316   s7317  Movie                                       Little Nicky   \n",
       "7702   s7703  Movie                                     Papa the Great   \n",
       "7801   s7802  Movie                                              Pukar   \n",
       "7955   s7956  Movie                                        Scary Movie   \n",
       "7962   s7963  Movie                                           Scream 3   \n",
       "8196   s8197  Movie                                     The Art of War   \n",
       "8305   s8306  Movie                 The Flintstones in Viva Rock Vegas   \n",
       "8722   s8723  Movie                                  What Lies Beneath   \n",
       "8729   s8730  Movie                                 Where the Money Is   \n",
       "\n",
       "                           director  \\\n",
       "180                     Peter Segal   \n",
       "350                  Clint Eastwood   \n",
       "359                       Spike Lee   \n",
       "566                             McG   \n",
       "593                      Chris Koch   \n",
       "779                 Roger Christian   \n",
       "952                   Jonathan Lynn   \n",
       "3472   Stig Bergqvist, Paul Demeyer   \n",
       "4545                      Will Yapp   \n",
       "4723                 Khalid Mohamed   \n",
       "4956                     Aziz Mirza   \n",
       "5953  Rob LaDuca, Robert C. Ramirez   \n",
       "6006                   Betty Thomas   \n",
       "6147                    Mary Harron   \n",
       "6154                   Larry Latham   \n",
       "6311                 Stephen Daldry   \n",
       "6437                Nicholas Hytner   \n",
       "6440                   David Dhawan   \n",
       "6543                        Ang Lee   \n",
       "6643                    Doug Lefler   \n",
       "6753                     James Wong   \n",
       "6912                 Satish Kaushik   \n",
       "7013                     Ron Howard   \n",
       "7247                    Kundan Shah   \n",
       "7316                    Steve Brill   \n",
       "7702                      Bhagyaraj   \n",
       "7801              Rajkumar Santoshi   \n",
       "7955            Keenen Ivory Wayans   \n",
       "7962                     Wes Craven   \n",
       "8196               Christian Duguay   \n",
       "8305                   Brian Levant   \n",
       "8722                Robert Zemeckis   \n",
       "8729                Marek Kanievska   \n",
       "\n",
       "                                                   cast  \\\n",
       "180   Eddie Murphy, Janet Jackson, Larry Miller, Joh...   \n",
       "350   Clint Eastwood, Tommy Lee Jones, Donald Suther...   \n",
       "359   Steve Harvey, D.L. Hughley, Cedric the Enterta...   \n",
       "566   Cameron Diaz, Drew Barrymore, Lucy Liu, Bill M...   \n",
       "593   Chris Elliott, Mark Webber, Jean Smart, Schuyl...   \n",
       "779   John Travolta, Barry Pepper, Forest Whitaker, ...   \n",
       "952   Bruce Willis, Matthew Perry, Rosanna Arquette,...   \n",
       "3472  Elizabeth Daily, Tara Strong, Cheryl Chase, Ch...   \n",
       "4545  Graham Chapman, Eric Idle, Terry Jones, Michae...   \n",
       "4723  Karisma Kapoor, Jaya Bhaduri, Hrithik Roshan, ...   \n",
       "4956  Shah Rukh Khan, Juhi Chawla, Paresh Rawal, Sat...   \n",
       "5953  Ben Affleck, Mark Hamill, Richard Herd, Mauree...   \n",
       "6006  Sandra Bullock, Viggo Mortensen, Dominic West,...   \n",
       "6147  Christian Bale, Willem Dafoe, Jared Leto, Rees...   \n",
       "6154  Thomas Dekker, Dom DeLuise, Pat Musick, Nehemi...   \n",
       "6311  Jamie Bell, Gary Lewis, Stuart Wells, Billy Fa...   \n",
       "6437  Amanda Schull, Zoe Saldana, Susan May Pratt, P...   \n",
       "6440  Sanjay Dutt, Salman Khan, Karisma Kapoor, Dali...   \n",
       "6543  Chow Yun Fat, Michelle Yeoh, Zhang Ziyi, Chang...   \n",
       "6643  Christopher Masterson, Harry Van Gorkum, Rona ...   \n",
       "6753  Devon Sawa, Ali Larter, Kerr Smith, Kristen Cl...   \n",
       "6912  Anil Kapoor, Aishwarya Rai Bachchan, Sonali Be...   \n",
       "7013  Jim Carrey, Taylor Momsen, Jeffrey Tambor, Chr...   \n",
       "7247  Preity Zinta, Saif Ali Khan, Anupam Kher, Fari...   \n",
       "7316  Adam Sandler, Patricia Arquette, Harvey Keitel...   \n",
       "7702  Krishan Kumar, Nagma, Satya Prakash, Master Bo...   \n",
       "7801  Anil Kapoor, Madhuri Dixit, Namrata Shirodkar,...   \n",
       "7955  Anna Faris, Jon Abrahams, Shannon Elizabeth, S...   \n",
       "7962  David Arquette, Neve Campbell, Courteney Cox, ...   \n",
       "8196  Wesley Snipes, Anne Archer, Maury Chaykin, Mar...   \n",
       "8305  Mark Addy, Stephen Baldwin, Kristen Johnston, ...   \n",
       "8722  Harrison Ford, Michelle Pfeiffer, Diana Scarwi...   \n",
       "8729  Paul Newman, Linda Fiorentino, Dermot Mulroney...   \n",
       "\n",
       "                                             country          date_added  \\\n",
       "180                                              NaN   September 1, 2021   \n",
       "350                                    United States      August 1, 2021   \n",
       "359                                    United States      August 1, 2021   \n",
       "566                           United States, Germany        July 1, 2021   \n",
       "593                                    United States        July 1, 2021   \n",
       "779                                    United States        June 2, 2021   \n",
       "952                                    United States         May 1, 2021   \n",
       "3472                          Germany, United States     October 1, 2019   \n",
       "4545                                  United Kingdom     October 2, 2018   \n",
       "4723                                           India      August 2, 2018   \n",
       "4956                                           India       April 1, 2018   \n",
       "5953           United States, France, United Kingdom  September 27, 2011   \n",
       "6006                                   United States  September 30, 2020   \n",
       "6147                           United States, Canada   September 1, 2019   \n",
       "6154                                   United States       April 1, 2018   \n",
       "6311                          United Kingdom, France    February 1, 2019   \n",
       "6437                                   United States     January 1, 2020   \n",
       "6440                                           India   December 31, 2019   \n",
       "6543         Taiwan, Hong Kong, United States, China       March 1, 2019   \n",
       "6643                                   United States     January 1, 2020   \n",
       "6753                                   United States     January 1, 2020   \n",
       "6912                                           India       March 1, 2018   \n",
       "7013                                   United States        June 1, 2017   \n",
       "7247                                           India       April 1, 2018   \n",
       "7316                                   United States    December 1, 2020   \n",
       "7702                                           India    December 8, 2017   \n",
       "7801                                           India       March 1, 2018   \n",
       "7955                                   United States     January 1, 2020   \n",
       "7962                                   United States        July 1, 2019   \n",
       "8196                           United States, Canada        July 1, 2020   \n",
       "8305                                   United States     October 1, 2019   \n",
       "8722                                   United States     January 1, 2020   \n",
       "8729  Germany, United States, United Kingdom, Canada    January 15, 2020   \n",
       "\n",
       "      release_year rating duration  \\\n",
       "180           2000  PG-13  107 min   \n",
       "350           2000  PG-13  130 min   \n",
       "359           2000      R  111 min   \n",
       "566           2000  PG-13   98 min   \n",
       "593           2000     PG   89 min   \n",
       "779           2000  PG-13  118 min   \n",
       "952           2000      R   99 min   \n",
       "3472          2000      G   79 min   \n",
       "4545          2000  TV-MA   56 min   \n",
       "4723          2000  TV-14  163 min   \n",
       "4956          2000  TV-14  159 min   \n",
       "5953          2000  TV-PG   75 min   \n",
       "6006          2000  PG-13  104 min   \n",
       "6147          2000      R  102 min   \n",
       "6154          2000      G   79 min   \n",
       "6311          2000      R  110 min   \n",
       "6437          2000  PG-13  116 min   \n",
       "6440          2000  TV-14  132 min   \n",
       "6543          2000  PG-13  120 min   \n",
       "6643          2000     PG   84 min   \n",
       "6753          2000      R   98 min   \n",
       "6912          2000  TV-14  158 min   \n",
       "7013          2000     PG  105 min   \n",
       "7247          2000  TV-PG  149 min   \n",
       "7316          2000  PG-13   90 min   \n",
       "7702          2000  TV-PG  137 min   \n",
       "7801          2000  TV-14  165 min   \n",
       "7955          2000      R   88 min   \n",
       "7962          2000      R  117 min   \n",
       "8196          2000      R  117 min   \n",
       "8305          2000     PG   91 min   \n",
       "8722          2000  PG-13  130 min   \n",
       "8729          2000  PG-13   89 min   \n",
       "\n",
       "                                              listed_in  \\\n",
       "180                           Comedies, Romantic Movies   \n",
       "350        Action & Adventure, Dramas, Sci-Fi & Fantasy   \n",
       "359                                     Stand-Up Comedy   \n",
       "566                        Action & Adventure, Comedies   \n",
       "593                  Children & Family Movies, Comedies   \n",
       "779   Action & Adventure, Cult Movies, Sci-Fi & Fantasy   \n",
       "952                        Action & Adventure, Comedies   \n",
       "3472                 Children & Family Movies, Comedies   \n",
       "4545                            Comedies, Documentaries   \n",
       "4723     Dramas, International Movies, Music & Musicals   \n",
       "4956             Comedies, Dramas, International Movies   \n",
       "5953  Children & Family Movies, Dramas, Faith & Spir...   \n",
       "6006                                   Comedies, Dramas   \n",
       "6147                      Comedies, Cult Movies, Dramas   \n",
       "6154                           Children & Family Movies   \n",
       "6311   Dramas, Independent Movies, International Movies   \n",
       "6437                                             Dramas   \n",
       "6440    Comedies, International Movies, Romantic Movies   \n",
       "6543  Action & Adventure, International Movies, Roma...   \n",
       "6643               Action & Adventure, Sci-Fi & Fantasy   \n",
       "6753              Cult Movies, Horror Movies, Thrillers   \n",
       "6912     Dramas, International Movies, Music & Musicals   \n",
       "7013                 Children & Family Movies, Comedies   \n",
       "7247      Dramas, International Movies, Romantic Movies   \n",
       "7316                                           Comedies   \n",
       "7702             Comedies, Dramas, International Movies   \n",
       "7801   Action & Adventure, Dramas, International Movies   \n",
       "7955                            Comedies, Horror Movies   \n",
       "7962                                      Horror Movies   \n",
       "8196                                 Action & Adventure   \n",
       "8305  Children & Family Movies, Comedies, Romantic M...   \n",
       "8722                           Horror Movies, Thrillers   \n",
       "8729               Action & Adventure, Comedies, Dramas   \n",
       "\n",
       "                                            description  \n",
       "180   After getting engaged, Sherman Klump prepares ...  \n",
       "350   A retired engineer agrees to help NASA prevent...  \n",
       "359   Comedians Steve Harvey, Cedric the Entertainer...  \n",
       "566   A tight-knit trio of specially trained agents ...  \n",
       "593   When a snow day shuts down the whole town, the...  \n",
       "779   In the year 3000, an alien race known as the P...  \n",
       "952   An unhappily married dentist becomes mixed up ...  \n",
       "3472  The Rugrats take to the big screen and visit P...  \n",
       "4545  Discover how six seemingly ordinary but suprem...  \n",
       "4723  Fiza's brother disappears during Mumbai's horr...  \n",
       "4956  In this Bollywood entertainment, two journalis...  \n",
       "5953  With his gift of dream interpretation and his ...  \n",
       "6006  After her drunken antics result in property da...  \n",
       "6147  With chiseled good looks that belie his insani...  \n",
       "6154  When Fievel and friends go hunting for buried ...  \n",
       "6311  When a boy trades boxing school for ballet les...  \n",
       "6437  Vying for a spot in the American Ballet Compan...  \n",
       "6440  When a secretary saves her tycoon boss's life,...  \n",
       "6543  A young woman in ancient China longs for an ad...  \n",
       "6643  This sequel introduces Draco the dragon's offs...  \n",
       "6753  After narrowly avoiding a fatal plane explosio...  \n",
       "6912  Love blooms when kind-hearted Avinash takes in...  \n",
       "7013  The Grinch decides to rob Whoville of Christma...  \n",
       "7247  A young university student's world is shaken a...  \n",
       "7316  The devil sends his sweet son Nicky to Earth t...  \n",
       "7702  After witnessing a murder, a meek family man m...  \n",
       "7801  A notorious terrorist manipulates an Indian ar...  \n",
       "7955  The Wayans brothers spoof some of Hollywood's ...  \n",
       "7962  This installment of the tongue-in-cheek horror...  \n",
       "8196  Framed for the murder of an ambassador, a form...  \n",
       "8305  Yabba-dabba-doo! Digital dinosaurs rule the da...  \n",
       "8722  When Claire Spencer starts hearing ghostly voi...  \n",
       "8729  Paul Newman proves he's still got prodigious a...  "
      ]
     },
     "execution_count": 80,
     "metadata": {},
     "output_type": "execute_result"
    }
   ],
   "source": [
    "netflix[(netflix['type'] == 'Movie' ) & (netflix['release_year'] == 2000)]"
   ]
  },
  {
   "cell_type": "code",
   "execution_count": 81,
   "id": "eb1d08e7",
   "metadata": {
    "execution": {
     "iopub.execute_input": "2023-04-27T11:31:14.658902Z",
     "iopub.status.busy": "2023-04-27T11:31:14.658033Z",
     "iopub.status.idle": "2023-04-27T11:31:14.667803Z",
     "shell.execute_reply": "2023-04-27T11:31:14.666827Z"
    },
    "papermill": {
     "duration": 0.098543,
     "end_time": "2023-04-27T11:31:14.670218",
     "exception": false,
     "start_time": "2023-04-27T11:31:14.571675",
     "status": "completed"
    },
    "tags": []
   },
   "outputs": [
    {
     "data": {
      "text/plain": [
       "(33, 12)"
      ]
     },
     "execution_count": 81,
     "metadata": {},
     "output_type": "execute_result"
    }
   ],
   "source": [
    "netflix[(netflix['type'] == 'Movie' ) & (netflix['release_year'] == 2000)].shape"
   ]
  },
  {
   "cell_type": "markdown",
   "id": "352684ec",
   "metadata": {
    "papermill": {
     "duration": 0.084681,
     "end_time": "2023-04-27T11:31:14.840286",
     "exception": false,
     "start_time": "2023-04-27T11:31:14.755605",
     "status": "completed"
    },
    "tags": []
   },
   "source": [
    "**Obeservation**: There are 33 movies released in year 2000."
   ]
  },
  {
   "cell_type": "markdown",
   "id": "bdf64089",
   "metadata": {
    "papermill": {
     "duration": 0.084244,
     "end_time": "2023-04-27T11:31:15.008717",
     "exception": false,
     "start_time": "2023-04-27T11:31:14.924473",
     "status": "completed"
    },
    "tags": []
   },
   "source": [
    "### 4.12 Show only the title of all TV shows that were released in India only.\n",
    "<a id=section412></a>"
   ]
  },
  {
   "cell_type": "code",
   "execution_count": 82,
   "id": "5b4fcd92",
   "metadata": {
    "execution": {
     "iopub.execute_input": "2023-04-27T11:31:15.180362Z",
     "iopub.status.busy": "2023-04-27T11:31:15.179949Z",
     "iopub.status.idle": "2023-04-27T11:31:15.197692Z",
     "shell.execute_reply": "2023-04-27T11:31:15.196522Z"
    },
    "papermill": {
     "duration": 0.106215,
     "end_time": "2023-04-27T11:31:15.200189",
     "exception": false,
     "start_time": "2023-04-27T11:31:15.093974",
     "status": "completed"
    },
    "tags": []
   },
   "outputs": [
    {
     "data": {
      "text/html": [
       "<div>\n",
       "<style scoped>\n",
       "    .dataframe tbody tr th:only-of-type {\n",
       "        vertical-align: middle;\n",
       "    }\n",
       "\n",
       "    .dataframe tbody tr th {\n",
       "        vertical-align: top;\n",
       "    }\n",
       "\n",
       "    .dataframe thead th {\n",
       "        text-align: right;\n",
       "    }\n",
       "</style>\n",
       "<table border=\"1\" class=\"dataframe\">\n",
       "  <thead>\n",
       "    <tr style=\"text-align: right;\">\n",
       "      <th></th>\n",
       "      <th>show_id</th>\n",
       "      <th>type</th>\n",
       "      <th>title</th>\n",
       "      <th>director</th>\n",
       "      <th>cast</th>\n",
       "      <th>country</th>\n",
       "      <th>date_added</th>\n",
       "      <th>release_year</th>\n",
       "      <th>rating</th>\n",
       "      <th>duration</th>\n",
       "      <th>listed_in</th>\n",
       "      <th>description</th>\n",
       "    </tr>\n",
       "  </thead>\n",
       "  <tbody>\n",
       "    <tr>\n",
       "      <th>0</th>\n",
       "      <td>s1</td>\n",
       "      <td>Movie</td>\n",
       "      <td>Dick Johnson Is Dead</td>\n",
       "      <td>Kirsten Johnson</td>\n",
       "      <td>NaN</td>\n",
       "      <td>United States</td>\n",
       "      <td>September 25, 2021</td>\n",
       "      <td>2020</td>\n",
       "      <td>PG-13</td>\n",
       "      <td>90 min</td>\n",
       "      <td>Documentaries</td>\n",
       "      <td>As her father nears the end of his life, filmm...</td>\n",
       "    </tr>\n",
       "    <tr>\n",
       "      <th>1</th>\n",
       "      <td>s2</td>\n",
       "      <td>TV Show</td>\n",
       "      <td>Blood &amp; Water</td>\n",
       "      <td>NaN</td>\n",
       "      <td>Ama Qamata, Khosi Ngema, Gail Mabalane, Thaban...</td>\n",
       "      <td>South Africa</td>\n",
       "      <td>September 24, 2021</td>\n",
       "      <td>2021</td>\n",
       "      <td>TV-MA</td>\n",
       "      <td>2 Seasons</td>\n",
       "      <td>International TV Shows, TV Dramas, TV Mysteries</td>\n",
       "      <td>After crossing paths at a party, a Cape Town t...</td>\n",
       "    </tr>\n",
       "  </tbody>\n",
       "</table>\n",
       "</div>"
      ],
      "text/plain": [
       "  show_id     type                 title         director  \\\n",
       "0      s1    Movie  Dick Johnson Is Dead  Kirsten Johnson   \n",
       "1      s2  TV Show         Blood & Water              NaN   \n",
       "\n",
       "                                                cast        country  \\\n",
       "0                                                NaN  United States   \n",
       "1  Ama Qamata, Khosi Ngema, Gail Mabalane, Thaban...   South Africa   \n",
       "\n",
       "           date_added  release_year rating   duration  \\\n",
       "0  September 25, 2021          2020  PG-13     90 min   \n",
       "1  September 24, 2021          2021  TV-MA  2 Seasons   \n",
       "\n",
       "                                         listed_in  \\\n",
       "0                                    Documentaries   \n",
       "1  International TV Shows, TV Dramas, TV Mysteries   \n",
       "\n",
       "                                         description  \n",
       "0  As her father nears the end of his life, filmm...  \n",
       "1  After crossing paths at a party, a Cape Town t...  "
      ]
     },
     "execution_count": 82,
     "metadata": {},
     "output_type": "execute_result"
    }
   ],
   "source": [
    "netflix.head(2)"
   ]
  },
  {
   "cell_type": "code",
   "execution_count": 83,
   "id": "094eaea6",
   "metadata": {
    "execution": {
     "iopub.execute_input": "2023-04-27T11:31:15.423727Z",
     "iopub.status.busy": "2023-04-27T11:31:15.423301Z",
     "iopub.status.idle": "2023-04-27T11:31:15.435901Z",
     "shell.execute_reply": "2023-04-27T11:31:15.434838Z"
    },
    "papermill": {
     "duration": 0.153263,
     "end_time": "2023-04-27T11:31:15.438313",
     "exception": false,
     "start_time": "2023-04-27T11:31:15.285050",
     "status": "completed"
    },
    "tags": []
   },
   "outputs": [
    {
     "data": {
      "text/plain": [
       "4                             Kota Factory\n",
       "39                            Chhota Bheem\n",
       "50                           Dharmakshetra\n",
       "66           Raja Rasoi Aur Anya Kahaniyan\n",
       "69          Stories by Rabindranath Tagore\n",
       "                       ...                \n",
       "8173                             Thackeray\n",
       "8235                           The Calling\n",
       "8321    The Golden Years with Javed Akhtar\n",
       "8349                The House That Made Me\n",
       "8775                       Yeh Meri Family\n",
       "Name: title, Length: 79, dtype: object"
      ]
     },
     "execution_count": 83,
     "metadata": {},
     "output_type": "execute_result"
    }
   ],
   "source": [
    "netflix[(netflix['type'] == 'TV Show') & (netflix['country'] == 'India')][\"title\"]"
   ]
  },
  {
   "cell_type": "code",
   "execution_count": 84,
   "id": "883b1b66",
   "metadata": {
    "execution": {
     "iopub.execute_input": "2023-04-27T11:31:15.609538Z",
     "iopub.status.busy": "2023-04-27T11:31:15.608259Z",
     "iopub.status.idle": "2023-04-27T11:31:15.618134Z",
     "shell.execute_reply": "2023-04-27T11:31:15.617137Z"
    },
    "papermill": {
     "duration": 0.097622,
     "end_time": "2023-04-27T11:31:15.620337",
     "exception": false,
     "start_time": "2023-04-27T11:31:15.522715",
     "status": "completed"
    },
    "tags": []
   },
   "outputs": [
    {
     "data": {
      "text/plain": [
       "(79,)"
      ]
     },
     "execution_count": 84,
     "metadata": {},
     "output_type": "execute_result"
    }
   ],
   "source": [
    "netflix[(netflix['type'] == 'TV Show') & (netflix['country'] == 'India')][\"title\"].shape"
   ]
  },
  {
   "cell_type": "markdown",
   "id": "72581ac6",
   "metadata": {
    "papermill": {
     "duration": 0.090924,
     "end_time": "2023-04-27T11:31:15.796434",
     "exception": false,
     "start_time": "2023-04-27T11:31:15.705510",
     "status": "completed"
    },
    "tags": []
   },
   "source": [
    "**Obeservation**:There are **79 tv shows**  that were released in India only."
   ]
  },
  {
   "cell_type": "markdown",
   "id": "ee68b3c0",
   "metadata": {
    "papermill": {
     "duration": 0.086129,
     "end_time": "2023-04-27T11:31:15.968322",
     "exception": false,
     "start_time": "2023-04-27T11:31:15.882193",
     "status": "completed"
    },
    "tags": []
   },
   "source": [
    "### 4.13 Show top 10 director, who gave the highest number of TV shows & Movies to Netflix?\n",
    "<a id=section413></a>"
   ]
  },
  {
   "cell_type": "code",
   "execution_count": 85,
   "id": "290e8cdb",
   "metadata": {
    "execution": {
     "iopub.execute_input": "2023-04-27T11:31:16.143511Z",
     "iopub.status.busy": "2023-04-27T11:31:16.142405Z",
     "iopub.status.idle": "2023-04-27T11:31:16.159323Z",
     "shell.execute_reply": "2023-04-27T11:31:16.158047Z"
    },
    "papermill": {
     "duration": 0.107215,
     "end_time": "2023-04-27T11:31:16.162351",
     "exception": false,
     "start_time": "2023-04-27T11:31:16.055136",
     "status": "completed"
    },
    "tags": []
   },
   "outputs": [
    {
     "data": {
      "text/html": [
       "<div>\n",
       "<style scoped>\n",
       "    .dataframe tbody tr th:only-of-type {\n",
       "        vertical-align: middle;\n",
       "    }\n",
       "\n",
       "    .dataframe tbody tr th {\n",
       "        vertical-align: top;\n",
       "    }\n",
       "\n",
       "    .dataframe thead th {\n",
       "        text-align: right;\n",
       "    }\n",
       "</style>\n",
       "<table border=\"1\" class=\"dataframe\">\n",
       "  <thead>\n",
       "    <tr style=\"text-align: right;\">\n",
       "      <th></th>\n",
       "      <th>show_id</th>\n",
       "      <th>type</th>\n",
       "      <th>title</th>\n",
       "      <th>director</th>\n",
       "      <th>cast</th>\n",
       "      <th>country</th>\n",
       "      <th>date_added</th>\n",
       "      <th>release_year</th>\n",
       "      <th>rating</th>\n",
       "      <th>duration</th>\n",
       "      <th>listed_in</th>\n",
       "      <th>description</th>\n",
       "    </tr>\n",
       "  </thead>\n",
       "  <tbody>\n",
       "    <tr>\n",
       "      <th>0</th>\n",
       "      <td>s1</td>\n",
       "      <td>Movie</td>\n",
       "      <td>Dick Johnson Is Dead</td>\n",
       "      <td>Kirsten Johnson</td>\n",
       "      <td>NaN</td>\n",
       "      <td>United States</td>\n",
       "      <td>September 25, 2021</td>\n",
       "      <td>2020</td>\n",
       "      <td>PG-13</td>\n",
       "      <td>90 min</td>\n",
       "      <td>Documentaries</td>\n",
       "      <td>As her father nears the end of his life, filmm...</td>\n",
       "    </tr>\n",
       "    <tr>\n",
       "      <th>1</th>\n",
       "      <td>s2</td>\n",
       "      <td>TV Show</td>\n",
       "      <td>Blood &amp; Water</td>\n",
       "      <td>NaN</td>\n",
       "      <td>Ama Qamata, Khosi Ngema, Gail Mabalane, Thaban...</td>\n",
       "      <td>South Africa</td>\n",
       "      <td>September 24, 2021</td>\n",
       "      <td>2021</td>\n",
       "      <td>TV-MA</td>\n",
       "      <td>2 Seasons</td>\n",
       "      <td>International TV Shows, TV Dramas, TV Mysteries</td>\n",
       "      <td>After crossing paths at a party, a Cape Town t...</td>\n",
       "    </tr>\n",
       "  </tbody>\n",
       "</table>\n",
       "</div>"
      ],
      "text/plain": [
       "  show_id     type                 title         director  \\\n",
       "0      s1    Movie  Dick Johnson Is Dead  Kirsten Johnson   \n",
       "1      s2  TV Show         Blood & Water              NaN   \n",
       "\n",
       "                                                cast        country  \\\n",
       "0                                                NaN  United States   \n",
       "1  Ama Qamata, Khosi Ngema, Gail Mabalane, Thaban...   South Africa   \n",
       "\n",
       "           date_added  release_year rating   duration  \\\n",
       "0  September 25, 2021          2020  PG-13     90 min   \n",
       "1  September 24, 2021          2021  TV-MA  2 Seasons   \n",
       "\n",
       "                                         listed_in  \\\n",
       "0                                    Documentaries   \n",
       "1  International TV Shows, TV Dramas, TV Mysteries   \n",
       "\n",
       "                                         description  \n",
       "0  As her father nears the end of his life, filmm...  \n",
       "1  After crossing paths at a party, a Cape Town t...  "
      ]
     },
     "execution_count": 85,
     "metadata": {},
     "output_type": "execute_result"
    }
   ],
   "source": [
    "netflix.head(2)"
   ]
  },
  {
   "cell_type": "code",
   "execution_count": 86,
   "id": "915db747",
   "metadata": {
    "execution": {
     "iopub.execute_input": "2023-04-27T11:31:16.335542Z",
     "iopub.status.busy": "2023-04-27T11:31:16.334607Z",
     "iopub.status.idle": "2023-04-27T11:31:16.345291Z",
     "shell.execute_reply": "2023-04-27T11:31:16.344072Z"
    },
    "papermill": {
     "duration": 0.100089,
     "end_time": "2023-04-27T11:31:16.347517",
     "exception": false,
     "start_time": "2023-04-27T11:31:16.247428",
     "status": "completed"
    },
    "tags": []
   },
   "outputs": [
    {
     "data": {
      "text/plain": [
       "Rajiv Chilaka             19\n",
       "Raúl Campos, Jan Suter    18\n",
       "Marcus Raboy              16\n",
       "Suhas Kadav               16\n",
       "Jay Karas                 14\n",
       "Cathy Garcia-Molina       13\n",
       "Martin Scorsese           12\n",
       "Youssef Chahine           12\n",
       "Jay Chapman               12\n",
       "Steven Spielberg          11\n",
       "Name: director, dtype: int64"
      ]
     },
     "execution_count": 86,
     "metadata": {},
     "output_type": "execute_result"
    }
   ],
   "source": [
    "netflix[\"director\"].value_counts().head(10)"
   ]
  },
  {
   "cell_type": "code",
   "execution_count": 87,
   "id": "0a92fde9",
   "metadata": {
    "execution": {
     "iopub.execute_input": "2023-04-27T11:31:16.521186Z",
     "iopub.status.busy": "2023-04-27T11:31:16.520399Z",
     "iopub.status.idle": "2023-04-27T11:31:17.039203Z",
     "shell.execute_reply": "2023-04-27T11:31:17.038021Z"
    },
    "papermill": {
     "duration": 0.609071,
     "end_time": "2023-04-27T11:31:17.041470",
     "exception": false,
     "start_time": "2023-04-27T11:31:16.432399",
     "status": "completed"
    },
    "tags": []
   },
   "outputs": [
    {
     "data": {
      "text/plain": [
       "<AxesSubplot:>"
      ]
     },
     "execution_count": 87,
     "metadata": {},
     "output_type": "execute_result"
    },
    {
     "data": {
      "image/png": "[encoded data removed]",
      "text/plain": [
       "<Figure size 2000x2000 with 1 Axes>"
      ]
     },
     "metadata": {},
     "output_type": "display_data"
    }
   ],
   "source": [
    "# shown in bar graph \n",
    "netflix[\"director\"].value_counts().head(10).plot(kind='bar')"
   ]
  },
  {
   "cell_type": "markdown",
   "id": "f085b9b1",
   "metadata": {
    "papermill": {
     "duration": 0.093346,
     "end_time": "2023-04-27T11:31:17.226407",
     "exception": false,
     "start_time": "2023-04-27T11:31:17.133061",
     "status": "completed"
    },
    "tags": []
   },
   "source": [
    "**Observation** : Top 10 director list is shown .Rajiv Chilaka he released maximum no. of Tv shows in india"
   ]
  },
  {
   "cell_type": "markdown",
   "id": "6164a406",
   "metadata": {
    "papermill": {
     "duration": 0.086907,
     "end_time": "2023-04-27T11:31:17.399805",
     "exception": false,
     "start_time": "2023-04-27T11:31:17.312898",
     "status": "completed"
    },
    "tags": []
   },
   "source": [
    "### 4.14 In how many movies/ tv shows, 'tom Cruise' was cast?\n",
    "<a id=section414></a>"
   ]
  },
  {
   "cell_type": "code",
   "execution_count": 88,
   "id": "5d5ed02b",
   "metadata": {
    "execution": {
     "iopub.execute_input": "2023-04-27T11:31:17.580122Z",
     "iopub.status.busy": "2023-04-27T11:31:17.579661Z",
     "iopub.status.idle": "2023-04-27T11:31:17.596319Z",
     "shell.execute_reply": "2023-04-27T11:31:17.595105Z"
    },
    "papermill": {
     "duration": 0.107514,
     "end_time": "2023-04-27T11:31:17.598596",
     "exception": false,
     "start_time": "2023-04-27T11:31:17.491082",
     "status": "completed"
    },
    "tags": []
   },
   "outputs": [
    {
     "data": {
      "text/html": [
       "<div>\n",
       "<style scoped>\n",
       "    .dataframe tbody tr th:only-of-type {\n",
       "        vertical-align: middle;\n",
       "    }\n",
       "\n",
       "    .dataframe tbody tr th {\n",
       "        vertical-align: top;\n",
       "    }\n",
       "\n",
       "    .dataframe thead th {\n",
       "        text-align: right;\n",
       "    }\n",
       "</style>\n",
       "<table border=\"1\" class=\"dataframe\">\n",
       "  <thead>\n",
       "    <tr style=\"text-align: right;\">\n",
       "      <th></th>\n",
       "      <th>show_id</th>\n",
       "      <th>type</th>\n",
       "      <th>title</th>\n",
       "      <th>director</th>\n",
       "      <th>cast</th>\n",
       "      <th>country</th>\n",
       "      <th>date_added</th>\n",
       "      <th>release_year</th>\n",
       "      <th>rating</th>\n",
       "      <th>duration</th>\n",
       "      <th>listed_in</th>\n",
       "      <th>description</th>\n",
       "    </tr>\n",
       "  </thead>\n",
       "  <tbody>\n",
       "    <tr>\n",
       "      <th>0</th>\n",
       "      <td>s1</td>\n",
       "      <td>Movie</td>\n",
       "      <td>Dick Johnson Is Dead</td>\n",
       "      <td>Kirsten Johnson</td>\n",
       "      <td>NaN</td>\n",
       "      <td>United States</td>\n",
       "      <td>September 25, 2021</td>\n",
       "      <td>2020</td>\n",
       "      <td>PG-13</td>\n",
       "      <td>90 min</td>\n",
       "      <td>Documentaries</td>\n",
       "      <td>As her father nears the end of his life, filmm...</td>\n",
       "    </tr>\n",
       "    <tr>\n",
       "      <th>1</th>\n",
       "      <td>s2</td>\n",
       "      <td>TV Show</td>\n",
       "      <td>Blood &amp; Water</td>\n",
       "      <td>NaN</td>\n",
       "      <td>Ama Qamata, Khosi Ngema, Gail Mabalane, Thaban...</td>\n",
       "      <td>South Africa</td>\n",
       "      <td>September 24, 2021</td>\n",
       "      <td>2021</td>\n",
       "      <td>TV-MA</td>\n",
       "      <td>2 Seasons</td>\n",
       "      <td>International TV Shows, TV Dramas, TV Mysteries</td>\n",
       "      <td>After crossing paths at a party, a Cape Town t...</td>\n",
       "    </tr>\n",
       "  </tbody>\n",
       "</table>\n",
       "</div>"
      ],
      "text/plain": [
       "  show_id     type                 title         director  \\\n",
       "0      s1    Movie  Dick Johnson Is Dead  Kirsten Johnson   \n",
       "1      s2  TV Show         Blood & Water              NaN   \n",
       "\n",
       "                                                cast        country  \\\n",
       "0                                                NaN  United States   \n",
       "1  Ama Qamata, Khosi Ngema, Gail Mabalane, Thaban...   South Africa   \n",
       "\n",
       "           date_added  release_year rating   duration  \\\n",
       "0  September 25, 2021          2020  PG-13     90 min   \n",
       "1  September 24, 2021          2021  TV-MA  2 Seasons   \n",
       "\n",
       "                                         listed_in  \\\n",
       "0                                    Documentaries   \n",
       "1  International TV Shows, TV Dramas, TV Mysteries   \n",
       "\n",
       "                                         description  \n",
       "0  As her father nears the end of his life, filmm...  \n",
       "1  After crossing paths at a party, a Cape Town t...  "
      ]
     },
     "execution_count": 88,
     "metadata": {},
     "output_type": "execute_result"
    }
   ],
   "source": [
    "netflix.head(2)"
   ]
  },
  {
   "cell_type": "code",
   "execution_count": 89,
   "id": "88c5e71b",
   "metadata": {
    "execution": {
     "iopub.execute_input": "2023-04-27T11:31:17.778020Z",
     "iopub.status.busy": "2023-04-27T11:31:17.777189Z",
     "iopub.status.idle": "2023-04-27T11:31:17.790131Z",
     "shell.execute_reply": "2023-04-27T11:31:17.789003Z"
    },
    "papermill": {
     "duration": 0.108105,
     "end_time": "2023-04-27T11:31:17.792498",
     "exception": false,
     "start_time": "2023-04-27T11:31:17.684393",
     "status": "completed"
    },
    "tags": []
   },
   "outputs": [
    {
     "data": {
      "text/html": [
       "<div>\n",
       "<style scoped>\n",
       "    .dataframe tbody tr th:only-of-type {\n",
       "        vertical-align: middle;\n",
       "    }\n",
       "\n",
       "    .dataframe tbody tr th {\n",
       "        vertical-align: top;\n",
       "    }\n",
       "\n",
       "    .dataframe thead th {\n",
       "        text-align: right;\n",
       "    }\n",
       "</style>\n",
       "<table border=\"1\" class=\"dataframe\">\n",
       "  <thead>\n",
       "    <tr style=\"text-align: right;\">\n",
       "      <th></th>\n",
       "      <th>show_id</th>\n",
       "      <th>type</th>\n",
       "      <th>title</th>\n",
       "      <th>director</th>\n",
       "      <th>cast</th>\n",
       "      <th>country</th>\n",
       "      <th>date_added</th>\n",
       "      <th>release_year</th>\n",
       "      <th>rating</th>\n",
       "      <th>duration</th>\n",
       "      <th>listed_in</th>\n",
       "      <th>description</th>\n",
       "    </tr>\n",
       "  </thead>\n",
       "  <tbody>\n",
       "  </tbody>\n",
       "</table>\n",
       "</div>"
      ],
      "text/plain": [
       "Empty DataFrame\n",
       "Columns: [show_id, type, title, director, cast, country, date_added, release_year, rating, duration, listed_in, description]\n",
       "Index: []"
      ]
     },
     "execution_count": 89,
     "metadata": {},
     "output_type": "execute_result"
    }
   ],
   "source": [
    "#method1:\n",
    "netflix[netflix['cast'] == 'Tom Cruise']"
   ]
  },
  {
   "cell_type": "code",
   "execution_count": 90,
   "id": "2394778e",
   "metadata": {
    "execution": {
     "iopub.execute_input": "2023-04-27T11:31:17.974090Z",
     "iopub.status.busy": "2023-04-27T11:31:17.973267Z",
     "iopub.status.idle": "2023-04-27T11:31:17.978041Z",
     "shell.execute_reply": "2023-04-27T11:31:17.977234Z"
    },
    "papermill": {
     "duration": 0.099914,
     "end_time": "2023-04-27T11:31:17.980384",
     "exception": false,
     "start_time": "2023-04-27T11:31:17.880470",
     "status": "completed"
    },
    "tags": []
   },
   "outputs": [],
   "source": [
    "#method2:\n",
    "\n",
    "#netflix[netflix['cast'].str.contains('Tom Cruise')]"
   ]
  },
  {
   "cell_type": "markdown",
   "id": "fc05b6db",
   "metadata": {
    "papermill": {
     "duration": 0.085694,
     "end_time": "2023-04-27T11:31:18.152889",
     "exception": false,
     "start_time": "2023-04-27T11:31:18.067195",
     "status": "completed"
    },
    "tags": []
   },
   "source": [
    "#### Nan values are present ,first FIll null values\n",
    "\n",
    "* create new dataframe"
   ]
  },
  {
   "cell_type": "code",
   "execution_count": 91,
   "id": "5d6ea657",
   "metadata": {
    "execution": {
     "iopub.execute_input": "2023-04-27T11:31:18.331123Z",
     "iopub.status.busy": "2023-04-27T11:31:18.330341Z",
     "iopub.status.idle": "2023-04-27T11:31:18.353966Z",
     "shell.execute_reply": "2023-04-27T11:31:18.353011Z"
    },
    "papermill": {
     "duration": 0.115448,
     "end_time": "2023-04-27T11:31:18.356153",
     "exception": false,
     "start_time": "2023-04-27T11:31:18.240705",
     "status": "completed"
    },
    "tags": []
   },
   "outputs": [
    {
     "data": {
      "text/html": [
       "<div>\n",
       "<style scoped>\n",
       "    .dataframe tbody tr th:only-of-type {\n",
       "        vertical-align: middle;\n",
       "    }\n",
       "\n",
       "    .dataframe tbody tr th {\n",
       "        vertical-align: top;\n",
       "    }\n",
       "\n",
       "    .dataframe thead th {\n",
       "        text-align: right;\n",
       "    }\n",
       "</style>\n",
       "<table border=\"1\" class=\"dataframe\">\n",
       "  <thead>\n",
       "    <tr style=\"text-align: right;\">\n",
       "      <th></th>\n",
       "      <th>show_id</th>\n",
       "      <th>type</th>\n",
       "      <th>title</th>\n",
       "      <th>director</th>\n",
       "      <th>cast</th>\n",
       "      <th>country</th>\n",
       "      <th>date_added</th>\n",
       "      <th>release_year</th>\n",
       "      <th>rating</th>\n",
       "      <th>duration</th>\n",
       "      <th>listed_in</th>\n",
       "      <th>description</th>\n",
       "    </tr>\n",
       "  </thead>\n",
       "  <tbody>\n",
       "    <tr>\n",
       "      <th>7</th>\n",
       "      <td>s8</td>\n",
       "      <td>Movie</td>\n",
       "      <td>Sankofa</td>\n",
       "      <td>Haile Gerima</td>\n",
       "      <td>Kofi Ghanaba, Oyafunmike Ogunlano, Alexandra D...</td>\n",
       "      <td>United States, Ghana, Burkina Faso, United Kin...</td>\n",
       "      <td>September 24, 2021</td>\n",
       "      <td>1993</td>\n",
       "      <td>TV-MA</td>\n",
       "      <td>125 min</td>\n",
       "      <td>Dramas, Independent Movies, International Movies</td>\n",
       "      <td>On a photo shoot in Ghana, an American model s...</td>\n",
       "    </tr>\n",
       "    <tr>\n",
       "      <th>8</th>\n",
       "      <td>s9</td>\n",
       "      <td>TV Show</td>\n",
       "      <td>The Great British Baking Show</td>\n",
       "      <td>Andy Devonshire</td>\n",
       "      <td>Mel Giedroyc, Sue Perkins, Mary Berry, Paul Ho...</td>\n",
       "      <td>United Kingdom</td>\n",
       "      <td>September 24, 2021</td>\n",
       "      <td>2021</td>\n",
       "      <td>TV-14</td>\n",
       "      <td>9 Seasons</td>\n",
       "      <td>British TV Shows, Reality TV</td>\n",
       "      <td>A talented batch of amateur bakers face off in...</td>\n",
       "    </tr>\n",
       "  </tbody>\n",
       "</table>\n",
       "</div>"
      ],
      "text/plain": [
       "  show_id     type                          title         director  \\\n",
       "7      s8    Movie                        Sankofa     Haile Gerima   \n",
       "8      s9  TV Show  The Great British Baking Show  Andy Devonshire   \n",
       "\n",
       "                                                cast  \\\n",
       "7  Kofi Ghanaba, Oyafunmike Ogunlano, Alexandra D...   \n",
       "8  Mel Giedroyc, Sue Perkins, Mary Berry, Paul Ho...   \n",
       "\n",
       "                                             country          date_added  \\\n",
       "7  United States, Ghana, Burkina Faso, United Kin...  September 24, 2021   \n",
       "8                                     United Kingdom  September 24, 2021   \n",
       "\n",
       "   release_year rating   duration  \\\n",
       "7          1993  TV-MA    125 min   \n",
       "8          2021  TV-14  9 Seasons   \n",
       "\n",
       "                                          listed_in  \\\n",
       "7  Dramas, Independent Movies, International Movies   \n",
       "8                      British TV Shows, Reality TV   \n",
       "\n",
       "                                         description  \n",
       "7  On a photo shoot in Ghana, an American model s...  \n",
       "8  A talented batch of amateur bakers face off in...  "
      ]
     },
     "execution_count": 91,
     "metadata": {},
     "output_type": "execute_result"
    }
   ],
   "source": [
    "netflix_copy = netflix.dropna()\n",
    "netflix_copy.head(2)"
   ]
  },
  {
   "cell_type": "code",
   "execution_count": 92,
   "id": "53653675",
   "metadata": {
    "execution": {
     "iopub.execute_input": "2023-04-27T11:31:18.532975Z",
     "iopub.status.busy": "2023-04-27T11:31:18.532212Z",
     "iopub.status.idle": "2023-04-27T11:31:18.553318Z",
     "shell.execute_reply": "2023-04-27T11:31:18.552174Z"
    },
    "papermill": {
     "duration": 0.112885,
     "end_time": "2023-04-27T11:31:18.555447",
     "exception": false,
     "start_time": "2023-04-27T11:31:18.442562",
     "status": "completed"
    },
    "tags": []
   },
   "outputs": [
    {
     "data": {
      "text/html": [
       "<div>\n",
       "<style scoped>\n",
       "    .dataframe tbody tr th:only-of-type {\n",
       "        vertical-align: middle;\n",
       "    }\n",
       "\n",
       "    .dataframe tbody tr th {\n",
       "        vertical-align: top;\n",
       "    }\n",
       "\n",
       "    .dataframe thead th {\n",
       "        text-align: right;\n",
       "    }\n",
       "</style>\n",
       "<table border=\"1\" class=\"dataframe\">\n",
       "  <thead>\n",
       "    <tr style=\"text-align: right;\">\n",
       "      <th></th>\n",
       "      <th>show_id</th>\n",
       "      <th>type</th>\n",
       "      <th>title</th>\n",
       "      <th>director</th>\n",
       "      <th>cast</th>\n",
       "      <th>country</th>\n",
       "      <th>date_added</th>\n",
       "      <th>release_year</th>\n",
       "      <th>rating</th>\n",
       "      <th>duration</th>\n",
       "      <th>listed_in</th>\n",
       "      <th>description</th>\n",
       "    </tr>\n",
       "  </thead>\n",
       "  <tbody>\n",
       "    <tr>\n",
       "      <th>341</th>\n",
       "      <td>s342</td>\n",
       "      <td>Movie</td>\n",
       "      <td>Magnolia</td>\n",
       "      <td>Paul Thomas Anderson</td>\n",
       "      <td>John C. Reilly, Philip Baker Hall, Tom Cruise,...</td>\n",
       "      <td>United States</td>\n",
       "      <td>August 1, 2021</td>\n",
       "      <td>1999</td>\n",
       "      <td>R</td>\n",
       "      <td>189 min</td>\n",
       "      <td>Dramas, Independent Movies</td>\n",
       "      <td>Through chance, history and divine interventio...</td>\n",
       "    </tr>\n",
       "    <tr>\n",
       "      <th>1254</th>\n",
       "      <td>s1255</td>\n",
       "      <td>Movie</td>\n",
       "      <td>Rain Man</td>\n",
       "      <td>Barry Levinson</td>\n",
       "      <td>Dustin Hoffman, Tom Cruise, Valeria Golino, Ge...</td>\n",
       "      <td>United States</td>\n",
       "      <td>March 1, 2021</td>\n",
       "      <td>1988</td>\n",
       "      <td>R</td>\n",
       "      <td>134 min</td>\n",
       "      <td>Classic Movies, Dramas</td>\n",
       "      <td>Motivated by money, a selfish workaholic seeki...</td>\n",
       "    </tr>\n",
       "  </tbody>\n",
       "</table>\n",
       "</div>"
      ],
      "text/plain": [
       "     show_id   type     title              director  \\\n",
       "341     s342  Movie  Magnolia  Paul Thomas Anderson   \n",
       "1254   s1255  Movie  Rain Man        Barry Levinson   \n",
       "\n",
       "                                                   cast        country  \\\n",
       "341   John C. Reilly, Philip Baker Hall, Tom Cruise,...  United States   \n",
       "1254  Dustin Hoffman, Tom Cruise, Valeria Golino, Ge...  United States   \n",
       "\n",
       "          date_added  release_year rating duration  \\\n",
       "341   August 1, 2021          1999      R  189 min   \n",
       "1254   March 1, 2021          1988      R  134 min   \n",
       "\n",
       "                       listed_in  \\\n",
       "341   Dramas, Independent Movies   \n",
       "1254      Classic Movies, Dramas   \n",
       "\n",
       "                                            description  \n",
       "341   Through chance, history and divine interventio...  \n",
       "1254  Motivated by money, a selfish workaholic seeki...  "
      ]
     },
     "execution_count": 92,
     "metadata": {},
     "output_type": "execute_result"
    }
   ],
   "source": [
    "netflix_copy[netflix_copy['cast'].str.contains('Tom Cruise')]"
   ]
  },
  {
   "cell_type": "markdown",
   "id": "10b28617",
   "metadata": {
    "papermill": {
     "duration": 0.086668,
     "end_time": "2023-04-27T11:31:18.729274",
     "exception": false,
     "start_time": "2023-04-27T11:31:18.642606",
     "status": "completed"
    },
    "tags": []
   },
   "source": [
    "**Obeservation**: There are two movies casted Mr.Tom Cruise -\"Magnolia\" & \"Rain Man\" ."
   ]
  },
  {
   "cell_type": "markdown",
   "id": "c74322c5",
   "metadata": {
    "papermill": {
     "duration": 0.089717,
     "end_time": "2023-04-27T11:31:18.907429",
     "exception": false,
     "start_time": "2023-04-27T11:31:18.817712",
     "status": "completed"
    },
    "tags": []
   },
   "source": [
    "### 4.15 How many movies got the \"TV-14\" rating in the caneda?\n",
    "<a id=section415></a>"
   ]
  },
  {
   "cell_type": "code",
   "execution_count": 93,
   "id": "aaa1fab2",
   "metadata": {
    "execution": {
     "iopub.execute_input": "2023-04-27T11:31:19.085038Z",
     "iopub.status.busy": "2023-04-27T11:31:19.084056Z",
     "iopub.status.idle": "2023-04-27T11:31:19.099235Z",
     "shell.execute_reply": "2023-04-27T11:31:19.098139Z"
    },
    "papermill": {
     "duration": 0.106476,
     "end_time": "2023-04-27T11:31:19.101309",
     "exception": false,
     "start_time": "2023-04-27T11:31:18.994833",
     "status": "completed"
    },
    "tags": []
   },
   "outputs": [
    {
     "data": {
      "text/html": [
       "<div>\n",
       "<style scoped>\n",
       "    .dataframe tbody tr th:only-of-type {\n",
       "        vertical-align: middle;\n",
       "    }\n",
       "\n",
       "    .dataframe tbody tr th {\n",
       "        vertical-align: top;\n",
       "    }\n",
       "\n",
       "    .dataframe thead th {\n",
       "        text-align: right;\n",
       "    }\n",
       "</style>\n",
       "<table border=\"1\" class=\"dataframe\">\n",
       "  <thead>\n",
       "    <tr style=\"text-align: right;\">\n",
       "      <th></th>\n",
       "      <th>show_id</th>\n",
       "      <th>type</th>\n",
       "      <th>title</th>\n",
       "      <th>director</th>\n",
       "      <th>cast</th>\n",
       "      <th>country</th>\n",
       "      <th>date_added</th>\n",
       "      <th>release_year</th>\n",
       "      <th>rating</th>\n",
       "      <th>duration</th>\n",
       "      <th>listed_in</th>\n",
       "      <th>description</th>\n",
       "    </tr>\n",
       "  </thead>\n",
       "  <tbody>\n",
       "    <tr>\n",
       "      <th>0</th>\n",
       "      <td>s1</td>\n",
       "      <td>Movie</td>\n",
       "      <td>Dick Johnson Is Dead</td>\n",
       "      <td>Kirsten Johnson</td>\n",
       "      <td>NaN</td>\n",
       "      <td>United States</td>\n",
       "      <td>September 25, 2021</td>\n",
       "      <td>2020</td>\n",
       "      <td>PG-13</td>\n",
       "      <td>90 min</td>\n",
       "      <td>Documentaries</td>\n",
       "      <td>As her father nears the end of his life, filmm...</td>\n",
       "    </tr>\n",
       "    <tr>\n",
       "      <th>1</th>\n",
       "      <td>s2</td>\n",
       "      <td>TV Show</td>\n",
       "      <td>Blood &amp; Water</td>\n",
       "      <td>NaN</td>\n",
       "      <td>Ama Qamata, Khosi Ngema, Gail Mabalane, Thaban...</td>\n",
       "      <td>South Africa</td>\n",
       "      <td>September 24, 2021</td>\n",
       "      <td>2021</td>\n",
       "      <td>TV-MA</td>\n",
       "      <td>2 Seasons</td>\n",
       "      <td>International TV Shows, TV Dramas, TV Mysteries</td>\n",
       "      <td>After crossing paths at a party, a Cape Town t...</td>\n",
       "    </tr>\n",
       "  </tbody>\n",
       "</table>\n",
       "</div>"
      ],
      "text/plain": [
       "  show_id     type                 title         director  \\\n",
       "0      s1    Movie  Dick Johnson Is Dead  Kirsten Johnson   \n",
       "1      s2  TV Show         Blood & Water              NaN   \n",
       "\n",
       "                                                cast        country  \\\n",
       "0                                                NaN  United States   \n",
       "1  Ama Qamata, Khosi Ngema, Gail Mabalane, Thaban...   South Africa   \n",
       "\n",
       "           date_added  release_year rating   duration  \\\n",
       "0  September 25, 2021          2020  PG-13     90 min   \n",
       "1  September 24, 2021          2021  TV-MA  2 Seasons   \n",
       "\n",
       "                                         listed_in  \\\n",
       "0                                    Documentaries   \n",
       "1  International TV Shows, TV Dramas, TV Mysteries   \n",
       "\n",
       "                                         description  \n",
       "0  As her father nears the end of his life, filmm...  \n",
       "1  After crossing paths at a party, a Cape Town t...  "
      ]
     },
     "execution_count": 93,
     "metadata": {},
     "output_type": "execute_result"
    }
   ],
   "source": [
    "netflix.head(2)"
   ]
  },
  {
   "cell_type": "code",
   "execution_count": 94,
   "id": "0619070b",
   "metadata": {
    "execution": {
     "iopub.execute_input": "2023-04-27T11:31:19.278245Z",
     "iopub.status.busy": "2023-04-27T11:31:19.277249Z",
     "iopub.status.idle": "2023-04-27T11:31:19.286988Z",
     "shell.execute_reply": "2023-04-27T11:31:19.286072Z"
    },
    "papermill": {
     "duration": 0.10099,
     "end_time": "2023-04-27T11:31:19.289116",
     "exception": false,
     "start_time": "2023-04-27T11:31:19.188126",
     "status": "completed"
    },
    "tags": []
   },
   "outputs": [
    {
     "data": {
      "text/plain": [
       "(1427, 12)"
      ]
     },
     "execution_count": 94,
     "metadata": {},
     "output_type": "execute_result"
    }
   ],
   "source": [
    "netflix[(netflix['type'] == 'Movie') & (netflix['rating'] == 'TV-14')].shape"
   ]
  },
  {
   "cell_type": "code",
   "execution_count": 95,
   "id": "dd292b30",
   "metadata": {
    "execution": {
     "iopub.execute_input": "2023-04-27T11:31:19.468084Z",
     "iopub.status.busy": "2023-04-27T11:31:19.467644Z",
     "iopub.status.idle": "2023-04-27T11:31:19.492103Z",
     "shell.execute_reply": "2023-04-27T11:31:19.490916Z"
    },
    "papermill": {
     "duration": 0.117142,
     "end_time": "2023-04-27T11:31:19.494228",
     "exception": false,
     "start_time": "2023-04-27T11:31:19.377086",
     "status": "completed"
    },
    "tags": []
   },
   "outputs": [
    {
     "data": {
      "text/html": [
       "<div>\n",
       "<style scoped>\n",
       "    .dataframe tbody tr th:only-of-type {\n",
       "        vertical-align: middle;\n",
       "    }\n",
       "\n",
       "    .dataframe tbody tr th {\n",
       "        vertical-align: top;\n",
       "    }\n",
       "\n",
       "    .dataframe thead th {\n",
       "        text-align: right;\n",
       "    }\n",
       "</style>\n",
       "<table border=\"1\" class=\"dataframe\">\n",
       "  <thead>\n",
       "    <tr style=\"text-align: right;\">\n",
       "      <th></th>\n",
       "      <th>show_id</th>\n",
       "      <th>type</th>\n",
       "      <th>title</th>\n",
       "      <th>director</th>\n",
       "      <th>cast</th>\n",
       "      <th>country</th>\n",
       "      <th>date_added</th>\n",
       "      <th>release_year</th>\n",
       "      <th>rating</th>\n",
       "      <th>duration</th>\n",
       "      <th>listed_in</th>\n",
       "      <th>description</th>\n",
       "    </tr>\n",
       "  </thead>\n",
       "  <tbody>\n",
       "    <tr>\n",
       "      <th>157</th>\n",
       "      <td>s158</td>\n",
       "      <td>Movie</td>\n",
       "      <td>Level 16</td>\n",
       "      <td>Danishka Esterhazy</td>\n",
       "      <td>Katie Douglas, Celina Martin, Peter Outerbridg...</td>\n",
       "      <td>Canada</td>\n",
       "      <td>September 1, 2021</td>\n",
       "      <td>2018</td>\n",
       "      <td>TV-14</td>\n",
       "      <td>102 min</td>\n",
       "      <td>Sci-Fi &amp; Fantasy, Thrillers</td>\n",
       "      <td>In a bleak academy that teaches girls the virt...</td>\n",
       "    </tr>\n",
       "    <tr>\n",
       "      <th>1279</th>\n",
       "      <td>s1280</td>\n",
       "      <td>Movie</td>\n",
       "      <td>Made You Look: A True Story About Fake Art</td>\n",
       "      <td>Barry Avrich</td>\n",
       "      <td>NaN</td>\n",
       "      <td>Canada</td>\n",
       "      <td>February 23, 2021</td>\n",
       "      <td>2020</td>\n",
       "      <td>TV-14</td>\n",
       "      <td>90 min</td>\n",
       "      <td>Documentaries, International Movies</td>\n",
       "      <td>A woman walks into a New York gallery with a c...</td>\n",
       "    </tr>\n",
       "    <tr>\n",
       "      <th>2769</th>\n",
       "      <td>s2770</td>\n",
       "      <td>Movie</td>\n",
       "      <td>There's Something in the Water</td>\n",
       "      <td>Ellen Page, Ian Daniel</td>\n",
       "      <td>Ellen Page</td>\n",
       "      <td>Canada</td>\n",
       "      <td>March 27, 2020</td>\n",
       "      <td>2019</td>\n",
       "      <td>TV-14</td>\n",
       "      <td>72 min</td>\n",
       "      <td>Documentaries, International Movies</td>\n",
       "      <td>This documentary spotlights the struggle of mi...</td>\n",
       "    </tr>\n",
       "    <tr>\n",
       "      <th>3424</th>\n",
       "      <td>s3425</td>\n",
       "      <td>Movie</td>\n",
       "      <td>Martin Matte: La vie, la mort...eh la la..!</td>\n",
       "      <td>Jean-François Blais</td>\n",
       "      <td>Martin Matte</td>\n",
       "      <td>Canada</td>\n",
       "      <td>October 14, 2019</td>\n",
       "      <td>2019</td>\n",
       "      <td>TV-14</td>\n",
       "      <td>62 min</td>\n",
       "      <td>Stand-Up Comedy</td>\n",
       "      <td>Quebecois comedy star Martin Matte serves up e...</td>\n",
       "    </tr>\n",
       "    <tr>\n",
       "      <th>5972</th>\n",
       "      <td>s5973</td>\n",
       "      <td>Movie</td>\n",
       "      <td>#cats_the_mewvie</td>\n",
       "      <td>Michael Margolis</td>\n",
       "      <td>NaN</td>\n",
       "      <td>Canada</td>\n",
       "      <td>February 5, 2020</td>\n",
       "      <td>2020</td>\n",
       "      <td>TV-14</td>\n",
       "      <td>90 min</td>\n",
       "      <td>Documentaries, International Movies</td>\n",
       "      <td>This pawesome documentary explores how our fel...</td>\n",
       "    </tr>\n",
       "    <tr>\n",
       "      <th>5973</th>\n",
       "      <td>s5974</td>\n",
       "      <td>Movie</td>\n",
       "      <td>#Roxy</td>\n",
       "      <td>Michael Kennedy</td>\n",
       "      <td>Jake Short, Sarah Fisher, Booboo Stewart, Dann...</td>\n",
       "      <td>Canada</td>\n",
       "      <td>April 10, 2019</td>\n",
       "      <td>2018</td>\n",
       "      <td>TV-14</td>\n",
       "      <td>105 min</td>\n",
       "      <td>Comedies, Romantic Movies</td>\n",
       "      <td>A teenage hacker with a huge nose helps a cool...</td>\n",
       "    </tr>\n",
       "    <tr>\n",
       "      <th>6192</th>\n",
       "      <td>s6193</td>\n",
       "      <td>Movie</td>\n",
       "      <td>At First Light</td>\n",
       "      <td>Jason Stone</td>\n",
       "      <td>Stefanie Scott, Theodore Pellerin, Percy Hynes...</td>\n",
       "      <td>Canada</td>\n",
       "      <td>December 27, 2018</td>\n",
       "      <td>2018</td>\n",
       "      <td>TV-14</td>\n",
       "      <td>91 min</td>\n",
       "      <td>Dramas, Sci-Fi &amp; Fantasy</td>\n",
       "      <td>After mysterious lights imbue her with extraor...</td>\n",
       "    </tr>\n",
       "    <tr>\n",
       "      <th>6537</th>\n",
       "      <td>s6538</td>\n",
       "      <td>Movie</td>\n",
       "      <td>Counterfeiting in Suburbia</td>\n",
       "      <td>Jason Bourque</td>\n",
       "      <td>Sarah Butler, Larissa Albuquerque, Kayla Walla...</td>\n",
       "      <td>Canada</td>\n",
       "      <td>July 1, 2018</td>\n",
       "      <td>2018</td>\n",
       "      <td>TV-14</td>\n",
       "      <td>88 min</td>\n",
       "      <td>Dramas, Thrillers</td>\n",
       "      <td>Two teenagers print counterfeit money in their...</td>\n",
       "    </tr>\n",
       "    <tr>\n",
       "      <th>7334</th>\n",
       "      <td>s7335</td>\n",
       "      <td>Movie</td>\n",
       "      <td>Long Time Running</td>\n",
       "      <td>Jennifer Baichwal, Nicholas de Pencier</td>\n",
       "      <td>Gord Downie, Paul Langlois, Gord Sinclair, Rob...</td>\n",
       "      <td>Canada</td>\n",
       "      <td>November 12, 2017</td>\n",
       "      <td>2017</td>\n",
       "      <td>TV-14</td>\n",
       "      <td>96 min</td>\n",
       "      <td>Documentaries, International Movies, Music &amp; M...</td>\n",
       "      <td>This documentary follows the 2016 tour of belo...</td>\n",
       "    </tr>\n",
       "    <tr>\n",
       "      <th>7916</th>\n",
       "      <td>s7917</td>\n",
       "      <td>Movie</td>\n",
       "      <td>Sadie's Last Days on Earth</td>\n",
       "      <td>Michael Seater</td>\n",
       "      <td>Morgan Taylor Campbell, Clark Backo, Ricardo H...</td>\n",
       "      <td>Canada</td>\n",
       "      <td>August 22, 2017</td>\n",
       "      <td>2016</td>\n",
       "      <td>TV-14</td>\n",
       "      <td>94 min</td>\n",
       "      <td>Comedies, Sci-Fi &amp; Fantasy</td>\n",
       "      <td>High schooler Sadie Mitchell believes the worl...</td>\n",
       "    </tr>\n",
       "    <tr>\n",
       "      <th>7936</th>\n",
       "      <td>s7937</td>\n",
       "      <td>Movie</td>\n",
       "      <td>Sardaar ji</td>\n",
       "      <td>Rohit Jugraj</td>\n",
       "      <td>Diljit Dosanjh, Neeru Bajwa, Mandy Takhar, Jas...</td>\n",
       "      <td>Canada</td>\n",
       "      <td>December 1, 2017</td>\n",
       "      <td>2015</td>\n",
       "      <td>TV-14</td>\n",
       "      <td>140 min</td>\n",
       "      <td>Comedies, International Movies, Music &amp; Musicals</td>\n",
       "      <td>When a palatial wedding venue turns out to be ...</td>\n",
       "    </tr>\n",
       "    <tr>\n",
       "      <th>8178</th>\n",
       "      <td>s8179</td>\n",
       "      <td>Movie</td>\n",
       "      <td>The Accountant of Auschwitz</td>\n",
       "      <td>Matthew Shoychet</td>\n",
       "      <td>NaN</td>\n",
       "      <td>Canada</td>\n",
       "      <td>July 1, 2019</td>\n",
       "      <td>2018</td>\n",
       "      <td>TV-14</td>\n",
       "      <td>78 min</td>\n",
       "      <td>Documentaries, International Movies</td>\n",
       "      <td>Decades after WWII, a former SS officer stands...</td>\n",
       "    </tr>\n",
       "    <tr>\n",
       "      <th>8566</th>\n",
       "      <td>s8567</td>\n",
       "      <td>Movie</td>\n",
       "      <td>The Wrong Babysitter</td>\n",
       "      <td>George Mendeluk</td>\n",
       "      <td>Daphne Zuniga, Seann Gallagher, Lisa Marie Car...</td>\n",
       "      <td>Canada</td>\n",
       "      <td>June 18, 2019</td>\n",
       "      <td>2017</td>\n",
       "      <td>TV-14</td>\n",
       "      <td>89 min</td>\n",
       "      <td>Thrillers</td>\n",
       "      <td>A widow searches for her missing teenage daugh...</td>\n",
       "    </tr>\n",
       "  </tbody>\n",
       "</table>\n",
       "</div>"
      ],
      "text/plain": [
       "     show_id   type                                        title  \\\n",
       "157     s158  Movie                                     Level 16   \n",
       "1279   s1280  Movie   Made You Look: A True Story About Fake Art   \n",
       "2769   s2770  Movie               There's Something in the Water   \n",
       "3424   s3425  Movie  Martin Matte: La vie, la mort...eh la la..!   \n",
       "5972   s5973  Movie                             #cats_the_mewvie   \n",
       "5973   s5974  Movie                                        #Roxy   \n",
       "6192   s6193  Movie                               At First Light   \n",
       "6537   s6538  Movie                   Counterfeiting in Suburbia   \n",
       "7334   s7335  Movie                            Long Time Running   \n",
       "7916   s7917  Movie                   Sadie's Last Days on Earth   \n",
       "7936   s7937  Movie                                   Sardaar ji   \n",
       "8178   s8179  Movie                  The Accountant of Auschwitz   \n",
       "8566   s8567  Movie                         The Wrong Babysitter   \n",
       "\n",
       "                                    director  \\\n",
       "157                       Danishka Esterhazy   \n",
       "1279                            Barry Avrich   \n",
       "2769                  Ellen Page, Ian Daniel   \n",
       "3424                     Jean-François Blais   \n",
       "5972                        Michael Margolis   \n",
       "5973                         Michael Kennedy   \n",
       "6192                             Jason Stone   \n",
       "6537                           Jason Bourque   \n",
       "7334  Jennifer Baichwal, Nicholas de Pencier   \n",
       "7916                          Michael Seater   \n",
       "7936                            Rohit Jugraj   \n",
       "8178                        Matthew Shoychet   \n",
       "8566                         George Mendeluk   \n",
       "\n",
       "                                                   cast country  \\\n",
       "157   Katie Douglas, Celina Martin, Peter Outerbridg...  Canada   \n",
       "1279                                                NaN  Canada   \n",
       "2769                                         Ellen Page  Canada   \n",
       "3424                                       Martin Matte  Canada   \n",
       "5972                                                NaN  Canada   \n",
       "5973  Jake Short, Sarah Fisher, Booboo Stewart, Dann...  Canada   \n",
       "6192  Stefanie Scott, Theodore Pellerin, Percy Hynes...  Canada   \n",
       "6537  Sarah Butler, Larissa Albuquerque, Kayla Walla...  Canada   \n",
       "7334  Gord Downie, Paul Langlois, Gord Sinclair, Rob...  Canada   \n",
       "7916  Morgan Taylor Campbell, Clark Backo, Ricardo H...  Canada   \n",
       "7936  Diljit Dosanjh, Neeru Bajwa, Mandy Takhar, Jas...  Canada   \n",
       "8178                                                NaN  Canada   \n",
       "8566  Daphne Zuniga, Seann Gallagher, Lisa Marie Car...  Canada   \n",
       "\n",
       "             date_added  release_year rating duration  \\\n",
       "157   September 1, 2021          2018  TV-14  102 min   \n",
       "1279  February 23, 2021          2020  TV-14   90 min   \n",
       "2769     March 27, 2020          2019  TV-14   72 min   \n",
       "3424   October 14, 2019          2019  TV-14   62 min   \n",
       "5972   February 5, 2020          2020  TV-14   90 min   \n",
       "5973     April 10, 2019          2018  TV-14  105 min   \n",
       "6192  December 27, 2018          2018  TV-14   91 min   \n",
       "6537       July 1, 2018          2018  TV-14   88 min   \n",
       "7334  November 12, 2017          2017  TV-14   96 min   \n",
       "7916    August 22, 2017          2016  TV-14   94 min   \n",
       "7936   December 1, 2017          2015  TV-14  140 min   \n",
       "8178       July 1, 2019          2018  TV-14   78 min   \n",
       "8566      June 18, 2019          2017  TV-14   89 min   \n",
       "\n",
       "                                              listed_in  \\\n",
       "157                         Sci-Fi & Fantasy, Thrillers   \n",
       "1279                Documentaries, International Movies   \n",
       "2769                Documentaries, International Movies   \n",
       "3424                                    Stand-Up Comedy   \n",
       "5972                Documentaries, International Movies   \n",
       "5973                          Comedies, Romantic Movies   \n",
       "6192                           Dramas, Sci-Fi & Fantasy   \n",
       "6537                                  Dramas, Thrillers   \n",
       "7334  Documentaries, International Movies, Music & M...   \n",
       "7916                         Comedies, Sci-Fi & Fantasy   \n",
       "7936   Comedies, International Movies, Music & Musicals   \n",
       "8178                Documentaries, International Movies   \n",
       "8566                                          Thrillers   \n",
       "\n",
       "                                            description  \n",
       "157   In a bleak academy that teaches girls the virt...  \n",
       "1279  A woman walks into a New York gallery with a c...  \n",
       "2769  This documentary spotlights the struggle of mi...  \n",
       "3424  Quebecois comedy star Martin Matte serves up e...  \n",
       "5972  This pawesome documentary explores how our fel...  \n",
       "5973  A teenage hacker with a huge nose helps a cool...  \n",
       "6192  After mysterious lights imbue her with extraor...  \n",
       "6537  Two teenagers print counterfeit money in their...  \n",
       "7334  This documentary follows the 2016 tour of belo...  \n",
       "7916  High schooler Sadie Mitchell believes the worl...  \n",
       "7936  When a palatial wedding venue turns out to be ...  \n",
       "8178  Decades after WWII, a former SS officer stands...  \n",
       "8566  A widow searches for her missing teenage daugh...  "
      ]
     },
     "execution_count": 95,
     "metadata": {},
     "output_type": "execute_result"
    }
   ],
   "source": [
    "netflix[(netflix['type'] == 'Movie') & (netflix['rating'] == 'TV-14') & (netflix['country'] == 'Canada')]"
   ]
  },
  {
   "cell_type": "code",
   "execution_count": 96,
   "id": "9601f3b8",
   "metadata": {
    "execution": {
     "iopub.execute_input": "2023-04-27T11:31:19.672620Z",
     "iopub.status.busy": "2023-04-27T11:31:19.671831Z",
     "iopub.status.idle": "2023-04-27T11:31:19.683520Z",
     "shell.execute_reply": "2023-04-27T11:31:19.682141Z"
    },
    "papermill": {
     "duration": 0.104789,
     "end_time": "2023-04-27T11:31:19.686027",
     "exception": false,
     "start_time": "2023-04-27T11:31:19.581238",
     "status": "completed"
    },
    "tags": []
   },
   "outputs": [
    {
     "data": {
      "text/plain": [
       "(13, 12)"
      ]
     },
     "execution_count": 96,
     "metadata": {},
     "output_type": "execute_result"
    }
   ],
   "source": [
    "netflix[(netflix['type'] == 'Movie') & (netflix['rating'] == 'TV-14') & (netflix['country'] == 'Canada')].shape"
   ]
  },
  {
   "cell_type": "markdown",
   "id": "debab22f",
   "metadata": {
    "papermill": {
     "duration": 0.100542,
     "end_time": "2023-04-27T11:31:19.875745",
     "exception": false,
     "start_time": "2023-04-27T11:31:19.775203",
     "status": "completed"
    },
    "tags": []
   },
   "source": [
    "**Insights**: There are 13  movies got the \"TV-14\" rating in the caneda."
   ]
  },
  {
   "cell_type": "markdown",
   "id": "732ed9cc",
   "metadata": {
    "papermill": {
     "duration": 0.088275,
     "end_time": "2023-04-27T11:31:27.317600",
     "exception": false,
     "start_time": "2023-04-27T11:31:27.229325",
     "status": "completed"
    },
    "tags": []
   },
   "source": [
    "## 5. Conclusions:\n",
    "- We explore the Netflix dataset and saw how to clean the data and then jump into how to visualize the data with **Exploratory Data Analysis**. We saw some basic and advanced level charts of seaborn and matplotlib like Heatmap,Pie-chart, Bar chart, Countplot.\n",
    "- We see highest rating Tv show or Movies in dataset\n",
    "- Which month is best for movies realising and so on.\n",
    "\n",
    "<a id=section5></a>"
   ]
  }
 ],
 "metadata": {
  "kernelspec": {
   "display_name": "Python 3 (ipykernel)",
   "language": "python",
   "name": "python3"
  },
  "language_info": {
   "codemirror_mode": {
    "name": "ipython",
    "version": 3
   },
   "file_extension": ".py",
   "mimetype": "text/x-python",
   "name": "python",
   "nbconvert_exporter": "python",
   "pygments_lexer": "ipython3",
   "version": "3.11.5"
  },
  "papermill": {
   "default_parameters": {},
   "duration": 75.022673,
   "end_time": "2023-04-27T11:31:28.808294",
   "environment_variables": {},
   "exception": null,
   "input_path": "__notebook__.ipynb",
   "output_path": "__notebook__.ipynb",
   "parameters": {},
   "start_time": "2023-04-27T11:30:13.785621",
   "version": "2.4.0"
  },
  "widgets": {
   "application/vnd.jupyter.widget-state+json": {
    "state": {
     "01543406d52b43a59efdd836004470b4": {
      "model_module": "@jupyter-widgets/controls",
      "model_module_version": "1.5.0",
      "model_name": "FloatProgressModel",
      "state": {
       "_dom_classes": [],
       "_model_module": "@jupyter-widgets/controls",
       "_model_module_version": "1.5.0",
       "_model_name": "FloatProgressModel",
       "_view_count": null,
       "_view_module": "@jupyter-widgets/controls",
       "_view_module_version": "1.5.0",
       "_view_name": "ProgressView",
       "bar_style": "success",
       "description": "",
       "description_tooltip": null,
       "layout": "IPY_MODEL_4e3ff7f3b751461388f57b73ea205896",
       "max": 1,
       "min": 0,
       "orientation": "horizontal",
       "style": "IPY_MODEL_a24f462355e84c3da4ffb02e32b53dc3",
       "value": 1
      }
     },
     "06c66d0435bf456c988122695e7a2655": {
      "model_module": "@jupyter-widgets/base",
      "model_module_version": "1.2.0",
      "model_name": "LayoutModel",
      "state": {
       "_model_module": "@jupyter-widgets/base",
       "_model_module_version": "1.2.0",
       "_model_name": "LayoutModel",
       "_view_count": null,
       "_view_module": "@jupyter-widgets/base",
       "_view_module_version": "1.2.0",
       "_view_name": "LayoutView",
       "align_content": null,
       "align_items": null,
       "align_self": null,
       "border": null,
       "bottom": null,
       "display": null,
       "flex": null,
       "flex_flow": null,
       "grid_area": null,
       "grid_auto_columns": null,
       "grid_auto_flow": null,
       "grid_auto_rows": null,
       "grid_column": null,
       "grid_gap": null,
       "grid_row": null,
       "grid_template_areas": null,
       "grid_template_columns": null,
       "grid_template_rows": null,
       "height": null,
       "justify_content": null,
       "justify_items": null,
       "left": null,
       "margin": null,
       "max_height": null,
       "max_width": null,
       "min_height": null,
       "min_width": null,
       "object_fit": null,
       "object_position": null,
       "order": null,
       "overflow": null,
       "overflow_x": null,
       "overflow_y": null,
       "padding": null,
       "right": null,
       "top": null,
       "visibility": null,
       "width": null
      }
     },
     "076386821b2e4a67a0800debb84d1bc1": {
      "model_module": "@jupyter-widgets/controls",
      "model_module_version": "1.5.0",
      "model_name": "DescriptionStyleModel",
      "state": {
       "_model_module": "@jupyter-widgets/controls",
       "_model_module_version": "1.5.0",
       "_model_name": "DescriptionStyleModel",
       "_view_count": null,
       "_view_module": "@jupyter-widgets/base",
       "_view_module_version": "1.2.0",
       "_view_name": "StyleView",
       "description_width": ""
      }
     },
     "0ab8a83bf1254c6ca07c74533f758f36": {
      "model_module": "@jupyter-widgets/controls",
      "model_module_version": "1.5.0",
      "model_name": "DescriptionStyleModel",
      "state": {
       "_model_module": "@jupyter-widgets/controls",
       "_model_module_version": "1.5.0",
       "_model_name": "DescriptionStyleModel",
       "_view_count": null,
       "_view_module": "@jupyter-widgets/base",
       "_view_module_version": "1.2.0",
       "_view_name": "StyleView",
       "description_width": ""
      }
     },
     "0b30673800d34cb2b57b87c21fa31ff2": {
      "model_module": "@jupyter-widgets/base",
      "model_module_version": "1.2.0",
      "model_name": "LayoutModel",
      "state": {
       "_model_module": "@jupyter-widgets/base",
       "_model_module_version": "1.2.0",
       "_model_name": "LayoutModel",
       "_view_count": null,
       "_view_module": "@jupyter-widgets/base",
       "_view_module_version": "1.2.0",
       "_view_name": "LayoutView",
       "align_content": null,
       "align_items": null,
       "align_self": null,
       "border": null,
       "bottom": null,
       "display": null,
       "flex": null,
       "flex_flow": null,
       "grid_area": null,
       "grid_auto_columns": null,
       "grid_auto_flow": null,
       "grid_auto_rows": null,
       "grid_column": null,
       "grid_gap": null,
       "grid_row": null,
       "grid_template_areas": null,
       "grid_template_columns": null,
       "grid_template_rows": null,
       "height": null,
       "justify_content": null,
       "justify_items": null,
       "left": null,
       "margin": null,
       "max_height": null,
       "max_width": null,
       "min_height": null,
       "min_width": null,
       "object_fit": null,
       "object_position": null,
       "order": null,
       "overflow": null,
       "overflow_x": null,
       "overflow_y": null,
       "padding": null,
       "right": null,
       "top": null,
       "visibility": null,
       "width": null
      }
     },
     "0b49da92eff74100b79626333d662e52": {
      "model_module": "@jupyter-widgets/controls",
      "model_module_version": "1.5.0",
      "model_name": "FloatProgressModel",
      "state": {
       "_dom_classes": [],
       "_model_module": "@jupyter-widgets/controls",
       "_model_module_version": "1.5.0",
       "_model_name": "FloatProgressModel",
       "_view_count": null,
       "_view_module": "@jupyter-widgets/controls",
       "_view_module_version": "1.5.0",
       "_view_name": "ProgressView",
       "bar_style": "success",
       "description": "",
       "description_tooltip": null,
       "layout": "IPY_MODEL_7ffb6b08e3de4f5a86d9b4cdfbef394b",
       "max": 1,
       "min": 0,
       "orientation": "horizontal",
       "style": "IPY_MODEL_b51b1a4fc49f4a3fb9010a85ef9ff95e",
       "value": 1
      }
     },
     "0d77f55892404d53a864208964126413": {
      "model_module": "@jupyter-widgets/controls",
      "model_module_version": "1.5.0",
      "model_name": "HTMLModel",
      "state": {
       "_dom_classes": [],
       "_model_module": "@jupyter-widgets/controls",
       "_model_module_version": "1.5.0",
       "_model_name": "HTMLModel",
       "_view_count": null,
       "_view_module": "@jupyter-widgets/controls",
       "_view_module_version": "1.5.0",
       "_view_name": "HTMLView",
       "description": "",
       "description_tooltip": null,
       "layout": "IPY_MODEL_24611992a49242209c9f4c32cd8cc9c9",
       "placeholder": "​",
       "style": "IPY_MODEL_3fb1f84145084378bc900987abdbfe9f",
       "value": " 23/23 [00:07&lt;00:00,  3.47it/s, Completed]"
      }
     },
     "0f7b874ed1ad42cd8956315a04ad5934": {
      "model_module": "@jupyter-widgets/base",
      "model_module_version": "1.2.0",
      "model_name": "LayoutModel",
      "state": {
       "_model_module": "@jupyter-widgets/base",
       "_model_module_version": "1.2.0",
       "_model_name": "LayoutModel",
       "_view_count": null,
       "_view_module": "@jupyter-widgets/base",
       "_view_module_version": "1.2.0",
       "_view_name": "LayoutView",
       "align_content": null,
       "align_items": null,
       "align_self": null,
       "border": null,
       "bottom": null,
       "display": null,
       "flex": null,
       "flex_flow": null,
       "grid_area": null,
       "grid_auto_columns": null,
       "grid_auto_flow": null,
       "grid_auto_rows": null,
       "grid_column": null,
       "grid_gap": null,
       "grid_row": null,
       "grid_template_areas": null,
       "grid_template_columns": null,
       "grid_template_rows": null,
       "height": null,
       "justify_content": null,
       "justify_items": null,
       "left": null,
       "margin": null,
       "max_height": null,
       "max_width": null,
       "min_height": null,
       "min_width": null,
       "object_fit": null,
       "object_position": null,
       "order": null,
       "overflow": null,
       "overflow_x": null,
       "overflow_y": null,
       "padding": null,
       "right": null,
       "top": null,
       "visibility": null,
       "width": null
      }
     },
     "1603790c499e45eea769c53d4e774cc9": {
      "model_module": "@jupyter-widgets/controls",
      "model_module_version": "1.5.0",
      "model_name": "HBoxModel",
      "state": {
       "_dom_classes": [],
       "_model_module": "@jupyter-widgets/controls",
       "_model_module_version": "1.5.0",
       "_model_name": "HBoxModel",
       "_view_count": null,
       "_view_module": "@jupyter-widgets/controls",
       "_view_module_version": "1.5.0",
       "_view_name": "HBoxView",
       "box_style": "",
       "children": [
        "IPY_MODEL_2e3f6bb6a4fd483a911974beec0f72ea",
        "IPY_MODEL_41a8c648b2fb4dbfa4570389d1bcd441",
        "IPY_MODEL_615c4226cc4241329e91f07e4b371bca"
       ],
       "layout": "IPY_MODEL_37449dc7a345424baf7443fda582989b"
      }
     },
     "1b13f2c2402e4f2aa977f5a6a7ffae2c": {
      "model_module": "@jupyter-widgets/base",
      "model_module_version": "1.2.0",
      "model_name": "LayoutModel",
      "state": {
       "_model_module": "@jupyter-widgets/base",
       "_model_module_version": "1.2.0",
       "_model_name": "LayoutModel",
       "_view_count": null,
       "_view_module": "@jupyter-widgets/base",
       "_view_module_version": "1.2.0",
       "_view_name": "LayoutView",
       "align_content": null,
       "align_items": null,
       "align_self": null,
       "border": null,
       "bottom": null,
       "display": null,
       "flex": null,
       "flex_flow": null,
       "grid_area": null,
       "grid_auto_columns": null,
       "grid_auto_flow": null,
       "grid_auto_rows": null,
       "grid_column": null,
       "grid_gap": null,
       "grid_row": null,
       "grid_template_areas": null,
       "grid_template_columns": null,
       "grid_template_rows": null,
       "height": null,
       "justify_content": null,
       "justify_items": null,
       "left": null,
       "margin": null,
       "max_height": null,
       "max_width": null,
       "min_height": null,
       "min_width": null,
       "object_fit": null,
       "object_position": null,
       "order": null,
       "overflow": null,
       "overflow_x": null,
       "overflow_y": null,
       "padding": null,
       "right": null,
       "top": null,
       "visibility": null,
       "width": null
      }
     },
     "1b1f48af24df4607bd22da119ea93b87": {
      "model_module": "@jupyter-widgets/base",
      "model_module_version": "1.2.0",
      "model_name": "LayoutModel",
      "state": {
       "_model_module": "@jupyter-widgets/base",
       "_model_module_version": "1.2.0",
       "_model_name": "LayoutModel",
       "_view_count": null,
       "_view_module": "@jupyter-widgets/base",
       "_view_module_version": "1.2.0",
       "_view_name": "LayoutView",
       "align_content": null,
       "align_items": null,
       "align_self": null,
       "border": null,
       "bottom": null,
       "display": null,
       "flex": null,
       "flex_flow": null,
       "grid_area": null,
       "grid_auto_columns": null,
       "grid_auto_flow": null,
       "grid_auto_rows": null,
       "grid_column": null,
       "grid_gap": null,
       "grid_row": null,
       "grid_template_areas": null,
       "grid_template_columns": null,
       "grid_template_rows": null,
       "height": null,
       "justify_content": null,
       "justify_items": null,
       "left": null,
       "margin": null,
       "max_height": null,
       "max_width": null,
       "min_height": null,
       "min_width": null,
       "object_fit": null,
       "object_position": null,
       "order": null,
       "overflow": null,
       "overflow_x": null,
       "overflow_y": null,
       "padding": null,
       "right": null,
       "top": null,
       "visibility": null,
       "width": null
      }
     },
     "1f30c413ae3046eebe804db4438d69f0": {
      "model_module": "@jupyter-widgets/base",
      "model_module_version": "1.2.0",
      "model_name": "LayoutModel",
      "state": {
       "_model_module": "@jupyter-widgets/base",
       "_model_module_version": "1.2.0",
       "_model_name": "LayoutModel",
       "_view_count": null,
       "_view_module": "@jupyter-widgets/base",
       "_view_module_version": "1.2.0",
       "_view_name": "LayoutView",
       "align_content": null,
       "align_items": null,
       "align_self": null,
       "border": null,
       "bottom": null,
       "display": null,
       "flex": null,
       "flex_flow": null,
       "grid_area": null,
       "grid_auto_columns": null,
       "grid_auto_flow": null,
       "grid_auto_rows": null,
       "grid_column": null,
       "grid_gap": null,
       "grid_row": null,
       "grid_template_areas": null,
       "grid_template_columns": null,
       "grid_template_rows": null,
       "height": null,
       "justify_content": null,
       "justify_items": null,
       "left": null,
       "margin": null,
       "max_height": null,
       "max_width": null,
       "min_height": null,
       "min_width": null,
       "object_fit": null,
       "object_position": null,
       "order": null,
       "overflow": null,
       "overflow_x": null,
       "overflow_y": null,
       "padding": null,
       "right": null,
       "top": null,
       "visibility": null,
       "width": null
      }
     },
     "22b1bcd45fee48ada14af256ceb54ee8": {
      "model_module": "@jupyter-widgets/controls",
      "model_module_version": "1.5.0",
      "model_name": "HBoxModel",
      "state": {
       "_dom_classes": [],
       "_model_module": "@jupyter-widgets/controls",
       "_model_module_version": "1.5.0",
       "_model_name": "HBoxModel",
       "_view_count": null,
       "_view_module": "@jupyter-widgets/controls",
       "_view_module_version": "1.5.0",
       "_view_name": "HBoxView",
       "box_style": "",
       "children": [
        "IPY_MODEL_e82065aa7eac4fd191e8c9891a4cdebe",
        "IPY_MODEL_306bcae6d5c94f8a80ba3b628ab1dd71",
        "IPY_MODEL_388940cc31ac4369bd0d953f2fd0bb2a"
       ],
       "layout": "IPY_MODEL_fd14e8038feb433d9098520252f1a00c"
      }
     },
     "22c5514cd1ff4034836d89a52281ca06": {
      "model_module": "@jupyter-widgets/base",
      "model_module_version": "1.2.0",
      "model_name": "LayoutModel",
      "state": {
       "_model_module": "@jupyter-widgets/base",
       "_model_module_version": "1.2.0",
       "_model_name": "LayoutModel",
       "_view_count": null,
       "_view_module": "@jupyter-widgets/base",
       "_view_module_version": "1.2.0",
       "_view_name": "LayoutView",
       "align_content": null,
       "align_items": null,
       "align_self": null,
       "border": null,
       "bottom": null,
       "display": null,
       "flex": null,
       "flex_flow": null,
       "grid_area": null,
       "grid_auto_columns": null,
       "grid_auto_flow": null,
       "grid_auto_rows": null,
       "grid_column": null,
       "grid_gap": null,
       "grid_row": null,
       "grid_template_areas": null,
       "grid_template_columns": null,
       "grid_template_rows": null,
       "height": null,
       "justify_content": null,
       "justify_items": null,
       "left": null,
       "margin": null,
       "max_height": null,
       "max_width": null,
       "min_height": null,
       "min_width": null,
       "object_fit": null,
       "object_position": null,
       "order": null,
       "overflow": null,
       "overflow_x": null,
       "overflow_y": null,
       "padding": null,
       "right": null,
       "top": null,
       "visibility": null,
       "width": null
      }
     },
     "23c638bc2ed643fe8188dbe879ae2563": {
      "model_module": "@jupyter-widgets/controls",
      "model_module_version": "1.5.0",
      "model_name": "HBoxModel",
      "state": {
       "_dom_classes": [],
       "_model_module": "@jupyter-widgets/controls",
       "_model_module_version": "1.5.0",
       "_model_name": "HBoxModel",
       "_view_count": null,
       "_view_module": "@jupyter-widgets/controls",
       "_view_module_version": "1.5.0",
       "_view_name": "HBoxView",
       "box_style": "",
       "children": [
        "IPY_MODEL_a0eb6f5e33d8406d934c0dbbbe5e37a6",
        "IPY_MODEL_e1d2a86e2bcf4855baca754c6f9d6c36",
        "IPY_MODEL_64df63b363304ec9828709f81c535254"
       ],
       "layout": "IPY_MODEL_1b13f2c2402e4f2aa977f5a6a7ffae2c"
      }
     },
     "24611992a49242209c9f4c32cd8cc9c9": {
      "model_module": "@jupyter-widgets/base",
      "model_module_version": "1.2.0",
      "model_name": "LayoutModel",
      "state": {
       "_model_module": "@jupyter-widgets/base",
       "_model_module_version": "1.2.0",
       "_model_name": "LayoutModel",
       "_view_count": null,
       "_view_module": "@jupyter-widgets/base",
       "_view_module_version": "1.2.0",
       "_view_name": "LayoutView",
       "align_content": null,
       "align_items": null,
       "align_self": null,
       "border": null,
       "bottom": null,
       "display": null,
       "flex": null,
       "flex_flow": null,
       "grid_area": null,
       "grid_auto_columns": null,
       "grid_auto_flow": null,
       "grid_auto_rows": null,
       "grid_column": null,
       "grid_gap": null,
       "grid_row": null,
       "grid_template_areas": null,
       "grid_template_columns": null,
       "grid_template_rows": null,
       "height": null,
       "justify_content": null,
       "justify_items": null,
       "left": null,
       "margin": null,
       "max_height": null,
       "max_width": null,
       "min_height": null,
       "min_width": null,
       "object_fit": null,
       "object_position": null,
       "order": null,
       "overflow": null,
       "overflow_x": null,
       "overflow_y": null,
       "padding": null,
       "right": null,
       "top": null,
       "visibility": null,
       "width": null
      }
     },
     "2717b02b6567410890287d52b298ac3c": {
      "model_module": "@jupyter-widgets/controls",
      "model_module_version": "1.5.0",
      "model_name": "HTMLModel",
      "state": {
       "_dom_classes": [],
       "_model_module": "@jupyter-widgets/controls",
       "_model_module_version": "1.5.0",
       "_model_name": "HTMLModel",
       "_view_count": null,
       "_view_module": "@jupyter-widgets/controls",
       "_view_module_version": "1.5.0",
       "_view_name": "HTMLView",
       "description": "",
       "description_tooltip": null,
       "layout": "IPY_MODEL_329c6eb8e2db429996e624e9923071e1",
       "placeholder": "​",
       "style": "IPY_MODEL_0ab8a83bf1254c6ca07c74533f758f36",
       "value": "Export report to file: 100%"
      }
     },
     "2e3f6bb6a4fd483a911974beec0f72ea": {
      "model_module": "@jupyter-widgets/controls",
      "model_module_version": "1.5.0",
      "model_name": "HTMLModel",
      "state": {
       "_dom_classes": [],
       "_model_module": "@jupyter-widgets/controls",
       "_model_module_version": "1.5.0",
       "_model_name": "HTMLModel",
       "_view_count": null,
       "_view_module": "@jupyter-widgets/controls",
       "_view_module_version": "1.5.0",
       "_view_name": "HTMLView",
       "description": "",
       "description_tooltip": null,
       "layout": "IPY_MODEL_9acd21905ddf4f739b90a7ba09550475",
       "placeholder": "​",
       "style": "IPY_MODEL_ad01c01ae39548deb581dbe6e34d7c74",
       "value": "Render HTML: 100%"
      }
     },
     "306bcae6d5c94f8a80ba3b628ab1dd71": {
      "model_module": "@jupyter-widgets/controls",
      "model_module_version": "1.5.0",
      "model_name": "FloatProgressModel",
      "state": {
       "_dom_classes": [],
       "_model_module": "@jupyter-widgets/controls",
       "_model_module_version": "1.5.0",
       "_model_name": "FloatProgressModel",
       "_view_count": null,
       "_view_module": "@jupyter-widgets/controls",
       "_view_module_version": "1.5.0",
       "_view_name": "ProgressView",
       "bar_style": "success",
       "description": "",
       "description_tooltip": null,
       "layout": "IPY_MODEL_657b7782221b4183af26af87f78c5bd9",
       "max": 1,
       "min": 0,
       "orientation": "horizontal",
       "style": "IPY_MODEL_b96f2580983443f994b6ae6b1cec62f0",
       "value": 1
      }
     },
     "31236b06f58c4d33905335ec8c50357d": {
      "model_module": "@jupyter-widgets/controls",
      "model_module_version": "1.5.0",
      "model_name": "FloatProgressModel",
      "state": {
       "_dom_classes": [],
       "_model_module": "@jupyter-widgets/controls",
       "_model_module_version": "1.5.0",
       "_model_name": "FloatProgressModel",
       "_view_count": null,
       "_view_module": "@jupyter-widgets/controls",
       "_view_module_version": "1.5.0",
       "_view_name": "ProgressView",
       "bar_style": "success",
       "description": "",
       "description_tooltip": null,
       "layout": "IPY_MODEL_22c5514cd1ff4034836d89a52281ca06",
       "max": 5,
       "min": 0,
       "orientation": "horizontal",
       "style": "IPY_MODEL_aec8366840ca44efa133132d1bda3bf2",
       "value": 5
      }
     },
     "32376f0353104eee9a18617bbbb03443": {
      "model_module": "@jupyter-widgets/controls",
      "model_module_version": "1.5.0",
      "model_name": "DescriptionStyleModel",
      "state": {
       "_model_module": "@jupyter-widgets/controls",
       "_model_module_version": "1.5.0",
       "_model_name": "DescriptionStyleModel",
       "_view_count": null,
       "_view_module": "@jupyter-widgets/base",
       "_view_module_version": "1.2.0",
       "_view_name": "StyleView",
       "description_width": ""
      }
     },
     "329c6eb8e2db429996e624e9923071e1": {
      "model_module": "@jupyter-widgets/base",
      "model_module_version": "1.2.0",
      "model_name": "LayoutModel",
      "state": {
       "_model_module": "@jupyter-widgets/base",
       "_model_module_version": "1.2.0",
       "_model_name": "LayoutModel",
       "_view_count": null,
       "_view_module": "@jupyter-widgets/base",
       "_view_module_version": "1.2.0",
       "_view_name": "LayoutView",
       "align_content": null,
       "align_items": null,
       "align_self": null,
       "border": null,
       "bottom": null,
       "display": null,
       "flex": null,
       "flex_flow": null,
       "grid_area": null,
       "grid_auto_columns": null,
       "grid_auto_flow": null,
       "grid_auto_rows": null,
       "grid_column": null,
       "grid_gap": null,
       "grid_row": null,
       "grid_template_areas": null,
       "grid_template_columns": null,
       "grid_template_rows": null,
       "height": null,
       "justify_content": null,
       "justify_items": null,
       "left": null,
       "margin": null,
       "max_height": null,
       "max_width": null,
       "min_height": null,
       "min_width": null,
       "object_fit": null,
       "object_position": null,
       "order": null,
       "overflow": null,
       "overflow_x": null,
       "overflow_y": null,
       "padding": null,
       "right": null,
       "top": null,
       "visibility": null,
       "width": null
      }
     },
     "32c2d6af09d04610b93a0253abf52d10": {
      "model_module": "@jupyter-widgets/controls",
      "model_module_version": "1.5.0",
      "model_name": "HBoxModel",
      "state": {
       "_dom_classes": [],
       "_model_module": "@jupyter-widgets/controls",
       "_model_module_version": "1.5.0",
       "_model_name": "HBoxModel",
       "_view_count": null,
       "_view_module": "@jupyter-widgets/controls",
       "_view_module_version": "1.5.0",
       "_view_name": "HBoxView",
       "box_style": "",
       "children": [
        "IPY_MODEL_5f617bdab1d343998229962e5eb70c90",
        "IPY_MODEL_62bad96b0e8c4dc2b1b6418199cfb154",
        "IPY_MODEL_a14ced4219744e868864261391d6ef36"
       ],
       "layout": "IPY_MODEL_0f7b874ed1ad42cd8956315a04ad5934"
      }
     },
     "35ab6a8087304607918dc9d63645558d": {
      "model_module": "@jupyter-widgets/base",
      "model_module_version": "1.2.0",
      "model_name": "LayoutModel",
      "state": {
       "_model_module": "@jupyter-widgets/base",
       "_model_module_version": "1.2.0",
       "_model_name": "LayoutModel",
       "_view_count": null,
       "_view_module": "@jupyter-widgets/base",
       "_view_module_version": "1.2.0",
       "_view_name": "LayoutView",
       "align_content": null,
       "align_items": null,
       "align_self": null,
       "border": null,
       "bottom": null,
       "display": null,
       "flex": null,
       "flex_flow": null,
       "grid_area": null,
       "grid_auto_columns": null,
       "grid_auto_flow": null,
       "grid_auto_rows": null,
       "grid_column": null,
       "grid_gap": null,
       "grid_row": null,
       "grid_template_areas": null,
       "grid_template_columns": null,
       "grid_template_rows": null,
       "height": null,
       "justify_content": null,
       "justify_items": null,
       "left": null,
       "margin": null,
       "max_height": null,
       "max_width": null,
       "min_height": null,
       "min_width": null,
       "object_fit": null,
       "object_position": null,
       "order": null,
       "overflow": null,
       "overflow_x": null,
       "overflow_y": null,
       "padding": null,
       "right": null,
       "top": null,
       "visibility": null,
       "width": null
      }
     },
     "37449dc7a345424baf7443fda582989b": {
      "model_module": "@jupyter-widgets/base",
      "model_module_version": "1.2.0",
      "model_name": "LayoutModel",
      "state": {
       "_model_module": "@jupyter-widgets/base",
       "_model_module_version": "1.2.0",
       "_model_name": "LayoutModel",
       "_view_count": null,
       "_view_module": "@jupyter-widgets/base",
       "_view_module_version": "1.2.0",
       "_view_name": "LayoutView",
       "align_content": null,
       "align_items": null,
       "align_self": null,
       "border": null,
       "bottom": null,
       "display": null,
       "flex": null,
       "flex_flow": null,
       "grid_area": null,
       "grid_auto_columns": null,
       "grid_auto_flow": null,
       "grid_auto_rows": null,
       "grid_column": null,
       "grid_gap": null,
       "grid_row": null,
       "grid_template_areas": null,
       "grid_template_columns": null,
       "grid_template_rows": null,
       "height": null,
       "justify_content": null,
       "justify_items": null,
       "left": null,
       "margin": null,
       "max_height": null,
       "max_width": null,
       "min_height": null,
       "min_width": null,
       "object_fit": null,
       "object_position": null,
       "order": null,
       "overflow": null,
       "overflow_x": null,
       "overflow_y": null,
       "padding": null,
       "right": null,
       "top": null,
       "visibility": null,
       "width": null
      }
     },
     "388940cc31ac4369bd0d953f2fd0bb2a": {
      "model_module": "@jupyter-widgets/controls",
      "model_module_version": "1.5.0",
      "model_name": "HTMLModel",
      "state": {
       "_dom_classes": [],
       "_model_module": "@jupyter-widgets/controls",
       "_model_module_version": "1.5.0",
       "_model_name": "HTMLModel",
       "_view_count": null,
       "_view_module": "@jupyter-widgets/controls",
       "_view_module_version": "1.5.0",
       "_view_name": "HTMLView",
       "description": "",
       "description_tooltip": null,
       "layout": "IPY_MODEL_c8db90eef43348e8bf0adc32bf2cc50e",
       "placeholder": "​",
       "style": "IPY_MODEL_076386821b2e4a67a0800debb84d1bc1",
       "value": " 1/1 [00:01&lt;00:00,  1.09s/it]"
      }
     },
     "397b984b2ccc470aaefb8c03b0a259bf": {
      "model_module": "@jupyter-widgets/controls",
      "model_module_version": "1.5.0",
      "model_name": "HTMLModel",
      "state": {
       "_dom_classes": [],
       "_model_module": "@jupyter-widgets/controls",
       "_model_module_version": "1.5.0",
       "_model_name": "HTMLModel",
       "_view_count": null,
       "_view_module": "@jupyter-widgets/controls",
       "_view_module_version": "1.5.0",
       "_view_name": "HTMLView",
       "description": "",
       "description_tooltip": null,
       "layout": "IPY_MODEL_cbf698efa00b43b7953bc3ed23676f78",
       "placeholder": "​",
       "style": "IPY_MODEL_32376f0353104eee9a18617bbbb03443",
       "value": "Generate report structure: 100%"
      }
     },
     "3fb1f84145084378bc900987abdbfe9f": {
      "model_module": "@jupyter-widgets/controls",
      "model_module_version": "1.5.0",
      "model_name": "DescriptionStyleModel",
      "state": {
       "_model_module": "@jupyter-widgets/controls",
       "_model_module_version": "1.5.0",
       "_model_name": "DescriptionStyleModel",
       "_view_count": null,
       "_view_module": "@jupyter-widgets/base",
       "_view_module_version": "1.2.0",
       "_view_name": "StyleView",
       "description_width": ""
      }
     },
     "4093b5cbb7cd4dbbacf685c87245cb89": {
      "model_module": "@jupyter-widgets/controls",
      "model_module_version": "1.5.0",
      "model_name": "DescriptionStyleModel",
      "state": {
       "_model_module": "@jupyter-widgets/controls",
       "_model_module_version": "1.5.0",
       "_model_name": "DescriptionStyleModel",
       "_view_count": null,
       "_view_module": "@jupyter-widgets/base",
       "_view_module_version": "1.2.0",
       "_view_name": "StyleView",
       "description_width": ""
      }
     },
     "41a8c648b2fb4dbfa4570389d1bcd441": {
      "model_module": "@jupyter-widgets/controls",
      "model_module_version": "1.5.0",
      "model_name": "FloatProgressModel",
      "state": {
       "_dom_classes": [],
       "_model_module": "@jupyter-widgets/controls",
       "_model_module_version": "1.5.0",
       "_model_name": "FloatProgressModel",
       "_view_count": null,
       "_view_module": "@jupyter-widgets/controls",
       "_view_module_version": "1.5.0",
       "_view_name": "ProgressView",
       "bar_style": "success",
       "description": "",
       "description_tooltip": null,
       "layout": "IPY_MODEL_fdd13677e4e34c3c8f10df5da94a11cb",
       "max": 1,
       "min": 0,
       "orientation": "horizontal",
       "style": "IPY_MODEL_702a49ce7d5a427888e64b9f954aae60",
       "value": 1
      }
     },
     "4bf0f7b4f3a4476cb3cc8f8c2ec74098": {
      "model_module": "@jupyter-widgets/controls",
      "model_module_version": "1.5.0",
      "model_name": "HTMLModel",
      "state": {
       "_dom_classes": [],
       "_model_module": "@jupyter-widgets/controls",
       "_model_module_version": "1.5.0",
       "_model_name": "HTMLModel",
       "_view_count": null,
       "_view_module": "@jupyter-widgets/controls",
       "_view_module_version": "1.5.0",
       "_view_name": "HTMLView",
       "description": "",
       "description_tooltip": null,
       "layout": "IPY_MODEL_ba05a5390fbb499bba80d72cbe883ba3",
       "placeholder": "​",
       "style": "IPY_MODEL_e72f8be75c9d41f590665a828a3c00bd",
       "value": " 1/1 [00:02&lt;00:00,  2.84s/it]"
      }
     },
     "4cbd57bab5c54ddc962dbbb118e841be": {
      "model_module": "@jupyter-widgets/base",
      "model_module_version": "1.2.0",
      "model_name": "LayoutModel",
      "state": {
       "_model_module": "@jupyter-widgets/base",
       "_model_module_version": "1.2.0",
       "_model_name": "LayoutModel",
       "_view_count": null,
       "_view_module": "@jupyter-widgets/base",
       "_view_module_version": "1.2.0",
       "_view_name": "LayoutView",
       "align_content": null,
       "align_items": null,
       "align_self": null,
       "border": null,
       "bottom": null,
       "display": null,
       "flex": null,
       "flex_flow": null,
       "grid_area": null,
       "grid_auto_columns": null,
       "grid_auto_flow": null,
       "grid_auto_rows": null,
       "grid_column": null,
       "grid_gap": null,
       "grid_row": null,
       "grid_template_areas": null,
       "grid_template_columns": null,
       "grid_template_rows": null,
       "height": null,
       "justify_content": null,
       "justify_items": null,
       "left": null,
       "margin": null,
       "max_height": null,
       "max_width": null,
       "min_height": null,
       "min_width": null,
       "object_fit": null,
       "object_position": null,
       "order": null,
       "overflow": null,
       "overflow_x": null,
       "overflow_y": null,
       "padding": null,
       "right": null,
       "top": null,
       "visibility": null,
       "width": null
      }
     },
     "4d4b9399fde2418484e2e747a59e12e1": {
      "model_module": "@jupyter-widgets/base",
      "model_module_version": "1.2.0",
      "model_name": "LayoutModel",
      "state": {
       "_model_module": "@jupyter-widgets/base",
       "_model_module_version": "1.2.0",
       "_model_name": "LayoutModel",
       "_view_count": null,
       "_view_module": "@jupyter-widgets/base",
       "_view_module_version": "1.2.0",
       "_view_name": "LayoutView",
       "align_content": null,
       "align_items": null,
       "align_self": null,
       "border": null,
       "bottom": null,
       "display": null,
       "flex": null,
       "flex_flow": null,
       "grid_area": null,
       "grid_auto_columns": null,
       "grid_auto_flow": null,
       "grid_auto_rows": null,
       "grid_column": null,
       "grid_gap": null,
       "grid_row": null,
       "grid_template_areas": null,
       "grid_template_columns": null,
       "grid_template_rows": null,
       "height": null,
       "justify_content": null,
       "justify_items": null,
       "left": null,
       "margin": null,
       "max_height": null,
       "max_width": null,
       "min_height": null,
       "min_width": null,
       "object_fit": null,
       "object_position": null,
       "order": null,
       "overflow": null,
       "overflow_x": null,
       "overflow_y": null,
       "padding": null,
       "right": null,
       "top": null,
       "visibility": null,
       "width": null
      }
     },
     "4e3ff7f3b751461388f57b73ea205896": {
      "model_module": "@jupyter-widgets/base",
      "model_module_version": "1.2.0",
      "model_name": "LayoutModel",
      "state": {
       "_model_module": "@jupyter-widgets/base",
       "_model_module_version": "1.2.0",
       "_model_name": "LayoutModel",
       "_view_count": null,
       "_view_module": "@jupyter-widgets/base",
       "_view_module_version": "1.2.0",
       "_view_name": "LayoutView",
       "align_content": null,
       "align_items": null,
       "align_self": null,
       "border": null,
       "bottom": null,
       "display": null,
       "flex": null,
       "flex_flow": null,
       "grid_area": null,
       "grid_auto_columns": null,
       "grid_auto_flow": null,
       "grid_auto_rows": null,
       "grid_column": null,
       "grid_gap": null,
       "grid_row": null,
       "grid_template_areas": null,
       "grid_template_columns": null,
       "grid_template_rows": null,
       "height": null,
       "justify_content": null,
       "justify_items": null,
       "left": null,
       "margin": null,
       "max_height": null,
       "max_width": null,
       "min_height": null,
       "min_width": null,
       "object_fit": null,
       "object_position": null,
       "order": null,
       "overflow": null,
       "overflow_x": null,
       "overflow_y": null,
       "padding": null,
       "right": null,
       "top": null,
       "visibility": null,
       "width": null
      }
     },
     "4e6b0e01efd940cfbb34f89d828d984d": {
      "model_module": "@jupyter-widgets/controls",
      "model_module_version": "1.5.0",
      "model_name": "FloatProgressModel",
      "state": {
       "_dom_classes": [],
       "_model_module": "@jupyter-widgets/controls",
       "_model_module_version": "1.5.0",
       "_model_name": "FloatProgressModel",
       "_view_count": null,
       "_view_module": "@jupyter-widgets/controls",
       "_view_module_version": "1.5.0",
       "_view_name": "ProgressView",
       "bar_style": "success",
       "description": "",
       "description_tooltip": null,
       "layout": "IPY_MODEL_9d3a9e9796b347da8b1289456c60c74a",
       "max": 1,
       "min": 0,
       "orientation": "horizontal",
       "style": "IPY_MODEL_9d722916ff0a47909fd0c06de264042c",
       "value": 1
      }
     },
     "4e97e4292a7d4f33aafe2a887f5dbf01": {
      "model_module": "@jupyter-widgets/controls",
      "model_module_version": "1.5.0",
      "model_name": "DescriptionStyleModel",
      "state": {
       "_model_module": "@jupyter-widgets/controls",
       "_model_module_version": "1.5.0",
       "_model_name": "DescriptionStyleModel",
       "_view_count": null,
       "_view_module": "@jupyter-widgets/base",
       "_view_module_version": "1.2.0",
       "_view_name": "StyleView",
       "description_width": ""
      }
     },
     "4f5da1bffeee4990a77fe808b2b6ee0f": {
      "model_module": "@jupyter-widgets/controls",
      "model_module_version": "1.5.0",
      "model_name": "DescriptionStyleModel",
      "state": {
       "_model_module": "@jupyter-widgets/controls",
       "_model_module_version": "1.5.0",
       "_model_name": "DescriptionStyleModel",
       "_view_count": null,
       "_view_module": "@jupyter-widgets/base",
       "_view_module_version": "1.2.0",
       "_view_name": "StyleView",
       "description_width": ""
      }
     },
     "550071bc68f64293b8beda04db7f381e": {
      "model_module": "@jupyter-widgets/controls",
      "model_module_version": "1.5.0",
      "model_name": "DescriptionStyleModel",
      "state": {
       "_model_module": "@jupyter-widgets/controls",
       "_model_module_version": "1.5.0",
       "_model_name": "DescriptionStyleModel",
       "_view_count": null,
       "_view_module": "@jupyter-widgets/base",
       "_view_module_version": "1.2.0",
       "_view_name": "StyleView",
       "description_width": ""
      }
     },
     "55373c015f9e447183d4495e7a1b47d8": {
      "model_module": "@jupyter-widgets/base",
      "model_module_version": "1.2.0",
      "model_name": "LayoutModel",
      "state": {
       "_model_module": "@jupyter-widgets/base",
       "_model_module_version": "1.2.0",
       "_model_name": "LayoutModel",
       "_view_count": null,
       "_view_module": "@jupyter-widgets/base",
       "_view_module_version": "1.2.0",
       "_view_name": "LayoutView",
       "align_content": null,
       "align_items": null,
       "align_self": null,
       "border": null,
       "bottom": null,
       "display": null,
       "flex": null,
       "flex_flow": null,
       "grid_area": null,
       "grid_auto_columns": null,
       "grid_auto_flow": null,
       "grid_auto_rows": null,
       "grid_column": null,
       "grid_gap": null,
       "grid_row": null,
       "grid_template_areas": null,
       "grid_template_columns": null,
       "grid_template_rows": null,
       "height": null,
       "justify_content": null,
       "justify_items": null,
       "left": null,
       "margin": null,
       "max_height": null,
       "max_width": null,
       "min_height": null,
       "min_width": null,
       "object_fit": null,
       "object_position": null,
       "order": null,
       "overflow": null,
       "overflow_x": null,
       "overflow_y": null,
       "padding": null,
       "right": null,
       "top": null,
       "visibility": null,
       "width": null
      }
     },
     "5a175227adf04e57ac11f3212f3f528b": {
      "model_module": "@jupyter-widgets/base",
      "model_module_version": "1.2.0",
      "model_name": "LayoutModel",
      "state": {
       "_model_module": "@jupyter-widgets/base",
       "_model_module_version": "1.2.0",
       "_model_name": "LayoutModel",
       "_view_count": null,
       "_view_module": "@jupyter-widgets/base",
       "_view_module_version": "1.2.0",
       "_view_name": "LayoutView",
       "align_content": null,
       "align_items": null,
       "align_self": null,
       "border": null,
       "bottom": null,
       "display": null,
       "flex": null,
       "flex_flow": null,
       "grid_area": null,
       "grid_auto_columns": null,
       "grid_auto_flow": null,
       "grid_auto_rows": null,
       "grid_column": null,
       "grid_gap": null,
       "grid_row": null,
       "grid_template_areas": null,
       "grid_template_columns": null,
       "grid_template_rows": null,
       "height": null,
       "justify_content": null,
       "justify_items": null,
       "left": null,
       "margin": null,
       "max_height": null,
       "max_width": null,
       "min_height": null,
       "min_width": null,
       "object_fit": null,
       "object_position": null,
       "order": null,
       "overflow": null,
       "overflow_x": null,
       "overflow_y": null,
       "padding": null,
       "right": null,
       "top": null,
       "visibility": null,
       "width": null
      }
     },
     "5f617bdab1d343998229962e5eb70c90": {
      "model_module": "@jupyter-widgets/controls",
      "model_module_version": "1.5.0",
      "model_name": "HTMLModel",
      "state": {
       "_dom_classes": [],
       "_model_module": "@jupyter-widgets/controls",
       "_model_module_version": "1.5.0",
       "_model_name": "HTMLModel",
       "_view_count": null,
       "_view_module": "@jupyter-widgets/controls",
       "_view_module_version": "1.5.0",
       "_view_name": "HTMLView",
       "description": "",
       "description_tooltip": null,
       "layout": "IPY_MODEL_9962f5d8c8a449c49abf71811b7bd173",
       "placeholder": "​",
       "style": "IPY_MODEL_8ce715a922224d56890994aa184e20cb",
       "value": "Summarize dataset: 100%"
      }
     },
     "615c4226cc4241329e91f07e4b371bca": {
      "model_module": "@jupyter-widgets/controls",
      "model_module_version": "1.5.0",
      "model_name": "HTMLModel",
      "state": {
       "_dom_classes": [],
       "_model_module": "@jupyter-widgets/controls",
       "_model_module_version": "1.5.0",
       "_model_name": "HTMLModel",
       "_view_count": null,
       "_view_module": "@jupyter-widgets/controls",
       "_view_module_version": "1.5.0",
       "_view_name": "HTMLView",
       "description": "",
       "description_tooltip": null,
       "layout": "IPY_MODEL_d52aba5ad5a14904829e1d85d8f5e46b",
       "placeholder": "​",
       "style": "IPY_MODEL_4e97e4292a7d4f33aafe2a887f5dbf01",
       "value": " 1/1 [00:00&lt;00:00,  1.29it/s]"
      }
     },
     "62bad96b0e8c4dc2b1b6418199cfb154": {
      "model_module": "@jupyter-widgets/controls",
      "model_module_version": "1.5.0",
      "model_name": "FloatProgressModel",
      "state": {
       "_dom_classes": [],
       "_model_module": "@jupyter-widgets/controls",
       "_model_module_version": "1.5.0",
       "_model_name": "FloatProgressModel",
       "_view_count": null,
       "_view_module": "@jupyter-widgets/controls",
       "_view_module_version": "1.5.0",
       "_view_name": "ProgressView",
       "bar_style": "success",
       "description": "",
       "description_tooltip": null,
       "layout": "IPY_MODEL_4d4b9399fde2418484e2e747a59e12e1",
       "max": 5,
       "min": 0,
       "orientation": "horizontal",
       "style": "IPY_MODEL_e0f32f0298224b199b60e4df81b4616a",
       "value": 5
      }
     },
     "64df63b363304ec9828709f81c535254": {
      "model_module": "@jupyter-widgets/controls",
      "model_module_version": "1.5.0",
      "model_name": "HTMLModel",
      "state": {
       "_dom_classes": [],
       "_model_module": "@jupyter-widgets/controls",
       "_model_module_version": "1.5.0",
       "_model_name": "HTMLModel",
       "_view_count": null,
       "_view_module": "@jupyter-widgets/controls",
       "_view_module_version": "1.5.0",
       "_view_name": "HTMLView",
       "description": "",
       "description_tooltip": null,
       "layout": "IPY_MODEL_1b1f48af24df4607bd22da119ea93b87",
       "placeholder": "​",
       "style": "IPY_MODEL_de5ae2c2190543af9590e93fe67346aa",
       "value": " 1/1 [00:00&lt;00:00, 62.10it/s]"
      }
     },
     "657b7782221b4183af26af87f78c5bd9": {
      "model_module": "@jupyter-widgets/base",
      "model_module_version": "1.2.0",
      "model_name": "LayoutModel",
      "state": {
       "_model_module": "@jupyter-widgets/base",
       "_model_module_version": "1.2.0",
       "_model_name": "LayoutModel",
       "_view_count": null,
       "_view_module": "@jupyter-widgets/base",
       "_view_module_version": "1.2.0",
       "_view_name": "LayoutView",
       "align_content": null,
       "align_items": null,
       "align_self": null,
       "border": null,
       "bottom": null,
       "display": null,
       "flex": null,
       "flex_flow": null,
       "grid_area": null,
       "grid_auto_columns": null,
       "grid_auto_flow": null,
       "grid_auto_rows": null,
       "grid_column": null,
       "grid_gap": null,
       "grid_row": null,
       "grid_template_areas": null,
       "grid_template_columns": null,
       "grid_template_rows": null,
       "height": null,
       "justify_content": null,
       "justify_items": null,
       "left": null,
       "margin": null,
       "max_height": null,
       "max_width": null,
       "min_height": null,
       "min_width": null,
       "object_fit": null,
       "object_position": null,
       "order": null,
       "overflow": null,
       "overflow_x": null,
       "overflow_y": null,
       "padding": null,
       "right": null,
       "top": null,
       "visibility": null,
       "width": null
      }
     },
     "66268198dfd7411995e4f40f91157df9": {
      "model_module": "@jupyter-widgets/base",
      "model_module_version": "1.2.0",
      "model_name": "LayoutModel",
      "state": {
       "_model_module": "@jupyter-widgets/base",
       "_model_module_version": "1.2.0",
       "_model_name": "LayoutModel",
       "_view_count": null,
       "_view_module": "@jupyter-widgets/base",
       "_view_module_version": "1.2.0",
       "_view_name": "LayoutView",
       "align_content": null,
       "align_items": null,
       "align_self": null,
       "border": null,
       "bottom": null,
       "display": null,
       "flex": null,
       "flex_flow": null,
       "grid_area": null,
       "grid_auto_columns": null,
       "grid_auto_flow": null,
       "grid_auto_rows": null,
       "grid_column": null,
       "grid_gap": null,
       "grid_row": null,
       "grid_template_areas": null,
       "grid_template_columns": null,
       "grid_template_rows": null,
       "height": null,
       "justify_content": null,
       "justify_items": null,
       "left": null,
       "margin": null,
       "max_height": null,
       "max_width": null,
       "min_height": null,
       "min_width": null,
       "object_fit": null,
       "object_position": null,
       "order": null,
       "overflow": null,
       "overflow_x": null,
       "overflow_y": null,
       "padding": null,
       "right": null,
       "top": null,
       "visibility": null,
       "width": null
      }
     },
     "674dece960d94c298d6268b0dc93d1a8": {
      "model_module": "@jupyter-widgets/controls",
      "model_module_version": "1.5.0",
      "model_name": "HBoxModel",
      "state": {
       "_dom_classes": [],
       "_model_module": "@jupyter-widgets/controls",
       "_model_module_version": "1.5.0",
       "_model_name": "HBoxModel",
       "_view_count": null,
       "_view_module": "@jupyter-widgets/controls",
       "_view_module_version": "1.5.0",
       "_view_name": "HBoxView",
       "box_style": "",
       "children": [
        "IPY_MODEL_8055b2d23c9347ad80ebcbf2c20f4f25",
        "IPY_MODEL_e884761bb7ae451192c58e759089ba06",
        "IPY_MODEL_9d4ffaa8526c44d992c8784abe9fee3f"
       ],
       "layout": "IPY_MODEL_d99fdba958eb4841ae1e74490de66797"
      }
     },
     "702a49ce7d5a427888e64b9f954aae60": {
      "model_module": "@jupyter-widgets/controls",
      "model_module_version": "1.5.0",
      "model_name": "ProgressStyleModel",
      "state": {
       "_model_module": "@jupyter-widgets/controls",
       "_model_module_version": "1.5.0",
       "_model_name": "ProgressStyleModel",
       "_view_count": null,
       "_view_module": "@jupyter-widgets/base",
       "_view_module_version": "1.2.0",
       "_view_name": "StyleView",
       "bar_color": null,
       "description_width": ""
      }
     },
     "7ff4b7625f1e41cea2771cbcfa883e01": {
      "model_module": "@jupyter-widgets/controls",
      "model_module_version": "1.5.0",
      "model_name": "HTMLModel",
      "state": {
       "_dom_classes": [],
       "_model_module": "@jupyter-widgets/controls",
       "_model_module_version": "1.5.0",
       "_model_name": "HTMLModel",
       "_view_count": null,
       "_view_module": "@jupyter-widgets/controls",
       "_view_module_version": "1.5.0",
       "_view_name": "HTMLView",
       "description": "",
       "description_tooltip": null,
       "layout": "IPY_MODEL_9fdb9ebecd3d4eca9782ecb85b2b65f9",
       "placeholder": "​",
       "style": "IPY_MODEL_e9b0aa20351242798852fdf10fedba7d",
       "value": "Summarize dataset: 100%"
      }
     },
     "7ffb6b08e3de4f5a86d9b4cdfbef394b": {
      "model_module": "@jupyter-widgets/base",
      "model_module_version": "1.2.0",
      "model_name": "LayoutModel",
      "state": {
       "_model_module": "@jupyter-widgets/base",
       "_model_module_version": "1.2.0",
       "_model_name": "LayoutModel",
       "_view_count": null,
       "_view_module": "@jupyter-widgets/base",
       "_view_module_version": "1.2.0",
       "_view_name": "LayoutView",
       "align_content": null,
       "align_items": null,
       "align_self": null,
       "border": null,
       "bottom": null,
       "display": null,
       "flex": null,
       "flex_flow": null,
       "grid_area": null,
       "grid_auto_columns": null,
       "grid_auto_flow": null,
       "grid_auto_rows": null,
       "grid_column": null,
       "grid_gap": null,
       "grid_row": null,
       "grid_template_areas": null,
       "grid_template_columns": null,
       "grid_template_rows": null,
       "height": null,
       "justify_content": null,
       "justify_items": null,
       "left": null,
       "margin": null,
       "max_height": null,
       "max_width": null,
       "min_height": null,
       "min_width": null,
       "object_fit": null,
       "object_position": null,
       "order": null,
       "overflow": null,
       "overflow_x": null,
       "overflow_y": null,
       "padding": null,
       "right": null,
       "top": null,
       "visibility": null,
       "width": null
      }
     },
     "8055b2d23c9347ad80ebcbf2c20f4f25": {
      "model_module": "@jupyter-widgets/controls",
      "model_module_version": "1.5.0",
      "model_name": "HTMLModel",
      "state": {
       "_dom_classes": [],
       "_model_module": "@jupyter-widgets/controls",
       "_model_module_version": "1.5.0",
       "_model_name": "HTMLModel",
       "_view_count": null,
       "_view_module": "@jupyter-widgets/controls",
       "_view_module_version": "1.5.0",
       "_view_name": "HTMLView",
       "description": "",
       "description_tooltip": null,
       "layout": "IPY_MODEL_66268198dfd7411995e4f40f91157df9",
       "placeholder": "​",
       "style": "IPY_MODEL_972cd3b28f21489c87ebd90eed16f05d",
       "value": "Generate report structure: 100%"
      }
     },
     "808932dbf06c4391a5942785caeffc89": {
      "model_module": "@jupyter-widgets/controls",
      "model_module_version": "1.5.0",
      "model_name": "HBoxModel",
      "state": {
       "_dom_classes": [],
       "_model_module": "@jupyter-widgets/controls",
       "_model_module_version": "1.5.0",
       "_model_name": "HBoxModel",
       "_view_count": null,
       "_view_module": "@jupyter-widgets/controls",
       "_view_module_version": "1.5.0",
       "_view_name": "HBoxView",
       "box_style": "",
       "children": [
        "IPY_MODEL_2717b02b6567410890287d52b298ac3c",
        "IPY_MODEL_01543406d52b43a59efdd836004470b4",
        "IPY_MODEL_ede9b989d27643b89a58b4f2c732cfb2"
       ],
       "layout": "IPY_MODEL_1f30c413ae3046eebe804db4438d69f0"
      }
     },
     "85e1713ec7544f54b3e2b10c845bedd6": {
      "model_module": "@jupyter-widgets/controls",
      "model_module_version": "1.5.0",
      "model_name": "HTMLModel",
      "state": {
       "_dom_classes": [],
       "_model_module": "@jupyter-widgets/controls",
       "_model_module_version": "1.5.0",
       "_model_name": "HTMLModel",
       "_view_count": null,
       "_view_module": "@jupyter-widgets/controls",
       "_view_module_version": "1.5.0",
       "_view_name": "HTMLView",
       "description": "",
       "description_tooltip": null,
       "layout": "IPY_MODEL_f4503e9ef33e43ab9d1d6e0c7eb5b051",
       "placeholder": "​",
       "style": "IPY_MODEL_e84d824e6f25499a8b1a4a354f22b9e7",
       "value": " 1/1 [00:00&lt;00:00, 52.76it/s]"
      }
     },
     "867f8cf1d1d349ce8a4fa17c3453ff22": {
      "model_module": "@jupyter-widgets/base",
      "model_module_version": "1.2.0",
      "model_name": "LayoutModel",
      "state": {
       "_model_module": "@jupyter-widgets/base",
       "_model_module_version": "1.2.0",
       "_model_name": "LayoutModel",
       "_view_count": null,
       "_view_module": "@jupyter-widgets/base",
       "_view_module_version": "1.2.0",
       "_view_name": "LayoutView",
       "align_content": null,
       "align_items": null,
       "align_self": null,
       "border": null,
       "bottom": null,
       "display": null,
       "flex": null,
       "flex_flow": null,
       "grid_area": null,
       "grid_auto_columns": null,
       "grid_auto_flow": null,
       "grid_auto_rows": null,
       "grid_column": null,
       "grid_gap": null,
       "grid_row": null,
       "grid_template_areas": null,
       "grid_template_columns": null,
       "grid_template_rows": null,
       "height": null,
       "justify_content": null,
       "justify_items": null,
       "left": null,
       "margin": null,
       "max_height": null,
       "max_width": null,
       "min_height": null,
       "min_width": null,
       "object_fit": null,
       "object_position": null,
       "order": null,
       "overflow": null,
       "overflow_x": null,
       "overflow_y": null,
       "padding": null,
       "right": null,
       "top": null,
       "visibility": null,
       "width": null
      }
     },
     "8ce715a922224d56890994aa184e20cb": {
      "model_module": "@jupyter-widgets/controls",
      "model_module_version": "1.5.0",
      "model_name": "DescriptionStyleModel",
      "state": {
       "_model_module": "@jupyter-widgets/controls",
       "_model_module_version": "1.5.0",
       "_model_name": "DescriptionStyleModel",
       "_view_count": null,
       "_view_module": "@jupyter-widgets/base",
       "_view_module_version": "1.2.0",
       "_view_name": "StyleView",
       "description_width": ""
      }
     },
     "8d3c06822281466caf1f3df4ffa892fb": {
      "model_module": "@jupyter-widgets/controls",
      "model_module_version": "1.5.0",
      "model_name": "DescriptionStyleModel",
      "state": {
       "_model_module": "@jupyter-widgets/controls",
       "_model_module_version": "1.5.0",
       "_model_name": "DescriptionStyleModel",
       "_view_count": null,
       "_view_module": "@jupyter-widgets/base",
       "_view_module_version": "1.2.0",
       "_view_name": "StyleView",
       "description_width": ""
      }
     },
     "8e4f19bb8e294c9a86876096132c1f70": {
      "model_module": "@jupyter-widgets/controls",
      "model_module_version": "1.5.0",
      "model_name": "DescriptionStyleModel",
      "state": {
       "_model_module": "@jupyter-widgets/controls",
       "_model_module_version": "1.5.0",
       "_model_name": "DescriptionStyleModel",
       "_view_count": null,
       "_view_module": "@jupyter-widgets/base",
       "_view_module_version": "1.2.0",
       "_view_name": "StyleView",
       "description_width": ""
      }
     },
     "938919add3764231b019ea2bd95d0bd2": {
      "model_module": "@jupyter-widgets/controls",
      "model_module_version": "1.5.0",
      "model_name": "HBoxModel",
      "state": {
       "_dom_classes": [],
       "_model_module": "@jupyter-widgets/controls",
       "_model_module_version": "1.5.0",
       "_model_name": "HBoxModel",
       "_view_count": null,
       "_view_module": "@jupyter-widgets/controls",
       "_view_module_version": "1.5.0",
       "_view_name": "HBoxView",
       "box_style": "",
       "children": [
        "IPY_MODEL_397b984b2ccc470aaefb8c03b0a259bf",
        "IPY_MODEL_4e6b0e01efd940cfbb34f89d828d984d",
        "IPY_MODEL_4bf0f7b4f3a4476cb3cc8f8c2ec74098"
       ],
       "layout": "IPY_MODEL_55373c015f9e447183d4495e7a1b47d8"
      }
     },
     "972cd3b28f21489c87ebd90eed16f05d": {
      "model_module": "@jupyter-widgets/controls",
      "model_module_version": "1.5.0",
      "model_name": "DescriptionStyleModel",
      "state": {
       "_model_module": "@jupyter-widgets/controls",
       "_model_module_version": "1.5.0",
       "_model_name": "DescriptionStyleModel",
       "_view_count": null,
       "_view_module": "@jupyter-widgets/base",
       "_view_module_version": "1.2.0",
       "_view_name": "StyleView",
       "description_width": ""
      }
     },
     "9962f5d8c8a449c49abf71811b7bd173": {
      "model_module": "@jupyter-widgets/base",
      "model_module_version": "1.2.0",
      "model_name": "LayoutModel",
      "state": {
       "_model_module": "@jupyter-widgets/base",
       "_model_module_version": "1.2.0",
       "_model_name": "LayoutModel",
       "_view_count": null,
       "_view_module": "@jupyter-widgets/base",
       "_view_module_version": "1.2.0",
       "_view_name": "LayoutView",
       "align_content": null,
       "align_items": null,
       "align_self": null,
       "border": null,
       "bottom": null,
       "display": null,
       "flex": null,
       "flex_flow": null,
       "grid_area": null,
       "grid_auto_columns": null,
       "grid_auto_flow": null,
       "grid_auto_rows": null,
       "grid_column": null,
       "grid_gap": null,
       "grid_row": null,
       "grid_template_areas": null,
       "grid_template_columns": null,
       "grid_template_rows": null,
       "height": null,
       "justify_content": null,
       "justify_items": null,
       "left": null,
       "margin": null,
       "max_height": null,
       "max_width": null,
       "min_height": null,
       "min_width": null,
       "object_fit": null,
       "object_position": null,
       "order": null,
       "overflow": null,
       "overflow_x": null,
       "overflow_y": null,
       "padding": null,
       "right": null,
       "top": null,
       "visibility": null,
       "width": null
      }
     },
     "9acd21905ddf4f739b90a7ba09550475": {
      "model_module": "@jupyter-widgets/base",
      "model_module_version": "1.2.0",
      "model_name": "LayoutModel",
      "state": {
       "_model_module": "@jupyter-widgets/base",
       "_model_module_version": "1.2.0",
       "_model_name": "LayoutModel",
       "_view_count": null,
       "_view_module": "@jupyter-widgets/base",
       "_view_module_version": "1.2.0",
       "_view_name": "LayoutView",
       "align_content": null,
       "align_items": null,
       "align_self": null,
       "border": null,
       "bottom": null,
       "display": null,
       "flex": null,
       "flex_flow": null,
       "grid_area": null,
       "grid_auto_columns": null,
       "grid_auto_flow": null,
       "grid_auto_rows": null,
       "grid_column": null,
       "grid_gap": null,
       "grid_row": null,
       "grid_template_areas": null,
       "grid_template_columns": null,
       "grid_template_rows": null,
       "height": null,
       "justify_content": null,
       "justify_items": null,
       "left": null,
       "margin": null,
       "max_height": null,
       "max_width": null,
       "min_height": null,
       "min_width": null,
       "object_fit": null,
       "object_position": null,
       "order": null,
       "overflow": null,
       "overflow_x": null,
       "overflow_y": null,
       "padding": null,
       "right": null,
       "top": null,
       "visibility": null,
       "width": null
      }
     },
     "9d3a9e9796b347da8b1289456c60c74a": {
      "model_module": "@jupyter-widgets/base",
      "model_module_version": "1.2.0",
      "model_name": "LayoutModel",
      "state": {
       "_model_module": "@jupyter-widgets/base",
       "_model_module_version": "1.2.0",
       "_model_name": "LayoutModel",
       "_view_count": null,
       "_view_module": "@jupyter-widgets/base",
       "_view_module_version": "1.2.0",
       "_view_name": "LayoutView",
       "align_content": null,
       "align_items": null,
       "align_self": null,
       "border": null,
       "bottom": null,
       "display": null,
       "flex": null,
       "flex_flow": null,
       "grid_area": null,
       "grid_auto_columns": null,
       "grid_auto_flow": null,
       "grid_auto_rows": null,
       "grid_column": null,
       "grid_gap": null,
       "grid_row": null,
       "grid_template_areas": null,
       "grid_template_columns": null,
       "grid_template_rows": null,
       "height": null,
       "justify_content": null,
       "justify_items": null,
       "left": null,
       "margin": null,
       "max_height": null,
       "max_width": null,
       "min_height": null,
       "min_width": null,
       "object_fit": null,
       "object_position": null,
       "order": null,
       "overflow": null,
       "overflow_x": null,
       "overflow_y": null,
       "padding": null,
       "right": null,
       "top": null,
       "visibility": null,
       "width": null
      }
     },
     "9d4ffaa8526c44d992c8784abe9fee3f": {
      "model_module": "@jupyter-widgets/controls",
      "model_module_version": "1.5.0",
      "model_name": "HTMLModel",
      "state": {
       "_dom_classes": [],
       "_model_module": "@jupyter-widgets/controls",
       "_model_module_version": "1.5.0",
       "_model_name": "HTMLModel",
       "_view_count": null,
       "_view_module": "@jupyter-widgets/controls",
       "_view_module_version": "1.5.0",
       "_view_name": "HTMLView",
       "description": "",
       "description_tooltip": null,
       "layout": "IPY_MODEL_ae6ce4a0128347faa6d925b611a36dc6",
       "placeholder": "​",
       "style": "IPY_MODEL_8d3c06822281466caf1f3df4ffa892fb",
       "value": " 1/1 [00:02&lt;00:00,  2.84s/it]"
      }
     },
     "9d722916ff0a47909fd0c06de264042c": {
      "model_module": "@jupyter-widgets/controls",
      "model_module_version": "1.5.0",
      "model_name": "ProgressStyleModel",
      "state": {
       "_model_module": "@jupyter-widgets/controls",
       "_model_module_version": "1.5.0",
       "_model_name": "ProgressStyleModel",
       "_view_count": null,
       "_view_module": "@jupyter-widgets/base",
       "_view_module_version": "1.2.0",
       "_view_name": "StyleView",
       "bar_color": null,
       "description_width": ""
      }
     },
     "9fb0718ba52e4f08b7c4a6e4edd945a5": {
      "model_module": "@jupyter-widgets/controls",
      "model_module_version": "1.5.0",
      "model_name": "HBoxModel",
      "state": {
       "_dom_classes": [],
       "_model_module": "@jupyter-widgets/controls",
       "_model_module_version": "1.5.0",
       "_model_name": "HBoxModel",
       "_view_count": null,
       "_view_module": "@jupyter-widgets/controls",
       "_view_module_version": "1.5.0",
       "_view_name": "HBoxView",
       "box_style": "",
       "children": [
        "IPY_MODEL_cf00480a786f470fa97a41eae803d4ee",
        "IPY_MODEL_0b49da92eff74100b79626333d662e52",
        "IPY_MODEL_85e1713ec7544f54b3e2b10c845bedd6"
       ],
       "layout": "IPY_MODEL_f0d0f326be8e4e7dbb730d8195e6d1c6"
      }
     },
     "9fdb9ebecd3d4eca9782ecb85b2b65f9": {
      "model_module": "@jupyter-widgets/base",
      "model_module_version": "1.2.0",
      "model_name": "LayoutModel",
      "state": {
       "_model_module": "@jupyter-widgets/base",
       "_model_module_version": "1.2.0",
       "_model_name": "LayoutModel",
       "_view_count": null,
       "_view_module": "@jupyter-widgets/base",
       "_view_module_version": "1.2.0",
       "_view_name": "LayoutView",
       "align_content": null,
       "align_items": null,
       "align_self": null,
       "border": null,
       "bottom": null,
       "display": null,
       "flex": null,
       "flex_flow": null,
       "grid_area": null,
       "grid_auto_columns": null,
       "grid_auto_flow": null,
       "grid_auto_rows": null,
       "grid_column": null,
       "grid_gap": null,
       "grid_row": null,
       "grid_template_areas": null,
       "grid_template_columns": null,
       "grid_template_rows": null,
       "height": null,
       "justify_content": null,
       "justify_items": null,
       "left": null,
       "margin": null,
       "max_height": null,
       "max_width": null,
       "min_height": null,
       "min_width": null,
       "object_fit": null,
       "object_position": null,
       "order": null,
       "overflow": null,
       "overflow_x": null,
       "overflow_y": null,
       "padding": null,
       "right": null,
       "top": null,
       "visibility": null,
       "width": null
      }
     },
     "a0eb6f5e33d8406d934c0dbbbe5e37a6": {
      "model_module": "@jupyter-widgets/controls",
      "model_module_version": "1.5.0",
      "model_name": "HTMLModel",
      "state": {
       "_dom_classes": [],
       "_model_module": "@jupyter-widgets/controls",
       "_model_module_version": "1.5.0",
       "_model_name": "HTMLModel",
       "_view_count": null,
       "_view_module": "@jupyter-widgets/controls",
       "_view_module_version": "1.5.0",
       "_view_name": "HTMLView",
       "description": "",
       "description_tooltip": null,
       "layout": "IPY_MODEL_867f8cf1d1d349ce8a4fa17c3453ff22",
       "placeholder": "​",
       "style": "IPY_MODEL_550071bc68f64293b8beda04db7f381e",
       "value": "Export report to file: 100%"
      }
     },
     "a14ced4219744e868864261391d6ef36": {
      "model_module": "@jupyter-widgets/controls",
      "model_module_version": "1.5.0",
      "model_name": "HTMLModel",
      "state": {
       "_dom_classes": [],
       "_model_module": "@jupyter-widgets/controls",
       "_model_module_version": "1.5.0",
       "_model_name": "HTMLModel",
       "_view_count": null,
       "_view_module": "@jupyter-widgets/controls",
       "_view_module_version": "1.5.0",
       "_view_name": "HTMLView",
       "description": "",
       "description_tooltip": null,
       "layout": "IPY_MODEL_f9526e256c974b92a2fe049fbba88cae",
       "placeholder": "​",
       "style": "IPY_MODEL_4f5da1bffeee4990a77fe808b2b6ee0f",
       "value": " 22/22 [00:03&lt;00:00,  4.86it/s, Completed]"
      }
     },
     "a24f462355e84c3da4ffb02e32b53dc3": {
      "model_module": "@jupyter-widgets/controls",
      "model_module_version": "1.5.0",
      "model_name": "ProgressStyleModel",
      "state": {
       "_model_module": "@jupyter-widgets/controls",
       "_model_module_version": "1.5.0",
       "_model_name": "ProgressStyleModel",
       "_view_count": null,
       "_view_module": "@jupyter-widgets/base",
       "_view_module_version": "1.2.0",
       "_view_name": "StyleView",
       "bar_color": null,
       "description_width": ""
      }
     },
     "a67c75301fad47f49248ede97fd30d3b": {
      "model_module": "@jupyter-widgets/controls",
      "model_module_version": "1.5.0",
      "model_name": "ProgressStyleModel",
      "state": {
       "_model_module": "@jupyter-widgets/controls",
       "_model_module_version": "1.5.0",
       "_model_name": "ProgressStyleModel",
       "_view_count": null,
       "_view_module": "@jupyter-widgets/base",
       "_view_module_version": "1.2.0",
       "_view_name": "StyleView",
       "bar_color": null,
       "description_width": ""
      }
     },
     "ad01c01ae39548deb581dbe6e34d7c74": {
      "model_module": "@jupyter-widgets/controls",
      "model_module_version": "1.5.0",
      "model_name": "DescriptionStyleModel",
      "state": {
       "_model_module": "@jupyter-widgets/controls",
       "_model_module_version": "1.5.0",
       "_model_name": "DescriptionStyleModel",
       "_view_count": null,
       "_view_module": "@jupyter-widgets/base",
       "_view_module_version": "1.2.0",
       "_view_name": "StyleView",
       "description_width": ""
      }
     },
     "ae6ce4a0128347faa6d925b611a36dc6": {
      "model_module": "@jupyter-widgets/base",
      "model_module_version": "1.2.0",
      "model_name": "LayoutModel",
      "state": {
       "_model_module": "@jupyter-widgets/base",
       "_model_module_version": "1.2.0",
       "_model_name": "LayoutModel",
       "_view_count": null,
       "_view_module": "@jupyter-widgets/base",
       "_view_module_version": "1.2.0",
       "_view_name": "LayoutView",
       "align_content": null,
       "align_items": null,
       "align_self": null,
       "border": null,
       "bottom": null,
       "display": null,
       "flex": null,
       "flex_flow": null,
       "grid_area": null,
       "grid_auto_columns": null,
       "grid_auto_flow": null,
       "grid_auto_rows": null,
       "grid_column": null,
       "grid_gap": null,
       "grid_row": null,
       "grid_template_areas": null,
       "grid_template_columns": null,
       "grid_template_rows": null,
       "height": null,
       "justify_content": null,
       "justify_items": null,
       "left": null,
       "margin": null,
       "max_height": null,
       "max_width": null,
       "min_height": null,
       "min_width": null,
       "object_fit": null,
       "object_position": null,
       "order": null,
       "overflow": null,
       "overflow_x": null,
       "overflow_y": null,
       "padding": null,
       "right": null,
       "top": null,
       "visibility": null,
       "width": null
      }
     },
     "aec8366840ca44efa133132d1bda3bf2": {
      "model_module": "@jupyter-widgets/controls",
      "model_module_version": "1.5.0",
      "model_name": "ProgressStyleModel",
      "state": {
       "_model_module": "@jupyter-widgets/controls",
       "_model_module_version": "1.5.0",
       "_model_name": "ProgressStyleModel",
       "_view_count": null,
       "_view_module": "@jupyter-widgets/base",
       "_view_module_version": "1.2.0",
       "_view_name": "StyleView",
       "bar_color": null,
       "description_width": ""
      }
     },
     "b1d3c5023b2a43e1b306530633853fa2": {
      "model_module": "@jupyter-widgets/controls",
      "model_module_version": "1.5.0",
      "model_name": "ProgressStyleModel",
      "state": {
       "_model_module": "@jupyter-widgets/controls",
       "_model_module_version": "1.5.0",
       "_model_name": "ProgressStyleModel",
       "_view_count": null,
       "_view_module": "@jupyter-widgets/base",
       "_view_module_version": "1.2.0",
       "_view_name": "StyleView",
       "bar_color": null,
       "description_width": ""
      }
     },
     "b51b1a4fc49f4a3fb9010a85ef9ff95e": {
      "model_module": "@jupyter-widgets/controls",
      "model_module_version": "1.5.0",
      "model_name": "ProgressStyleModel",
      "state": {
       "_model_module": "@jupyter-widgets/controls",
       "_model_module_version": "1.5.0",
       "_model_name": "ProgressStyleModel",
       "_view_count": null,
       "_view_module": "@jupyter-widgets/base",
       "_view_module_version": "1.2.0",
       "_view_name": "StyleView",
       "bar_color": null,
       "description_width": ""
      }
     },
     "b96f2580983443f994b6ae6b1cec62f0": {
      "model_module": "@jupyter-widgets/controls",
      "model_module_version": "1.5.0",
      "model_name": "ProgressStyleModel",
      "state": {
       "_model_module": "@jupyter-widgets/controls",
       "_model_module_version": "1.5.0",
       "_model_name": "ProgressStyleModel",
       "_view_count": null,
       "_view_module": "@jupyter-widgets/base",
       "_view_module_version": "1.2.0",
       "_view_name": "StyleView",
       "bar_color": null,
       "description_width": ""
      }
     },
     "ba05a5390fbb499bba80d72cbe883ba3": {
      "model_module": "@jupyter-widgets/base",
      "model_module_version": "1.2.0",
      "model_name": "LayoutModel",
      "state": {
       "_model_module": "@jupyter-widgets/base",
       "_model_module_version": "1.2.0",
       "_model_name": "LayoutModel",
       "_view_count": null,
       "_view_module": "@jupyter-widgets/base",
       "_view_module_version": "1.2.0",
       "_view_name": "LayoutView",
       "align_content": null,
       "align_items": null,
       "align_self": null,
       "border": null,
       "bottom": null,
       "display": null,
       "flex": null,
       "flex_flow": null,
       "grid_area": null,
       "grid_auto_columns": null,
       "grid_auto_flow": null,
       "grid_auto_rows": null,
       "grid_column": null,
       "grid_gap": null,
       "grid_row": null,
       "grid_template_areas": null,
       "grid_template_columns": null,
       "grid_template_rows": null,
       "height": null,
       "justify_content": null,
       "justify_items": null,
       "left": null,
       "margin": null,
       "max_height": null,
       "max_width": null,
       "min_height": null,
       "min_width": null,
       "object_fit": null,
       "object_position": null,
       "order": null,
       "overflow": null,
       "overflow_x": null,
       "overflow_y": null,
       "padding": null,
       "right": null,
       "top": null,
       "visibility": null,
       "width": null
      }
     },
     "c484c4f9fc2247dc8d29c2f337c8b03a": {
      "model_module": "@jupyter-widgets/base",
      "model_module_version": "1.2.0",
      "model_name": "LayoutModel",
      "state": {
       "_model_module": "@jupyter-widgets/base",
       "_model_module_version": "1.2.0",
       "_model_name": "LayoutModel",
       "_view_count": null,
       "_view_module": "@jupyter-widgets/base",
       "_view_module_version": "1.2.0",
       "_view_name": "LayoutView",
       "align_content": null,
       "align_items": null,
       "align_self": null,
       "border": null,
       "bottom": null,
       "display": null,
       "flex": null,
       "flex_flow": null,
       "grid_area": null,
       "grid_auto_columns": null,
       "grid_auto_flow": null,
       "grid_auto_rows": null,
       "grid_column": null,
       "grid_gap": null,
       "grid_row": null,
       "grid_template_areas": null,
       "grid_template_columns": null,
       "grid_template_rows": null,
       "height": null,
       "justify_content": null,
       "justify_items": null,
       "left": null,
       "margin": null,
       "max_height": null,
       "max_width": null,
       "min_height": null,
       "min_width": null,
       "object_fit": null,
       "object_position": null,
       "order": null,
       "overflow": null,
       "overflow_x": null,
       "overflow_y": null,
       "padding": null,
       "right": null,
       "top": null,
       "visibility": null,
       "width": null
      }
     },
     "c8db90eef43348e8bf0adc32bf2cc50e": {
      "model_module": "@jupyter-widgets/base",
      "model_module_version": "1.2.0",
      "model_name": "LayoutModel",
      "state": {
       "_model_module": "@jupyter-widgets/base",
       "_model_module_version": "1.2.0",
       "_model_name": "LayoutModel",
       "_view_count": null,
       "_view_module": "@jupyter-widgets/base",
       "_view_module_version": "1.2.0",
       "_view_name": "LayoutView",
       "align_content": null,
       "align_items": null,
       "align_self": null,
       "border": null,
       "bottom": null,
       "display": null,
       "flex": null,
       "flex_flow": null,
       "grid_area": null,
       "grid_auto_columns": null,
       "grid_auto_flow": null,
       "grid_auto_rows": null,
       "grid_column": null,
       "grid_gap": null,
       "grid_row": null,
       "grid_template_areas": null,
       "grid_template_columns": null,
       "grid_template_rows": null,
       "height": null,
       "justify_content": null,
       "justify_items": null,
       "left": null,
       "margin": null,
       "max_height": null,
       "max_width": null,
       "min_height": null,
       "min_width": null,
       "object_fit": null,
       "object_position": null,
       "order": null,
       "overflow": null,
       "overflow_x": null,
       "overflow_y": null,
       "padding": null,
       "right": null,
       "top": null,
       "visibility": null,
       "width": null
      }
     },
     "cad4a22d77bc4d369ac35d09b41c3473": {
      "model_module": "@jupyter-widgets/controls",
      "model_module_version": "1.5.0",
      "model_name": "DescriptionStyleModel",
      "state": {
       "_model_module": "@jupyter-widgets/controls",
       "_model_module_version": "1.5.0",
       "_model_name": "DescriptionStyleModel",
       "_view_count": null,
       "_view_module": "@jupyter-widgets/base",
       "_view_module_version": "1.2.0",
       "_view_name": "StyleView",
       "description_width": ""
      }
     },
     "cbf698efa00b43b7953bc3ed23676f78": {
      "model_module": "@jupyter-widgets/base",
      "model_module_version": "1.2.0",
      "model_name": "LayoutModel",
      "state": {
       "_model_module": "@jupyter-widgets/base",
       "_model_module_version": "1.2.0",
       "_model_name": "LayoutModel",
       "_view_count": null,
       "_view_module": "@jupyter-widgets/base",
       "_view_module_version": "1.2.0",
       "_view_name": "LayoutView",
       "align_content": null,
       "align_items": null,
       "align_self": null,
       "border": null,
       "bottom": null,
       "display": null,
       "flex": null,
       "flex_flow": null,
       "grid_area": null,
       "grid_auto_columns": null,
       "grid_auto_flow": null,
       "grid_auto_rows": null,
       "grid_column": null,
       "grid_gap": null,
       "grid_row": null,
       "grid_template_areas": null,
       "grid_template_columns": null,
       "grid_template_rows": null,
       "height": null,
       "justify_content": null,
       "justify_items": null,
       "left": null,
       "margin": null,
       "max_height": null,
       "max_width": null,
       "min_height": null,
       "min_width": null,
       "object_fit": null,
       "object_position": null,
       "order": null,
       "overflow": null,
       "overflow_x": null,
       "overflow_y": null,
       "padding": null,
       "right": null,
       "top": null,
       "visibility": null,
       "width": null
      }
     },
     "cf00480a786f470fa97a41eae803d4ee": {
      "model_module": "@jupyter-widgets/controls",
      "model_module_version": "1.5.0",
      "model_name": "HTMLModel",
      "state": {
       "_dom_classes": [],
       "_model_module": "@jupyter-widgets/controls",
       "_model_module_version": "1.5.0",
       "_model_name": "HTMLModel",
       "_view_count": null,
       "_view_module": "@jupyter-widgets/controls",
       "_view_module_version": "1.5.0",
       "_view_name": "HTMLView",
       "description": "",
       "description_tooltip": null,
       "layout": "IPY_MODEL_35ab6a8087304607918dc9d63645558d",
       "placeholder": "​",
       "style": "IPY_MODEL_cad4a22d77bc4d369ac35d09b41c3473",
       "value": "Export report to file: 100%"
      }
     },
     "d52aba5ad5a14904829e1d85d8f5e46b": {
      "model_module": "@jupyter-widgets/base",
      "model_module_version": "1.2.0",
      "model_name": "LayoutModel",
      "state": {
       "_model_module": "@jupyter-widgets/base",
       "_model_module_version": "1.2.0",
       "_model_name": "LayoutModel",
       "_view_count": null,
       "_view_module": "@jupyter-widgets/base",
       "_view_module_version": "1.2.0",
       "_view_name": "LayoutView",
       "align_content": null,
       "align_items": null,
       "align_self": null,
       "border": null,
       "bottom": null,
       "display": null,
       "flex": null,
       "flex_flow": null,
       "grid_area": null,
       "grid_auto_columns": null,
       "grid_auto_flow": null,
       "grid_auto_rows": null,
       "grid_column": null,
       "grid_gap": null,
       "grid_row": null,
       "grid_template_areas": null,
       "grid_template_columns": null,
       "grid_template_rows": null,
       "height": null,
       "justify_content": null,
       "justify_items": null,
       "left": null,
       "margin": null,
       "max_height": null,
       "max_width": null,
       "min_height": null,
       "min_width": null,
       "object_fit": null,
       "object_position": null,
       "order": null,
       "overflow": null,
       "overflow_x": null,
       "overflow_y": null,
       "padding": null,
       "right": null,
       "top": null,
       "visibility": null,
       "width": null
      }
     },
     "d99fdba958eb4841ae1e74490de66797": {
      "model_module": "@jupyter-widgets/base",
      "model_module_version": "1.2.0",
      "model_name": "LayoutModel",
      "state": {
       "_model_module": "@jupyter-widgets/base",
       "_model_module_version": "1.2.0",
       "_model_name": "LayoutModel",
       "_view_count": null,
       "_view_module": "@jupyter-widgets/base",
       "_view_module_version": "1.2.0",
       "_view_name": "LayoutView",
       "align_content": null,
       "align_items": null,
       "align_self": null,
       "border": null,
       "bottom": null,
       "display": null,
       "flex": null,
       "flex_flow": null,
       "grid_area": null,
       "grid_auto_columns": null,
       "grid_auto_flow": null,
       "grid_auto_rows": null,
       "grid_column": null,
       "grid_gap": null,
       "grid_row": null,
       "grid_template_areas": null,
       "grid_template_columns": null,
       "grid_template_rows": null,
       "height": null,
       "justify_content": null,
       "justify_items": null,
       "left": null,
       "margin": null,
       "max_height": null,
       "max_width": null,
       "min_height": null,
       "min_width": null,
       "object_fit": null,
       "object_position": null,
       "order": null,
       "overflow": null,
       "overflow_x": null,
       "overflow_y": null,
       "padding": null,
       "right": null,
       "top": null,
       "visibility": null,
       "width": null
      }
     },
     "de5ae2c2190543af9590e93fe67346aa": {
      "model_module": "@jupyter-widgets/controls",
      "model_module_version": "1.5.0",
      "model_name": "DescriptionStyleModel",
      "state": {
       "_model_module": "@jupyter-widgets/controls",
       "_model_module_version": "1.5.0",
       "_model_name": "DescriptionStyleModel",
       "_view_count": null,
       "_view_module": "@jupyter-widgets/base",
       "_view_module_version": "1.2.0",
       "_view_name": "StyleView",
       "description_width": ""
      }
     },
     "e0f32f0298224b199b60e4df81b4616a": {
      "model_module": "@jupyter-widgets/controls",
      "model_module_version": "1.5.0",
      "model_name": "ProgressStyleModel",
      "state": {
       "_model_module": "@jupyter-widgets/controls",
       "_model_module_version": "1.5.0",
       "_model_name": "ProgressStyleModel",
       "_view_count": null,
       "_view_module": "@jupyter-widgets/base",
       "_view_module_version": "1.2.0",
       "_view_name": "StyleView",
       "bar_color": null,
       "description_width": ""
      }
     },
     "e1d2a86e2bcf4855baca754c6f9d6c36": {
      "model_module": "@jupyter-widgets/controls",
      "model_module_version": "1.5.0",
      "model_name": "FloatProgressModel",
      "state": {
       "_dom_classes": [],
       "_model_module": "@jupyter-widgets/controls",
       "_model_module_version": "1.5.0",
       "_model_name": "FloatProgressModel",
       "_view_count": null,
       "_view_module": "@jupyter-widgets/controls",
       "_view_module_version": "1.5.0",
       "_view_name": "ProgressView",
       "bar_style": "success",
       "description": "",
       "description_tooltip": null,
       "layout": "IPY_MODEL_c484c4f9fc2247dc8d29c2f337c8b03a",
       "max": 1,
       "min": 0,
       "orientation": "horizontal",
       "style": "IPY_MODEL_a67c75301fad47f49248ede97fd30d3b",
       "value": 1
      }
     },
     "e72f8be75c9d41f590665a828a3c00bd": {
      "model_module": "@jupyter-widgets/controls",
      "model_module_version": "1.5.0",
      "model_name": "DescriptionStyleModel",
      "state": {
       "_model_module": "@jupyter-widgets/controls",
       "_model_module_version": "1.5.0",
       "_model_name": "DescriptionStyleModel",
       "_view_count": null,
       "_view_module": "@jupyter-widgets/base",
       "_view_module_version": "1.2.0",
       "_view_name": "StyleView",
       "description_width": ""
      }
     },
     "e82065aa7eac4fd191e8c9891a4cdebe": {
      "model_module": "@jupyter-widgets/controls",
      "model_module_version": "1.5.0",
      "model_name": "HTMLModel",
      "state": {
       "_dom_classes": [],
       "_model_module": "@jupyter-widgets/controls",
       "_model_module_version": "1.5.0",
       "_model_name": "HTMLModel",
       "_view_count": null,
       "_view_module": "@jupyter-widgets/controls",
       "_view_module_version": "1.5.0",
       "_view_name": "HTMLView",
       "description": "",
       "description_tooltip": null,
       "layout": "IPY_MODEL_5a175227adf04e57ac11f3212f3f528b",
       "placeholder": "​",
       "style": "IPY_MODEL_8e4f19bb8e294c9a86876096132c1f70",
       "value": "Render HTML: 100%"
      }
     },
     "e84d824e6f25499a8b1a4a354f22b9e7": {
      "model_module": "@jupyter-widgets/controls",
      "model_module_version": "1.5.0",
      "model_name": "DescriptionStyleModel",
      "state": {
       "_model_module": "@jupyter-widgets/controls",
       "_model_module_version": "1.5.0",
       "_model_name": "DescriptionStyleModel",
       "_view_count": null,
       "_view_module": "@jupyter-widgets/base",
       "_view_module_version": "1.2.0",
       "_view_name": "StyleView",
       "description_width": ""
      }
     },
     "e884761bb7ae451192c58e759089ba06": {
      "model_module": "@jupyter-widgets/controls",
      "model_module_version": "1.5.0",
      "model_name": "FloatProgressModel",
      "state": {
       "_dom_classes": [],
       "_model_module": "@jupyter-widgets/controls",
       "_model_module_version": "1.5.0",
       "_model_name": "FloatProgressModel",
       "_view_count": null,
       "_view_module": "@jupyter-widgets/controls",
       "_view_module_version": "1.5.0",
       "_view_name": "ProgressView",
       "bar_style": "success",
       "description": "",
       "description_tooltip": null,
       "layout": "IPY_MODEL_06c66d0435bf456c988122695e7a2655",
       "max": 1,
       "min": 0,
       "orientation": "horizontal",
       "style": "IPY_MODEL_b1d3c5023b2a43e1b306530633853fa2",
       "value": 1
      }
     },
     "e9b0aa20351242798852fdf10fedba7d": {
      "model_module": "@jupyter-widgets/controls",
      "model_module_version": "1.5.0",
      "model_name": "DescriptionStyleModel",
      "state": {
       "_model_module": "@jupyter-widgets/controls",
       "_model_module_version": "1.5.0",
       "_model_name": "DescriptionStyleModel",
       "_view_count": null,
       "_view_module": "@jupyter-widgets/base",
       "_view_module_version": "1.2.0",
       "_view_name": "StyleView",
       "description_width": ""
      }
     },
     "eca81c10ea1c4f2daca21dfc9776ccb3": {
      "model_module": "@jupyter-widgets/controls",
      "model_module_version": "1.5.0",
      "model_name": "HBoxModel",
      "state": {
       "_dom_classes": [],
       "_model_module": "@jupyter-widgets/controls",
       "_model_module_version": "1.5.0",
       "_model_name": "HBoxModel",
       "_view_count": null,
       "_view_module": "@jupyter-widgets/controls",
       "_view_module_version": "1.5.0",
       "_view_name": "HBoxView",
       "box_style": "",
       "children": [
        "IPY_MODEL_7ff4b7625f1e41cea2771cbcfa883e01",
        "IPY_MODEL_31236b06f58c4d33905335ec8c50357d",
        "IPY_MODEL_0d77f55892404d53a864208964126413"
       ],
       "layout": "IPY_MODEL_4cbd57bab5c54ddc962dbbb118e841be"
      }
     },
     "ede9b989d27643b89a58b4f2c732cfb2": {
      "model_module": "@jupyter-widgets/controls",
      "model_module_version": "1.5.0",
      "model_name": "HTMLModel",
      "state": {
       "_dom_classes": [],
       "_model_module": "@jupyter-widgets/controls",
       "_model_module_version": "1.5.0",
       "_model_name": "HTMLModel",
       "_view_count": null,
       "_view_module": "@jupyter-widgets/controls",
       "_view_module_version": "1.5.0",
       "_view_name": "HTMLView",
       "description": "",
       "description_tooltip": null,
       "layout": "IPY_MODEL_0b30673800d34cb2b57b87c21fa31ff2",
       "placeholder": "​",
       "style": "IPY_MODEL_4093b5cbb7cd4dbbacf685c87245cb89",
       "value": " 1/1 [00:00&lt;00:00, 63.11it/s]"
      }
     },
     "f0d0f326be8e4e7dbb730d8195e6d1c6": {
      "model_module": "@jupyter-widgets/base",
      "model_module_version": "1.2.0",
      "model_name": "LayoutModel",
      "state": {
       "_model_module": "@jupyter-widgets/base",
       "_model_module_version": "1.2.0",
       "_model_name": "LayoutModel",
       "_view_count": null,
       "_view_module": "@jupyter-widgets/base",
       "_view_module_version": "1.2.0",
       "_view_name": "LayoutView",
       "align_content": null,
       "align_items": null,
       "align_self": null,
       "border": null,
       "bottom": null,
       "display": null,
       "flex": null,
       "flex_flow": null,
       "grid_area": null,
       "grid_auto_columns": null,
       "grid_auto_flow": null,
       "grid_auto_rows": null,
       "grid_column": null,
       "grid_gap": null,
       "grid_row": null,
       "grid_template_areas": null,
       "grid_template_columns": null,
       "grid_template_rows": null,
       "height": null,
       "justify_content": null,
       "justify_items": null,
       "left": null,
       "margin": null,
       "max_height": null,
       "max_width": null,
       "min_height": null,
       "min_width": null,
       "object_fit": null,
       "object_position": null,
       "order": null,
       "overflow": null,
       "overflow_x": null,
       "overflow_y": null,
       "padding": null,
       "right": null,
       "top": null,
       "visibility": null,
       "width": null
      }
     },
     "f4503e9ef33e43ab9d1d6e0c7eb5b051": {
      "model_module": "@jupyter-widgets/base",
      "model_module_version": "1.2.0",
      "model_name": "LayoutModel",
      "state": {
       "_model_module": "@jupyter-widgets/base",
       "_model_module_version": "1.2.0",
       "_model_name": "LayoutModel",
       "_view_count": null,
       "_view_module": "@jupyter-widgets/base",
       "_view_module_version": "1.2.0",
       "_view_name": "LayoutView",
       "align_content": null,
       "align_items": null,
       "align_self": null,
       "border": null,
       "bottom": null,
       "display": null,
       "flex": null,
       "flex_flow": null,
       "grid_area": null,
       "grid_auto_columns": null,
       "grid_auto_flow": null,
       "grid_auto_rows": null,
       "grid_column": null,
       "grid_gap": null,
       "grid_row": null,
       "grid_template_areas": null,
       "grid_template_columns": null,
       "grid_template_rows": null,
       "height": null,
       "justify_content": null,
       "justify_items": null,
       "left": null,
       "margin": null,
       "max_height": null,
       "max_width": null,
       "min_height": null,
       "min_width": null,
       "object_fit": null,
       "object_position": null,
       "order": null,
       "overflow": null,
       "overflow_x": null,
       "overflow_y": null,
       "padding": null,
       "right": null,
       "top": null,
       "visibility": null,
       "width": null
      }
     },
     "f9526e256c974b92a2fe049fbba88cae": {
      "model_module": "@jupyter-widgets/base",
      "model_module_version": "1.2.0",
      "model_name": "LayoutModel",
      "state": {
       "_model_module": "@jupyter-widgets/base",
       "_model_module_version": "1.2.0",
       "_model_name": "LayoutModel",
       "_view_count": null,
       "_view_module": "@jupyter-widgets/base",
       "_view_module_version": "1.2.0",
       "_view_name": "LayoutView",
       "align_content": null,
       "align_items": null,
       "align_self": null,
       "border": null,
       "bottom": null,
       "display": null,
       "flex": null,
       "flex_flow": null,
       "grid_area": null,
       "grid_auto_columns": null,
       "grid_auto_flow": null,
       "grid_auto_rows": null,
       "grid_column": null,
       "grid_gap": null,
       "grid_row": null,
       "grid_template_areas": null,
       "grid_template_columns": null,
       "grid_template_rows": null,
       "height": null,
       "justify_content": null,
       "justify_items": null,
       "left": null,
       "margin": null,
       "max_height": null,
       "max_width": null,
       "min_height": null,
       "min_width": null,
       "object_fit": null,
       "object_position": null,
       "order": null,
       "overflow": null,
       "overflow_x": null,
       "overflow_y": null,
       "padding": null,
       "right": null,
       "top": null,
       "visibility": null,
       "width": null
      }
     },
     "fd14e8038feb433d9098520252f1a00c": {
      "model_module": "@jupyter-widgets/base",
      "model_module_version": "1.2.0",
      "model_name": "LayoutModel",
      "state": {
       "_model_module": "@jupyter-widgets/base",
       "_model_module_version": "1.2.0",
       "_model_name": "LayoutModel",
       "_view_count": null,
       "_view_module": "@jupyter-widgets/base",
       "_view_module_version": "1.2.0",
       "_view_name": "LayoutView",
       "align_content": null,
       "align_items": null,
       "align_self": null,
       "border": null,
       "bottom": null,
       "display": null,
       "flex": null,
       "flex_flow": null,
       "grid_area": null,
       "grid_auto_columns": null,
       "grid_auto_flow": null,
       "grid_auto_rows": null,
       "grid_column": null,
       "grid_gap": null,
       "grid_row": null,
       "grid_template_areas": null,
       "grid_template_columns": null,
       "grid_template_rows": null,
       "height": null,
       "justify_content": null,
       "justify_items": null,
       "left": null,
       "margin": null,
       "max_height": null,
       "max_width": null,
       "min_height": null,
       "min_width": null,
       "object_fit": null,
       "object_position": null,
       "order": null,
       "overflow": null,
       "overflow_x": null,
       "overflow_y": null,
       "padding": null,
       "right": null,
       "top": null,
       "visibility": null,
       "width": null
      }
     },
     "fdd13677e4e34c3c8f10df5da94a11cb": {
      "model_module": "@jupyter-widgets/base",
      "model_module_version": "1.2.0",
      "model_name": "LayoutModel",
      "state": {
       "_model_module": "@jupyter-widgets/base",
       "_model_module_version": "1.2.0",
       "_model_name": "LayoutModel",
       "_view_count": null,
       "_view_module": "@jupyter-widgets/base",
       "_view_module_version": "1.2.0",
       "_view_name": "LayoutView",
       "align_content": null,
       "align_items": null,
       "align_self": null,
       "border": null,
       "bottom": null,
       "display": null,
       "flex": null,
       "flex_flow": null,
       "grid_area": null,
       "grid_auto_columns": null,
       "grid_auto_flow": null,
       "grid_auto_rows": null,
       "grid_column": null,
       "grid_gap": null,
       "grid_row": null,
       "grid_template_areas": null,
       "grid_template_columns": null,
       "grid_template_rows": null,
       "height": null,
       "justify_content": null,
       "justify_items": null,
       "left": null,
       "margin": null,
       "max_height": null,
       "max_width": null,
       "min_height": null,
       "min_width": null,
       "object_fit": null,
       "object_position": null,
       "order": null,
       "overflow": null,
       "overflow_x": null,
       "overflow_y": null,
       "padding": null,
       "right": null,
       "top": null,
       "visibility": null,
       "width": null
      }
     }
    },
    "version_major": 2,
    "version_minor": 0
   }
  }
 },
 "nbformat": 4,
 "nbformat_minor": 5
}
